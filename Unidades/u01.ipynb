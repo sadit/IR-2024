{
 "cells": [
  {
   "cell_type": "markdown",
   "id": "b606b63e-967d-4d4d-85e4-e02a32020425",
   "metadata": {},
   "source": [
    "# Introducción a la recuperación de información\n",
    "Autor: Eric S. Tellez <eric.tellez@infotec.mx><br/>\n",
    "\n",
    "La recuperación de información se crea a partir de la necesidad de simplificar el acceso y revisión de documentos en grandes colecciones. Estas colecciones pueden ser homogeneas o heterogeneas, tanto en su contenido como en su formato. En su inicio, se consideraban colecciones unicamente de texto pero las necesidades de información se han diversificado, y ahora es común encontrar sistemas de recuperación de información sobre otros datos como imagenes o videos, o include multimodales, esto es que puedan usar diferentes tipos de objetos. Un objeto puede ser un documento de texto, una imagen, o cualquier otro tipo de datos que se desee tener acceso. \n",
    "\n",
    "Mantener un sistema de información homogeneo puede simplificar su mantenimiento enormemente, por lo que si es posible, se puede intentar mantener cierta homegeneidad. Para sistemas de fuentes abiertas como puede ser la web, esto será posible.\n",
    "\n",
    "En general, se puede ver un sistema de recuperación de información en tres grandes partes:\n",
    "\n",
    "1. Recolección de datos, normalización y modelado matemático.\n",
    "2. Indexamiento, interpretación de consultas y optimización\n",
    "3. Agregación y filtrado de resultados, presentación de los mismos\n",
    "\n",
    "\n",
    "En este curso se visitarán parcialmente todas estas partes. En general se usaran conjuntos de datos previamente recolecados, aunque se invita a usar sus propias colecciones de tal forma que puedan sacar provecho de los temas de manera más amplia. La normalización puede ir desde el simple preprocesamiento de los datos hasta manipulaciones y transformaciones dependientes del dominio. Una vez aplicado el modelado adecuado a las colecciones, las representaciones matemáticas suelen ser vectores de alta dimensión para cada objeto.\n",
    "\n",
    "En cuanto al indexamiento se utilizarán dos tipos de algoritmos, búsqueda mediante índices invertidos y búsqueda por índices métricos. Ambas tienen sus nichos de aplicación y usarlas adecuadamente requiere conocer los problemas y sus modelados.\n",
    "\n",
    "La presentación de los resultados puede ser tan simple como una lista de resultados más relevantes y una pequeña muestra del objeto, o más complejo que requiera alguna técnica de visualización. Todo esto dependerá del dominio de aplicación y la naturaleza del sistema de recuperación de información.\n",
    "\n",
    "\n",
    "# Ejemplos de sistemas de recuperación información\n",
    "\n",
    "- Google,scholar google, google images, google news, youtube...\n",
    "- Bing!\n",
    "- Yahoo search\n",
    "- Yandex\n",
    "- DuckDuckGo\n",
    "- ...\n",
    "\n",
    "También es común que el sistema de recuperación de información no sea el principal producto, si no más bien un complemento imperdible\n",
    "como es el caso de los sistemas de streaming de videos, películas, música, redes sociales, etc.\n",
    "\n",
    "# Ejemplos de implementación de search engines open source\n",
    "- [Apache Lucene](https://lucene.apache.org/)\n",
    "- [Apache SOLR](https://solr.apache.org/)\n",
    "- [ElasticSearch](https://www.elastic.co/es/what-is/elasticsearch)\n",
    "- [hnswlib](https://github.com/nmslib/hnswlib)\n",
    "- [FAISS](https://github.com/facebookresearch/faiss)\n",
    "- [TextSearch.jl](https://github.com/sadit/TextSearch.jl)\n",
    "- [InvertedFiles.jl](https://github.com/sadit/InvertedFiles.jl)\n",
    "- [SimilaritySearch.jl](https://github.com/sadit/SimilaritySearch.jl)\n",
    "\n",
    "\n",
    "# Ejemplo\n",
    "\n",
    "\n",
    "Construcción de un índice de búsqueda para una colección de mensajes de Twitter. Los mensajes se pueden ver como documentos cortos. Se preprocesan y se modalen en vectores mediante un vocabulario. Después se construye el índice con dichos vectores y se hace posible la búsqueda eficiente. Note que existen etiquetas que se pueden usar para otras tareas; de manera más genérica, se pueden ver como metadatos asociados a los elementos del corpus.\n",
    "\n",
    "Nota: La primera vez que se corra este notebook los paquetes necesarios se instalaran de manera automática, es posible que tome un tiempo considerable.\n",
    "\n"
   ]
  },
  {
   "cell_type": "code",
   "execution_count": 1,
   "id": "bb11ca12-b635-45bb-ac02-14523674ded8",
   "metadata": {},
   "outputs": [
    {
     "name": "stderr",
     "output_type": "stream",
     "text": [
      "\u001b[32m\u001b[1m  Activating\u001b[22m\u001b[39m project at `~/Cursos/IR-2024/Unidades`\n"
     ]
    }
   ],
   "source": [
    "using Pkg\n",
    "Pkg.activate(\".\")\n",
    "\n",
    "using TextSearch, InvertedFiles, SimilaritySearch, LinearAlgebra, HypertextLiteral"
   ]
  },
  {
   "cell_type": "markdown",
   "id": "f3fd994e-6be8-45c8-a0fc-8f05dfcf2636",
   "metadata": {},
   "source": [
    "## Funciones para leer y modelar el corpus"
   ]
  },
  {
   "cell_type": "code",
   "execution_count": 2,
   "id": "d9482f05-8d88-4896-9b9e-646bc1da2abb",
   "metadata": {},
   "outputs": [
    {
     "data": {
      "text/plain": [
       "text_model_and_vectors (generic function with 1 method)"
      ]
     },
     "execution_count": 2,
     "metadata": {},
     "output_type": "execute_result"
    }
   ],
   "source": [
    "function text_model_and_vectors(corpus)\n",
    "    textconfig = TextConfig(group_usr=true, group_url=true, del_diac=true, lc=true, group_num=true, nlist=[1], qlist=[])\n",
    "    voc = Vocabulary(textconfig, corpus)\n",
    "    model = VectorModel(IdfWeighting(), TfWeighting(), voc)    \n",
    "    vectors = vectorize_corpus(model, corpus)\n",
    "\n",
    "    (; textconfig, model, vectors)\n",
    "end\n"
   ]
  },
  {
   "cell_type": "code",
   "execution_count": 3,
   "id": "1176ef00-1153-4cba-bb89-354d634c857e",
   "metadata": {},
   "outputs": [
    {
     "data": {
      "text/html": [
       "<h1>Cargando el corpus</h1>"
      ],
      "text/plain": [
       "<h1>Cargando el corpus</h1>"
      ]
     },
     "metadata": {},
     "output_type": "display_data"
    },
    {
     "name": "stdout",
     "output_type": "stream",
     "text": [
      "(unique(D.labels), T.model) = ([\"♡\", \"😒\", \"💖\", \"😴\", \"😍\", \"😓\", \"😬\", \"💙\", \"😃\", \"😡\", \"🤓\", \"🙂\", \"❤\", \"😠\", \"😳\", \"😭\", \"👌\", \"🌚\", \"😅\", \"😐\", \"😋\", \"😕\", \"😉\", \"😢\", \"😱\", \"💕\", \"🤣\", \"😪\", \"😎\", \"😏\", \"😻\", \"🤭\", \"💜\", \"🙈\", \"🙏\", \"😥\", \"😀\", \"😤\", \"😩\", \"😘\", \"😊\", \"🙄\", \"🤗\", \"😜\", \"😑\", \"✨\", \"😰\", \"😂\", \"🎶\", \"🙃\", \"🙊\", \"🤤\", \"👏\", \"😁\", \"😞\", \"😣\", \"😌\", \"🤔\", \"♥\", \"💔\", \"👀\", \"😔\", \"😈\", \"😫\"], {VectorModel\n",
      "    global_weighting: IdfWeighting()\n",
      "    local_weighting: TfWeighting()\n",
      "    vocsize: 41704\n",
      "    trainsize=45000\n",
      "    maxoccs=84742                                    \n",
      "})\n"
     ]
    },
    {
     "data": {
      "text/plain": [
       "([\"♡\", \"😒\", \"💖\", \"😴\", \"😍\", \"😓\", \"😬\", \"💙\", \"😃\", \"😡\"  …  \"😞\", \"😣\", \"😌\", \"🤔\", \"♥\", \"💔\", \"👀\", \"😔\", \"😈\", \"😫\"], {VectorModel\n",
       "    global_weighting: IdfWeighting()\n",
       "    local_weighting: TfWeighting()\n",
       "    vocsize: 41704\n",
       "    trainsize=45000\n",
       "    maxoccs=84742                                    \n",
       "})"
      ]
     },
     "execution_count": 3,
     "metadata": {},
     "output_type": "execute_result"
    }
   ],
   "source": [
    "display(@htl \"<h1>Cargando el corpus</h1>\")\n",
    "\n",
    "include(\"read_datasets.jl\")\n",
    "D, _ = read_emojispace()\n",
    "T = text_model_and_vectors(D.corpus)\n",
    "\n",
    "@show unique(D.labels), T.model"
   ]
  },
  {
   "cell_type": "markdown",
   "id": "e6ab564f-f90b-4b18-a090-ed3ecb4ec717",
   "metadata": {},
   "source": [
    "### Note que las etiquetas son emojis, que hay 45k ejemplos y un vocabulario de más de 42k tokens. A continuación se construirá el índice invertido usando el paquete <https://github.com/sadit/TextSearch.jl>, claramente, el código solo funcionará con dicha implementación, pero el procedimiento general aplicaría a otras implementaciones."
   ]
  },
  {
   "cell_type": "code",
   "execution_count": 4,
   "id": "cd7ccd91-c1c2-4a04-b792-d38a8c65342a",
   "metadata": {},
   "outputs": [
    {
     "data": {
      "text/plain": [
       "{WeightedInvertedFile{Nothing, SimilaritySearch.AdjacencyLists.AdjacencyList{IdWeight}} vocsize=41704, n=45000}"
      ]
     },
     "execution_count": 4,
     "metadata": {},
     "output_type": "execute_result"
    }
   ],
   "source": [
    "invfile = WeightedInvertedFile(length(T.model.voc))\n",
    "append_items!(invfile, VectorDatabase(T.vectors))"
   ]
  },
  {
   "cell_type": "code",
   "execution_count": 5,
   "id": "c0f207f2-ed09-4fec-9da6-2ad625c21801",
   "metadata": {},
   "outputs": [
    {
     "data": {
      "text/plain": [
       "search_and_display (generic function with 1 method)"
      ]
     },
     "execution_count": 5,
     "metadata": {},
     "output_type": "execute_result"
    }
   ],
   "source": [
    "function search_and_display(invfile, q, k, D, T)\n",
    "    res = KnnResult(k)\n",
    "    @time search(invfile, vectorize(T.model, q), res)\n",
    "    L = []\n",
    "    for (i, p) in enumerate(res)\n",
    "        dist = round(p.weight, digits=2)\n",
    "        push!(L, @htl \"\"\"<tr><td>$i</td> <td>$p.id => $dist</td> <td>$(D.labels[p.id])</td> <td>$(D.corpus[p.id])</td> </tr>\"\"\")\n",
    "    end\n",
    "\n",
    "    display(@htl \"\"\"\n",
    "    <h3>Resultados para la consulta \"$q\"</h3>\n",
    "    <table>\n",
    "    $L\n",
    "    </table>\n",
    "    \"\"\")\n",
    "end"
   ]
  },
  {
   "cell_type": "code",
   "execution_count": 6,
   "id": "046760fa-03d2-4bc9-a6cd-418c4f655b43",
   "metadata": {},
   "outputs": [
    {
     "name": "stdout",
     "output_type": "stream",
     "text": [
      "  0.032347 seconds (1.21 k allocations: 56.797 KiB, 99.05% compilation time)\n"
     ]
    },
    {
     "data": {
      "text/html": [
       "<h3>Resultados para la consulta \"no importa distancia\"</h3>\n",
       "<table>\n",
       "<tr><td>1</td> <td><span class=\"IdWeight\">IdWeight(0x00008a0f, 0.033524435f0)</span>.id => 0.03</td> <td>💕</td> <td>No importa la distancia _emo _usr _url</td> </tr><tr><td>2</td> <td><span class=\"IdWeight\">IdWeight(0x000060ef, 0.38421434f0)</span>.id => 0.38</td> <td>😓</td> <td>Me caga la distancia _emo</td> </tr><tr><td>3</td> <td><span class=\"IdWeight\">IdWeight(0x0000912b, 0.5246081f0)</span>.id => 0.52</td> <td>😃</td> <td>No importa cuando...  _emo _emo _url</td> </tr><tr><td>4</td> <td><span class=\"IdWeight\">IdWeight(0x00000508, 0.5725885f0)</span>.id => 0.57</td> <td>😥</td> <td>tiempo y distancia, quizás sea eso... _emo</td> </tr><tr><td>5</td> <td><span class=\"IdWeight\">IdWeight(0x00008e49, 0.5733391f0)</span>.id => 0.57</td> <td>😑</td> <td>_usr A ti no te importa _emo</td> </tr>\n",
       "</table>\n"
      ],
      "text/plain": [
       "<h3>Resultados para la consulta \"no importa distancia\"</h3>\n",
       "<table>\n",
       "<tr><td>1</td> <td><span class=\"IdWeight\">IdWeight(0x00008a0f, 0.033524435f0)</span>.id => 0.03</td> <td>💕</td> <td>No importa la distancia _emo _usr _url</td> </tr><tr><td>2</td> <td><span class=\"IdWeight\">IdWeight(0x000060ef, 0.38421434f0)</span>.id => 0.38</td> <td>😓</td> <td>Me caga la distancia _emo</td> </tr><tr><td>3</td> <td><span class=\"IdWeight\">IdWeight(0x0000912b, 0.5246081f0)</span>.id => 0.52</td> <td>😃</td> <td>No importa cuando...  _emo _emo _url</td> </tr><tr><td>4</td> <td><span class=\"IdWeight\">IdWeight(0x00000508, 0.5725885f0)</span>.id => 0.57</td> <td>😥</td> <td>tiempo y distancia, quizás sea eso... _emo</td> </tr><tr><td>5</td> <td><span class=\"IdWeight\">IdWeight(0x00008e49, 0.5733391f0)</span>.id => 0.57</td> <td>😑</td> <td>_usr A ti no te importa _emo</td> </tr>\n",
       "</table>\n"
      ]
     },
     "metadata": {},
     "output_type": "display_data"
    },
    {
     "name": "stdout",
     "output_type": "stream",
     "text": [
      "  0.000307 seconds (25 allocations: 3.602 KiB)\n"
     ]
    },
    {
     "data": {
      "text/html": [
       "<h3>Resultados para la consulta \"cuando nos vemos?\"</h3>\n",
       "<table>\n",
       "<tr><td>1</td> <td><span class=\"IdWeight\">IdWeight(0x00007566, 0.22503656f0)</span>.id => 0.23</td> <td>😂</td> <td>Nos vemos!! _emo _emo _emo _emo _url</td> </tr><tr><td>2</td> <td><span class=\"IdWeight\">IdWeight(0x000054f5, 0.30652022f0)</span>.id => 0.31</td> <td>😜</td> <td>_usr En la tarde nos vemos _emo _emo _emo</td> </tr><tr><td>3</td> <td><span class=\"IdWeight\">IdWeight(0x00002374, 0.33539587f0)</span>.id => 0.34</td> <td>😻</td> <td>Nos vemos pronto _usr _usr _emo _emo _url</td> </tr><tr><td>4</td> <td><span class=\"IdWeight\">IdWeight(0x00005e69, 0.4330908f0)</span>.id => 0.43</td> <td>😍</td> <td>_usr Pronto nos vemos hermana _emo _emo</td> </tr><tr><td>5</td> <td><span class=\"IdWeight\">IdWeight(0x00009126, 0.45266888f0)</span>.id => 0.45</td> <td>😕</td> <td>Apenas van _num días que no nos vemos _emo</td> </tr>\n",
       "</table>\n"
      ],
      "text/plain": [
       "<h3>Resultados para la consulta \"cuando nos vemos?\"</h3>\n",
       "<table>\n",
       "<tr><td>1</td> <td><span class=\"IdWeight\">IdWeight(0x00007566, 0.22503656f0)</span>.id => 0.23</td> <td>😂</td> <td>Nos vemos!! _emo _emo _emo _emo _url</td> </tr><tr><td>2</td> <td><span class=\"IdWeight\">IdWeight(0x000054f5, 0.30652022f0)</span>.id => 0.31</td> <td>😜</td> <td>_usr En la tarde nos vemos _emo _emo _emo</td> </tr><tr><td>3</td> <td><span class=\"IdWeight\">IdWeight(0x00002374, 0.33539587f0)</span>.id => 0.34</td> <td>😻</td> <td>Nos vemos pronto _usr _usr _emo _emo _url</td> </tr><tr><td>4</td> <td><span class=\"IdWeight\">IdWeight(0x00005e69, 0.4330908f0)</span>.id => 0.43</td> <td>😍</td> <td>_usr Pronto nos vemos hermana _emo _emo</td> </tr><tr><td>5</td> <td><span class=\"IdWeight\">IdWeight(0x00009126, 0.45266888f0)</span>.id => 0.45</td> <td>😕</td> <td>Apenas van _num días que no nos vemos _emo</td> </tr>\n",
       "</table>\n"
      ]
     },
     "metadata": {},
     "output_type": "display_data"
    },
    {
     "name": "stdout",
     "output_type": "stream",
     "text": [
      "  0.000158 seconds (23 allocations: 3.547 KiB)\n"
     ]
    },
    {
     "data": {
      "text/html": [
       "<h3>Resultados para la consulta \"feliz cumpleaños?\"</h3>\n",
       "<table>\n",
       "<tr><td>1</td> <td><span class=\"IdWeight\">IdWeight(0x000067bc, 0.105059296f0)</span>.id => 0.11</td> <td>❤</td> <td>_usr Feliz Cumpleaños _emo</td> </tr><tr><td>2</td> <td><span class=\"IdWeight\">IdWeight(0x00009d25, 0.10506016f0)</span>.id => 0.11</td> <td>😁</td> <td>Feliz Cumpleaños _emo _emo _usr</td> </tr><tr><td>3</td> <td><span class=\"IdWeight\">IdWeight(0x00002244, 0.105065644f0)</span>.id => 0.11</td> <td>🙊</td> <td>Feliz Cumpleaños _usr _emo _emo _emo _emo _emo</td> </tr>\n",
       "</table>\n"
      ],
      "text/plain": [
       "<h3>Resultados para la consulta \"feliz cumpleaños?\"</h3>\n",
       "<table>\n",
       "<tr><td>1</td> <td><span class=\"IdWeight\">IdWeight(0x000067bc, 0.105059296f0)</span>.id => 0.11</td> <td>❤</td> <td>_usr Feliz Cumpleaños _emo</td> </tr><tr><td>2</td> <td><span class=\"IdWeight\">IdWeight(0x00009d25, 0.10506016f0)</span>.id => 0.11</td> <td>😁</td> <td>Feliz Cumpleaños _emo _emo _usr</td> </tr><tr><td>3</td> <td><span class=\"IdWeight\">IdWeight(0x00002244, 0.105065644f0)</span>.id => 0.11</td> <td>🙊</td> <td>Feliz Cumpleaños _usr _emo _emo _emo _emo _emo</td> </tr>\n",
       "</table>\n"
      ]
     },
     "metadata": {},
     "output_type": "display_data"
    },
    {
     "name": "stdout",
     "output_type": "stream",
     "text": [
      "  0.000039 seconds (22 allocations: 3.406 KiB)\n"
     ]
    },
    {
     "data": {
      "text/html": [
       "<h3>Resultados para la consulta \"ola k ase\"</h3>\n",
       "<table>\n",
       "<tr><td>1</td> <td><span class=\"IdWeight\">IdWeight(0x0000aa8f, 0.6446407f0)</span>.id => 0.64</td> <td>😎</td> <td>_usr _usr Siempre, todo y todos los días de la semana desde ase muchoooooossss años _emo _emo</td> </tr><tr><td>2</td> <td><span class=\"IdWeight\">IdWeight(0x00005c21, 0.7058066f0)</span>.id => 0.71</td> <td>😤</td> <td>_usr k bueno k tu mizmo lo reconozcAszzzz _emo</td> </tr><tr><td>3</td> <td><span class=\"IdWeight\">IdWeight(0x00009619, 0.7076125f0)</span>.id => 0.71</td> <td>😃</td> <td>Despertares!! (By OLA) # _emo _emo en Distrito Federal, Mexico _url</td> </tr>\n",
       "</table>\n"
      ],
      "text/plain": [
       "<h3>Resultados para la consulta \"ola k ase\"</h3>\n",
       "<table>\n",
       "<tr><td>1</td> <td><span class=\"IdWeight\">IdWeight(0x0000aa8f, 0.6446407f0)</span>.id => 0.64</td> <td>😎</td> <td>_usr _usr Siempre, todo y todos los días de la semana desde ase muchoooooossss años _emo _emo</td> </tr><tr><td>2</td> <td><span class=\"IdWeight\">IdWeight(0x00005c21, 0.7058066f0)</span>.id => 0.71</td> <td>😤</td> <td>_usr k bueno k tu mizmo lo reconozcAszzzz _emo</td> </tr><tr><td>3</td> <td><span class=\"IdWeight\">IdWeight(0x00009619, 0.7076125f0)</span>.id => 0.71</td> <td>😃</td> <td>Despertares!! (By OLA) # _emo _emo en Distrito Federal, Mexico _url</td> </tr>\n",
       "</table>\n"
      ]
     },
     "metadata": {},
     "output_type": "display_data"
    },
    {
     "name": "stdout",
     "output_type": "stream",
     "text": [
      "  0.000182 seconds (23 allocations: 3.523 KiB)\n"
     ]
    },
    {
     "data": {
      "text/html": [
       "<h3>Resultados para la consulta \"mi humilde opinión\"</h3>\n",
       "<table>\n",
       "<tr><td>1</td> <td><span class=\"IdWeight\">IdWeight(0x00000864, 0.32944086f0)</span>.id => 0.33</td> <td>🙏</td> <td>Bueno, cada quien su vida, ya se, solo es una humilde opinión !! _emo _emo _emo</td> </tr><tr><td>2</td> <td><span class=\"IdWeight\">IdWeight(0x00008bea, 0.5080328f0)</span>.id => 0.51</td> <td>😍</td> <td>_usr es la persona más humilde que conozco _emo</td> </tr><tr><td>3</td> <td><span class=\"IdWeight\">IdWeight(0x0000805a, 0.6217729f0)</span>.id => 0.62</td> <td>🤔</td> <td>_usr Bajo tu opinión fue o no falta? _emo</td> </tr><tr><td>4</td> <td><span class=\"IdWeight\">IdWeight(0x00006ee9, 0.6222807f0)</span>.id => 0.62</td> <td>😊</td> <td>Gracias por compartir la información y tu opinión _emo _url</td> </tr><tr><td>5</td> <td><span class=\"IdWeight\">IdWeight(0x00007bb3, 0.6478042f0)</span>.id => 0.65</td> <td>😉</td> <td>Cuantos Likes para mi humilde oficina _usr  _emo _emo @ CocoBongo _url</td> </tr><tr><td>6</td> <td><span class=\"IdWeight\">IdWeight(0x0000159c, 0.663409f0)</span>.id => 0.66</td> <td>🤗</td> <td>Para ser feliz, no escuches la opinión de los demás _emo</td> </tr><tr><td>7</td> <td><span class=\"IdWeight\">IdWeight(0x000031a9, 0.6741618f0)</span>.id => 0.67</td> <td>👏</td> <td>_usr Totalmente de acuerdo contigo en todo. Comparto tu opinión _emo _emo _emo _emo</td> </tr><tr><td>8</td> <td><span class=\"IdWeight\">IdWeight(0x000003de, 0.72290635f0)</span>.id => 0.72</td> <td>😌</td> <td>Tu opinión no me interesa más. No tengo nada que demostrarte, y si piensas lo peor de mi, MEJOR! _emo</td> </tr><tr><td>9</td> <td><span class=\"IdWeight\">IdWeight(0x00009ab1, 0.72665346f0)</span>.id => 0.73</td> <td>😑</td> <td>Lo siento pero mi tez humilde no me deja ser guapo y estar bueno, eso sin mencionar la rodilla que me chingue! _emo _emo</td> </tr><tr><td>10</td> <td><span class=\"IdWeight\">IdWeight(0x00002d45, 0.7458333f0)</span>.id => 0.75</td> <td>😃</td> <td>Interesante opinión y espero que sigas escribiendo _usr en mejores espacios  !suerte!! _emo _emo _emo _url</td> </tr>\n",
       "</table>\n"
      ],
      "text/plain": [
       "<h3>Resultados para la consulta \"mi humilde opinión\"</h3>\n",
       "<table>\n",
       "<tr><td>1</td> <td><span class=\"IdWeight\">IdWeight(0x00000864, 0.32944086f0)</span>.id => 0.33</td> <td>🙏</td> <td>Bueno, cada quien su vida, ya se, solo es una humilde opinión !! _emo _emo _emo</td> </tr><tr><td>2</td> <td><span class=\"IdWeight\">IdWeight(0x00008bea, 0.5080328f0)</span>.id => 0.51</td> <td>😍</td> <td>_usr es la persona más humilde que conozco _emo</td> </tr><tr><td>3</td> <td><span class=\"IdWeight\">IdWeight(0x0000805a, 0.6217729f0)</span>.id => 0.62</td> <td>🤔</td> <td>_usr Bajo tu opinión fue o no falta? _emo</td> </tr><tr><td>4</td> <td><span class=\"IdWeight\">IdWeight(0x00006ee9, 0.6222807f0)</span>.id => 0.62</td> <td>😊</td> <td>Gracias por compartir la información y tu opinión _emo _url</td> </tr><tr><td>5</td> <td><span class=\"IdWeight\">IdWeight(0x00007bb3, 0.6478042f0)</span>.id => 0.65</td> <td>😉</td> <td>Cuantos Likes para mi humilde oficina _usr  _emo _emo @ CocoBongo _url</td> </tr><tr><td>6</td> <td><span class=\"IdWeight\">IdWeight(0x0000159c, 0.663409f0)</span>.id => 0.66</td> <td>🤗</td> <td>Para ser feliz, no escuches la opinión de los demás _emo</td> </tr><tr><td>7</td> <td><span class=\"IdWeight\">IdWeight(0x000031a9, 0.6741618f0)</span>.id => 0.67</td> <td>👏</td> <td>_usr Totalmente de acuerdo contigo en todo. Comparto tu opinión _emo _emo _emo _emo</td> </tr><tr><td>8</td> <td><span class=\"IdWeight\">IdWeight(0x000003de, 0.72290635f0)</span>.id => 0.72</td> <td>😌</td> <td>Tu opinión no me interesa más. No tengo nada que demostrarte, y si piensas lo peor de mi, MEJOR! _emo</td> </tr><tr><td>9</td> <td><span class=\"IdWeight\">IdWeight(0x00009ab1, 0.72665346f0)</span>.id => 0.73</td> <td>😑</td> <td>Lo siento pero mi tez humilde no me deja ser guapo y estar bueno, eso sin mencionar la rodilla que me chingue! _emo _emo</td> </tr><tr><td>10</td> <td><span class=\"IdWeight\">IdWeight(0x00002d45, 0.7458333f0)</span>.id => 0.75</td> <td>😃</td> <td>Interesante opinión y espero que sigas escribiendo _usr en mejores espacios  !suerte!! _emo _emo _emo _url</td> </tr>\n",
       "</table>\n"
      ]
     },
     "metadata": {},
     "output_type": "display_data"
    }
   ],
   "source": [
    "search_and_display(invfile, \"no importa distancia\", 5, D, T)\n",
    "search_and_display(invfile, \"cuando nos vemos?\", 5, D, T)\n",
    "search_and_display(invfile, \"feliz cumpleaños?\", 3, D, T)\n",
    "search_and_display(invfile, \"ola k ase\", 3, D, T)\n",
    "search_and_display(invfile, \"mi humilde opinión\", 10, D, T)"
   ]
  },
  {
   "cell_type": "markdown",
   "id": "33ad823b-70c0-447d-bfe0-8a920525ca12",
   "metadata": {},
   "source": [
    "### También es posible consultar elementos del mismo corpus, lo cual permité inspeccionar la estructura interna de la colección. Esto será de utilidad más adelante en el curso."
   ]
  },
  {
   "cell_type": "code",
   "execution_count": 7,
   "id": "bde30ad5-8c2d-4622-b0c2-994802b64e9d",
   "metadata": {},
   "outputs": [
    {
     "name": "stdout",
     "output_type": "stream",
     "text": [
      "  0.006924 seconds (59 allocations: 5.500 KiB)\n"
     ]
    },
    {
     "data": {
      "text/html": [
       "<h3>Resultados para la consulta \"Tener el poder de destruir a tus enemigos y no hacerlo, se siente verga _emo\"</h3>\n",
       "<table>\n",
       "<tr><td>1</td> <td><span class=\"IdWeight\">IdWeight(0x00001d91, 2.3174108f-7)</span>.id => 0.0</td> <td>🤗</td> <td>Tener el poder de destruir a tus enemigos y no hacerlo, se siente verga _emo</td> </tr><tr><td>2</td> <td><span class=\"IdWeight\">IdWeight(0x00005770, 0.70924336f0)</span>.id => 0.71</td> <td>😊</td> <td>Que bien se siente tener la razón _emo _emo _emo</td> </tr><tr><td>3</td> <td><span class=\"IdWeight\">IdWeight(0x00007735, 0.7130483f0)</span>.id => 0.71</td> <td>😈</td> <td>_usr Cuando Úrsula llena de poder e irá se hace gigante y quiere destruir todo y a todos. _emo _url</td> </tr><tr><td>4</td> <td><span class=\"IdWeight\">IdWeight(0x0000a41a, 0.7400262f0)</span>.id => 0.74</td> <td>😩</td> <td>Primera vez que llevo mi maqueta así y siento que se me va a destruir _emo _emo</td> </tr><tr><td>5</td> <td><span class=\"IdWeight\">IdWeight(0x00003f80, 0.7518793f0)</span>.id => 0.75</td> <td>🙈</td> <td>Que bonito se siente dormir tus _num hrs _emo</td> </tr><tr><td>6</td> <td><span class=\"IdWeight\">IdWeight(0x000000e2, 0.75284344f0)</span>.id => 0.75</td> <td>😞</td> <td>Que mal se siente. _emo _emo</td> </tr><tr><td>7</td> <td><span class=\"IdWeight\">IdWeight(0x00006194, 0.757171f0)</span>.id => 0.76</td> <td>💜</td> <td>Y se siente bien bonito _emo _emo _emo _url</td> </tr>\n",
       "</table>\n"
      ],
      "text/plain": [
       "<h3>Resultados para la consulta \"Tener el poder de destruir a tus enemigos y no hacerlo, se siente verga _emo\"</h3>\n",
       "<table>\n",
       "<tr><td>1</td> <td><span class=\"IdWeight\">IdWeight(0x00001d91, 2.3174108f-7)</span>.id => 0.0</td> <td>🤗</td> <td>Tener el poder de destruir a tus enemigos y no hacerlo, se siente verga _emo</td> </tr><tr><td>2</td> <td><span class=\"IdWeight\">IdWeight(0x00005770, 0.70924336f0)</span>.id => 0.71</td> <td>😊</td> <td>Que bien se siente tener la razón _emo _emo _emo</td> </tr><tr><td>3</td> <td><span class=\"IdWeight\">IdWeight(0x00007735, 0.7130483f0)</span>.id => 0.71</td> <td>😈</td> <td>_usr Cuando Úrsula llena de poder e irá se hace gigante y quiere destruir todo y a todos. _emo _url</td> </tr><tr><td>4</td> <td><span class=\"IdWeight\">IdWeight(0x0000a41a, 0.7400262f0)</span>.id => 0.74</td> <td>😩</td> <td>Primera vez que llevo mi maqueta así y siento que se me va a destruir _emo _emo</td> </tr><tr><td>5</td> <td><span class=\"IdWeight\">IdWeight(0x00003f80, 0.7518793f0)</span>.id => 0.75</td> <td>🙈</td> <td>Que bonito se siente dormir tus _num hrs _emo</td> </tr><tr><td>6</td> <td><span class=\"IdWeight\">IdWeight(0x000000e2, 0.75284344f0)</span>.id => 0.75</td> <td>😞</td> <td>Que mal se siente. _emo _emo</td> </tr><tr><td>7</td> <td><span class=\"IdWeight\">IdWeight(0x00006194, 0.757171f0)</span>.id => 0.76</td> <td>💜</td> <td>Y se siente bien bonito _emo _emo _emo _url</td> </tr>\n",
       "</table>\n"
      ]
     },
     "metadata": {},
     "output_type": "display_data"
    },
    {
     "name": "stdout",
     "output_type": "stream",
     "text": [
      "  0.008671 seconds (57 allocations: 5.453 KiB)\n"
     ]
    },
    {
     "data": {
      "text/html": [
       "<h3>Resultados para la consulta \"Esperando ya para comprar la edición de colección. _emo _emo _emo _emo _url\"</h3>\n",
       "<table>\n",
       "<tr><td>1</td> <td><span class=\"IdWeight\">IdWeight(0x000094fd, -1.6425588f-8)</span>.id => -0.0</td> <td>😀</td> <td>Esperando ya para comprar la edición de colección. _emo _emo _emo _emo _url</td> </tr><tr><td>2</td> <td><span class=\"IdWeight\">IdWeight(0x0000a8bc, 0.4016952f0)</span>.id => 0.4</td> <td>♥</td> <td>Para la colección _emo _emo _url</td> </tr><tr><td>3</td> <td><span class=\"IdWeight\">IdWeight(0x00005cc3, 0.5273127f0)</span>.id => 0.53</td> <td>🙈</td> <td>Dos más a la colección _emo _emo _url</td> </tr><tr><td>4</td> <td><span class=\"IdWeight\">IdWeight(0x00007672, 0.6449609f0)</span>.id => 0.64</td> <td>😌</td> <td>_usr Ya te está esperando _emo _emo</td> </tr><tr><td>5</td> <td><span class=\"IdWeight\">IdWeight(0x0000439d, 0.7048287f0)</span>.id => 0.7</td> <td>😀</td> <td>_usr  La azul  Edición El principito _emo _url</td> </tr><tr><td>6</td> <td><span class=\"IdWeight\">IdWeight(0x00009810, 0.70753354f0)</span>.id => 0.71</td> <td>🙂</td> <td>Ando esperando _emo</td> </tr><tr><td>7</td> <td><span class=\"IdWeight\">IdWeight(0x00008b9c, 0.715319f0)</span>.id => 0.72</td> <td>🤔</td> <td>Mañana que me voy a comprar _emo</td> </tr>\n",
       "</table>\n"
      ],
      "text/plain": [
       "<h3>Resultados para la consulta \"Esperando ya para comprar la edición de colección. _emo _emo _emo _emo _url\"</h3>\n",
       "<table>\n",
       "<tr><td>1</td> <td><span class=\"IdWeight\">IdWeight(0x000094fd, -1.6425588f-8)</span>.id => -0.0</td> <td>😀</td> <td>Esperando ya para comprar la edición de colección. _emo _emo _emo _emo _url</td> </tr><tr><td>2</td> <td><span class=\"IdWeight\">IdWeight(0x0000a8bc, 0.4016952f0)</span>.id => 0.4</td> <td>♥</td> <td>Para la colección _emo _emo _url</td> </tr><tr><td>3</td> <td><span class=\"IdWeight\">IdWeight(0x00005cc3, 0.5273127f0)</span>.id => 0.53</td> <td>🙈</td> <td>Dos más a la colección _emo _emo _url</td> </tr><tr><td>4</td> <td><span class=\"IdWeight\">IdWeight(0x00007672, 0.6449609f0)</span>.id => 0.64</td> <td>😌</td> <td>_usr Ya te está esperando _emo _emo</td> </tr><tr><td>5</td> <td><span class=\"IdWeight\">IdWeight(0x0000439d, 0.7048287f0)</span>.id => 0.7</td> <td>😀</td> <td>_usr  La azul  Edición El principito _emo _url</td> </tr><tr><td>6</td> <td><span class=\"IdWeight\">IdWeight(0x00009810, 0.70753354f0)</span>.id => 0.71</td> <td>🙂</td> <td>Ando esperando _emo</td> </tr><tr><td>7</td> <td><span class=\"IdWeight\">IdWeight(0x00008b9c, 0.715319f0)</span>.id => 0.72</td> <td>🤔</td> <td>Mañana que me voy a comprar _emo</td> </tr>\n",
       "</table>\n"
      ]
     },
     "metadata": {},
     "output_type": "display_data"
    },
    {
     "name": "stdout",
     "output_type": "stream",
     "text": [
      "  0.007395 seconds (67 allocations: 5.891 KiB)\n"
     ]
    },
    {
     "data": {
      "text/html": [
       "<h3>Resultados para la consulta \"Llegó el día amigos.  Quisiera no tener que ir a Tepic. _emo (No hasta diciembre)\"</h3>\n",
       "<table>\n",
       "<tr><td>1</td> <td><span class=\"IdWeight\">IdWeight(0x0000668d, 1.3781931f-7)</span>.id => 0.0</td> <td>😓</td> <td>Llegó el día amigos.  Quisiera no tener que ir a Tepic. _emo (No hasta diciembre)</td> </tr><tr><td>2</td> <td><span class=\"IdWeight\">IdWeight(0x00002147, 0.6352334f0)</span>.id => 0.64</td> <td>😱</td> <td>Llegó el día _emo</td> </tr><tr><td>3</td> <td><span class=\"IdWeight\">IdWeight(0x000041ea, 0.69031554f0)</span>.id => 0.69</td> <td>👀</td> <td>Necesito ya el _num de diciembre _emo</td> </tr><tr><td>4</td> <td><span class=\"IdWeight\">IdWeight(0x00003cb2, 0.72242856f0)</span>.id => 0.72</td> <td>😩</td> <td>Ya quiero vacaciones de diciembre _emo</td> </tr><tr><td>5</td> <td><span class=\"IdWeight\">IdWeight(0x00004ce6, 0.7232755f0)</span>.id => 0.72</td> <td>😍</td> <td>Ya llego _emo _emo</td> </tr><tr><td>6</td> <td><span class=\"IdWeight\">IdWeight(0x00009f75, 0.7232762f0)</span>.id => 0.72</td> <td>❤</td> <td>Ya llego _emo _emo _emo _emo</td> </tr><tr><td>7</td> <td><span class=\"IdWeight\">IdWeight(0x0000941b, 0.72532445f0)</span>.id => 0.73</td> <td>🙈</td> <td>_usr el amor que _usr te tiene llegó hasta... _emo _emo _url</td> </tr>\n",
       "</table>\n"
      ],
      "text/plain": [
       "<h3>Resultados para la consulta \"Llegó el día amigos.  Quisiera no tener que ir a Tepic. _emo (No hasta diciembre)\"</h3>\n",
       "<table>\n",
       "<tr><td>1</td> <td><span class=\"IdWeight\">IdWeight(0x0000668d, 1.3781931f-7)</span>.id => 0.0</td> <td>😓</td> <td>Llegó el día amigos.  Quisiera no tener que ir a Tepic. _emo (No hasta diciembre)</td> </tr><tr><td>2</td> <td><span class=\"IdWeight\">IdWeight(0x00002147, 0.6352334f0)</span>.id => 0.64</td> <td>😱</td> <td>Llegó el día _emo</td> </tr><tr><td>3</td> <td><span class=\"IdWeight\">IdWeight(0x000041ea, 0.69031554f0)</span>.id => 0.69</td> <td>👀</td> <td>Necesito ya el _num de diciembre _emo</td> </tr><tr><td>4</td> <td><span class=\"IdWeight\">IdWeight(0x00003cb2, 0.72242856f0)</span>.id => 0.72</td> <td>😩</td> <td>Ya quiero vacaciones de diciembre _emo</td> </tr><tr><td>5</td> <td><span class=\"IdWeight\">IdWeight(0x00004ce6, 0.7232755f0)</span>.id => 0.72</td> <td>😍</td> <td>Ya llego _emo _emo</td> </tr><tr><td>6</td> <td><span class=\"IdWeight\">IdWeight(0x00009f75, 0.7232762f0)</span>.id => 0.72</td> <td>❤</td> <td>Ya llego _emo _emo _emo _emo</td> </tr><tr><td>7</td> <td><span class=\"IdWeight\">IdWeight(0x0000941b, 0.72532445f0)</span>.id => 0.73</td> <td>🙈</td> <td>_usr el amor que _usr te tiene llegó hasta... _emo _emo _url</td> </tr>\n",
       "</table>\n"
      ]
     },
     "metadata": {},
     "output_type": "display_data"
    },
    {
     "name": "stdout",
     "output_type": "stream",
     "text": [
      "  0.002785 seconds (35 allocations: 4.047 KiB)\n"
     ]
    },
    {
     "data": {
      "text/html": [
       "<h3>Resultados para la consulta \"&quot;Soy tu fan&quot; y sí _emo\"</h3>\n",
       "<table>\n",
       "<tr><td>1</td> <td><span class=\"IdWeight\">IdWeight(0x00003fcc, 5.1638423f-8)</span>.id => 0.0</td> <td>🙃</td> <td>&quot;Soy tu fan&quot; y sí _emo</td> </tr><tr><td>2</td> <td><span class=\"IdWeight\">IdWeight(0x0000a1fe, 0.4531194f0)</span>.id => 0.45</td> <td>😒</td> <td>&quot;Por que no es así&quot; _emo _emo</td> </tr><tr><td>3</td> <td><span class=\"IdWeight\">IdWeight(0x00009a3b, 0.46535948f0)</span>.id => 0.47</td> <td>🙄</td> <td>Soy este &quot; _emo&quot; emoji.</td> </tr><tr><td>4</td> <td><span class=\"IdWeight\">IdWeight(0x00001c1f, 0.47821426f0)</span>.id => 0.48</td> <td>😤</td> <td>_usr _usr LA &quot;TRANSFORMACIÓN&quot; de &quot;CUARTA&quot; _emo _emo _emo. _emo _emo _emo _emo _emo _emo _emo _emo _emo _emo _emo</td> </tr><tr><td>5</td> <td><span class=\"IdWeight\">IdWeight(0x000071ff, 0.47821426f0)</span>.id => 0.48</td> <td>😤</td> <td>_usr _usr LA &quot;TRANSFORMACIÓN&quot; de &quot;CUARTA&quot; _emo _emo _emo. _emo _emo _emo _emo _emo _emo _emo _emo _emo _emo _emo</td> </tr><tr><td>6</td> <td><span class=\"IdWeight\">IdWeight(0x0000440b, 0.4790302f0)</span>.id => 0.48</td> <td>😡</td> <td>Me caga decir &quot;salud&quot; y que no me digan &quot;gracias&quot; _emo _emo _emo</td> </tr><tr><td>7</td> <td><span class=\"IdWeight\">IdWeight(0x00000f84, 0.50402725f0)</span>.id => 0.5</td> <td>😤</td> <td>_usr Claro Tere ! Es &quot;LÓGICO&quot; pero &quot;AMLO&quot; carece de &quot;LÓGICA&quot; _emo</td> </tr>\n",
       "</table>\n"
      ],
      "text/plain": [
       "<h3>Resultados para la consulta \"&quot;Soy tu fan&quot; y sí _emo\"</h3>\n",
       "<table>\n",
       "<tr><td>1</td> <td><span class=\"IdWeight\">IdWeight(0x00003fcc, 5.1638423f-8)</span>.id => 0.0</td> <td>🙃</td> <td>&quot;Soy tu fan&quot; y sí _emo</td> </tr><tr><td>2</td> <td><span class=\"IdWeight\">IdWeight(0x0000a1fe, 0.4531194f0)</span>.id => 0.45</td> <td>😒</td> <td>&quot;Por que no es así&quot; _emo _emo</td> </tr><tr><td>3</td> <td><span class=\"IdWeight\">IdWeight(0x00009a3b, 0.46535948f0)</span>.id => 0.47</td> <td>🙄</td> <td>Soy este &quot; _emo&quot; emoji.</td> </tr><tr><td>4</td> <td><span class=\"IdWeight\">IdWeight(0x00001c1f, 0.47821426f0)</span>.id => 0.48</td> <td>😤</td> <td>_usr _usr LA &quot;TRANSFORMACIÓN&quot; de &quot;CUARTA&quot; _emo _emo _emo. _emo _emo _emo _emo _emo _emo _emo _emo _emo _emo _emo</td> </tr><tr><td>5</td> <td><span class=\"IdWeight\">IdWeight(0x000071ff, 0.47821426f0)</span>.id => 0.48</td> <td>😤</td> <td>_usr _usr LA &quot;TRANSFORMACIÓN&quot; de &quot;CUARTA&quot; _emo _emo _emo. _emo _emo _emo _emo _emo _emo _emo _emo _emo _emo _emo</td> </tr><tr><td>6</td> <td><span class=\"IdWeight\">IdWeight(0x0000440b, 0.4790302f0)</span>.id => 0.48</td> <td>😡</td> <td>Me caga decir &quot;salud&quot; y que no me digan &quot;gracias&quot; _emo _emo _emo</td> </tr><tr><td>7</td> <td><span class=\"IdWeight\">IdWeight(0x00000f84, 0.50402725f0)</span>.id => 0.5</td> <td>😤</td> <td>_usr Claro Tere ! Es &quot;LÓGICO&quot; pero &quot;AMLO&quot; carece de &quot;LÓGICA&quot; _emo</td> </tr>\n",
       "</table>\n"
      ]
     },
     "metadata": {},
     "output_type": "display_data"
    },
    {
     "name": "stdout",
     "output_type": "stream",
     "text": [
      "  0.007485 seconds (63 allocations: 5.727 KiB)\n"
     ]
    },
    {
     "data": {
      "text/html": [
       "<h3>Resultados para la consulta \"El sábado _num personas me dijeron que olía súper bonito, y yo no uso perfume _emo\"</h3>\n",
       "<table>\n",
       "<tr><td>1</td> <td><span class=\"IdWeight\">IdWeight(0x00002efe, 2.1119135f-8)</span>.id => 0.0</td> <td>😳</td> <td>El sábado _num personas me dijeron que olía súper bonito, y yo no uso perfume _emo</td> </tr><tr><td>2</td> <td><span class=\"IdWeight\">IdWeight(0x0000378a, 0.73234946f0)</span>.id => 0.73</td> <td>😌</td> <td>Santa me trajo el perfume que quería _emo _emo</td> </tr><tr><td>3</td> <td><span class=\"IdWeight\">IdWeight(0x00004051, 0.7338004f0)</span>.id => 0.73</td> <td>😡</td> <td>_usr ya no uso esa cosa!!! _emo</td> </tr><tr><td>4</td> <td><span class=\"IdWeight\">IdWeight(0x000078e2, 0.7375262f0)</span>.id => 0.74</td> <td>🌚</td> <td>SÚPER YO _emo _emo _emo _emo _emo _emo _url</td> </tr><tr><td>5</td> <td><span class=\"IdWeight\">IdWeight(0x00005b38, 0.7416716f0)</span>.id => 0.74</td> <td>😉</td> <td>Hoy me dijeron &quot;Que bonito&quot; y me emocioné. En realidad me dijeron &quot;Que bonito chingas&quot;, pero yo siempre me enfoco en lo positivo. #FelizLunes _emo _emo _emo</td> </tr><tr><td>6</td> <td><span class=\"IdWeight\">IdWeight(0x00005727, 0.7481346f0)</span>.id => 0.75</td> <td>😱</td> <td>_usr _usr _usr Martes _num dijeron _emo _url</td> </tr><tr><td>7</td> <td><span class=\"IdWeight\">IdWeight(0x00006ec8, 0.74868864f0)</span>.id => 0.75</td> <td>♥</td> <td>Super yo. _emo _emo _url</td> </tr>\n",
       "</table>\n"
      ],
      "text/plain": [
       "<h3>Resultados para la consulta \"El sábado _num personas me dijeron que olía súper bonito, y yo no uso perfume _emo\"</h3>\n",
       "<table>\n",
       "<tr><td>1</td> <td><span class=\"IdWeight\">IdWeight(0x00002efe, 2.1119135f-8)</span>.id => 0.0</td> <td>😳</td> <td>El sábado _num personas me dijeron que olía súper bonito, y yo no uso perfume _emo</td> </tr><tr><td>2</td> <td><span class=\"IdWeight\">IdWeight(0x0000378a, 0.73234946f0)</span>.id => 0.73</td> <td>😌</td> <td>Santa me trajo el perfume que quería _emo _emo</td> </tr><tr><td>3</td> <td><span class=\"IdWeight\">IdWeight(0x00004051, 0.7338004f0)</span>.id => 0.73</td> <td>😡</td> <td>_usr ya no uso esa cosa!!! _emo</td> </tr><tr><td>4</td> <td><span class=\"IdWeight\">IdWeight(0x000078e2, 0.7375262f0)</span>.id => 0.74</td> <td>🌚</td> <td>SÚPER YO _emo _emo _emo _emo _emo _emo _url</td> </tr><tr><td>5</td> <td><span class=\"IdWeight\">IdWeight(0x00005b38, 0.7416716f0)</span>.id => 0.74</td> <td>😉</td> <td>Hoy me dijeron &quot;Que bonito&quot; y me emocioné. En realidad me dijeron &quot;Que bonito chingas&quot;, pero yo siempre me enfoco en lo positivo. #FelizLunes _emo _emo _emo</td> </tr><tr><td>6</td> <td><span class=\"IdWeight\">IdWeight(0x00005727, 0.7481346f0)</span>.id => 0.75</td> <td>😱</td> <td>_usr _usr _usr Martes _num dijeron _emo _url</td> </tr><tr><td>7</td> <td><span class=\"IdWeight\">IdWeight(0x00006ec8, 0.74868864f0)</span>.id => 0.75</td> <td>♥</td> <td>Super yo. _emo _emo _url</td> </tr>\n",
       "</table>\n"
      ]
     },
     "metadata": {},
     "output_type": "display_data"
    },
    {
     "name": "stdout",
     "output_type": "stream",
     "text": [
      "  0.004541 seconds (55 allocations: 5.328 KiB)\n"
     ]
    },
    {
     "data": {
      "text/html": [
       "<h3>Resultados para la consulta \"¿Es el Real Madrid o mis poderososísimos Pumas?  No entiendo _emo _emo\"</h3>\n",
       "<table>\n",
       "<tr><td>1</td> <td><span class=\"IdWeight\">IdWeight(0x000075bc, 8.976289f-8)</span>.id => 0.0</td> <td>😥</td> <td>¿Es el Real Madrid o mis poderososísimos Pumas?  No entiendo _emo _emo</td> </tr><tr><td>2</td> <td><span class=\"IdWeight\">IdWeight(0x00003cc1, 0.6270938f0)</span>.id => 0.63</td> <td>💔</td> <td>Mi Madrid. _emo</td> </tr><tr><td>3</td> <td><span class=\"IdWeight\">IdWeight(0x000057af, 0.6413676f0)</span>.id => 0.64</td> <td>💙</td> <td>Te amo Pumas _emo _emo _url</td> </tr><tr><td>4</td> <td><span class=\"IdWeight\">IdWeight(0x00002e28, 0.6757859f0)</span>.id => 0.68</td> <td>😢</td> <td>Soñé que entrenaba con el Real Madrid _emo</td> </tr><tr><td>5</td> <td><span class=\"IdWeight\">IdWeight(0x00005eb6, 0.68381196f0)</span>.id => 0.68</td> <td>😔</td> <td>_usr Vuelve a pumas _emo</td> </tr><tr><td>6</td> <td><span class=\"IdWeight\">IdWeight(0x000032cb, 0.685585f0)</span>.id => 0.69</td> <td>😩</td> <td>No entiendo _emo</td> </tr><tr><td>7</td> <td><span class=\"IdWeight\">IdWeight(0x000009a9, 0.70874053f0)</span>.id => 0.71</td> <td>😐</td> <td>_usr _usr No entiendo _emo</td> </tr>\n",
       "</table>\n"
      ],
      "text/plain": [
       "<h3>Resultados para la consulta \"¿Es el Real Madrid o mis poderososísimos Pumas?  No entiendo _emo _emo\"</h3>\n",
       "<table>\n",
       "<tr><td>1</td> <td><span class=\"IdWeight\">IdWeight(0x000075bc, 8.976289f-8)</span>.id => 0.0</td> <td>😥</td> <td>¿Es el Real Madrid o mis poderososísimos Pumas?  No entiendo _emo _emo</td> </tr><tr><td>2</td> <td><span class=\"IdWeight\">IdWeight(0x00003cc1, 0.6270938f0)</span>.id => 0.63</td> <td>💔</td> <td>Mi Madrid. _emo</td> </tr><tr><td>3</td> <td><span class=\"IdWeight\">IdWeight(0x000057af, 0.6413676f0)</span>.id => 0.64</td> <td>💙</td> <td>Te amo Pumas _emo _emo _url</td> </tr><tr><td>4</td> <td><span class=\"IdWeight\">IdWeight(0x00002e28, 0.6757859f0)</span>.id => 0.68</td> <td>😢</td> <td>Soñé que entrenaba con el Real Madrid _emo</td> </tr><tr><td>5</td> <td><span class=\"IdWeight\">IdWeight(0x00005eb6, 0.68381196f0)</span>.id => 0.68</td> <td>😔</td> <td>_usr Vuelve a pumas _emo</td> </tr><tr><td>6</td> <td><span class=\"IdWeight\">IdWeight(0x000032cb, 0.685585f0)</span>.id => 0.69</td> <td>😩</td> <td>No entiendo _emo</td> </tr><tr><td>7</td> <td><span class=\"IdWeight\">IdWeight(0x000009a9, 0.70874053f0)</span>.id => 0.71</td> <td>😐</td> <td>_usr _usr No entiendo _emo</td> </tr>\n",
       "</table>\n"
      ]
     },
     "metadata": {},
     "output_type": "display_data"
    },
    {
     "name": "stdout",
     "output_type": "stream",
     "text": [
      "  0.009162 seconds (73 allocations: 6.172 KiB)\n"
     ]
    },
    {
     "data": {
      "text/html": [
       "<h3>Resultados para la consulta \"Que bien se siente _emo llegar a un #oxxo por algo y ver que hay revistas de #mandalas… _url\"</h3>\n",
       "<table>\n",
       "<tr><td>1</td> <td><span class=\"IdWeight\">IdWeight(0x00003fe8, -6.398099f-8)</span>.id => -0.0</td> <td>🤗</td> <td>Que bien se siente _emo llegar a un #oxxo por algo y ver que hay revistas de #mandalas… _url</td> </tr><tr><td>2</td> <td><span class=\"IdWeight\">IdWeight(0x00006194, 0.697295f0)</span>.id => 0.7</td> <td>💜</td> <td>Y se siente bien bonito _emo _emo _emo _url</td> </tr><tr><td>3</td> <td><span class=\"IdWeight\">IdWeight(0x00006e97, 0.71129537f0)</span>.id => 0.71</td> <td>😻</td> <td>Lo que hay que ver... _emo _url</td> </tr><tr><td>4</td> <td><span class=\"IdWeight\">IdWeight(0x00001bbb, 0.7202086f0)</span>.id => 0.72</td> <td>😎</td> <td>Algo bien _emo _url</td> </tr><tr><td>5</td> <td><span class=\"IdWeight\">IdWeight(0x000000e2, 0.74977356f0)</span>.id => 0.75</td> <td>😞</td> <td>Que mal se siente. _emo _emo</td> </tr><tr><td>6</td> <td><span class=\"IdWeight\">IdWeight(0x00006b09, 0.7503616f0)</span>.id => 0.75</td> <td>😍</td> <td>Gracias por llegar _emo</td> </tr><tr><td>7</td> <td><span class=\"IdWeight\">IdWeight(0x00005770, 0.7587789f0)</span>.id => 0.76</td> <td>😊</td> <td>Que bien se siente tener la razón _emo _emo _emo</td> </tr>\n",
       "</table>\n"
      ],
      "text/plain": [
       "<h3>Resultados para la consulta \"Que bien se siente _emo llegar a un #oxxo por algo y ver que hay revistas de #mandalas… _url\"</h3>\n",
       "<table>\n",
       "<tr><td>1</td> <td><span class=\"IdWeight\">IdWeight(0x00003fe8, -6.398099f-8)</span>.id => -0.0</td> <td>🤗</td> <td>Que bien se siente _emo llegar a un #oxxo por algo y ver que hay revistas de #mandalas… _url</td> </tr><tr><td>2</td> <td><span class=\"IdWeight\">IdWeight(0x00006194, 0.697295f0)</span>.id => 0.7</td> <td>💜</td> <td>Y se siente bien bonito _emo _emo _emo _url</td> </tr><tr><td>3</td> <td><span class=\"IdWeight\">IdWeight(0x00006e97, 0.71129537f0)</span>.id => 0.71</td> <td>😻</td> <td>Lo que hay que ver... _emo _url</td> </tr><tr><td>4</td> <td><span class=\"IdWeight\">IdWeight(0x00001bbb, 0.7202086f0)</span>.id => 0.72</td> <td>😎</td> <td>Algo bien _emo _url</td> </tr><tr><td>5</td> <td><span class=\"IdWeight\">IdWeight(0x000000e2, 0.74977356f0)</span>.id => 0.75</td> <td>😞</td> <td>Que mal se siente. _emo _emo</td> </tr><tr><td>6</td> <td><span class=\"IdWeight\">IdWeight(0x00006b09, 0.7503616f0)</span>.id => 0.75</td> <td>😍</td> <td>Gracias por llegar _emo</td> </tr><tr><td>7</td> <td><span class=\"IdWeight\">IdWeight(0x00005770, 0.7587789f0)</span>.id => 0.76</td> <td>😊</td> <td>Que bien se siente tener la razón _emo _emo _emo</td> </tr>\n",
       "</table>\n"
      ]
     },
     "metadata": {},
     "output_type": "display_data"
    },
    {
     "name": "stdout",
     "output_type": "stream",
     "text": [
      "  0.007370 seconds (44 allocations: 4.586 KiB)\n"
     ]
    },
    {
     "data": {
      "text/html": [
       "<h3>Resultados para la consulta \"_usr Tú quieres que me de el soponcio _emo _url\"</h3>\n",
       "<table>\n",
       "<tr><td>1</td> <td><span class=\"IdWeight\">IdWeight(0x00001362, 6.749433f-8)</span>.id => 0.0</td> <td>😞</td> <td>_usr Tú quieres que me de el soponcio _emo _url</td> </tr><tr><td>2</td> <td><span class=\"IdWeight\">IdWeight(0x00006859, 0.45605382f0)</span>.id => 0.46</td> <td>🙄</td> <td>_usr tu que quieres _emo</td> </tr><tr><td>3</td> <td><span class=\"IdWeight\">IdWeight(0x0000ae6c, 0.5068261f0)</span>.id => 0.51</td> <td>😡</td> <td>Como diría mi abuelo, me está dando el soponcio. _emo</td> </tr><tr><td>4</td> <td><span class=\"IdWeight\">IdWeight(0x00000a45, 0.5726747f0)</span>.id => 0.57</td> <td>😏</td> <td>_usr por que no quieres _emo</td> </tr><tr><td>5</td> <td><span class=\"IdWeight\">IdWeight(0x0000a07d, 0.6048379f0)</span>.id => 0.6</td> <td>🙊</td> <td>_usr Porque quieres _emo _emo</td> </tr><tr><td>6</td> <td><span class=\"IdWeight\">IdWeight(0x00008410, 0.6140172f0)</span>.id => 0.61</td> <td>😏</td> <td>Los quieres? _emo _url</td> </tr><tr><td>7</td> <td><span class=\"IdWeight\">IdWeight(0x000051db, 0.6187732f0)</span>.id => 0.62</td> <td>😢</td> <td>Me dices, que tú ya no me quieres _emo</td> </tr>\n",
       "</table>\n"
      ],
      "text/plain": [
       "<h3>Resultados para la consulta \"_usr Tú quieres que me de el soponcio _emo _url\"</h3>\n",
       "<table>\n",
       "<tr><td>1</td> <td><span class=\"IdWeight\">IdWeight(0x00001362, 6.749433f-8)</span>.id => 0.0</td> <td>😞</td> <td>_usr Tú quieres que me de el soponcio _emo _url</td> </tr><tr><td>2</td> <td><span class=\"IdWeight\">IdWeight(0x00006859, 0.45605382f0)</span>.id => 0.46</td> <td>🙄</td> <td>_usr tu que quieres _emo</td> </tr><tr><td>3</td> <td><span class=\"IdWeight\">IdWeight(0x0000ae6c, 0.5068261f0)</span>.id => 0.51</td> <td>😡</td> <td>Como diría mi abuelo, me está dando el soponcio. _emo</td> </tr><tr><td>4</td> <td><span class=\"IdWeight\">IdWeight(0x00000a45, 0.5726747f0)</span>.id => 0.57</td> <td>😏</td> <td>_usr por que no quieres _emo</td> </tr><tr><td>5</td> <td><span class=\"IdWeight\">IdWeight(0x0000a07d, 0.6048379f0)</span>.id => 0.6</td> <td>🙊</td> <td>_usr Porque quieres _emo _emo</td> </tr><tr><td>6</td> <td><span class=\"IdWeight\">IdWeight(0x00008410, 0.6140172f0)</span>.id => 0.61</td> <td>😏</td> <td>Los quieres? _emo _url</td> </tr><tr><td>7</td> <td><span class=\"IdWeight\">IdWeight(0x000051db, 0.6187732f0)</span>.id => 0.62</td> <td>😢</td> <td>Me dices, que tú ya no me quieres _emo</td> </tr>\n",
       "</table>\n"
      ]
     },
     "metadata": {},
     "output_type": "display_data"
    },
    {
     "name": "stdout",
     "output_type": "stream",
     "text": [
      "  0.002746 seconds (48 allocations: 4.852 KiB)\n"
     ]
    },
    {
     "data": {
      "text/html": [
       "<h3>Resultados para la consulta \"_usr Te gusta lo difíciiiiiiiil _emo _emo _emo _emo _emo _emo\"</h3>\n",
       "<table>\n",
       "<tr><td>1</td> <td><span class=\"IdWeight\">IdWeight(0x00008cd4, 2.3260327f-8)</span>.id => 0.0</td> <td>😏</td> <td>_usr Te gusta lo difíciiiiiiiil _emo _emo _emo _emo _emo _emo</td> </tr><tr><td>2</td> <td><span class=\"IdWeight\">IdWeight(0x00007fad, 0.6201663f0)</span>.id => 0.62</td> <td>🙏</td> <td>_usr _usr me gusta _emo _emo _emo _emo _emo _emo</td> </tr><tr><td>3</td> <td><span class=\"IdWeight\">IdWeight(0x000090c7, 0.65856946f0)</span>.id => 0.66</td> <td>🤭</td> <td>_usr _emo si me gusta</td> </tr><tr><td>4</td> <td><span class=\"IdWeight\">IdWeight(0x0000a59d, 0.67546445f0)</span>.id => 0.68</td> <td>😅</td> <td>A ver si te gusta _emo _emo _url</td> </tr><tr><td>5</td> <td><span class=\"IdWeight\">IdWeight(0x000050d8, 0.6840733f0)</span>.id => 0.68</td> <td>😋</td> <td>_usr _usr _emo el que me gusta....</td> </tr><tr><td>6</td> <td><span class=\"IdWeight\">IdWeight(0x00000a77, 0.68818736f0)</span>.id => 0.69</td> <td>🤭</td> <td>_usr Así me gusta _emo</td> </tr><tr><td>7</td> <td><span class=\"IdWeight\">IdWeight(0x000042dc, 0.69254804f0)</span>.id => 0.69</td> <td>🤗</td> <td>Esta me gusta _emo _url</td> </tr>\n",
       "</table>\n"
      ],
      "text/plain": [
       "<h3>Resultados para la consulta \"_usr Te gusta lo difíciiiiiiiil _emo _emo _emo _emo _emo _emo\"</h3>\n",
       "<table>\n",
       "<tr><td>1</td> <td><span class=\"IdWeight\">IdWeight(0x00008cd4, 2.3260327f-8)</span>.id => 0.0</td> <td>😏</td> <td>_usr Te gusta lo difíciiiiiiiil _emo _emo _emo _emo _emo _emo</td> </tr><tr><td>2</td> <td><span class=\"IdWeight\">IdWeight(0x00007fad, 0.6201663f0)</span>.id => 0.62</td> <td>🙏</td> <td>_usr _usr me gusta _emo _emo _emo _emo _emo _emo</td> </tr><tr><td>3</td> <td><span class=\"IdWeight\">IdWeight(0x000090c7, 0.65856946f0)</span>.id => 0.66</td> <td>🤭</td> <td>_usr _emo si me gusta</td> </tr><tr><td>4</td> <td><span class=\"IdWeight\">IdWeight(0x0000a59d, 0.67546445f0)</span>.id => 0.68</td> <td>😅</td> <td>A ver si te gusta _emo _emo _url</td> </tr><tr><td>5</td> <td><span class=\"IdWeight\">IdWeight(0x000050d8, 0.6840733f0)</span>.id => 0.68</td> <td>😋</td> <td>_usr _usr _emo el que me gusta....</td> </tr><tr><td>6</td> <td><span class=\"IdWeight\">IdWeight(0x00000a77, 0.68818736f0)</span>.id => 0.69</td> <td>🤭</td> <td>_usr Así me gusta _emo</td> </tr><tr><td>7</td> <td><span class=\"IdWeight\">IdWeight(0x000042dc, 0.69254804f0)</span>.id => 0.69</td> <td>🤗</td> <td>Esta me gusta _emo _url</td> </tr>\n",
       "</table>\n"
      ]
     },
     "metadata": {},
     "output_type": "display_data"
    },
    {
     "name": "stdout",
     "output_type": "stream",
     "text": [
      "  0.002958 seconds (44 allocations: 4.617 KiB)\n"
     ]
    },
    {
     "data": {
      "text/html": [
       "<h3>Resultados para la consulta \"Que chulos están mis primos _emo _emo _emo _emo _url\"</h3>\n",
       "<table>\n",
       "<tr><td>1</td> <td><span class=\"IdWeight\">IdWeight(0x00003d31, -5.8978458f-9)</span>.id => -0.0</td> <td>😋</td> <td>Que chulos están mis primos _emo _emo _emo _emo _url</td> </tr><tr><td>2</td> <td><span class=\"IdWeight\">IdWeight(0x0000472b, 0.46542224f0)</span>.id => 0.47</td> <td>😜</td> <td>Primos... _emo _url</td> </tr><tr><td>3</td> <td><span class=\"IdWeight\">IdWeight(0x0000028f, 0.5938023f0)</span>.id => 0.59</td> <td>😳</td> <td>_usr _usr _emo ¿son primos? _emo</td> </tr><tr><td>4</td> <td><span class=\"IdWeight\">IdWeight(0x00008308, 0.6362801f0)</span>.id => 0.64</td> <td>😃</td> <td>¡Cena de primos! _emo</td> </tr><tr><td>5</td> <td><span class=\"IdWeight\">IdWeight(0x000028ed, 0.6378803f0)</span>.id => 0.64</td> <td>🤔</td> <td>Mis primos usan mas mi carro que yo _emo</td> </tr><tr><td>6</td> <td><span class=\"IdWeight\">IdWeight(0x0000a264, 0.6566216f0)</span>.id => 0.66</td> <td>🙊</td> <td>_usr En el estadio!! Así infecte a todo el mundo, yo no dejo de apoyar a mis chulos _emo _emo</td> </tr><tr><td>7</td> <td><span class=\"IdWeight\">IdWeight(0x00000762, 0.66471934f0)</span>.id => 0.66</td> <td>😻</td> <td>Ojitos chiquitos, bonitos, chulos de preciosos _emo</td> </tr>\n",
       "</table>\n"
      ],
      "text/plain": [
       "<h3>Resultados para la consulta \"Que chulos están mis primos _emo _emo _emo _emo _url\"</h3>\n",
       "<table>\n",
       "<tr><td>1</td> <td><span class=\"IdWeight\">IdWeight(0x00003d31, -5.8978458f-9)</span>.id => -0.0</td> <td>😋</td> <td>Que chulos están mis primos _emo _emo _emo _emo _url</td> </tr><tr><td>2</td> <td><span class=\"IdWeight\">IdWeight(0x0000472b, 0.46542224f0)</span>.id => 0.47</td> <td>😜</td> <td>Primos... _emo _url</td> </tr><tr><td>3</td> <td><span class=\"IdWeight\">IdWeight(0x0000028f, 0.5938023f0)</span>.id => 0.59</td> <td>😳</td> <td>_usr _usr _emo ¿son primos? _emo</td> </tr><tr><td>4</td> <td><span class=\"IdWeight\">IdWeight(0x00008308, 0.6362801f0)</span>.id => 0.64</td> <td>😃</td> <td>¡Cena de primos! _emo</td> </tr><tr><td>5</td> <td><span class=\"IdWeight\">IdWeight(0x000028ed, 0.6378803f0)</span>.id => 0.64</td> <td>🤔</td> <td>Mis primos usan mas mi carro que yo _emo</td> </tr><tr><td>6</td> <td><span class=\"IdWeight\">IdWeight(0x0000a264, 0.6566216f0)</span>.id => 0.66</td> <td>🙊</td> <td>_usr En el estadio!! Así infecte a todo el mundo, yo no dejo de apoyar a mis chulos _emo _emo</td> </tr><tr><td>7</td> <td><span class=\"IdWeight\">IdWeight(0x00000762, 0.66471934f0)</span>.id => 0.66</td> <td>😻</td> <td>Ojitos chiquitos, bonitos, chulos de preciosos _emo</td> </tr>\n",
       "</table>\n"
      ]
     },
     "metadata": {},
     "output_type": "display_data"
    }
   ],
   "source": [
    "for i in 1:10\n",
    "    qID = rand(1:length(D.corpus))\n",
    "    search_and_display(invfile, D.corpus[qID], 7, D, T)\n",
    "end"
   ]
  },
  {
   "cell_type": "markdown",
   "id": "5403b789-c8d3-4a86-957d-e7500efefe9d",
   "metadata": {},
   "source": [
    "# Actividades\n",
    "\n",
    "- Revisión de los servicios y empresas mencionados \n",
    "- Revisión de los proyectos open source mencionados\n",
    "- Cargue este notebook y modifique las consultas (necesita Jupyter y el kernel de Julia <https://github.com/JuliaLang/IJulia.jl>)\n",
    "- Revise la bibliografía sobre recuperación de información, en especial [^SMR2008] se encuentra libre desde <https://nlp.stanford.edu/IR-book/pdf/irbookonlinereading.pdf>"
   ]
  },
  {
   "cell_type": "markdown",
   "id": "f558a317-b84c-45b2-a185-36af24741ace",
   "metadata": {},
   "source": [
    "# Bibliografía\n",
    "- [SMR2008] Schütze, H., Manning, C. D., & Raghavan, P. (2008). Introduction to information retrieval (Vol. 39, pp. 234-65). Cambridge: Cambridge University Press.\n",
    "- [BYN1999] Baeza-Yates, R., & Ribeiro-Neto, B. (1999). Modern information retrieval (Vol. 463). New York: ACM press."
   ]
  }
 ],
 "metadata": {
  "kernelspec": {
   "display_name": "Julia 1.10.0-rc1",
   "language": "julia",
   "name": "julia-1.10"
  },
  "language_info": {
   "file_extension": ".jl",
   "mimetype": "application/julia",
   "name": "julia",
   "version": "1.10.0"
  }
 },
 "nbformat": 4,
 "nbformat_minor": 5
}
