{
 "cells": [
  {
   "cell_type": "markdown",
   "id": "b606b63e-967d-4d4d-85e4-e02a32020425",
   "metadata": {},
   "source": [
    "# Introducción a la recuperación de información\n",
    "Autor: Eric S. Tellez <eric.tellez@infotec.mx><br/>\n",
    "\n",
    "La Recuperación de Información (IR) es una disciplina multidisciplinaria que se crea a partir de la necesidad de simplificar el acceso y revisión de documentos en grandes colecciones. Estas colecciones pueden ser homogéneas o heterogéneas, tanto en su contenido como en su formato. En un inicio, se consideraban colecciones textuales pero las necesidades de información han cambiado, y ahora es común encontrar sistemas de recuperación de información sobre otros datos como imágenes o videos, o inclusive multimodales, esto es que puedan usar diferentes tipos de objetos. Un objeto puede ser un documento de texto, una imagen, o cualquier otro tipo de datos que se desee tener acceso. \n",
    "\n",
    "Mantener un sistema de información homogéneo puede simplificar su mantenimiento enormemente, por lo que si es posible, se puede intentar mantener cierta homegeneidad. Para sistemas de fuentes abiertas como puede ser la web, esto será posible.\n",
    "\n",
    "En general, se puede ver un sistema de recuperación de información en tres grandes partes:\n",
    "\n",
    "1. Recolección de datos, normalización y modelado matemático.\n",
    "2. Indexamiento, interpretación de consultas y optimización\n",
    "3. Agregación y filtrado de resultados, presentación de los mismos\n",
    "\n",
    "\n",
    "La normalización puede ir desde el simple preprocesamiento de los datos hasta manipulaciones y transformaciones dependientes del dominio y el lenguaje. Una vez aplicado el modelado adecuado a las colecciones, las representaciones matemáticas suelen ser vectores de alta dimensión para cada objeto.\n",
    "\n",
    "En cuanto al indexamiento se utilizarán dos tipos de algoritmos, búsqueda mediante índices invertidos y búsqueda por índices métricos. Ambas tienen sus nichos de aplicación y usarlas adecuadamente requiere conocer los problemas y sus modelados.\n",
    "\n",
    "La presentación de los resultados puede ser tan simple como una lista de resultados más relevantes y una pequeña muestra del objeto, o más complejo que requiera alguna técnica de visualización. Todo esto dependerá del dominio de aplicación y la naturaleza del sistema de recuperación de información.\n",
    "\n",
    "En este curso se visitarán parcialmente todas estas partes. En general se usaran conjuntos de datos previamente recolectados, aunque se invita a explorar otras colecciones.\n",
    "\n",
    "# Sistemas basados en recuperación de información\n",
    "Ejemplos de sistemas de recuperación de información\n",
    "\n",
    "- Google, scholar google, google images, google news, youtube...\n",
    "- Bing!\n",
    "- Yahoo search\n",
    "- Yandex\n",
    "- DuckDuckGo\n",
    "\n",
    "También es común que el sistema de recuperación de información no sea el principal producto pero un componente médular. Por ejemplo, el caso de los sistemas de streaming de videos, películas, música, redes sociales, market-places, etc.\n",
    "\n",
    "# Ejemplos de implementación de search engines open source\n",
    "- [Apache Lucene](https://lucene.apache.org/)\n",
    "- [Apache SOLR](https://solr.apache.org/)\n",
    "- [ElasticSearch](https://www.elastic.co/es/what-is/elasticsearch)\n",
    "- [hnswlib](https://github.com/nmslib/hnswlib)\n",
    "- [FAISS](https://github.com/facebookresearch/faiss)\n",
    "- [TextSearch.jl](https://github.com/sadit/TextSearch.jl)\n",
    "- [InvertedFiles.jl](https://github.com/sadit/InvertedFiles.jl)\n",
    "- [SimilaritySearch.jl](https://github.com/sadit/SimilaritySearch.jl)\n",
    "\n",
    "\n",
    "# Ejercicio\n",
    "\n",
    "Construcción de un índice de búsqueda para una colección de mensajes de Twitter. Los mensajes se pueden ver como documentos cortos. Se preprocesan y se modalen en vectores mediante un vocabulario. Después se construye el índice con dichos vectores y se hace posible la búsqueda eficiente. Note que existen etiquetas que se pueden usar para otras tareas; de manera más genérica, se pueden ver como metadatos asociados a los elementos del corpus.\n",
    "\n",
    "Nota: La primera vez que se corra este notebook los paquetes necesarios se instalaran de manera automática, es posible que tome un tiempo considerable.\n",
    "\n"
   ]
  },
  {
   "cell_type": "code",
   "execution_count": 1,
   "id": "bb11ca12-b635-45bb-ac02-14523674ded8",
   "metadata": {},
   "outputs": [
    {
     "name": "stderr",
     "output_type": "stream",
     "text": [
      "\u001b[32m\u001b[1m  Activating\u001b[22m\u001b[39m project at `~/Cursos/IR-2024/Unidades`\n"
     ]
    }
   ],
   "source": [
    "using Pkg\n",
    "Pkg.activate(\".\")\n",
    "\n",
    "using TextSearch, InvertedFiles, SimilaritySearch, LinearAlgebra, HypertextLiteral"
   ]
  },
  {
   "cell_type": "markdown",
   "id": "f3fd994e-6be8-45c8-a0fc-8f05dfcf2636",
   "metadata": {},
   "source": [
    "## Funciones para leer y modelar el corpus"
   ]
  },
  {
   "cell_type": "code",
   "execution_count": 2,
   "id": "d9482f05-8d88-4896-9b9e-646bc1da2abb",
   "metadata": {},
   "outputs": [
    {
     "data": {
      "text/plain": [
       "text_model_and_vectors (generic function with 1 method)"
      ]
     },
     "execution_count": 2,
     "metadata": {},
     "output_type": "execute_result"
    }
   ],
   "source": [
    "function text_model_and_vectors(corpus)\n",
    "    textconfig = TextConfig(group_usr=true, group_url=true, del_diac=true, lc=true, group_num=true, nlist=[1], qlist=[])\n",
    "    voc = Vocabulary(textconfig, corpus)\n",
    "    model = VectorModel(IdfWeighting(), TfWeighting(), voc)    \n",
    "    vectors = vectorize_corpus(model, corpus)\n",
    "\n",
    "    (; textconfig, model, vectors)\n",
    "end\n"
   ]
  },
  {
   "cell_type": "code",
   "execution_count": 3,
   "id": "1176ef00-1153-4cba-bb89-354d634c857e",
   "metadata": {},
   "outputs": [
    {
     "data": {
      "text/html": [
       "<h1>Cargando el corpus</h1>"
      ],
      "text/plain": [
       "<h1>Cargando el corpus</h1>"
      ]
     },
     "metadata": {},
     "output_type": "display_data"
    },
    {
     "name": "stdout",
     "output_type": "stream",
     "text": [
      "(unique(D.labels), T.model) = ([\"♡\", \"😒\", \"💖\", \"😴\", \"😍\", \"😓\", \"😬\", \"💙\", \"😃\", \"😡\", \"🤓\", \"🙂\", \"❤\", \"😠\", \"😳\", \"😭\", \"👌\", \"🌚\", \"😅\", \"😐\", \"😋\", \"😕\", \"😉\", \"😢\", \"😱\", \"💕\", \"🤣\", \"😪\", \"😎\", \"😏\", \"😻\", \"🤭\", \"💜\", \"🙈\", \"🙏\", \"😥\", \"😀\", \"😤\", \"😩\", \"😘\", \"😊\", \"🙄\", \"🤗\", \"😜\", \"😑\", \"✨\", \"😰\", \"😂\", \"🎶\", \"🙃\", \"🙊\", \"🤤\", \"👏\", \"😁\", \"😞\", \"😣\", \"😌\", \"🤔\", \"♥\", \"💔\", \"👀\", \"😔\", \"😈\", \"😫\"], {VectorModel\n",
      "    global_weighting: IdfWeighting()\n",
      "    local_weighting: TfWeighting()\n",
      "    vocsize: 41704\n",
      "    trainsize=45000\n",
      "    maxoccs=84742                                    \n",
      "})\n"
     ]
    },
    {
     "data": {
      "text/plain": [
       "([\"♡\", \"😒\", \"💖\", \"😴\", \"😍\", \"😓\", \"😬\", \"💙\", \"😃\", \"😡\"  …  \"😞\", \"😣\", \"😌\", \"🤔\", \"♥\", \"💔\", \"👀\", \"😔\", \"😈\", \"😫\"], {VectorModel\n",
       "    global_weighting: IdfWeighting()\n",
       "    local_weighting: TfWeighting()\n",
       "    vocsize: 41704\n",
       "    trainsize=45000\n",
       "    maxoccs=84742                                    \n",
       "})"
      ]
     },
     "execution_count": 3,
     "metadata": {},
     "output_type": "execute_result"
    }
   ],
   "source": [
    "display(@htl \"<h1>Cargando el corpus</h1>\")\n",
    "\n",
    "include(\"read_datasets.jl\")\n",
    "D, _ = read_emojispace()\n",
    "T = text_model_and_vectors(D.text)\n",
    "\n",
    "@show unique(D.labels), T.model"
   ]
  },
  {
   "cell_type": "markdown",
   "id": "e6ab564f-f90b-4b18-a090-ed3ecb4ec717",
   "metadata": {},
   "source": [
    "### Note que las etiquetas son emojis, que hay 45k ejemplos y un vocabulario de más de 42k tokens. A continuación se construirá el índice invertido usando el paquete <https://github.com/sadit/TextSearch.jl>, claramente, el código solo funcionará con dicha implementación, pero el procedimiento general aplicaría a otras implementaciones."
   ]
  },
  {
   "cell_type": "code",
   "execution_count": 4,
   "id": "cd7ccd91-c1c2-4a04-b792-d38a8c65342a",
   "metadata": {},
   "outputs": [
    {
     "data": {
      "text/plain": [
       "{WeightedInvertedFile{Nothing, SimilaritySearch.AdjacencyLists.AdjacencyList{IdWeight}} vocsize=41704, n=45000}"
      ]
     },
     "execution_count": 4,
     "metadata": {},
     "output_type": "execute_result"
    }
   ],
   "source": [
    "invfile = WeightedInvertedFile(length(T.model.voc))\n",
    "append_items!(invfile, VectorDatabase(T.vectors))"
   ]
  },
  {
   "cell_type": "code",
   "execution_count": 5,
   "id": "a8b61d9e-1868-438c-8b74-4a4e818d6afc",
   "metadata": {},
   "outputs": [],
   "source": [
    "E = (; invfile, data=D, T...); # a convenient definition to put everything into a single tuple"
   ]
  },
  {
   "cell_type": "code",
   "execution_count": 6,
   "id": "c0f207f2-ed09-4fec-9da6-2ad625c21801",
   "metadata": {},
   "outputs": [
    {
     "data": {
      "text/plain": [
       "search_and_display (generic function with 1 method)"
      ]
     },
     "execution_count": 6,
     "metadata": {},
     "output_type": "execute_result"
    }
   ],
   "source": [
    "function search_and_display(E, q, k)\n",
    "    res = KnnResult(k)\n",
    "    @time search(E.invfile, vectorize(E.model, q), res)\n",
    "    L = []\n",
    "    for (i, p) in enumerate(res)\n",
    "        id, dist = p.id, round(p.weight, digits=2)\n",
    "        push!(L, @htl \"\"\"<tr><td>$i</td> <td>$id => $dist</td> <td>$(E.data.labels[id])</td> <td>$(E.data.text[id])</td> </tr>\"\"\")\n",
    "    end\n",
    "\n",
    "    display(@htl \"\"\"\n",
    "    <h3>Resultados para la consulta \"$q\"</h3>\n",
    "    <table>\n",
    "    $L\n",
    "    </table>\n",
    "    \"\"\")\n",
    "end"
   ]
  },
  {
   "cell_type": "code",
   "execution_count": 7,
   "id": "046760fa-03d2-4bc9-a6cd-418c4f655b43",
   "metadata": {},
   "outputs": [
    {
     "name": "stdout",
     "output_type": "stream",
     "text": [
      "  0.025027 seconds (1.21 k allocations: 56.797 KiB, 98.88% compilation time)\n"
     ]
    },
    {
     "data": {
      "text/html": [
       "<h3>Resultados para la consulta \"no importa distancia\"</h3>\n",
       "<table>\n",
       "<tr><td>1</td> <td>35343 => 0.03</td> <td>💕</td> <td>No importa la distancia _emo _usr _url</td> </tr><tr><td>2</td> <td>24815 => 0.38</td> <td>😓</td> <td>Me caga la distancia _emo</td> </tr><tr><td>3</td> <td>37163 => 0.52</td> <td>😃</td> <td>No importa cuando...  _emo _emo _url</td> </tr><tr><td>4</td> <td>1288 => 0.57</td> <td>😥</td> <td>tiempo y distancia, quizás sea eso... _emo</td> </tr><tr><td>5</td> <td>36425 => 0.57</td> <td>😑</td> <td>_usr A ti no te importa _emo</td> </tr>\n",
       "</table>\n"
      ],
      "text/plain": [
       "<h3>Resultados para la consulta \"no importa distancia\"</h3>\n",
       "<table>\n",
       "<tr><td>1</td> <td>35343 => 0.03</td> <td>💕</td> <td>No importa la distancia _emo _usr _url</td> </tr><tr><td>2</td> <td>24815 => 0.38</td> <td>😓</td> <td>Me caga la distancia _emo</td> </tr><tr><td>3</td> <td>37163 => 0.52</td> <td>😃</td> <td>No importa cuando...  _emo _emo _url</td> </tr><tr><td>4</td> <td>1288 => 0.57</td> <td>😥</td> <td>tiempo y distancia, quizás sea eso... _emo</td> </tr><tr><td>5</td> <td>36425 => 0.57</td> <td>😑</td> <td>_usr A ti no te importa _emo</td> </tr>\n",
       "</table>\n"
      ]
     },
     "metadata": {},
     "output_type": "display_data"
    },
    {
     "name": "stdout",
     "output_type": "stream",
     "text": [
      "  0.000224 seconds (25 allocations: 3.602 KiB)\n"
     ]
    },
    {
     "data": {
      "text/html": [
       "<h3>Resultados para la consulta \"cuando nos vemos?\"</h3>\n",
       "<table>\n",
       "<tr><td>1</td> <td>30054 => 0.23</td> <td>😂</td> <td>Nos vemos!! _emo _emo _emo _emo _url</td> </tr><tr><td>2</td> <td>21749 => 0.31</td> <td>😜</td> <td>_usr En la tarde nos vemos _emo _emo _emo</td> </tr><tr><td>3</td> <td>9076 => 0.34</td> <td>😻</td> <td>Nos vemos pronto _usr _usr _emo _emo _url</td> </tr><tr><td>4</td> <td>24169 => 0.43</td> <td>😍</td> <td>_usr Pronto nos vemos hermana _emo _emo</td> </tr><tr><td>5</td> <td>37158 => 0.45</td> <td>😕</td> <td>Apenas van _num días que no nos vemos _emo</td> </tr>\n",
       "</table>\n"
      ],
      "text/plain": [
       "<h3>Resultados para la consulta \"cuando nos vemos?\"</h3>\n",
       "<table>\n",
       "<tr><td>1</td> <td>30054 => 0.23</td> <td>😂</td> <td>Nos vemos!! _emo _emo _emo _emo _url</td> </tr><tr><td>2</td> <td>21749 => 0.31</td> <td>😜</td> <td>_usr En la tarde nos vemos _emo _emo _emo</td> </tr><tr><td>3</td> <td>9076 => 0.34</td> <td>😻</td> <td>Nos vemos pronto _usr _usr _emo _emo _url</td> </tr><tr><td>4</td> <td>24169 => 0.43</td> <td>😍</td> <td>_usr Pronto nos vemos hermana _emo _emo</td> </tr><tr><td>5</td> <td>37158 => 0.45</td> <td>😕</td> <td>Apenas van _num días que no nos vemos _emo</td> </tr>\n",
       "</table>\n"
      ]
     },
     "metadata": {},
     "output_type": "display_data"
    },
    {
     "name": "stdout",
     "output_type": "stream",
     "text": [
      "  0.000127 seconds (23 allocations: 3.547 KiB)\n"
     ]
    },
    {
     "data": {
      "text/html": [
       "<h3>Resultados para la consulta \"feliz cumpleaños?\"</h3>\n",
       "<table>\n",
       "<tr><td>1</td> <td>26556 => 0.11</td> <td>❤</td> <td>_usr Feliz Cumpleaños _emo</td> </tr><tr><td>2</td> <td>40229 => 0.11</td> <td>😁</td> <td>Feliz Cumpleaños _emo _emo _usr</td> </tr><tr><td>3</td> <td>8772 => 0.11</td> <td>🙊</td> <td>Feliz Cumpleaños _usr _emo _emo _emo _emo _emo</td> </tr>\n",
       "</table>\n"
      ],
      "text/plain": [
       "<h3>Resultados para la consulta \"feliz cumpleaños?\"</h3>\n",
       "<table>\n",
       "<tr><td>1</td> <td>26556 => 0.11</td> <td>❤</td> <td>_usr Feliz Cumpleaños _emo</td> </tr><tr><td>2</td> <td>40229 => 0.11</td> <td>😁</td> <td>Feliz Cumpleaños _emo _emo _usr</td> </tr><tr><td>3</td> <td>8772 => 0.11</td> <td>🙊</td> <td>Feliz Cumpleaños _usr _emo _emo _emo _emo _emo</td> </tr>\n",
       "</table>\n"
      ]
     },
     "metadata": {},
     "output_type": "display_data"
    },
    {
     "name": "stdout",
     "output_type": "stream",
     "text": [
      "  0.000018 seconds (22 allocations: 3.406 KiB)\n"
     ]
    },
    {
     "data": {
      "text/html": [
       "<h3>Resultados para la consulta \"ola k ase\"</h3>\n",
       "<table>\n",
       "<tr><td>1</td> <td>43663 => 0.64</td> <td>😎</td> <td>_usr _usr Siempre, todo y todos los días de la semana desde ase muchoooooossss años _emo _emo</td> </tr><tr><td>2</td> <td>23585 => 0.71</td> <td>😤</td> <td>_usr k bueno k tu mizmo lo reconozcAszzzz _emo</td> </tr><tr><td>3</td> <td>38425 => 0.71</td> <td>😃</td> <td>Despertares!! (By OLA) # _emo _emo en Distrito Federal, Mexico _url</td> </tr>\n",
       "</table>\n"
      ],
      "text/plain": [
       "<h3>Resultados para la consulta \"ola k ase\"</h3>\n",
       "<table>\n",
       "<tr><td>1</td> <td>43663 => 0.64</td> <td>😎</td> <td>_usr _usr Siempre, todo y todos los días de la semana desde ase muchoooooossss años _emo _emo</td> </tr><tr><td>2</td> <td>23585 => 0.71</td> <td>😤</td> <td>_usr k bueno k tu mizmo lo reconozcAszzzz _emo</td> </tr><tr><td>3</td> <td>38425 => 0.71</td> <td>😃</td> <td>Despertares!! (By OLA) # _emo _emo en Distrito Federal, Mexico _url</td> </tr>\n",
       "</table>\n"
      ]
     },
     "metadata": {},
     "output_type": "display_data"
    },
    {
     "name": "stdout",
     "output_type": "stream",
     "text": [
      "  0.000165 seconds (23 allocations: 3.523 KiB)\n"
     ]
    },
    {
     "data": {
      "text/html": [
       "<h3>Resultados para la consulta \"mi humilde opinión\"</h3>\n",
       "<table>\n",
       "<tr><td>1</td> <td>2148 => 0.33</td> <td>🙏</td> <td>Bueno, cada quien su vida, ya se, solo es una humilde opinión !! _emo _emo _emo</td> </tr><tr><td>2</td> <td>35818 => 0.51</td> <td>😍</td> <td>_usr es la persona más humilde que conozco _emo</td> </tr><tr><td>3</td> <td>32858 => 0.62</td> <td>🤔</td> <td>_usr Bajo tu opinión fue o no falta? _emo</td> </tr><tr><td>4</td> <td>28393 => 0.62</td> <td>😊</td> <td>Gracias por compartir la información y tu opinión _emo _url</td> </tr><tr><td>5</td> <td>31667 => 0.65</td> <td>😉</td> <td>Cuantos Likes para mi humilde oficina _usr  _emo _emo @ CocoBongo _url</td> </tr><tr><td>6</td> <td>5532 => 0.66</td> <td>🤗</td> <td>Para ser feliz, no escuches la opinión de los demás _emo</td> </tr><tr><td>7</td> <td>12713 => 0.67</td> <td>👏</td> <td>_usr Totalmente de acuerdo contigo en todo. Comparto tu opinión _emo _emo _emo _emo</td> </tr><tr><td>8</td> <td>990 => 0.72</td> <td>😌</td> <td>Tu opinión no me interesa más. No tengo nada que demostrarte, y si piensas lo peor de mi, MEJOR! _emo</td> </tr><tr><td>9</td> <td>39601 => 0.73</td> <td>😑</td> <td>Lo siento pero mi tez humilde no me deja ser guapo y estar bueno, eso sin mencionar la rodilla que me chingue! _emo _emo</td> </tr><tr><td>10</td> <td>11589 => 0.75</td> <td>😃</td> <td>Interesante opinión y espero que sigas escribiendo _usr en mejores espacios  !suerte!! _emo _emo _emo _url</td> </tr>\n",
       "</table>\n"
      ],
      "text/plain": [
       "<h3>Resultados para la consulta \"mi humilde opinión\"</h3>\n",
       "<table>\n",
       "<tr><td>1</td> <td>2148 => 0.33</td> <td>🙏</td> <td>Bueno, cada quien su vida, ya se, solo es una humilde opinión !! _emo _emo _emo</td> </tr><tr><td>2</td> <td>35818 => 0.51</td> <td>😍</td> <td>_usr es la persona más humilde que conozco _emo</td> </tr><tr><td>3</td> <td>32858 => 0.62</td> <td>🤔</td> <td>_usr Bajo tu opinión fue o no falta? _emo</td> </tr><tr><td>4</td> <td>28393 => 0.62</td> <td>😊</td> <td>Gracias por compartir la información y tu opinión _emo _url</td> </tr><tr><td>5</td> <td>31667 => 0.65</td> <td>😉</td> <td>Cuantos Likes para mi humilde oficina _usr  _emo _emo @ CocoBongo _url</td> </tr><tr><td>6</td> <td>5532 => 0.66</td> <td>🤗</td> <td>Para ser feliz, no escuches la opinión de los demás _emo</td> </tr><tr><td>7</td> <td>12713 => 0.67</td> <td>👏</td> <td>_usr Totalmente de acuerdo contigo en todo. Comparto tu opinión _emo _emo _emo _emo</td> </tr><tr><td>8</td> <td>990 => 0.72</td> <td>😌</td> <td>Tu opinión no me interesa más. No tengo nada que demostrarte, y si piensas lo peor de mi, MEJOR! _emo</td> </tr><tr><td>9</td> <td>39601 => 0.73</td> <td>😑</td> <td>Lo siento pero mi tez humilde no me deja ser guapo y estar bueno, eso sin mencionar la rodilla que me chingue! _emo _emo</td> </tr><tr><td>10</td> <td>11589 => 0.75</td> <td>😃</td> <td>Interesante opinión y espero que sigas escribiendo _usr en mejores espacios  !suerte!! _emo _emo _emo _url</td> </tr>\n",
       "</table>\n"
      ]
     },
     "metadata": {},
     "output_type": "display_data"
    }
   ],
   "source": [
    "search_and_display(E, \"no importa distancia\", 5)\n",
    "search_and_display(E, \"cuando nos vemos?\", 5)\n",
    "search_and_display(E, \"feliz cumpleaños?\", 3)\n",
    "search_and_display(E, \"ola k ase\", 3)\n",
    "search_and_display(E, \"mi humilde opinión\", 10)"
   ]
  },
  {
   "cell_type": "markdown",
   "id": "33ad823b-70c0-447d-bfe0-8a920525ca12",
   "metadata": {},
   "source": [
    "### También es posible consultar elementos del mismo corpus, lo cual permité inspeccionar la estructura interna de la colección. Esto será de utilidad más adelante en el curso."
   ]
  },
  {
   "cell_type": "code",
   "execution_count": 8,
   "id": "bde30ad5-8c2d-4622-b0c2-994802b64e9d",
   "metadata": {},
   "outputs": [
    {
     "name": "stdout",
     "output_type": "stream",
     "text": [
      "  0.009913 seconds (108 allocations: 8.180 KiB)\n"
     ]
    },
    {
     "data": {
      "text/html": [
       "<h3>Resultados para la consulta \"_usr Eso es discriminación.  Chale. No nos hacen caso ni las que hacen llamadas de guerra sucia. No sé si debe darme gusto o coraje. _emo ¡Saludos!\"</h3>\n",
       "<table>\n",
       "<tr><td>1</td> <td>8287 => 0.0</td> <td>🤣</td> <td>_usr Eso es discriminación.  Chale. No nos hacen caso ni las que hacen llamadas de guerra sucia. No sé si debe darme gusto o coraje. _emo ¡Saludos!</td> </tr><tr><td>2</td> <td>2898 => 0.65</td> <td>🙄</td> <td>_usr ¡Hacen bien! _emo</td> </tr><tr><td>3</td> <td>32319 => 0.67</td> <td>😊</td> <td>Esas llamadas que te hacen el día... _emo</td> </tr><tr><td>4</td> <td>3445 => 0.75</td> <td>😠</td> <td>Porque me hacen esto _emo</td> </tr><tr><td>5</td> <td>24846 => 0.75</td> <td>😜</td> <td>Las cosas que me hacen decir _emo</td> </tr><tr><td>6</td> <td>2490 => 0.75</td> <td>💔</td> <td>Porque me hacen esto _emo _url</td> </tr><tr><td>7</td> <td>37319 => 0.76</td> <td>😃</td> <td>_usr ¡Saludos! _emo _emo _emo</td> </tr>\n",
       "</table>\n"
      ],
      "text/plain": [
       "<h3>Resultados para la consulta \"_usr Eso es discriminación.  Chale. No nos hacen caso ni las que hacen llamadas de guerra sucia. No sé si debe darme gusto o coraje. _emo ¡Saludos!\"</h3>\n",
       "<table>\n",
       "<tr><td>1</td> <td>8287 => 0.0</td> <td>🤣</td> <td>_usr Eso es discriminación.  Chale. No nos hacen caso ni las que hacen llamadas de guerra sucia. No sé si debe darme gusto o coraje. _emo ¡Saludos!</td> </tr><tr><td>2</td> <td>2898 => 0.65</td> <td>🙄</td> <td>_usr ¡Hacen bien! _emo</td> </tr><tr><td>3</td> <td>32319 => 0.67</td> <td>😊</td> <td>Esas llamadas que te hacen el día... _emo</td> </tr><tr><td>4</td> <td>3445 => 0.75</td> <td>😠</td> <td>Porque me hacen esto _emo</td> </tr><tr><td>5</td> <td>24846 => 0.75</td> <td>😜</td> <td>Las cosas que me hacen decir _emo</td> </tr><tr><td>6</td> <td>2490 => 0.75</td> <td>💔</td> <td>Porque me hacen esto _emo _url</td> </tr><tr><td>7</td> <td>37319 => 0.76</td> <td>😃</td> <td>_usr ¡Saludos! _emo _emo _emo</td> </tr>\n",
       "</table>\n"
      ]
     },
     "metadata": {},
     "output_type": "display_data"
    },
    {
     "name": "stdout",
     "output_type": "stream",
     "text": [
      "  0.009664 seconds (108 allocations: 8.125 KiB)\n"
     ]
    },
    {
     "data": {
      "text/html": [
       "<h3>Resultados para la consulta \"Oye que pasaría si algun día te avientan una playera de mujer que te haya gusta tanto pero no es de tuya? Te la podrias aun asi? _emo _emo _usr\"</h3>\n",
       "<table>\n",
       "<tr><td>1</td> <td>38657 => 0.0</td> <td>🤣</td> <td>Oye que pasaría si algun día te avientan una playera de mujer que te haya gusta tanto pero no es de tuya? Te la podrias aun asi? _emo _emo _usr</td> </tr><tr><td>2</td> <td>41510 => 0.72</td> <td>😠</td> <td>Qué te pasaría si me dices &apos;hola&apos;? Qué te cuesta? _emo</td> </tr><tr><td>3</td> <td>9953 => 0.72</td> <td>😂</td> <td>_usr Oye te amo _emo</td> </tr><tr><td>4</td> <td>38069 => 0.74</td> <td>😜</td> <td>_usr oye te extraño _emo</td> </tr><tr><td>5</td> <td>28194 => 0.75</td> <td>😜</td> <td>Algun día _emo _url</td> </tr><tr><td>6</td> <td>44068 => 0.75</td> <td>💔</td> <td>_usr oye! Te extraño _emo _emo _emo</td> </tr><tr><td>7</td> <td>42397 => 0.75</td> <td>😅</td> <td>A ver si te gusta _emo _emo _url</td> </tr>\n",
       "</table>\n"
      ],
      "text/plain": [
       "<h3>Resultados para la consulta \"Oye que pasaría si algun día te avientan una playera de mujer que te haya gusta tanto pero no es de tuya? Te la podrias aun asi? _emo _emo _usr\"</h3>\n",
       "<table>\n",
       "<tr><td>1</td> <td>38657 => 0.0</td> <td>🤣</td> <td>Oye que pasaría si algun día te avientan una playera de mujer que te haya gusta tanto pero no es de tuya? Te la podrias aun asi? _emo _emo _usr</td> </tr><tr><td>2</td> <td>41510 => 0.72</td> <td>😠</td> <td>Qué te pasaría si me dices &apos;hola&apos;? Qué te cuesta? _emo</td> </tr><tr><td>3</td> <td>9953 => 0.72</td> <td>😂</td> <td>_usr Oye te amo _emo</td> </tr><tr><td>4</td> <td>38069 => 0.74</td> <td>😜</td> <td>_usr oye te extraño _emo</td> </tr><tr><td>5</td> <td>28194 => 0.75</td> <td>😜</td> <td>Algun día _emo _url</td> </tr><tr><td>6</td> <td>44068 => 0.75</td> <td>💔</td> <td>_usr oye! Te extraño _emo _emo _emo</td> </tr><tr><td>7</td> <td>42397 => 0.75</td> <td>😅</td> <td>A ver si te gusta _emo _emo _url</td> </tr>\n",
       "</table>\n"
      ]
     },
     "metadata": {},
     "output_type": "display_data"
    },
    {
     "name": "stdout",
     "output_type": "stream",
     "text": [
      "  0.002982 seconds (42 allocations: 4.516 KiB)\n"
     ]
    },
    {
     "data": {
      "text/html": [
       "<h3>Resultados para la consulta \"No mamen _usr, íbamos muy bien, cabrones _emo\"</h3>\n",
       "<table>\n",
       "<tr><td>1</td> <td>26293 => -0.0</td> <td>😡</td> <td>No mamen _usr, íbamos muy bien, cabrones _emo</td> </tr><tr><td>2</td> <td>12608 => 0.52</td> <td>😂</td> <td>Tan bien que íbamos bebé _emo</td> </tr><tr><td>3</td> <td>6035 => 0.6</td> <td>👀</td> <td>Si pero no mamen _emo. _url</td> </tr><tr><td>4</td> <td>25908 => 0.63</td> <td>😡</td> <td>_usr _usr Cabrones los chinos _emo _emo _emo</td> </tr><tr><td>5</td> <td>25423 => 0.64</td> <td>👌</td> <td>_usr Muy bien _usr _emo _emo</td> </tr><tr><td>6</td> <td>25156 => 0.66</td> <td>💙</td> <td>No mamen los amo _usr _emo _emo _emo _emo _emo _emo _emo!!!!!</td> </tr><tr><td>7</td> <td>16552 => 0.66</td> <td>😐</td> <td>Y los besos que nos íbamos a dar ? _emo</td> </tr>\n",
       "</table>\n"
      ],
      "text/plain": [
       "<h3>Resultados para la consulta \"No mamen _usr, íbamos muy bien, cabrones _emo\"</h3>\n",
       "<table>\n",
       "<tr><td>1</td> <td>26293 => -0.0</td> <td>😡</td> <td>No mamen _usr, íbamos muy bien, cabrones _emo</td> </tr><tr><td>2</td> <td>12608 => 0.52</td> <td>😂</td> <td>Tan bien que íbamos bebé _emo</td> </tr><tr><td>3</td> <td>6035 => 0.6</td> <td>👀</td> <td>Si pero no mamen _emo. _url</td> </tr><tr><td>4</td> <td>25908 => 0.63</td> <td>😡</td> <td>_usr _usr Cabrones los chinos _emo _emo _emo</td> </tr><tr><td>5</td> <td>25423 => 0.64</td> <td>👌</td> <td>_usr Muy bien _usr _emo _emo</td> </tr><tr><td>6</td> <td>25156 => 0.66</td> <td>💙</td> <td>No mamen los amo _usr _emo _emo _emo _emo _emo _emo _emo!!!!!</td> </tr><tr><td>7</td> <td>16552 => 0.66</td> <td>😐</td> <td>Y los besos que nos íbamos a dar ? _emo</td> </tr>\n",
       "</table>\n"
      ]
     },
     "metadata": {},
     "output_type": "display_data"
    },
    {
     "name": "stdout",
     "output_type": "stream",
     "text": [
      "  0.005467 seconds (67 allocations: 5.906 KiB)\n"
     ]
    },
    {
     "data": {
      "text/html": [
       "<h3>Resultados para la consulta \"Me iba a photoshopear la panza y las nalgas pero ni modo diosito me hizo así _emo _url\"</h3>\n",
       "<table>\n",
       "<tr><td>1</td> <td>8336 => -0.0</td> <td>😅</td> <td>Me iba a photoshopear la panza y las nalgas pero ni modo diosito me hizo así _emo _url</td> </tr><tr><td>2</td> <td>20545 => 0.66</td> <td>😥</td> <td>Ya no siento las nalgas _emo</td> </tr><tr><td>3</td> <td>34892 => 0.7</td> <td>🙂</td> <td>Así tengo la cara, ni modo que me la cambie _emo</td> </tr><tr><td>4</td> <td>4525 => 0.75</td> <td>🤣</td> <td>_usr Me hizo el día _emo _emo</td> </tr><tr><td>5</td> <td>28055 => 0.76</td> <td>🙊</td> <td>_usr _usr Ay Diosito _emo _emo _emo _emo _emo _emo _emo _emo _emo _emo _emo</td> </tr><tr><td>6</td> <td>41205 => 0.76</td> <td>😭</td> <td>Ya no quiero que me duela la panza _emo</td> </tr><tr><td>7</td> <td>8097 => 0.77</td> <td>😱</td> <td>_usr Que hizo? _emo</td> </tr>\n",
       "</table>\n"
      ],
      "text/plain": [
       "<h3>Resultados para la consulta \"Me iba a photoshopear la panza y las nalgas pero ni modo diosito me hizo así _emo _url\"</h3>\n",
       "<table>\n",
       "<tr><td>1</td> <td>8336 => -0.0</td> <td>😅</td> <td>Me iba a photoshopear la panza y las nalgas pero ni modo diosito me hizo así _emo _url</td> </tr><tr><td>2</td> <td>20545 => 0.66</td> <td>😥</td> <td>Ya no siento las nalgas _emo</td> </tr><tr><td>3</td> <td>34892 => 0.7</td> <td>🙂</td> <td>Así tengo la cara, ni modo que me la cambie _emo</td> </tr><tr><td>4</td> <td>4525 => 0.75</td> <td>🤣</td> <td>_usr Me hizo el día _emo _emo</td> </tr><tr><td>5</td> <td>28055 => 0.76</td> <td>🙊</td> <td>_usr _usr Ay Diosito _emo _emo _emo _emo _emo _emo _emo _emo _emo _emo _emo</td> </tr><tr><td>6</td> <td>41205 => 0.76</td> <td>😭</td> <td>Ya no quiero que me duela la panza _emo</td> </tr><tr><td>7</td> <td>8097 => 0.77</td> <td>😱</td> <td>_usr Que hizo? _emo</td> </tr>\n",
       "</table>\n"
      ]
     },
     "metadata": {},
     "output_type": "display_data"
    },
    {
     "name": "stdout",
     "output_type": "stream",
     "text": [
      "  0.004313 seconds (58 allocations: 5.445 KiB)\n"
     ]
    },
    {
     "data": {
      "text/html": [
       "<h3>Resultados para la consulta \"Después de cinco años de carrera, ahora nos toca celebrar _emo _emo… _url\"</h3>\n",
       "<table>\n",
       "<tr><td>1</td> <td>34825 => -0.0</td> <td>♥</td> <td>Después de cinco años de carrera, ahora nos toca celebrar _emo _emo… _url</td> </tr><tr><td>2</td> <td>39743 => 0.66</td> <td>😃</td> <td>A celebrar hasta luego _emo</td> </tr><tr><td>3</td> <td>29726 => 0.67</td> <td>😪</td> <td>_usr Hace cinco años era más joven. _emo</td> </tr><tr><td>4</td> <td>22255 => 0.7</td> <td>😌</td> <td>Mas de cinco años que lo re barbaroooo _emo _url</td> </tr><tr><td>5</td> <td>23083 => 0.71</td> <td>💜</td> <td>Cinco perfectos años _emo #MejorAmiga</td> </tr><tr><td>6</td> <td>12089 => 0.72</td> <td>🤔</td> <td>Tengo cinco días tomando _emo</td> </tr><tr><td>7</td> <td>34742 => 0.72</td> <td>😍</td> <td>Después de _num años, volví _emo _emo _url</td> </tr>\n",
       "</table>\n"
      ],
      "text/plain": [
       "<h3>Resultados para la consulta \"Después de cinco años de carrera, ahora nos toca celebrar _emo _emo… _url\"</h3>\n",
       "<table>\n",
       "<tr><td>1</td> <td>34825 => -0.0</td> <td>♥</td> <td>Después de cinco años de carrera, ahora nos toca celebrar _emo _emo… _url</td> </tr><tr><td>2</td> <td>39743 => 0.66</td> <td>😃</td> <td>A celebrar hasta luego _emo</td> </tr><tr><td>3</td> <td>29726 => 0.67</td> <td>😪</td> <td>_usr Hace cinco años era más joven. _emo</td> </tr><tr><td>4</td> <td>22255 => 0.7</td> <td>😌</td> <td>Mas de cinco años que lo re barbaroooo _emo _url</td> </tr><tr><td>5</td> <td>23083 => 0.71</td> <td>💜</td> <td>Cinco perfectos años _emo #MejorAmiga</td> </tr><tr><td>6</td> <td>12089 => 0.72</td> <td>🤔</td> <td>Tengo cinco días tomando _emo</td> </tr><tr><td>7</td> <td>34742 => 0.72</td> <td>😍</td> <td>Después de _num años, volví _emo _emo _url</td> </tr>\n",
       "</table>\n"
      ]
     },
     "metadata": {},
     "output_type": "display_data"
    },
    {
     "name": "stdout",
     "output_type": "stream",
     "text": [
      "  0.001667 seconds (32 allocations: 4.016 KiB)\n"
     ]
    },
    {
     "data": {
      "text/html": [
       "<h3>Resultados para la consulta \"Seré más perra este año _emo\"</h3>\n",
       "<table>\n",
       "<tr><td>1</td> <td>27841 => 0.0</td> <td>😒</td> <td>Seré más perra este año _emo</td> </tr><tr><td>2</td> <td>15433 => 0.42</td> <td>😘</td> <td>Que Perra _emo _emo</td> </tr><tr><td>3</td> <td>13225 => 0.43</td> <td>😂</td> <td>Qué perra, qué perra, qué perra la vida. _emo</td> </tr><tr><td>4</td> <td>41347 => 0.49</td> <td>😪</td> <td>Perra vida _emo _url</td> </tr><tr><td>5</td> <td>24348 => 0.56</td> <td>😠</td> <td>_usr es que es una perra! _emo _emo</td> </tr><tr><td>6</td> <td>33116 => 0.58</td> <td>😂</td> <td>Seré el más orgulloso! _emo</td> </tr><tr><td>7</td> <td>11581 => 0.59</td> <td>😐</td> <td>Yo toda la perra vida _emo _url</td> </tr>\n",
       "</table>\n"
      ],
      "text/plain": [
       "<h3>Resultados para la consulta \"Seré más perra este año _emo\"</h3>\n",
       "<table>\n",
       "<tr><td>1</td> <td>27841 => 0.0</td> <td>😒</td> <td>Seré más perra este año _emo</td> </tr><tr><td>2</td> <td>15433 => 0.42</td> <td>😘</td> <td>Que Perra _emo _emo</td> </tr><tr><td>3</td> <td>13225 => 0.43</td> <td>😂</td> <td>Qué perra, qué perra, qué perra la vida. _emo</td> </tr><tr><td>4</td> <td>41347 => 0.49</td> <td>😪</td> <td>Perra vida _emo _url</td> </tr><tr><td>5</td> <td>24348 => 0.56</td> <td>😠</td> <td>_usr es que es una perra! _emo _emo</td> </tr><tr><td>6</td> <td>33116 => 0.58</td> <td>😂</td> <td>Seré el más orgulloso! _emo</td> </tr><tr><td>7</td> <td>11581 => 0.59</td> <td>😐</td> <td>Yo toda la perra vida _emo _url</td> </tr>\n",
       "</table>\n"
      ]
     },
     "metadata": {},
     "output_type": "display_data"
    },
    {
     "name": "stdout",
     "output_type": "stream",
     "text": [
      "  0.002035 seconds (36 allocations: 4.398 KiB)\n"
     ]
    },
    {
     "data": {
      "text/html": [
       "<h3>Resultados para la consulta \"_usr _usr moriiiiiiiiiii jajajajajajajajaja, quesito _emo\"</h3>\n",
       "<table>\n",
       "<tr><td>1</td> <td>43367 => 0.0</td> <td>😋</td> <td>_usr _usr moriiiiiiiiiii jajajajajajajajaja, quesito _emo</td> </tr><tr><td>2</td> <td>29533 => 0.5</td> <td>🤣</td> <td>_usr Jajajajajajajajaja _emo</td> </tr><tr><td>3</td> <td>22629 => 0.5</td> <td>😂</td> <td>_usr JAJAJAJAJAJAJAJAJA _emo _emo _emo _emo _emo</td> </tr><tr><td>4</td> <td>2082 => 0.5</td> <td>😳</td> <td>_usr JAJAJAJAJAJAJAJAJA _emo _emo _emo _emo _emo _emo</td> </tr><tr><td>5</td> <td>30286 => 0.53</td> <td>💔</td> <td>JAJAJAJAJAJAJAJAJA _emo _url</td> </tr><tr><td>6</td> <td>35104 => 0.58</td> <td>💕</td> <td>_usr JAJAJAJAJAJAJAJAJA te amo _emo _emo _emo _emo</td> </tr><tr><td>7</td> <td>16420 => 0.63</td> <td>😂</td> <td>Jajajajajajajajaja _emo _emo _emo _emo _emo _emo _emo _emo _emo _emo pero si como ayudarles!!!!!! Jajajajajajajajaja _emo _emo _emo _emo _emo _url</td> </tr>\n",
       "</table>\n"
      ],
      "text/plain": [
       "<h3>Resultados para la consulta \"_usr _usr moriiiiiiiiiii jajajajajajajajaja, quesito _emo\"</h3>\n",
       "<table>\n",
       "<tr><td>1</td> <td>43367 => 0.0</td> <td>😋</td> <td>_usr _usr moriiiiiiiiiii jajajajajajajajaja, quesito _emo</td> </tr><tr><td>2</td> <td>29533 => 0.5</td> <td>🤣</td> <td>_usr Jajajajajajajajaja _emo</td> </tr><tr><td>3</td> <td>22629 => 0.5</td> <td>😂</td> <td>_usr JAJAJAJAJAJAJAJAJA _emo _emo _emo _emo _emo</td> </tr><tr><td>4</td> <td>2082 => 0.5</td> <td>😳</td> <td>_usr JAJAJAJAJAJAJAJAJA _emo _emo _emo _emo _emo _emo</td> </tr><tr><td>5</td> <td>30286 => 0.53</td> <td>💔</td> <td>JAJAJAJAJAJAJAJAJA _emo _url</td> </tr><tr><td>6</td> <td>35104 => 0.58</td> <td>💕</td> <td>_usr JAJAJAJAJAJAJAJAJA te amo _emo _emo _emo _emo</td> </tr><tr><td>7</td> <td>16420 => 0.63</td> <td>😂</td> <td>Jajajajajajajajaja _emo _emo _emo _emo _emo _emo _emo _emo _emo _emo pero si como ayudarles!!!!!! Jajajajajajajajaja _emo _emo _emo _emo _emo _url</td> </tr>\n",
       "</table>\n"
      ]
     },
     "metadata": {},
     "output_type": "display_data"
    },
    {
     "name": "stdout",
     "output_type": "stream",
     "text": [
      "  0.002133 seconds (28 allocations: 3.734 KiB)\n"
     ]
    },
    {
     "data": {
      "text/html": [
       "<h3>Resultados para la consulta \"_num, creo _emo _url\"</h3>\n",
       "<table>\n",
       "<tr><td>1</td> <td>19487 => 0.0</td> <td>😳</td> <td>_num, creo _emo _url</td> </tr><tr><td>2</td> <td>2994 => 0.3</td> <td>😣</td> <td>No lo creo _emo</td> </tr><tr><td>3</td> <td>24552 => 0.32</td> <td>😬</td> <td>Creo que son los _num _emo</td> </tr><tr><td>4</td> <td>30359 => 0.32</td> <td>😑</td> <td>y creo que si _emo</td> </tr><tr><td>5</td> <td>4162 => 0.37</td> <td>💔</td> <td>Creo que no es a mi _emo</td> </tr><tr><td>6</td> <td>13176 => 0.41</td> <td>👀</td> <td>Ni me la creó _emo</td> </tr><tr><td>7</td> <td>35139 => 0.5</td> <td>😌</td> <td>_usr A ti sí te creo _emo</td> </tr>\n",
       "</table>\n"
      ],
      "text/plain": [
       "<h3>Resultados para la consulta \"_num, creo _emo _url\"</h3>\n",
       "<table>\n",
       "<tr><td>1</td> <td>19487 => 0.0</td> <td>😳</td> <td>_num, creo _emo _url</td> </tr><tr><td>2</td> <td>2994 => 0.3</td> <td>😣</td> <td>No lo creo _emo</td> </tr><tr><td>3</td> <td>24552 => 0.32</td> <td>😬</td> <td>Creo que son los _num _emo</td> </tr><tr><td>4</td> <td>30359 => 0.32</td> <td>😑</td> <td>y creo que si _emo</td> </tr><tr><td>5</td> <td>4162 => 0.37</td> <td>💔</td> <td>Creo que no es a mi _emo</td> </tr><tr><td>6</td> <td>13176 => 0.41</td> <td>👀</td> <td>Ni me la creó _emo</td> </tr><tr><td>7</td> <td>35139 => 0.5</td> <td>😌</td> <td>_usr A ti sí te creo _emo</td> </tr>\n",
       "</table>\n"
      ]
     },
     "metadata": {},
     "output_type": "display_data"
    },
    {
     "name": "stdout",
     "output_type": "stream",
     "text": [
      "  0.003561 seconds (50 allocations: 4.938 KiB)\n"
     ]
    },
    {
     "data": {
      "text/html": [
       "<h3>Resultados para la consulta \"_num:_num Verte el _num de abril chiquibeibi. _emo _emo _usr\"</h3>\n",
       "<table>\n",
       "<tr><td>1</td> <td>29829 => -0.0</td> <td>💖</td> <td>_num:_num Verte el _num de abril chiquibeibi. _emo _emo _usr</td> </tr><tr><td>2</td> <td>12758 => 0.47</td> <td>💕</td> <td>_num abril _emo</td> </tr><tr><td>3</td> <td>41152 => 0.5</td> <td>🙈</td> <td>_num de abril _emo _num y así _emo _url</td> </tr><tr><td>4</td> <td>6835 => 0.55</td> <td>🌚</td> <td>Voy ir el _num de abril _emo _emo _emo _emo _emo _emo</td> </tr><tr><td>5</td> <td>8575 => 0.62</td> <td>😊</td> <td>_num del abril _emo besitos _emo _emo _emo _emo</td> </tr><tr><td>6</td> <td>16198 => 0.65</td> <td>😞</td> <td>Regrésenme al _num de abril _emo _emo _emo</td> </tr><tr><td>7</td> <td>37119 => 0.67</td> <td>😁</td> <td>Quiero verte _emo _emo</td> </tr>\n",
       "</table>\n"
      ],
      "text/plain": [
       "<h3>Resultados para la consulta \"_num:_num Verte el _num de abril chiquibeibi. _emo _emo _usr\"</h3>\n",
       "<table>\n",
       "<tr><td>1</td> <td>29829 => -0.0</td> <td>💖</td> <td>_num:_num Verte el _num de abril chiquibeibi. _emo _emo _usr</td> </tr><tr><td>2</td> <td>12758 => 0.47</td> <td>💕</td> <td>_num abril _emo</td> </tr><tr><td>3</td> <td>41152 => 0.5</td> <td>🙈</td> <td>_num de abril _emo _num y así _emo _url</td> </tr><tr><td>4</td> <td>6835 => 0.55</td> <td>🌚</td> <td>Voy ir el _num de abril _emo _emo _emo _emo _emo _emo</td> </tr><tr><td>5</td> <td>8575 => 0.62</td> <td>😊</td> <td>_num del abril _emo besitos _emo _emo _emo _emo</td> </tr><tr><td>6</td> <td>16198 => 0.65</td> <td>😞</td> <td>Regrésenme al _num de abril _emo _emo _emo</td> </tr><tr><td>7</td> <td>37119 => 0.67</td> <td>😁</td> <td>Quiero verte _emo _emo</td> </tr>\n",
       "</table>\n"
      ]
     },
     "metadata": {},
     "output_type": "display_data"
    },
    {
     "name": "stdout",
     "output_type": "stream",
     "text": [
      "  0.004809 seconds (60 allocations: 5.609 KiB)\n"
     ]
    },
    {
     "data": {
      "text/html": [
       "<h3>Resultados para la consulta \"Feliz de tantas bendiciones aunque no las merezca pero gracias Dios por tanto _emo _url\"</h3>\n",
       "<table>\n",
       "<tr><td>1</td> <td>19154 => -0.0</td> <td>🙏</td> <td>Feliz de tantas bendiciones aunque no las merezca pero gracias Dios por tanto _emo _url</td> </tr><tr><td>2</td> <td>4622 => 0.38</td> <td>❤</td> <td>Gracias Dios por tantas bendiciones _emo _emo _emo _emo _emo _emo</td> </tr><tr><td>3</td> <td>33257 => 0.5</td> <td>😊</td> <td>No se en que momento paso todo esto pero gracias Dios por tantas bendiciones _emo</td> </tr><tr><td>4</td> <td>43156 => 0.6</td> <td>💜</td> <td>Gracias Dios por todas tus bendiciones _emo _url</td> </tr><tr><td>5</td> <td>44348 => 0.64</td> <td>🤗</td> <td>Hoy me siento muy feliz, agotada, pero feliz! _emo gracias Dios mío por tus bendiciones _emo</td> </tr><tr><td>6</td> <td>31947 => 0.65</td> <td>🙏</td> <td>_emo _emo bendiciones _emo _emo</td> </tr><tr><td>7</td> <td>22201 => 0.66</td> <td>🙊</td> <td>_usr Bendiciones _emo</td> </tr>\n",
       "</table>\n"
      ],
      "text/plain": [
       "<h3>Resultados para la consulta \"Feliz de tantas bendiciones aunque no las merezca pero gracias Dios por tanto _emo _url\"</h3>\n",
       "<table>\n",
       "<tr><td>1</td> <td>19154 => -0.0</td> <td>🙏</td> <td>Feliz de tantas bendiciones aunque no las merezca pero gracias Dios por tanto _emo _url</td> </tr><tr><td>2</td> <td>4622 => 0.38</td> <td>❤</td> <td>Gracias Dios por tantas bendiciones _emo _emo _emo _emo _emo _emo</td> </tr><tr><td>3</td> <td>33257 => 0.5</td> <td>😊</td> <td>No se en que momento paso todo esto pero gracias Dios por tantas bendiciones _emo</td> </tr><tr><td>4</td> <td>43156 => 0.6</td> <td>💜</td> <td>Gracias Dios por todas tus bendiciones _emo _url</td> </tr><tr><td>5</td> <td>44348 => 0.64</td> <td>🤗</td> <td>Hoy me siento muy feliz, agotada, pero feliz! _emo gracias Dios mío por tus bendiciones _emo</td> </tr><tr><td>6</td> <td>31947 => 0.65</td> <td>🙏</td> <td>_emo _emo bendiciones _emo _emo</td> </tr><tr><td>7</td> <td>22201 => 0.66</td> <td>🙊</td> <td>_usr Bendiciones _emo</td> </tr>\n",
       "</table>\n"
      ]
     },
     "metadata": {},
     "output_type": "display_data"
    }
   ],
   "source": [
    "for i in 1:10\n",
    "    qID = rand(1:length(E.data.text))\n",
    "    search_and_display(E, E.data.text[qID], 7)\n",
    "end"
   ]
  },
  {
   "cell_type": "markdown",
   "id": "5403b789-c8d3-4a86-957d-e7500efefe9d",
   "metadata": {},
   "source": [
    "# Actividades\n",
    "\n",
    "- Revisión de los servicios y empresas mencionados \n",
    "- Revisión de los proyectos open source mencionados\n",
    "- Cargue este notebook y modifique las consultas (necesita Jupyter y el kernel de Julia <https://github.com/JuliaLang/IJulia.jl>)\n",
    "- Revise la bibliografía sobre recuperación de información, en especial [^SMR2008] se encuentra libre desde <https://nlp.stanford.edu/IR-book/pdf/irbookonlinereading.pdf>"
   ]
  },
  {
   "cell_type": "markdown",
   "id": "f558a317-b84c-45b2-a185-36af24741ace",
   "metadata": {},
   "source": [
    "# Bibliografía\n",
    "- [SMR2008] Schütze, H., Manning, C. D., & Raghavan, P. (2008). Introduction to information retrieval (Vol. 39, pp. 234-65). Cambridge: Cambridge University Press.\n",
    "- [BYN1999] Baeza-Yates, R., & Ribeiro-Neto, B. (1999). Modern information retrieval (Vol. 463). New York: ACM press."
   ]
  }
 ],
 "metadata": {
  "kernelspec": {
   "display_name": "Julia 1.10.0-rc1",
   "language": "julia",
   "name": "julia-1.10"
  },
  "language_info": {
   "file_extension": ".jl",
   "mimetype": "application/julia",
   "name": "julia",
   "version": "1.10.0"
  }
 },
 "nbformat": 4,
 "nbformat_minor": 5
}
