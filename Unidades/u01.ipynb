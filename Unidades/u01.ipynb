{
 "cells": [
  {
   "cell_type": "markdown",
   "id": "b606b63e-967d-4d4d-85e4-e02a32020425",
   "metadata": {},
   "source": [
    "# Introducción a la recuperación de información\n",
    "Autor: Eric S. Tellez <eric.tellez@infotec.mx><br/>\n",
    "\n",
    "La recuperación de información se crea a partir de la necesidad de simplificar el acceso y revisión de documentos en grandes colecciones. Estas colecciones pueden ser homogeneas o heterogeneas, tanto en su contenido como en su formato. En su inicio, se consideraban colecciones unicamente de texto pero las necesidades de información se han diversificado, y ahora es común encontrar sistemas de recuperación de información sobre otros datos como imagenes o videos, o include multimodales, esto es que puedan usar diferentes tipos de objetos. Un objeto puede ser un documento de texto, una imagen, o cualquier otro tipo de datos que se desee tener acceso. \n",
    "\n",
    "Mantener un sistema de información homogeneo puede simplificar su mantenimiento enormemente, por lo que si es posible, se puede intentar mantener cierta homegeneidad. Para sistemas de fuentes abiertas como puede ser la web, esto será posible.\n",
    "\n",
    "En general, se puede ver un sistema de recuperación de información en tres grandes partes:\n",
    "\n",
    "1. Recolección de datos, normalización y modelado matemático.\n",
    "2. Indexamiento, interpretación de consultas y optimización\n",
    "3. Agregación y filtrado de resultados, presentación de los mismos\n",
    "\n",
    "\n",
    "En este curso se visitarán parcialmente todas estas partes. En general se usaran conjuntos de datos previamente recolecados, aunque se invita a usar sus propias colecciones de tal forma que puedan sacar provecho de los temas de manera más amplia. La normalización puede ir desde el simple preprocesamiento de los datos hasta manipulaciones y transformaciones dependientes del dominio. Una vez aplicado el modelado adecuado a las colecciones, las representaciones matemáticas suelen ser vectores de alta dimensión para cada objeto.\n",
    "\n",
    "En cuanto al indexamiento se utilizarán dos tipos de algoritmos, búsqueda mediante índices invertidos y búsqueda por índices métricos. Ambas tienen sus nichos de aplicación y usarlas adecuadamente requiere conocer los problemas y sus modelados.\n",
    "\n",
    "La presentación de los resultados puede ser tan simple como una lista de resultados más relevantes y una pequeña muestra del objeto, o más complejo que requiera alguna técnica de visualización. Todo esto dependerá del dominio de aplicación y la naturaleza del sistema de recuperación de información.\n",
    "\n",
    "\n",
    "# Ejemplos de sistemas de recuperación información\n",
    "\n",
    "- Google,scholar google, google images, google news, youtube...\n",
    "- Bing!\n",
    "- Yahoo search\n",
    "- Yandex\n",
    "- DuckDuckGo\n",
    "- ...\n",
    "\n",
    "También es común que el sistema de recuperación de información no sea el principal producto, si no más bien un complemento imperdible\n",
    "como es el caso de los sistemas de streaming de videos, películas, música, redes sociales, etc.\n",
    "\n",
    "# Ejemplos de implementación de search engines open source\n",
    "- [Apache Lucene](https://lucene.apache.org/)\n",
    "- [Apache SOLR](https://solr.apache.org/)\n",
    "- [ElasticSearch](https://www.elastic.co/es/what-is/elasticsearch)\n",
    "- [hnswlib](https://github.com/nmslib/hnswlib)\n",
    "- [FAISS](https://github.com/facebookresearch/faiss)\n",
    "- [TextSearch.jl](https://github.com/sadit/TextSearch.jl)\n",
    "- [InvertedFiles.jl](https://github.com/sadit/InvertedFiles.jl)\n",
    "- [SimilaritySearch.jl](https://github.com/sadit/SimilaritySearch.jl)\n",
    "\n",
    "\n",
    "# Ejemplo\n",
    "\n",
    "\n",
    "Construcción de un índice de búsqueda para una colección de mensajes de Twitter. Los mensajes se pueden ver como documentos cortos. Se preprocesan y se modalen en vectores mediante un vocabulario. Después se construye el índice con dichos vectores y se hace posible la búsqueda eficiente. Note que existen etiquetas que se pueden usar para otras tareas; de manera más genérica, se pueden ver como metadatos asociados a los elementos del corpus.\n",
    "\n",
    "Nota: La primera vez que se corra este notebook los paquetes necesarios se instalaran de manera automática, es posible que tome un tiempo considerable.\n",
    "\n"
   ]
  },
  {
   "cell_type": "code",
   "execution_count": 1,
   "id": "bb11ca12-b635-45bb-ac02-14523674ded8",
   "metadata": {},
   "outputs": [
    {
     "name": "stderr",
     "output_type": "stream",
     "text": [
      "\u001b[32m\u001b[1m  Activating\u001b[22m\u001b[39m project at `~/Cursos/IR-2024/Unidades`\n"
     ]
    }
   ],
   "source": [
    "using Pkg\n",
    "Pkg.activate(\".\")\n",
    "\n",
    "using TextSearch, InvertedFiles, SimilaritySearch, LinearAlgebra, HypertextLiteral"
   ]
  },
  {
   "cell_type": "markdown",
   "id": "f3fd994e-6be8-45c8-a0fc-8f05dfcf2636",
   "metadata": {},
   "source": [
    "## Funciones para leer y modelar el corpus"
   ]
  },
  {
   "cell_type": "code",
   "execution_count": 2,
   "id": "d9482f05-8d88-4896-9b9e-646bc1da2abb",
   "metadata": {},
   "outputs": [
    {
     "data": {
      "text/plain": [
       "text_model_and_vectors (generic function with 1 method)"
      ]
     },
     "execution_count": 2,
     "metadata": {},
     "output_type": "execute_result"
    }
   ],
   "source": [
    "function text_model_and_vectors(corpus)\n",
    "    textconfig = TextConfig(group_usr=true, group_url=true, del_diac=true, lc=true, group_num=true, nlist=[1], qlist=[])\n",
    "    voc = Vocabulary(textconfig, corpus)\n",
    "    model = VectorModel(IdfWeighting(), TfWeighting(), voc)    \n",
    "    vectors = vectorize_corpus(model, corpus)\n",
    "\n",
    "    (; textconfig, model, vectors)\n",
    "end\n"
   ]
  },
  {
   "cell_type": "code",
   "execution_count": 3,
   "id": "1176ef00-1153-4cba-bb89-354d634c857e",
   "metadata": {},
   "outputs": [
    {
     "data": {
      "text/html": [
       "<h1>Cargando el corpus</h1>"
      ],
      "text/plain": [
       "<h1>Cargando el corpus</h1>"
      ]
     },
     "metadata": {},
     "output_type": "display_data"
    },
    {
     "name": "stdout",
     "output_type": "stream",
     "text": [
      "(unique(D.labels), T.model) = ([\"♡\", \"😒\", \"💖\", \"😴\", \"😍\", \"😓\", \"😬\", \"💙\", \"😃\", \"😡\", \"🤓\", \"🙂\", \"❤\", \"😠\", \"😳\", \"😭\", \"👌\", \"🌚\", \"😅\", \"😐\", \"😋\", \"😕\", \"😉\", \"😢\", \"😱\", \"💕\", \"🤣\", \"😪\", \"😎\", \"😏\", \"😻\", \"🤭\", \"💜\", \"🙈\", \"🙏\", \"😥\", \"😀\", \"😤\", \"😩\", \"😘\", \"😊\", \"🙄\", \"🤗\", \"😜\", \"😑\", \"✨\", \"😰\", \"😂\", \"🎶\", \"🙃\", \"🙊\", \"🤤\", \"👏\", \"😁\", \"😞\", \"😣\", \"😌\", \"🤔\", \"♥\", \"💔\", \"👀\", \"😔\", \"😈\", \"😫\"], {VectorModel\n",
      "    global_weighting: IdfWeighting()\n",
      "    local_weighting: TfWeighting()\n",
      "    vocsize: 41704\n",
      "    trainsize=45000\n",
      "    maxoccs=84742                                    \n",
      "})\n"
     ]
    },
    {
     "data": {
      "text/plain": [
       "([\"♡\", \"😒\", \"💖\", \"😴\", \"😍\", \"😓\", \"😬\", \"💙\", \"😃\", \"😡\"  …  \"😞\", \"😣\", \"😌\", \"🤔\", \"♥\", \"💔\", \"👀\", \"😔\", \"😈\", \"😫\"], {VectorModel\n",
       "    global_weighting: IdfWeighting()\n",
       "    local_weighting: TfWeighting()\n",
       "    vocsize: 41704\n",
       "    trainsize=45000\n",
       "    maxoccs=84742                                    \n",
       "})"
      ]
     },
     "execution_count": 3,
     "metadata": {},
     "output_type": "execute_result"
    }
   ],
   "source": [
    "display(@htl \"<h1>Cargando el corpus</h1>\")\n",
    "\n",
    "include(\"read_datasets.jl\")\n",
    "D, _ = read_emojispace()\n",
    "T = text_model_and_vectors(D.text)\n",
    "\n",
    "@show unique(D.labels), T.model"
   ]
  },
  {
   "cell_type": "markdown",
   "id": "e6ab564f-f90b-4b18-a090-ed3ecb4ec717",
   "metadata": {},
   "source": [
    "### Note que las etiquetas son emojis, que hay 45k ejemplos y un vocabulario de más de 42k tokens. A continuación se construirá el índice invertido usando el paquete <https://github.com/sadit/TextSearch.jl>, claramente, el código solo funcionará con dicha implementación, pero el procedimiento general aplicaría a otras implementaciones."
   ]
  },
  {
   "cell_type": "code",
   "execution_count": 4,
   "id": "cd7ccd91-c1c2-4a04-b792-d38a8c65342a",
   "metadata": {},
   "outputs": [
    {
     "data": {
      "text/plain": [
       "{WeightedInvertedFile{Nothing, SimilaritySearch.AdjacencyLists.AdjacencyList{IdWeight}} vocsize=41704, n=45000}"
      ]
     },
     "execution_count": 4,
     "metadata": {},
     "output_type": "execute_result"
    }
   ],
   "source": [
    "invfile = WeightedInvertedFile(length(T.model.voc))\n",
    "append_items!(invfile, VectorDatabase(T.vectors))"
   ]
  },
  {
   "cell_type": "code",
   "execution_count": 5,
   "id": "a8b61d9e-1868-438c-8b74-4a4e818d6afc",
   "metadata": {},
   "outputs": [],
   "source": [
    "E = (; invfile, data=D, T...); # a convenient definition to put everything into a single tuple"
   ]
  },
  {
   "cell_type": "code",
   "execution_count": 6,
   "id": "c0f207f2-ed09-4fec-9da6-2ad625c21801",
   "metadata": {},
   "outputs": [
    {
     "data": {
      "text/plain": [
       "search_and_display (generic function with 1 method)"
      ]
     },
     "execution_count": 6,
     "metadata": {},
     "output_type": "execute_result"
    }
   ],
   "source": [
    "function search_and_display(E, q, k)\n",
    "    res = KnnResult(k)\n",
    "    @time search(E.invfile, vectorize(E.model, q), res)\n",
    "    L = []\n",
    "    for (i, p) in enumerate(res)\n",
    "        id, dist = p.id, round(p.weight, digits=2)\n",
    "        push!(L, @htl \"\"\"<tr><td>$i</td> <td>$id => $dist</td> <td>$(E.data.labels[id])</td> <td>$(E.data.text[id])</td> </tr>\"\"\")\n",
    "    end\n",
    "\n",
    "    display(@htl \"\"\"\n",
    "    <h3>Resultados para la consulta \"$q\"</h3>\n",
    "    <table>\n",
    "    $L\n",
    "    </table>\n",
    "    \"\"\")\n",
    "end"
   ]
  },
  {
   "cell_type": "code",
   "execution_count": 7,
   "id": "046760fa-03d2-4bc9-a6cd-418c4f655b43",
   "metadata": {},
   "outputs": [
    {
     "name": "stdout",
     "output_type": "stream",
     "text": [
      "  0.025915 seconds (1.21 k allocations: 56.797 KiB, 98.89% compilation time)\n"
     ]
    },
    {
     "data": {
      "text/html": [
       "<h3>Resultados para la consulta \"no importa distancia\"</h3>\n",
       "<table>\n",
       "<tr><td>1</td> <td>35343 => 0.03</td> <td>💕</td> <td>No importa la distancia _emo _usr _url</td> </tr><tr><td>2</td> <td>24815 => 0.38</td> <td>😓</td> <td>Me caga la distancia _emo</td> </tr><tr><td>3</td> <td>37163 => 0.52</td> <td>😃</td> <td>No importa cuando...  _emo _emo _url</td> </tr><tr><td>4</td> <td>1288 => 0.57</td> <td>😥</td> <td>tiempo y distancia, quizás sea eso... _emo</td> </tr><tr><td>5</td> <td>36425 => 0.57</td> <td>😑</td> <td>_usr A ti no te importa _emo</td> </tr>\n",
       "</table>\n"
      ],
      "text/plain": [
       "<h3>Resultados para la consulta \"no importa distancia\"</h3>\n",
       "<table>\n",
       "<tr><td>1</td> <td>35343 => 0.03</td> <td>💕</td> <td>No importa la distancia _emo _usr _url</td> </tr><tr><td>2</td> <td>24815 => 0.38</td> <td>😓</td> <td>Me caga la distancia _emo</td> </tr><tr><td>3</td> <td>37163 => 0.52</td> <td>😃</td> <td>No importa cuando...  _emo _emo _url</td> </tr><tr><td>4</td> <td>1288 => 0.57</td> <td>😥</td> <td>tiempo y distancia, quizás sea eso... _emo</td> </tr><tr><td>5</td> <td>36425 => 0.57</td> <td>😑</td> <td>_usr A ti no te importa _emo</td> </tr>\n",
       "</table>\n"
      ]
     },
     "metadata": {},
     "output_type": "display_data"
    },
    {
     "name": "stdout",
     "output_type": "stream",
     "text": [
      "  0.000252 seconds (25 allocations: 3.602 KiB)\n"
     ]
    },
    {
     "data": {
      "text/html": [
       "<h3>Resultados para la consulta \"cuando nos vemos?\"</h3>\n",
       "<table>\n",
       "<tr><td>1</td> <td>30054 => 0.23</td> <td>😂</td> <td>Nos vemos!! _emo _emo _emo _emo _url</td> </tr><tr><td>2</td> <td>21749 => 0.31</td> <td>😜</td> <td>_usr En la tarde nos vemos _emo _emo _emo</td> </tr><tr><td>3</td> <td>9076 => 0.34</td> <td>😻</td> <td>Nos vemos pronto _usr _usr _emo _emo _url</td> </tr><tr><td>4</td> <td>24169 => 0.43</td> <td>😍</td> <td>_usr Pronto nos vemos hermana _emo _emo</td> </tr><tr><td>5</td> <td>37158 => 0.45</td> <td>😕</td> <td>Apenas van _num días que no nos vemos _emo</td> </tr>\n",
       "</table>\n"
      ],
      "text/plain": [
       "<h3>Resultados para la consulta \"cuando nos vemos?\"</h3>\n",
       "<table>\n",
       "<tr><td>1</td> <td>30054 => 0.23</td> <td>😂</td> <td>Nos vemos!! _emo _emo _emo _emo _url</td> </tr><tr><td>2</td> <td>21749 => 0.31</td> <td>😜</td> <td>_usr En la tarde nos vemos _emo _emo _emo</td> </tr><tr><td>3</td> <td>9076 => 0.34</td> <td>😻</td> <td>Nos vemos pronto _usr _usr _emo _emo _url</td> </tr><tr><td>4</td> <td>24169 => 0.43</td> <td>😍</td> <td>_usr Pronto nos vemos hermana _emo _emo</td> </tr><tr><td>5</td> <td>37158 => 0.45</td> <td>😕</td> <td>Apenas van _num días que no nos vemos _emo</td> </tr>\n",
       "</table>\n"
      ]
     },
     "metadata": {},
     "output_type": "display_data"
    },
    {
     "name": "stdout",
     "output_type": "stream",
     "text": [
      "  0.000132 seconds (23 allocations: 3.547 KiB)\n"
     ]
    },
    {
     "data": {
      "text/html": [
       "<h3>Resultados para la consulta \"feliz cumpleaños?\"</h3>\n",
       "<table>\n",
       "<tr><td>1</td> <td>26556 => 0.11</td> <td>❤</td> <td>_usr Feliz Cumpleaños _emo</td> </tr><tr><td>2</td> <td>40229 => 0.11</td> <td>😁</td> <td>Feliz Cumpleaños _emo _emo _usr</td> </tr><tr><td>3</td> <td>8772 => 0.11</td> <td>🙊</td> <td>Feliz Cumpleaños _usr _emo _emo _emo _emo _emo</td> </tr>\n",
       "</table>\n"
      ],
      "text/plain": [
       "<h3>Resultados para la consulta \"feliz cumpleaños?\"</h3>\n",
       "<table>\n",
       "<tr><td>1</td> <td>26556 => 0.11</td> <td>❤</td> <td>_usr Feliz Cumpleaños _emo</td> </tr><tr><td>2</td> <td>40229 => 0.11</td> <td>😁</td> <td>Feliz Cumpleaños _emo _emo _usr</td> </tr><tr><td>3</td> <td>8772 => 0.11</td> <td>🙊</td> <td>Feliz Cumpleaños _usr _emo _emo _emo _emo _emo</td> </tr>\n",
       "</table>\n"
      ]
     },
     "metadata": {},
     "output_type": "display_data"
    },
    {
     "name": "stdout",
     "output_type": "stream",
     "text": [
      "  0.000022 seconds (22 allocations: 3.406 KiB)\n"
     ]
    },
    {
     "data": {
      "text/html": [
       "<h3>Resultados para la consulta \"ola k ase\"</h3>\n",
       "<table>\n",
       "<tr><td>1</td> <td>43663 => 0.64</td> <td>😎</td> <td>_usr _usr Siempre, todo y todos los días de la semana desde ase muchoooooossss años _emo _emo</td> </tr><tr><td>2</td> <td>23585 => 0.71</td> <td>😤</td> <td>_usr k bueno k tu mizmo lo reconozcAszzzz _emo</td> </tr><tr><td>3</td> <td>38425 => 0.71</td> <td>😃</td> <td>Despertares!! (By OLA) # _emo _emo en Distrito Federal, Mexico _url</td> </tr>\n",
       "</table>\n"
      ],
      "text/plain": [
       "<h3>Resultados para la consulta \"ola k ase\"</h3>\n",
       "<table>\n",
       "<tr><td>1</td> <td>43663 => 0.64</td> <td>😎</td> <td>_usr _usr Siempre, todo y todos los días de la semana desde ase muchoooooossss años _emo _emo</td> </tr><tr><td>2</td> <td>23585 => 0.71</td> <td>😤</td> <td>_usr k bueno k tu mizmo lo reconozcAszzzz _emo</td> </tr><tr><td>3</td> <td>38425 => 0.71</td> <td>😃</td> <td>Despertares!! (By OLA) # _emo _emo en Distrito Federal, Mexico _url</td> </tr>\n",
       "</table>\n"
      ]
     },
     "metadata": {},
     "output_type": "display_data"
    },
    {
     "name": "stdout",
     "output_type": "stream",
     "text": [
      "  0.000152 seconds (23 allocations: 3.523 KiB)\n"
     ]
    },
    {
     "data": {
      "text/html": [
       "<h3>Resultados para la consulta \"mi humilde opinión\"</h3>\n",
       "<table>\n",
       "<tr><td>1</td> <td>2148 => 0.33</td> <td>🙏</td> <td>Bueno, cada quien su vida, ya se, solo es una humilde opinión !! _emo _emo _emo</td> </tr><tr><td>2</td> <td>35818 => 0.51</td> <td>😍</td> <td>_usr es la persona más humilde que conozco _emo</td> </tr><tr><td>3</td> <td>32858 => 0.62</td> <td>🤔</td> <td>_usr Bajo tu opinión fue o no falta? _emo</td> </tr><tr><td>4</td> <td>28393 => 0.62</td> <td>😊</td> <td>Gracias por compartir la información y tu opinión _emo _url</td> </tr><tr><td>5</td> <td>31667 => 0.65</td> <td>😉</td> <td>Cuantos Likes para mi humilde oficina _usr  _emo _emo @ CocoBongo _url</td> </tr><tr><td>6</td> <td>5532 => 0.66</td> <td>🤗</td> <td>Para ser feliz, no escuches la opinión de los demás _emo</td> </tr><tr><td>7</td> <td>12713 => 0.67</td> <td>👏</td> <td>_usr Totalmente de acuerdo contigo en todo. Comparto tu opinión _emo _emo _emo _emo</td> </tr><tr><td>8</td> <td>990 => 0.72</td> <td>😌</td> <td>Tu opinión no me interesa más. No tengo nada que demostrarte, y si piensas lo peor de mi, MEJOR! _emo</td> </tr><tr><td>9</td> <td>39601 => 0.73</td> <td>😑</td> <td>Lo siento pero mi tez humilde no me deja ser guapo y estar bueno, eso sin mencionar la rodilla que me chingue! _emo _emo</td> </tr><tr><td>10</td> <td>11589 => 0.75</td> <td>😃</td> <td>Interesante opinión y espero que sigas escribiendo _usr en mejores espacios  !suerte!! _emo _emo _emo _url</td> </tr>\n",
       "</table>\n"
      ],
      "text/plain": [
       "<h3>Resultados para la consulta \"mi humilde opinión\"</h3>\n",
       "<table>\n",
       "<tr><td>1</td> <td>2148 => 0.33</td> <td>🙏</td> <td>Bueno, cada quien su vida, ya se, solo es una humilde opinión !! _emo _emo _emo</td> </tr><tr><td>2</td> <td>35818 => 0.51</td> <td>😍</td> <td>_usr es la persona más humilde que conozco _emo</td> </tr><tr><td>3</td> <td>32858 => 0.62</td> <td>🤔</td> <td>_usr Bajo tu opinión fue o no falta? _emo</td> </tr><tr><td>4</td> <td>28393 => 0.62</td> <td>😊</td> <td>Gracias por compartir la información y tu opinión _emo _url</td> </tr><tr><td>5</td> <td>31667 => 0.65</td> <td>😉</td> <td>Cuantos Likes para mi humilde oficina _usr  _emo _emo @ CocoBongo _url</td> </tr><tr><td>6</td> <td>5532 => 0.66</td> <td>🤗</td> <td>Para ser feliz, no escuches la opinión de los demás _emo</td> </tr><tr><td>7</td> <td>12713 => 0.67</td> <td>👏</td> <td>_usr Totalmente de acuerdo contigo en todo. Comparto tu opinión _emo _emo _emo _emo</td> </tr><tr><td>8</td> <td>990 => 0.72</td> <td>😌</td> <td>Tu opinión no me interesa más. No tengo nada que demostrarte, y si piensas lo peor de mi, MEJOR! _emo</td> </tr><tr><td>9</td> <td>39601 => 0.73</td> <td>😑</td> <td>Lo siento pero mi tez humilde no me deja ser guapo y estar bueno, eso sin mencionar la rodilla que me chingue! _emo _emo</td> </tr><tr><td>10</td> <td>11589 => 0.75</td> <td>😃</td> <td>Interesante opinión y espero que sigas escribiendo _usr en mejores espacios  !suerte!! _emo _emo _emo _url</td> </tr>\n",
       "</table>\n"
      ]
     },
     "metadata": {},
     "output_type": "display_data"
    }
   ],
   "source": [
    "search_and_display(E, \"no importa distancia\", 5)\n",
    "search_and_display(E, \"cuando nos vemos?\", 5)\n",
    "search_and_display(E, \"feliz cumpleaños?\", 3)\n",
    "search_and_display(E, \"ola k ase\", 3)\n",
    "search_and_display(E, \"mi humilde opinión\", 10)"
   ]
  },
  {
   "cell_type": "markdown",
   "id": "33ad823b-70c0-447d-bfe0-8a920525ca12",
   "metadata": {},
   "source": [
    "### También es posible consultar elementos del mismo corpus, lo cual permité inspeccionar la estructura interna de la colección. Esto será de utilidad más adelante en el curso."
   ]
  },
  {
   "cell_type": "code",
   "execution_count": 8,
   "id": "bde30ad5-8c2d-4622-b0c2-994802b64e9d",
   "metadata": {},
   "outputs": [
    {
     "name": "stdout",
     "output_type": "stream",
     "text": [
      "  0.004698 seconds (58 allocations: 5.453 KiB)\n"
     ]
    },
    {
     "data": {
      "text/html": [
       "<h3>Resultados para la consulta \"_usr me cortare el cabello así chiquito, por fin me saldrán tus peinados _emo\"</h3>\n",
       "<table>\n",
       "<tr><td>1</td> <td>41834 => 0.0</td> <td>🙊</td> <td>_usr me cortare el cabello así chiquito, por fin me saldrán tus peinados _emo</td> </tr><tr><td>2</td> <td>44906 => 0.72</td> <td>🤤</td> <td>Chiquito bebé _emo _emo _emo _emo _emo _url</td> </tr><tr><td>3</td> <td>36549 => 0.72</td> <td>😣</td> <td>Se me hizo chiquito el corazón _emo</td> </tr><tr><td>4</td> <td>3450 => 0.74</td> <td>😏</td> <td>_usr llego el domingo chiquito _emo</td> </tr><tr><td>5</td> <td>37009 => 0.75</td> <td>👌</td> <td>_usr _usr Y bonita mamá, aún recuerdo que vi tus bellos peinados y pompitas en Oax. _emo _emo</td> </tr><tr><td>6</td> <td>14627 => 0.75</td> <td>😌</td> <td>Me urge algo así en mi cabello _emo _emo _emo _emo _url</td> </tr><tr><td>7</td> <td>19394 => 0.76</td> <td>🙊</td> <td>Amo mi cabello. _emo _url</td> </tr>\n",
       "</table>\n"
      ],
      "text/plain": [
       "<h3>Resultados para la consulta \"_usr me cortare el cabello así chiquito, por fin me saldrán tus peinados _emo\"</h3>\n",
       "<table>\n",
       "<tr><td>1</td> <td>41834 => 0.0</td> <td>🙊</td> <td>_usr me cortare el cabello así chiquito, por fin me saldrán tus peinados _emo</td> </tr><tr><td>2</td> <td>44906 => 0.72</td> <td>🤤</td> <td>Chiquito bebé _emo _emo _emo _emo _emo _url</td> </tr><tr><td>3</td> <td>36549 => 0.72</td> <td>😣</td> <td>Se me hizo chiquito el corazón _emo</td> </tr><tr><td>4</td> <td>3450 => 0.74</td> <td>😏</td> <td>_usr llego el domingo chiquito _emo</td> </tr><tr><td>5</td> <td>37009 => 0.75</td> <td>👌</td> <td>_usr _usr Y bonita mamá, aún recuerdo que vi tus bellos peinados y pompitas en Oax. _emo _emo</td> </tr><tr><td>6</td> <td>14627 => 0.75</td> <td>😌</td> <td>Me urge algo así en mi cabello _emo _emo _emo _emo _url</td> </tr><tr><td>7</td> <td>19394 => 0.76</td> <td>🙊</td> <td>Amo mi cabello. _emo _url</td> </tr>\n",
       "</table>\n"
      ]
     },
     "metadata": {},
     "output_type": "display_data"
    },
    {
     "name": "stdout",
     "output_type": "stream",
     "text": [
      "  0.005528 seconds (58 allocations: 5.453 KiB)\n"
     ]
    },
    {
     "data": {
      "text/html": [
       "<h3>Resultados para la consulta \"_usr Siempre estaré contigo, espero que te haiga gustado _emo _emo #M_num _url\"</h3>\n",
       "<table>\n",
       "<tr><td>1</td> <td>43818 => 0.0</td> <td>💜</td> <td>_usr Siempre estaré contigo, espero que te haiga gustado _emo _emo #M_num _url</td> </tr><tr><td>2</td> <td>21235 => 0.67</td> <td>😍</td> <td>_usr Ahí estaré siempre _emo</td> </tr><tr><td>3</td> <td>28052 => 0.68</td> <td>😎</td> <td>Monterrey siempre me ha gustado...   _emo _emo _emo  _emo</td> </tr><tr><td>4</td> <td>40492 => 0.68</td> <td>🙈</td> <td>Tengo el mejor novio del mundo #M _emo _emo</td> </tr><tr><td>5</td> <td>21585 => 0.71</td> <td>🙊</td> <td>&quot;A pesar de todo lo que pase, siempre estaré contigo&quot; _emo _emo _usr _url</td> </tr><tr><td>6</td> <td>32897 => 0.72</td> <td>😏</td> <td>Me hubiera gustado ir _emo _emo _emo</td> </tr><tr><td>7</td> <td>14004 => 0.72</td> <td>😓</td> <td>Me hubiera gustado ir _emo _emo</td> </tr>\n",
       "</table>\n"
      ],
      "text/plain": [
       "<h3>Resultados para la consulta \"_usr Siempre estaré contigo, espero que te haiga gustado _emo _emo #M_num _url\"</h3>\n",
       "<table>\n",
       "<tr><td>1</td> <td>43818 => 0.0</td> <td>💜</td> <td>_usr Siempre estaré contigo, espero que te haiga gustado _emo _emo #M_num _url</td> </tr><tr><td>2</td> <td>21235 => 0.67</td> <td>😍</td> <td>_usr Ahí estaré siempre _emo</td> </tr><tr><td>3</td> <td>28052 => 0.68</td> <td>😎</td> <td>Monterrey siempre me ha gustado...   _emo _emo _emo  _emo</td> </tr><tr><td>4</td> <td>40492 => 0.68</td> <td>🙈</td> <td>Tengo el mejor novio del mundo #M _emo _emo</td> </tr><tr><td>5</td> <td>21585 => 0.71</td> <td>🙊</td> <td>&quot;A pesar de todo lo que pase, siempre estaré contigo&quot; _emo _emo _usr _url</td> </tr><tr><td>6</td> <td>32897 => 0.72</td> <td>😏</td> <td>Me hubiera gustado ir _emo _emo _emo</td> </tr><tr><td>7</td> <td>14004 => 0.72</td> <td>😓</td> <td>Me hubiera gustado ir _emo _emo</td> </tr>\n",
       "</table>\n"
      ]
     },
     "metadata": {},
     "output_type": "display_data"
    },
    {
     "name": "stdout",
     "output_type": "stream",
     "text": [
      "  0.001400 seconds (26 allocations: 3.664 KiB)\n"
     ]
    },
    {
     "data": {
      "text/html": [
       "<h3>Resultados para la consulta \"Tengo mucha hambre _emo\"</h3>\n",
       "<table>\n",
       "<tr><td>1</td> <td>18613 => 0.0</td> <td>😣</td> <td>Tengo mucha hambre _emo</td> </tr><tr><td>2</td> <td>25995 => 0.0</td> <td>😣</td> <td>Tengo mucha hambre _emo _emo _emo _emo</td> </tr><tr><td>3</td> <td>12696 => 0.23</td> <td>😩</td> <td>Tengo hambre _emo</td> </tr><tr><td>4</td> <td>28251 => 0.23</td> <td>😩</td> <td>Tengo hambre _emo</td> </tr><tr><td>5</td> <td>43758 => 0.23</td> <td>😩</td> <td>Tengo hambre _emo _emo _emo</td> </tr><tr><td>6</td> <td>39579 => 0.26</td> <td>😥</td> <td>Tengo hambre. _emo</td> </tr><tr><td>7</td> <td>5065 => 0.28</td> <td>😥</td> <td>Ya tengo hambre _emo</td> </tr>\n",
       "</table>\n"
      ],
      "text/plain": [
       "<h3>Resultados para la consulta \"Tengo mucha hambre _emo\"</h3>\n",
       "<table>\n",
       "<tr><td>1</td> <td>18613 => 0.0</td> <td>😣</td> <td>Tengo mucha hambre _emo</td> </tr><tr><td>2</td> <td>25995 => 0.0</td> <td>😣</td> <td>Tengo mucha hambre _emo _emo _emo _emo</td> </tr><tr><td>3</td> <td>12696 => 0.23</td> <td>😩</td> <td>Tengo hambre _emo</td> </tr><tr><td>4</td> <td>28251 => 0.23</td> <td>😩</td> <td>Tengo hambre _emo</td> </tr><tr><td>5</td> <td>43758 => 0.23</td> <td>😩</td> <td>Tengo hambre _emo _emo _emo</td> </tr><tr><td>6</td> <td>39579 => 0.26</td> <td>😥</td> <td>Tengo hambre. _emo</td> </tr><tr><td>7</td> <td>5065 => 0.28</td> <td>😥</td> <td>Ya tengo hambre _emo</td> </tr>\n",
       "</table>\n"
      ]
     },
     "metadata": {},
     "output_type": "display_data"
    },
    {
     "name": "stdout",
     "output_type": "stream",
     "text": [
      "  0.002279 seconds (51 allocations: 5.148 KiB)\n"
     ]
    },
    {
     "data": {
      "text/html": [
       "<h3>Resultados para la consulta \"Escuchar música o ver series mientras viajas. _emo _emo _emo #LBO _emo\"</h3>\n",
       "<table>\n",
       "<tr><td>1</td> <td>6481 => 0.0</td> <td>💕</td> <td>Escuchar música o ver series mientras viajas. _emo _emo _emo #LBO _emo</td> </tr><tr><td>2</td> <td>25722 => 0.7</td> <td>😞</td> <td>Ya mejor me voy sola a ver mis series _emo</td> </tr><tr><td>3</td> <td>3959 => 0.76</td> <td>😒</td> <td>Adivinaron que quería escuchar música _emo</td> </tr><tr><td>4</td> <td>1093 => 0.76</td> <td>💙</td> <td>Ya extrañaba esto de ver mis series fav por las mañanas _emo</td> </tr><tr><td>5</td> <td>22038 => 0.76</td> <td>😑</td> <td>No quiero trabajar, quiero ver movies y series todo el día _emo</td> </tr><tr><td>6</td> <td>4946 => 0.77</td> <td>♥</td> <td>_usr Su música _emo</td> </tr><tr><td>7</td> <td>16286 => 0.78</td> <td>🙄</td> <td>Yo tengo ganas de escuchar música y bailar, no de estudiar _emo</td> </tr>\n",
       "</table>\n"
      ],
      "text/plain": [
       "<h3>Resultados para la consulta \"Escuchar música o ver series mientras viajas. _emo _emo _emo #LBO _emo\"</h3>\n",
       "<table>\n",
       "<tr><td>1</td> <td>6481 => 0.0</td> <td>💕</td> <td>Escuchar música o ver series mientras viajas. _emo _emo _emo #LBO _emo</td> </tr><tr><td>2</td> <td>25722 => 0.7</td> <td>😞</td> <td>Ya mejor me voy sola a ver mis series _emo</td> </tr><tr><td>3</td> <td>3959 => 0.76</td> <td>😒</td> <td>Adivinaron que quería escuchar música _emo</td> </tr><tr><td>4</td> <td>1093 => 0.76</td> <td>💙</td> <td>Ya extrañaba esto de ver mis series fav por las mañanas _emo</td> </tr><tr><td>5</td> <td>22038 => 0.76</td> <td>😑</td> <td>No quiero trabajar, quiero ver movies y series todo el día _emo</td> </tr><tr><td>6</td> <td>4946 => 0.77</td> <td>♥</td> <td>_usr Su música _emo</td> </tr><tr><td>7</td> <td>16286 => 0.78</td> <td>🙄</td> <td>Yo tengo ganas de escuchar música y bailar, no de estudiar _emo</td> </tr>\n",
       "</table>\n"
      ]
     },
     "metadata": {},
     "output_type": "display_data"
    },
    {
     "name": "stdout",
     "output_type": "stream",
     "text": [
      "  0.004461 seconds (60 allocations: 5.609 KiB)\n"
     ]
    },
    {
     "data": {
      "text/html": [
       "<h3>Resultados para la consulta \"_usr Eso está muy bueno....ustedes requieren recibirlo lo mejor posible _emo _emo\"</h3>\n",
       "<table>\n",
       "<tr><td>1</td> <td>6014 => 0.0</td> <td>😀</td> <td>_usr Eso está muy bueno....ustedes requieren recibirlo lo mejor posible _emo _emo</td> </tr><tr><td>2</td> <td>33832 => 0.69</td> <td>😤</td> <td>Lo bueno.... _emo</td> </tr><tr><td>3</td> <td>18447 => 0.71</td> <td>✨</td> <td>_usr _usr Esta bueno _emo _emo _emo _emo</td> </tr><tr><td>4</td> <td>13773 => 0.76</td> <td>😋</td> <td>Por eso no quiero vivir con ustedes _emo _emo</td> </tr><tr><td>5</td> <td>27437 => 0.76</td> <td>😤</td> <td>Tanto odio en mi no es posible _emo</td> </tr><tr><td>6</td> <td>42312 => 0.77</td> <td>😉</td> <td>Lo mejor _emo _url</td> </tr><tr><td>7</td> <td>15262 => 0.78</td> <td>😪</td> <td>_usr justo de eso hablamos hace rato. Cómo es posible? _emo</td> </tr>\n",
       "</table>\n"
      ],
      "text/plain": [
       "<h3>Resultados para la consulta \"_usr Eso está muy bueno....ustedes requieren recibirlo lo mejor posible _emo _emo\"</h3>\n",
       "<table>\n",
       "<tr><td>1</td> <td>6014 => 0.0</td> <td>😀</td> <td>_usr Eso está muy bueno....ustedes requieren recibirlo lo mejor posible _emo _emo</td> </tr><tr><td>2</td> <td>33832 => 0.69</td> <td>😤</td> <td>Lo bueno.... _emo</td> </tr><tr><td>3</td> <td>18447 => 0.71</td> <td>✨</td> <td>_usr _usr Esta bueno _emo _emo _emo _emo</td> </tr><tr><td>4</td> <td>13773 => 0.76</td> <td>😋</td> <td>Por eso no quiero vivir con ustedes _emo _emo</td> </tr><tr><td>5</td> <td>27437 => 0.76</td> <td>😤</td> <td>Tanto odio en mi no es posible _emo</td> </tr><tr><td>6</td> <td>42312 => 0.77</td> <td>😉</td> <td>Lo mejor _emo _url</td> </tr><tr><td>7</td> <td>15262 => 0.78</td> <td>😪</td> <td>_usr justo de eso hablamos hace rato. Cómo es posible? _emo</td> </tr>\n",
       "</table>\n"
      ]
     },
     "metadata": {},
     "output_type": "display_data"
    },
    {
     "name": "stdout",
     "output_type": "stream",
     "text": [
      "  0.007350 seconds (83 allocations: 6.836 KiB)\n"
     ]
    },
    {
     "data": {
      "text/html": [
       "<h3>Resultados para la consulta \"Que hueva con los profesores que le complican la existencia a sus alumnos pidiendo mamada y media en la libreta. _emo _emo\"</h3>\n",
       "<table>\n",
       "<tr><td>1</td> <td>18284 => 0.0</td> <td>😓</td> <td>Que hueva con los profesores que le complican la existencia a sus alumnos pidiendo mamada y media en la libreta. _emo _emo</td> </tr><tr><td>2</td> <td>40421 => 0.7</td> <td>😒</td> <td>Que mamada _emo</td> </tr><tr><td>3</td> <td>1909 => 0.75</td> <td>😒</td> <td>Hueva _emo</td> </tr><tr><td>4</td> <td>20412 => 0.75</td> <td>😕</td> <td>Hueva _emo</td> </tr><tr><td>5</td> <td>13129 => 0.76</td> <td>😪</td> <td>Que hueva la verdad _emo</td> </tr><tr><td>6</td> <td>1868 => 0.76</td> <td>😂</td> <td>Es la misma mamada _emo _emo _usr</td> </tr><tr><td>7</td> <td>24609 => 0.77</td> <td>🙂</td> <td>Tú sola existencia me caga _emo</td> </tr>\n",
       "</table>\n"
      ],
      "text/plain": [
       "<h3>Resultados para la consulta \"Que hueva con los profesores que le complican la existencia a sus alumnos pidiendo mamada y media en la libreta. _emo _emo\"</h3>\n",
       "<table>\n",
       "<tr><td>1</td> <td>18284 => 0.0</td> <td>😓</td> <td>Que hueva con los profesores que le complican la existencia a sus alumnos pidiendo mamada y media en la libreta. _emo _emo</td> </tr><tr><td>2</td> <td>40421 => 0.7</td> <td>😒</td> <td>Que mamada _emo</td> </tr><tr><td>3</td> <td>1909 => 0.75</td> <td>😒</td> <td>Hueva _emo</td> </tr><tr><td>4</td> <td>20412 => 0.75</td> <td>😕</td> <td>Hueva _emo</td> </tr><tr><td>5</td> <td>13129 => 0.76</td> <td>😪</td> <td>Que hueva la verdad _emo</td> </tr><tr><td>6</td> <td>1868 => 0.76</td> <td>😂</td> <td>Es la misma mamada _emo _emo _usr</td> </tr><tr><td>7</td> <td>24609 => 0.77</td> <td>🙂</td> <td>Tú sola existencia me caga _emo</td> </tr>\n",
       "</table>\n"
      ]
     },
     "metadata": {},
     "output_type": "display_data"
    },
    {
     "name": "stdout",
     "output_type": "stream",
     "text": [
      "  0.004915 seconds (67 allocations: 5.906 KiB)\n"
     ]
    },
    {
     "data": {
      "text/html": [
       "<h3>Resultados para la consulta \"¡¡Tengo _num días sin usar FB y me siento tan productivo, cagaaajo!!! _emo _emo _emo\"</h3>\n",
       "<table>\n",
       "<tr><td>1</td> <td>29186 => 0.0</td> <td>😌</td> <td>¡¡Tengo _num días sin usar FB y me siento tan productivo, cagaaajo!!! _emo _emo _emo</td> </tr><tr><td>2</td> <td>33235 => 0.66</td> <td>💙</td> <td>Buenísimos días y... ¡¡¡¡¡¡¡Arriba los Tigres!!!!!!! _emo _emo _emo _url</td> </tr><tr><td>3</td> <td>38906 => 0.68</td> <td>😌</td> <td>¡¡¡¡¡¡ Ocupo un café de olla !!!!!! _emo _emo _emo _emo</td> </tr><tr><td>4</td> <td>7678 => 0.72</td> <td>😕</td> <td>Tengo como _num mes entero sin usar bra y ya no lo quisiera volver a usar nunca _emo</td> </tr><tr><td>5</td> <td>10414 => 0.73</td> <td>😕</td> <td>Me siento tan no yo _emo _emo _emo</td> </tr><tr><td>6</td> <td>19139 => 0.74</td> <td>😅</td> <td>Me siento de _num _emo</td> </tr><tr><td>7</td> <td>10556 => 0.76</td> <td>😁</td> <td>Días!!! _emo _url</td> </tr>\n",
       "</table>\n"
      ],
      "text/plain": [
       "<h3>Resultados para la consulta \"¡¡Tengo _num días sin usar FB y me siento tan productivo, cagaaajo!!! _emo _emo _emo\"</h3>\n",
       "<table>\n",
       "<tr><td>1</td> <td>29186 => 0.0</td> <td>😌</td> <td>¡¡Tengo _num días sin usar FB y me siento tan productivo, cagaaajo!!! _emo _emo _emo</td> </tr><tr><td>2</td> <td>33235 => 0.66</td> <td>💙</td> <td>Buenísimos días y... ¡¡¡¡¡¡¡Arriba los Tigres!!!!!!! _emo _emo _emo _url</td> </tr><tr><td>3</td> <td>38906 => 0.68</td> <td>😌</td> <td>¡¡¡¡¡¡ Ocupo un café de olla !!!!!! _emo _emo _emo _emo</td> </tr><tr><td>4</td> <td>7678 => 0.72</td> <td>😕</td> <td>Tengo como _num mes entero sin usar bra y ya no lo quisiera volver a usar nunca _emo</td> </tr><tr><td>5</td> <td>10414 => 0.73</td> <td>😕</td> <td>Me siento tan no yo _emo _emo _emo</td> </tr><tr><td>6</td> <td>19139 => 0.74</td> <td>😅</td> <td>Me siento de _num _emo</td> </tr><tr><td>7</td> <td>10556 => 0.76</td> <td>😁</td> <td>Días!!! _emo _url</td> </tr>\n",
       "</table>\n"
      ]
     },
     "metadata": {},
     "output_type": "display_data"
    },
    {
     "name": "stdout",
     "output_type": "stream",
     "text": [
      "  0.004499 seconds (52 allocations: 5.180 KiB)\n"
     ]
    },
    {
     "data": {
      "text/html": [
       "<h3>Resultados para la consulta \"Con las personas que están conmigo ahorita no necesito a mas _emo _emo\"</h3>\n",
       "<table>\n",
       "<tr><td>1</td> <td>12889 => -0.0</td> <td>❤</td> <td>Con las personas que están conmigo ahorita no necesito a mas _emo _emo</td> </tr><tr><td>2</td> <td>21132 => 0.6</td> <td>😩</td> <td>Ya necesito más _emo _url</td> </tr><tr><td>3</td> <td>28411 => 0.61</td> <td>😐</td> <td>Me encanta que cuando más necesito de mis amigos, no están. _emo</td> </tr><tr><td>4</td> <td>38150 => 0.61</td> <td>😴</td> <td>Yo ahorita _emo _emo _url</td> </tr><tr><td>5</td> <td>41605 => 0.62</td> <td>😩</td> <td>Necesito _emo _emo _emo _emo _emo _emo _emo _emo _emo _emo</td> </tr><tr><td>6</td> <td>4903 => 0.62</td> <td>😔</td> <td>Yo ahorita. _emo _url</td> </tr><tr><td>7</td> <td>23116 => 0.63</td> <td>😔</td> <td>Mami te necesito aquí conmigo _emo _emo</td> </tr>\n",
       "</table>\n"
      ],
      "text/plain": [
       "<h3>Resultados para la consulta \"Con las personas que están conmigo ahorita no necesito a mas _emo _emo\"</h3>\n",
       "<table>\n",
       "<tr><td>1</td> <td>12889 => -0.0</td> <td>❤</td> <td>Con las personas que están conmigo ahorita no necesito a mas _emo _emo</td> </tr><tr><td>2</td> <td>21132 => 0.6</td> <td>😩</td> <td>Ya necesito más _emo _url</td> </tr><tr><td>3</td> <td>28411 => 0.61</td> <td>😐</td> <td>Me encanta que cuando más necesito de mis amigos, no están. _emo</td> </tr><tr><td>4</td> <td>38150 => 0.61</td> <td>😴</td> <td>Yo ahorita _emo _emo _url</td> </tr><tr><td>5</td> <td>41605 => 0.62</td> <td>😩</td> <td>Necesito _emo _emo _emo _emo _emo _emo _emo _emo _emo _emo</td> </tr><tr><td>6</td> <td>4903 => 0.62</td> <td>😔</td> <td>Yo ahorita. _emo _url</td> </tr><tr><td>7</td> <td>23116 => 0.63</td> <td>😔</td> <td>Mami te necesito aquí conmigo _emo _emo</td> </tr>\n",
       "</table>\n"
      ]
     },
     "metadata": {},
     "output_type": "display_data"
    },
    {
     "name": "stdout",
     "output_type": "stream",
     "text": [
      "  0.002407 seconds (31 allocations: 3.883 KiB)\n"
     ]
    },
    {
     "data": {
      "text/html": [
       "<h3>Resultados para la consulta \"Quiero irme de aquí. _emo\"</h3>\n",
       "<table>\n",
       "<tr><td>1</td> <td>23385 => 0.0</td> <td>😓</td> <td>Quiero irme de aquí. _emo</td> </tr><tr><td>2</td> <td>35002 => 0.12</td> <td>😱</td> <td>Ya quiero irme de aquí !!! _emo _emo _emo _emo</td> </tr><tr><td>3</td> <td>20820 => 0.33</td> <td>😫</td> <td>No quiero irme de México, quiero quedarme aquí x siempre _emo</td> </tr><tr><td>4</td> <td>200 => 0.45</td> <td>😔</td> <td>Yo no queria irme _emo</td> </tr><tr><td>5</td> <td>28753 => 0.49</td> <td>😥</td> <td>Cómo quisiera irme de mi casa. _emo</td> </tr><tr><td>6</td> <td>13869 => 0.5</td> <td>💔</td> <td>Solo quiero irme a mi casa y no saber nada de nadie. _emo</td> </tr><tr><td>7</td> <td>18482 => 0.54</td> <td>😣</td> <td>Ya me quiero ir de aquí _emo</td> </tr>\n",
       "</table>\n"
      ],
      "text/plain": [
       "<h3>Resultados para la consulta \"Quiero irme de aquí. _emo\"</h3>\n",
       "<table>\n",
       "<tr><td>1</td> <td>23385 => 0.0</td> <td>😓</td> <td>Quiero irme de aquí. _emo</td> </tr><tr><td>2</td> <td>35002 => 0.12</td> <td>😱</td> <td>Ya quiero irme de aquí !!! _emo _emo _emo _emo</td> </tr><tr><td>3</td> <td>20820 => 0.33</td> <td>😫</td> <td>No quiero irme de México, quiero quedarme aquí x siempre _emo</td> </tr><tr><td>4</td> <td>200 => 0.45</td> <td>😔</td> <td>Yo no queria irme _emo</td> </tr><tr><td>5</td> <td>28753 => 0.49</td> <td>😥</td> <td>Cómo quisiera irme de mi casa. _emo</td> </tr><tr><td>6</td> <td>13869 => 0.5</td> <td>💔</td> <td>Solo quiero irme a mi casa y no saber nada de nadie. _emo</td> </tr><tr><td>7</td> <td>18482 => 0.54</td> <td>😣</td> <td>Ya me quiero ir de aquí _emo</td> </tr>\n",
       "</table>\n"
      ]
     },
     "metadata": {},
     "output_type": "display_data"
    },
    {
     "name": "stdout",
     "output_type": "stream",
     "text": [
      "  0.007927 seconds (84 allocations: 6.750 KiB)\n"
     ]
    },
    {
     "data": {
      "text/html": [
       "<h3>Resultados para la consulta \"Acabo de ver una carrera de bebés gateando. El que ganó, llegó primero porque la mamá lo atraía con el _emo _emo\"</h3>\n",
       "<table>\n",
       "<tr><td>1</td> <td>7729 => 0.0</td> <td>😐</td> <td>Acabo de ver una carrera de bebés gateando. El que ganó, llegó primero porque la mamá lo atraía con el _emo _emo</td> </tr><tr><td>2</td> <td>20665 => 0.71</td> <td>💖</td> <td>Bebés _emo _emo</td> </tr><tr><td>3</td> <td>20173 => 0.73</td> <td>🤔</td> <td>_usr Y qué gano? _emo</td> </tr><tr><td>4</td> <td>13650 => 0.74</td> <td>😋</td> <td>._usr No ganó el Estado de México, pero se ganó mi corazón. _emo</td> </tr><tr><td>5</td> <td>10213 => 0.76</td> <td>😋</td> <td>Siempre le gano _emo</td> </tr><tr><td>6</td> <td>8519 => 0.76</td> <td>😱</td> <td>Llegó el día _emo</td> </tr><tr><td>7</td> <td>37905 => 0.76</td> <td>❤</td> <td>Amo a los bebes _emo _emo</td> </tr>\n",
       "</table>\n"
      ],
      "text/plain": [
       "<h3>Resultados para la consulta \"Acabo de ver una carrera de bebés gateando. El que ganó, llegó primero porque la mamá lo atraía con el _emo _emo\"</h3>\n",
       "<table>\n",
       "<tr><td>1</td> <td>7729 => 0.0</td> <td>😐</td> <td>Acabo de ver una carrera de bebés gateando. El que ganó, llegó primero porque la mamá lo atraía con el _emo _emo</td> </tr><tr><td>2</td> <td>20665 => 0.71</td> <td>💖</td> <td>Bebés _emo _emo</td> </tr><tr><td>3</td> <td>20173 => 0.73</td> <td>🤔</td> <td>_usr Y qué gano? _emo</td> </tr><tr><td>4</td> <td>13650 => 0.74</td> <td>😋</td> <td>._usr No ganó el Estado de México, pero se ganó mi corazón. _emo</td> </tr><tr><td>5</td> <td>10213 => 0.76</td> <td>😋</td> <td>Siempre le gano _emo</td> </tr><tr><td>6</td> <td>8519 => 0.76</td> <td>😱</td> <td>Llegó el día _emo</td> </tr><tr><td>7</td> <td>37905 => 0.76</td> <td>❤</td> <td>Amo a los bebes _emo _emo</td> </tr>\n",
       "</table>\n"
      ]
     },
     "metadata": {},
     "output_type": "display_data"
    }
   ],
   "source": [
    "for i in 1:10\n",
    "    qID = rand(1:length(E.data.text))\n",
    "    search_and_display(E, E.data.text[qID], 7)\n",
    "end"
   ]
  },
  {
   "cell_type": "markdown",
   "id": "5403b789-c8d3-4a86-957d-e7500efefe9d",
   "metadata": {},
   "source": [
    "# Actividades\n",
    "\n",
    "- Revisión de los servicios y empresas mencionados \n",
    "- Revisión de los proyectos open source mencionados\n",
    "- Cargue este notebook y modifique las consultas (necesita Jupyter y el kernel de Julia <https://github.com/JuliaLang/IJulia.jl>)\n",
    "- Revise la bibliografía sobre recuperación de información, en especial [^SMR2008] se encuentra libre desde <https://nlp.stanford.edu/IR-book/pdf/irbookonlinereading.pdf>"
   ]
  },
  {
   "cell_type": "markdown",
   "id": "f558a317-b84c-45b2-a185-36af24741ace",
   "metadata": {},
   "source": [
    "# Bibliografía\n",
    "- [SMR2008] Schütze, H., Manning, C. D., & Raghavan, P. (2008). Introduction to information retrieval (Vol. 39, pp. 234-65). Cambridge: Cambridge University Press.\n",
    "- [BYN1999] Baeza-Yates, R., & Ribeiro-Neto, B. (1999). Modern information retrieval (Vol. 463). New York: ACM press."
   ]
  }
 ],
 "metadata": {
  "kernelspec": {
   "display_name": "Julia 1.10.0-rc1",
   "language": "julia",
   "name": "julia-1.10"
  },
  "language_info": {
   "file_extension": ".jl",
   "mimetype": "application/julia",
   "name": "julia",
   "version": "1.10.0"
  }
 },
 "nbformat": 4,
 "nbformat_minor": 5
}
