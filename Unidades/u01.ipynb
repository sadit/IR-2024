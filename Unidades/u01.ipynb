{
 "cells": [
  {
   "cell_type": "markdown",
   "id": "b606b63e-967d-4d4d-85e4-e02a32020425",
   "metadata": {},
   "source": [
    "# Introducción a la recuperación de información\n",
    "Autor: Eric S. Tellez <eric.tellez@infotec.mx><br/>\n",
    "\n",
    "La Recuperación de Información (IR) es una disciplina multidisciplinaria que se crea a partir de la necesidad de simplificar el acceso y revisión de documentos en grandes colecciones. Estas colecciones pueden ser homogéneas o heterogéneas, tanto en su contenido como en su formato. En un inicio, se consideraban colecciones textuales pero las necesidades de información han cambiado, y ahora es común encontrar sistemas de recuperación de información sobre otros datos como imágenes o videos, o inclusive multimodales, esto es que puedan usar diferentes tipos de objetos. Un objeto puede ser un documento de texto, una imagen, o cualquier otro tipo de datos que se desee tener acceso. \n",
    "\n",
    "Mantener un sistema de información homogéneo puede simplificar su mantenimiento enormemente, por lo que si es posible, se puede intentar mantener cierta homegeneidad. Para sistemas de fuentes abiertas como puede ser la web, esto será posible.\n",
    "\n",
    "En general, se puede ver un sistema de recuperación de información en tres grandes partes:\n",
    "\n",
    "1. Recolección de datos, normalización y modelado matemático.\n",
    "2. Indexamiento, interpretación de consultas y optimización\n",
    "3. Agregación y filtrado de resultados, presentación de los mismos\n",
    "\n",
    "\n",
    "La normalización puede ir desde el simple preprocesamiento de los datos hasta manipulaciones y transformaciones dependientes del dominio y el lenguaje. Una vez aplicado el modelado adecuado a las colecciones, las representaciones matemáticas suelen ser vectores de alta dimensión para cada objeto.\n",
    "\n",
    "En cuanto al indexamiento se utilizarán dos tipos de algoritmos, búsqueda mediante índices invertidos y búsqueda por índices métricos. Ambas tienen sus nichos de aplicación y usarlas adecuadamente requiere conocer los problemas y sus modelados.\n",
    "\n",
    "La presentación de los resultados puede ser tan simple como una lista de resultados más relevantes y una pequeña muestra del objeto, o más complejo que requiera alguna técnica de visualización. Todo esto dependerá del dominio de aplicación y la naturaleza del sistema de recuperación de información.\n",
    "\n",
    "En este curso se visitarán parcialmente todas estas partes. En general se usaran conjuntos de datos previamente recolectados, aunque se invita a explorar otras colecciones.\n",
    "\n",
    "# Sistemas basados en recuperación de información\n",
    "Ejemplos de sistemas de recuperación de información\n",
    "\n",
    "- Google, scholar google, google images, google news, youtube...\n",
    "- Bing!\n",
    "- Yahoo search\n",
    "- Yandex\n",
    "- DuckDuckGo\n",
    "\n",
    "También es común que el sistema de recuperación de información no sea el principal producto pero un componente médular. Por ejemplo, el caso de los sistemas de streaming de videos, películas, música, redes sociales, market-places, etc.\n",
    "\n",
    "# Ejemplos de implementación de search engines open source\n",
    "- [Apache Lucene](https://lucene.apache.org/)\n",
    "- [Apache SOLR](https://solr.apache.org/)\n",
    "- [ElasticSearch](https://www.elastic.co/es/what-is/elasticsearch)\n",
    "- [hnswlib](https://github.com/nmslib/hnswlib)\n",
    "- [FAISS](https://github.com/facebookresearch/faiss)\n",
    "- [TextSearch.jl](https://github.com/sadit/TextSearch.jl)\n",
    "- [InvertedFiles.jl](https://github.com/sadit/InvertedFiles.jl)\n",
    "- [SimilaritySearch.jl](https://github.com/sadit/SimilaritySearch.jl)\n",
    "\n",
    "\n",
    "# Ejercicio\n",
    "\n",
    "Construcción de un índice de búsqueda para una colección de mensajes de Twitter. Los mensajes se pueden ver como documentos cortos. Se preprocesan y se modalen en vectores mediante un vocabulario. Después se construye el índice con dichos vectores y se hace posible la búsqueda eficiente. Note que existen etiquetas que se pueden usar para otras tareas; de manera más genérica, se pueden ver como metadatos asociados a los elementos del corpus.\n",
    "\n",
    "**Nota: para correr este notebook, es necesario primero inicializar el ambiente de desarrollo; para esto revise el notebook `u00.ipynb` de este repositorio**"
   ]
  },
  {
   "cell_type": "code",
   "execution_count": 1,
   "id": "bb11ca12-b635-45bb-ac02-14523674ded8",
   "metadata": {},
   "outputs": [
    {
     "name": "stderr",
     "output_type": "stream",
     "text": [
      "\u001b[32m\u001b[1m  Activating\u001b[22m\u001b[39m project at `~/Cursos/IR-2024/Unidades`\n"
     ]
    }
   ],
   "source": [
    "using Pkg\n",
    "Pkg.activate(\".\")\n",
    "\n",
    "using TextSearch, InvertedFiles, SimilaritySearch, LinearAlgebra, HypertextLiteral"
   ]
  },
  {
   "cell_type": "markdown",
   "id": "f3fd994e-6be8-45c8-a0fc-8f05dfcf2636",
   "metadata": {},
   "source": [
    "## Funciones para leer y modelar el corpus"
   ]
  },
  {
   "cell_type": "code",
   "execution_count": 2,
   "id": "d9482f05-8d88-4896-9b9e-646bc1da2abb",
   "metadata": {},
   "outputs": [
    {
     "data": {
      "text/plain": [
       "text_model_and_vectors (generic function with 1 method)"
      ]
     },
     "execution_count": 2,
     "metadata": {},
     "output_type": "execute_result"
    }
   ],
   "source": [
    "function text_model_and_vectors(corpus)\n",
    "    textconfig = TextConfig(group_usr=true, group_url=true, del_diac=true, lc=true, group_num=true, nlist=[1], qlist=[])\n",
    "    voc = Vocabulary(textconfig, corpus)\n",
    "    model = VectorModel(IdfWeighting(), TfWeighting(), voc)    \n",
    "    vectors = vectorize_corpus(model, corpus)\n",
    "\n",
    "    (; textconfig, model, vectors)\n",
    "end\n"
   ]
  },
  {
   "cell_type": "code",
   "execution_count": 3,
   "id": "1176ef00-1153-4cba-bb89-354d634c857e",
   "metadata": {},
   "outputs": [
    {
     "data": {
      "text/html": [
       "<h1>Cargando el corpus</h1>"
      ],
      "text/plain": [
       "<h1>Cargando el corpus</h1>"
      ]
     },
     "metadata": {},
     "output_type": "display_data"
    },
    {
     "name": "stdout",
     "output_type": "stream",
     "text": [
      "(unique(D.labels), T.model) = ([\"♡\", \"😒\", \"💖\", \"😴\", \"😍\", \"😓\", \"😬\", \"💙\", \"😃\", \"😡\", \"🤓\", \"🙂\", \"❤\", \"😠\", \"😳\", \"😭\", \"👌\", \"🌚\", \"😅\", \"😐\", \"😋\", \"😕\", \"😉\", \"😢\", \"😱\", \"💕\", \"🤣\", \"😪\", \"😎\", \"😏\", \"😻\", \"🤭\", \"💜\", \"🙈\", \"🙏\", \"😥\", \"😀\", \"😤\", \"😩\", \"😘\", \"😊\", \"🙄\", \"🤗\", \"😜\", \"😑\", \"✨\", \"😰\", \"😂\", \"🎶\", \"🙃\", \"🙊\", \"🤤\", \"👏\", \"😁\", \"😞\", \"😣\", \"😌\", \"🤔\", \"♥\", \"💔\", \"👀\", \"😔\", \"😈\", \"😫\"], {VectorModel\n",
      "    global_weighting: IdfWeighting()\n",
      "    local_weighting: TfWeighting()\n",
      "    vocsize: 41704\n",
      "    trainsize=45000\n",
      "    maxoccs=84742                                    \n",
      "})\n"
     ]
    },
    {
     "data": {
      "text/plain": [
       "([\"♡\", \"😒\", \"💖\", \"😴\", \"😍\", \"😓\", \"😬\", \"💙\", \"😃\", \"😡\"  …  \"😞\", \"😣\", \"😌\", \"🤔\", \"♥\", \"💔\", \"👀\", \"😔\", \"😈\", \"😫\"], {VectorModel\n",
       "    global_weighting: IdfWeighting()\n",
       "    local_weighting: TfWeighting()\n",
       "    vocsize: 41704\n",
       "    trainsize=45000\n",
       "    maxoccs=84742                                    \n",
       "})"
      ]
     },
     "execution_count": 3,
     "metadata": {},
     "output_type": "execute_result"
    }
   ],
   "source": [
    "display(@htl \"<h1>Cargando el corpus</h1>\")\n",
    "\n",
    "include(\"read_datasets.jl\")\n",
    "D, _ = read_emojispace()\n",
    "T = text_model_and_vectors(D.text)\n",
    "\n",
    "@show unique(D.labels), T.model"
   ]
  },
  {
   "cell_type": "markdown",
   "id": "e6ab564f-f90b-4b18-a090-ed3ecb4ec717",
   "metadata": {},
   "source": [
    "### Note que las etiquetas son emojis, que hay 45k ejemplos y un vocabulario de más de 42k tokens. A continuación se construirá el índice invertido usando el paquete <https://github.com/sadit/TextSearch.jl>, claramente, el código solo funcionará con dicha implementación, pero el procedimiento general aplicaría a otras implementaciones."
   ]
  },
  {
   "cell_type": "code",
   "execution_count": 4,
   "id": "cd7ccd91-c1c2-4a04-b792-d38a8c65342a",
   "metadata": {},
   "outputs": [
    {
     "data": {
      "text/plain": [
       "{WeightedInvertedFile{Nothing, SimilaritySearch.AdjacencyLists.AdjacencyList{IdWeight}} vocsize=41704, n=45000}"
      ]
     },
     "execution_count": 4,
     "metadata": {},
     "output_type": "execute_result"
    }
   ],
   "source": [
    "invfile = WeightedInvertedFile(length(T.model.voc))\n",
    "append_items!(invfile, VectorDatabase(T.vectors))"
   ]
  },
  {
   "cell_type": "code",
   "execution_count": 5,
   "id": "a8b61d9e-1868-438c-8b74-4a4e818d6afc",
   "metadata": {},
   "outputs": [],
   "source": [
    "E = (; invfile, data=D, T...); # a convenient definition to put everything into a single tuple"
   ]
  },
  {
   "cell_type": "code",
   "execution_count": 6,
   "id": "c0f207f2-ed09-4fec-9da6-2ad625c21801",
   "metadata": {},
   "outputs": [
    {
     "data": {
      "text/plain": [
       "search_and_display (generic function with 1 method)"
      ]
     },
     "execution_count": 6,
     "metadata": {},
     "output_type": "execute_result"
    }
   ],
   "source": [
    "function search_and_display(E, q, k)\n",
    "    res = KnnResult(k)\n",
    "    @time search(E.invfile, vectorize(E.model, q), res)\n",
    "    L = []\n",
    "    for (i, p) in enumerate(res)\n",
    "        id, dist = p.id, round(p.weight, digits=2)\n",
    "        push!(L, @htl \"\"\"<tr><td>$i</td> <td>$id => $dist</td> <td>$(E.data.labels[id])</td> <td>$(E.data.text[id])</td> </tr>\"\"\")\n",
    "    end\n",
    "\n",
    "    display(@htl \"\"\"\n",
    "    <h3>Resultados para la consulta \"$q\"</h3>\n",
    "    <table>\n",
    "    $L\n",
    "    </table>\n",
    "    \"\"\")\n",
    "end"
   ]
  },
  {
   "cell_type": "code",
   "execution_count": 7,
   "id": "046760fa-03d2-4bc9-a6cd-418c4f655b43",
   "metadata": {},
   "outputs": [
    {
     "name": "stdout",
     "output_type": "stream",
     "text": [
      "  0.028771 seconds (1.21 k allocations: 56.797 KiB, 98.86% compilation time)\n"
     ]
    },
    {
     "data": {
      "text/html": [
       "<h3>Resultados para la consulta \"no importa distancia\"</h3>\n",
       "<table>\n",
       "<tr><td>1</td> <td>35343 => 0.03</td> <td>💕</td> <td>No importa la distancia _emo _usr _url</td> </tr><tr><td>2</td> <td>24815 => 0.38</td> <td>😓</td> <td>Me caga la distancia _emo</td> </tr><tr><td>3</td> <td>37163 => 0.52</td> <td>😃</td> <td>No importa cuando...  _emo _emo _url</td> </tr><tr><td>4</td> <td>1288 => 0.57</td> <td>😥</td> <td>tiempo y distancia, quizás sea eso... _emo</td> </tr><tr><td>5</td> <td>36425 => 0.57</td> <td>😑</td> <td>_usr A ti no te importa _emo</td> </tr>\n",
       "</table>\n"
      ],
      "text/plain": [
       "<h3>Resultados para la consulta \"no importa distancia\"</h3>\n",
       "<table>\n",
       "<tr><td>1</td> <td>35343 => 0.03</td> <td>💕</td> <td>No importa la distancia _emo _usr _url</td> </tr><tr><td>2</td> <td>24815 => 0.38</td> <td>😓</td> <td>Me caga la distancia _emo</td> </tr><tr><td>3</td> <td>37163 => 0.52</td> <td>😃</td> <td>No importa cuando...  _emo _emo _url</td> </tr><tr><td>4</td> <td>1288 => 0.57</td> <td>😥</td> <td>tiempo y distancia, quizás sea eso... _emo</td> </tr><tr><td>5</td> <td>36425 => 0.57</td> <td>😑</td> <td>_usr A ti no te importa _emo</td> </tr>\n",
       "</table>\n"
      ]
     },
     "metadata": {},
     "output_type": "display_data"
    },
    {
     "name": "stdout",
     "output_type": "stream",
     "text": [
      "  0.000237 seconds (25 allocations: 3.602 KiB)\n"
     ]
    },
    {
     "data": {
      "text/html": [
       "<h3>Resultados para la consulta \"cuando nos vemos?\"</h3>\n",
       "<table>\n",
       "<tr><td>1</td> <td>30054 => 0.23</td> <td>😂</td> <td>Nos vemos!! _emo _emo _emo _emo _url</td> </tr><tr><td>2</td> <td>21749 => 0.31</td> <td>😜</td> <td>_usr En la tarde nos vemos _emo _emo _emo</td> </tr><tr><td>3</td> <td>9076 => 0.34</td> <td>😻</td> <td>Nos vemos pronto _usr _usr _emo _emo _url</td> </tr><tr><td>4</td> <td>24169 => 0.43</td> <td>😍</td> <td>_usr Pronto nos vemos hermana _emo _emo</td> </tr><tr><td>5</td> <td>37158 => 0.45</td> <td>😕</td> <td>Apenas van _num días que no nos vemos _emo</td> </tr>\n",
       "</table>\n"
      ],
      "text/plain": [
       "<h3>Resultados para la consulta \"cuando nos vemos?\"</h3>\n",
       "<table>\n",
       "<tr><td>1</td> <td>30054 => 0.23</td> <td>😂</td> <td>Nos vemos!! _emo _emo _emo _emo _url</td> </tr><tr><td>2</td> <td>21749 => 0.31</td> <td>😜</td> <td>_usr En la tarde nos vemos _emo _emo _emo</td> </tr><tr><td>3</td> <td>9076 => 0.34</td> <td>😻</td> <td>Nos vemos pronto _usr _usr _emo _emo _url</td> </tr><tr><td>4</td> <td>24169 => 0.43</td> <td>😍</td> <td>_usr Pronto nos vemos hermana _emo _emo</td> </tr><tr><td>5</td> <td>37158 => 0.45</td> <td>😕</td> <td>Apenas van _num días que no nos vemos _emo</td> </tr>\n",
       "</table>\n"
      ]
     },
     "metadata": {},
     "output_type": "display_data"
    },
    {
     "name": "stdout",
     "output_type": "stream",
     "text": [
      "  0.000161 seconds (23 allocations: 3.547 KiB)\n"
     ]
    },
    {
     "data": {
      "text/html": [
       "<h3>Resultados para la consulta \"feliz cumpleaños?\"</h3>\n",
       "<table>\n",
       "<tr><td>1</td> <td>26556 => 0.11</td> <td>❤</td> <td>_usr Feliz Cumpleaños _emo</td> </tr><tr><td>2</td> <td>40229 => 0.11</td> <td>😁</td> <td>Feliz Cumpleaños _emo _emo _usr</td> </tr><tr><td>3</td> <td>8772 => 0.11</td> <td>🙊</td> <td>Feliz Cumpleaños _usr _emo _emo _emo _emo _emo</td> </tr>\n",
       "</table>\n"
      ],
      "text/plain": [
       "<h3>Resultados para la consulta \"feliz cumpleaños?\"</h3>\n",
       "<table>\n",
       "<tr><td>1</td> <td>26556 => 0.11</td> <td>❤</td> <td>_usr Feliz Cumpleaños _emo</td> </tr><tr><td>2</td> <td>40229 => 0.11</td> <td>😁</td> <td>Feliz Cumpleaños _emo _emo _usr</td> </tr><tr><td>3</td> <td>8772 => 0.11</td> <td>🙊</td> <td>Feliz Cumpleaños _usr _emo _emo _emo _emo _emo</td> </tr>\n",
       "</table>\n"
      ]
     },
     "metadata": {},
     "output_type": "display_data"
    },
    {
     "name": "stdout",
     "output_type": "stream",
     "text": [
      "  0.000021 seconds (22 allocations: 3.406 KiB)\n"
     ]
    },
    {
     "data": {
      "text/html": [
       "<h3>Resultados para la consulta \"ola k ase\"</h3>\n",
       "<table>\n",
       "<tr><td>1</td> <td>43663 => 0.64</td> <td>😎</td> <td>_usr _usr Siempre, todo y todos los días de la semana desde ase muchoooooossss años _emo _emo</td> </tr><tr><td>2</td> <td>23585 => 0.71</td> <td>😤</td> <td>_usr k bueno k tu mizmo lo reconozcAszzzz _emo</td> </tr><tr><td>3</td> <td>38425 => 0.71</td> <td>😃</td> <td>Despertares!! (By OLA) # _emo _emo en Distrito Federal, Mexico _url</td> </tr>\n",
       "</table>\n"
      ],
      "text/plain": [
       "<h3>Resultados para la consulta \"ola k ase\"</h3>\n",
       "<table>\n",
       "<tr><td>1</td> <td>43663 => 0.64</td> <td>😎</td> <td>_usr _usr Siempre, todo y todos los días de la semana desde ase muchoooooossss años _emo _emo</td> </tr><tr><td>2</td> <td>23585 => 0.71</td> <td>😤</td> <td>_usr k bueno k tu mizmo lo reconozcAszzzz _emo</td> </tr><tr><td>3</td> <td>38425 => 0.71</td> <td>😃</td> <td>Despertares!! (By OLA) # _emo _emo en Distrito Federal, Mexico _url</td> </tr>\n",
       "</table>\n"
      ]
     },
     "metadata": {},
     "output_type": "display_data"
    },
    {
     "name": "stdout",
     "output_type": "stream",
     "text": [
      "  0.000161 seconds (23 allocations: 3.523 KiB)\n"
     ]
    },
    {
     "data": {
      "text/html": [
       "<h3>Resultados para la consulta \"mi humilde opinión\"</h3>\n",
       "<table>\n",
       "<tr><td>1</td> <td>2148 => 0.33</td> <td>🙏</td> <td>Bueno, cada quien su vida, ya se, solo es una humilde opinión !! _emo _emo _emo</td> </tr><tr><td>2</td> <td>35818 => 0.51</td> <td>😍</td> <td>_usr es la persona más humilde que conozco _emo</td> </tr><tr><td>3</td> <td>32858 => 0.62</td> <td>🤔</td> <td>_usr Bajo tu opinión fue o no falta? _emo</td> </tr><tr><td>4</td> <td>28393 => 0.62</td> <td>😊</td> <td>Gracias por compartir la información y tu opinión _emo _url</td> </tr><tr><td>5</td> <td>31667 => 0.65</td> <td>😉</td> <td>Cuantos Likes para mi humilde oficina _usr  _emo _emo @ CocoBongo _url</td> </tr><tr><td>6</td> <td>5532 => 0.66</td> <td>🤗</td> <td>Para ser feliz, no escuches la opinión de los demás _emo</td> </tr><tr><td>7</td> <td>12713 => 0.67</td> <td>👏</td> <td>_usr Totalmente de acuerdo contigo en todo. Comparto tu opinión _emo _emo _emo _emo</td> </tr><tr><td>8</td> <td>990 => 0.72</td> <td>😌</td> <td>Tu opinión no me interesa más. No tengo nada que demostrarte, y si piensas lo peor de mi, MEJOR! _emo</td> </tr><tr><td>9</td> <td>39601 => 0.73</td> <td>😑</td> <td>Lo siento pero mi tez humilde no me deja ser guapo y estar bueno, eso sin mencionar la rodilla que me chingue! _emo _emo</td> </tr><tr><td>10</td> <td>11589 => 0.75</td> <td>😃</td> <td>Interesante opinión y espero que sigas escribiendo _usr en mejores espacios  !suerte!! _emo _emo _emo _url</td> </tr>\n",
       "</table>\n"
      ],
      "text/plain": [
       "<h3>Resultados para la consulta \"mi humilde opinión\"</h3>\n",
       "<table>\n",
       "<tr><td>1</td> <td>2148 => 0.33</td> <td>🙏</td> <td>Bueno, cada quien su vida, ya se, solo es una humilde opinión !! _emo _emo _emo</td> </tr><tr><td>2</td> <td>35818 => 0.51</td> <td>😍</td> <td>_usr es la persona más humilde que conozco _emo</td> </tr><tr><td>3</td> <td>32858 => 0.62</td> <td>🤔</td> <td>_usr Bajo tu opinión fue o no falta? _emo</td> </tr><tr><td>4</td> <td>28393 => 0.62</td> <td>😊</td> <td>Gracias por compartir la información y tu opinión _emo _url</td> </tr><tr><td>5</td> <td>31667 => 0.65</td> <td>😉</td> <td>Cuantos Likes para mi humilde oficina _usr  _emo _emo @ CocoBongo _url</td> </tr><tr><td>6</td> <td>5532 => 0.66</td> <td>🤗</td> <td>Para ser feliz, no escuches la opinión de los demás _emo</td> </tr><tr><td>7</td> <td>12713 => 0.67</td> <td>👏</td> <td>_usr Totalmente de acuerdo contigo en todo. Comparto tu opinión _emo _emo _emo _emo</td> </tr><tr><td>8</td> <td>990 => 0.72</td> <td>😌</td> <td>Tu opinión no me interesa más. No tengo nada que demostrarte, y si piensas lo peor de mi, MEJOR! _emo</td> </tr><tr><td>9</td> <td>39601 => 0.73</td> <td>😑</td> <td>Lo siento pero mi tez humilde no me deja ser guapo y estar bueno, eso sin mencionar la rodilla que me chingue! _emo _emo</td> </tr><tr><td>10</td> <td>11589 => 0.75</td> <td>😃</td> <td>Interesante opinión y espero que sigas escribiendo _usr en mejores espacios  !suerte!! _emo _emo _emo _url</td> </tr>\n",
       "</table>\n"
      ]
     },
     "metadata": {},
     "output_type": "display_data"
    }
   ],
   "source": [
    "search_and_display(E, \"no importa distancia\", 5)\n",
    "search_and_display(E, \"cuando nos vemos?\", 5)\n",
    "search_and_display(E, \"feliz cumpleaños?\", 3)\n",
    "search_and_display(E, \"ola k ase\", 3)\n",
    "search_and_display(E, \"mi humilde opinión\", 10)"
   ]
  },
  {
   "cell_type": "markdown",
   "id": "33ad823b-70c0-447d-bfe0-8a920525ca12",
   "metadata": {},
   "source": [
    "### También es posible consultar elementos del mismo corpus, lo cual permité inspeccionar la estructura interna de la colección. Esto será de utilidad más adelante en el curso."
   ]
  },
  {
   "cell_type": "code",
   "execution_count": 8,
   "id": "bde30ad5-8c2d-4622-b0c2-994802b64e9d",
   "metadata": {},
   "outputs": [
    {
     "name": "stdout",
     "output_type": "stream",
     "text": [
      "  0.002117 seconds (39 allocations: 4.430 KiB)\n"
     ]
    },
    {
     "data": {
      "text/html": [
       "<h3>Resultados para la consulta \"#MagnetoMercurio saludo de alex para Vero _emo _emo\"</h3>\n",
       "<table>\n",
       "<tr><td>1</td> <td>21618 => -0.0</td> <td>😤</td> <td>#MagnetoMercurio saludo de alex para Vero _emo _emo</td> </tr><tr><td>2</td> <td>32640 => -0.0</td> <td>😤</td> <td>#MagnetoMercurio saludo de alex para Vero _emo _emo</td> </tr><tr><td>3</td> <td>32771 => -0.0</td> <td>😊</td> <td>#MagnetoMercurio saludo de alex para Vero _emo _emo</td> </tr><tr><td>4</td> <td>22440 => 0.0</td> <td>😌</td> <td>#MagnetoMercurio saludo de alex para Vero _emo _emo _emo _emo _emo</td> </tr><tr><td>5</td> <td>29858 => 0.59</td> <td>😜</td> <td>Un saludo _usr _emo _emo _emo _emo</td> </tr><tr><td>6</td> <td>243 => 0.63</td> <td>😂</td> <td>Alex jajajajaja _usr _emo _emo _emo _usr _url</td> </tr><tr><td>7</td> <td>6547 => 0.69</td> <td>😀</td> <td>_usr Hola buenos días Vero. Feliz sábado _emo _emo _emo</td> </tr>\n",
       "</table>\n"
      ],
      "text/plain": [
       "<h3>Resultados para la consulta \"#MagnetoMercurio saludo de alex para Vero _emo _emo\"</h3>\n",
       "<table>\n",
       "<tr><td>1</td> <td>21618 => -0.0</td> <td>😤</td> <td>#MagnetoMercurio saludo de alex para Vero _emo _emo</td> </tr><tr><td>2</td> <td>32640 => -0.0</td> <td>😤</td> <td>#MagnetoMercurio saludo de alex para Vero _emo _emo</td> </tr><tr><td>3</td> <td>32771 => -0.0</td> <td>😊</td> <td>#MagnetoMercurio saludo de alex para Vero _emo _emo</td> </tr><tr><td>4</td> <td>22440 => 0.0</td> <td>😌</td> <td>#MagnetoMercurio saludo de alex para Vero _emo _emo _emo _emo _emo</td> </tr><tr><td>5</td> <td>29858 => 0.59</td> <td>😜</td> <td>Un saludo _usr _emo _emo _emo _emo</td> </tr><tr><td>6</td> <td>243 => 0.63</td> <td>😂</td> <td>Alex jajajajaja _usr _emo _emo _emo _usr _url</td> </tr><tr><td>7</td> <td>6547 => 0.69</td> <td>😀</td> <td>_usr Hola buenos días Vero. Feliz sábado _emo _emo _emo</td> </tr>\n",
       "</table>\n"
      ]
     },
     "metadata": {},
     "output_type": "display_data"
    },
    {
     "name": "stdout",
     "output_type": "stream",
     "text": [
      "  0.003047 seconds (49 allocations: 5.094 KiB)\n"
     ]
    },
    {
     "data": {
      "text/html": [
       "<h3>Resultados para la consulta \"esto de leer conversaciones VIEJISIMAS me deprime un chorro _emo _emo\"</h3>\n",
       "<table>\n",
       "<tr><td>1</td> <td>36113 => -0.0</td> <td>🙃</td> <td>esto de leer conversaciones VIEJISIMAS me deprime un chorro _emo _emo</td> </tr><tr><td>2</td> <td>23122 => 0.67</td> <td>😭</td> <td>Me deprime mas no estar con ellos _emo _url</td> </tr><tr><td>3</td> <td>34630 => 0.67</td> <td>🙊</td> <td>_usr  jajajaja un chorro me dicen eso _emo</td> </tr><tr><td>4</td> <td>38098 => 0.7</td> <td>😞</td> <td>_usr  me deprime que al final acaba mal _emo</td> </tr><tr><td>5</td> <td>38396 => 0.73</td> <td>🙏</td> <td>Podrías leer esto _emo _emo _emo _emo _emo _emo _emo _usr _usr _url</td> </tr><tr><td>6</td> <td>39941 => 0.75</td> <td>♥</td> <td>Estás son las conversaciones que me gusta abrir. _emo _emo _url</td> </tr><tr><td>7</td> <td>9110 => 0.75</td> <td>😅</td> <td>Es que quiero hacer un chorro de cosas, nomas me falta el capital. _emo</td> </tr>\n",
       "</table>\n"
      ],
      "text/plain": [
       "<h3>Resultados para la consulta \"esto de leer conversaciones VIEJISIMAS me deprime un chorro _emo _emo\"</h3>\n",
       "<table>\n",
       "<tr><td>1</td> <td>36113 => -0.0</td> <td>🙃</td> <td>esto de leer conversaciones VIEJISIMAS me deprime un chorro _emo _emo</td> </tr><tr><td>2</td> <td>23122 => 0.67</td> <td>😭</td> <td>Me deprime mas no estar con ellos _emo _url</td> </tr><tr><td>3</td> <td>34630 => 0.67</td> <td>🙊</td> <td>_usr  jajajaja un chorro me dicen eso _emo</td> </tr><tr><td>4</td> <td>38098 => 0.7</td> <td>😞</td> <td>_usr  me deprime que al final acaba mal _emo</td> </tr><tr><td>5</td> <td>38396 => 0.73</td> <td>🙏</td> <td>Podrías leer esto _emo _emo _emo _emo _emo _emo _emo _usr _usr _url</td> </tr><tr><td>6</td> <td>39941 => 0.75</td> <td>♥</td> <td>Estás son las conversaciones que me gusta abrir. _emo _emo _url</td> </tr><tr><td>7</td> <td>9110 => 0.75</td> <td>😅</td> <td>Es que quiero hacer un chorro de cosas, nomas me falta el capital. _emo</td> </tr>\n",
       "</table>\n"
      ]
     },
     "metadata": {},
     "output_type": "display_data"
    },
    {
     "name": "stdout",
     "output_type": "stream",
     "text": [
      "  0.003538 seconds (44 allocations: 4.602 KiB)\n"
     ]
    },
    {
     "data": {
      "text/html": [
       "<h3>Resultados para la consulta \"_usr Jaja espero no me salgan con eso orita _emo\"</h3>\n",
       "<table>\n",
       "<tr><td>1</td> <td>21674 => 0.0</td> <td>😐</td> <td>_usr Jaja espero no me salgan con eso orita _emo</td> </tr><tr><td>2</td> <td>11676 => 0.57</td> <td>😊</td> <td>_usr Eso espero _emo</td> </tr><tr><td>3</td> <td>23680 => 0.66</td> <td>🙊</td> <td>_usr Jaja _emo</td> </tr><tr><td>4</td> <td>35024 => 0.66</td> <td>😜</td> <td>_usr jaja _emo</td> </tr><tr><td>5</td> <td>39143 => 0.66</td> <td>🙄</td> <td>_usr _emo jaja</td> </tr><tr><td>6</td> <td>40065 => 0.66</td> <td>🙈</td> <td>_usr Jaja _emo</td> </tr><tr><td>7</td> <td>35735 => 0.66</td> <td>😤</td> <td>Odio que me salgan granos _emo</td> </tr>\n",
       "</table>\n"
      ],
      "text/plain": [
       "<h3>Resultados para la consulta \"_usr Jaja espero no me salgan con eso orita _emo\"</h3>\n",
       "<table>\n",
       "<tr><td>1</td> <td>21674 => 0.0</td> <td>😐</td> <td>_usr Jaja espero no me salgan con eso orita _emo</td> </tr><tr><td>2</td> <td>11676 => 0.57</td> <td>😊</td> <td>_usr Eso espero _emo</td> </tr><tr><td>3</td> <td>23680 => 0.66</td> <td>🙊</td> <td>_usr Jaja _emo</td> </tr><tr><td>4</td> <td>35024 => 0.66</td> <td>😜</td> <td>_usr jaja _emo</td> </tr><tr><td>5</td> <td>39143 => 0.66</td> <td>🙄</td> <td>_usr _emo jaja</td> </tr><tr><td>6</td> <td>40065 => 0.66</td> <td>🙈</td> <td>_usr Jaja _emo</td> </tr><tr><td>7</td> <td>35735 => 0.66</td> <td>😤</td> <td>Odio que me salgan granos _emo</td> </tr>\n",
       "</table>\n"
      ]
     },
     "metadata": {},
     "output_type": "display_data"
    },
    {
     "name": "stdout",
     "output_type": "stream",
     "text": [
      "  0.005067 seconds (55 allocations: 5.109 KiB)\n"
     ]
    },
    {
     "data": {
      "text/html": [
       "<h3>Resultados para la consulta \"_usr en que momento hablas de otra cosa que no sea Anaya? _emo\"</h3>\n",
       "<table>\n",
       "<tr><td>1</td> <td>6231 => -0.0</td> <td>🤔</td> <td>_usr en que momento hablas de otra cosa que no sea Anaya? _emo</td> </tr><tr><td>2</td> <td>35028 => 0.56</td> <td>🤔</td> <td>_usr Que cosa ? _emo</td> </tr><tr><td>3</td> <td>7461 => 0.58</td> <td>👀</td> <td>_usr JAJAJAJA no se de que hablas _emo</td> </tr><tr><td>4</td> <td>26835 => 0.64</td> <td>😰</td> <td>_usr pero ni le hablas _emo</td> </tr><tr><td>5</td> <td>10183 => 0.65</td> <td>👌</td> <td>Hablas mal de mí porque si hablas bien de ti, a nadie le interesa. _emo _emo _emo _emo</td> </tr><tr><td>6</td> <td>27809 => 0.66</td> <td>😍</td> <td>Mi crush es otra cosa. _emo _emo _emo</td> </tr><tr><td>7</td> <td>43431 => 0.68</td> <td>😂</td> <td>Yo lo decía por otra cosa _emo _emo _emo _emo</td> </tr>\n",
       "</table>\n"
      ],
      "text/plain": [
       "<h3>Resultados para la consulta \"_usr en que momento hablas de otra cosa que no sea Anaya? _emo\"</h3>\n",
       "<table>\n",
       "<tr><td>1</td> <td>6231 => -0.0</td> <td>🤔</td> <td>_usr en que momento hablas de otra cosa que no sea Anaya? _emo</td> </tr><tr><td>2</td> <td>35028 => 0.56</td> <td>🤔</td> <td>_usr Que cosa ? _emo</td> </tr><tr><td>3</td> <td>7461 => 0.58</td> <td>👀</td> <td>_usr JAJAJAJA no se de que hablas _emo</td> </tr><tr><td>4</td> <td>26835 => 0.64</td> <td>😰</td> <td>_usr pero ni le hablas _emo</td> </tr><tr><td>5</td> <td>10183 => 0.65</td> <td>👌</td> <td>Hablas mal de mí porque si hablas bien de ti, a nadie le interesa. _emo _emo _emo _emo</td> </tr><tr><td>6</td> <td>27809 => 0.66</td> <td>😍</td> <td>Mi crush es otra cosa. _emo _emo _emo</td> </tr><tr><td>7</td> <td>43431 => 0.68</td> <td>😂</td> <td>Yo lo decía por otra cosa _emo _emo _emo _emo</td> </tr>\n",
       "</table>\n"
      ]
     },
     "metadata": {},
     "output_type": "display_data"
    },
    {
     "name": "stdout",
     "output_type": "stream",
     "text": [
      "  0.003969 seconds (43 allocations: 4.570 KiB)\n"
     ]
    },
    {
     "data": {
      "text/html": [
       "<h3>Resultados para la consulta \"Me imagino que te mande a criticar jaja _emo _url\"</h3>\n",
       "<table>\n",
       "<tr><td>1</td> <td>9815 => 0.0</td> <td>🤔</td> <td>Me imagino que te mande a criticar jaja _emo _url</td> </tr><tr><td>2</td> <td>41032 => 0.64</td> <td>😅</td> <td>Jaja _emo _url</td> </tr><tr><td>3</td> <td>24607 => 0.65</td> <td>♥</td> <td>_usr _emo jaja _url</td> </tr><tr><td>4</td> <td>16891 => 0.65</td> <td>😳</td> <td>JAJA _emo</td> </tr><tr><td>5</td> <td>24939 => 0.66</td> <td>👀</td> <td>_usr como de...? _emo lo que imagino?</td> </tr><tr><td>6</td> <td>23680 => 0.66</td> <td>🙊</td> <td>_usr Jaja _emo</td> </tr><tr><td>7</td> <td>35024 => 0.66</td> <td>😜</td> <td>_usr jaja _emo</td> </tr>\n",
       "</table>\n"
      ],
      "text/plain": [
       "<h3>Resultados para la consulta \"Me imagino que te mande a criticar jaja _emo _url\"</h3>\n",
       "<table>\n",
       "<tr><td>1</td> <td>9815 => 0.0</td> <td>🤔</td> <td>Me imagino que te mande a criticar jaja _emo _url</td> </tr><tr><td>2</td> <td>41032 => 0.64</td> <td>😅</td> <td>Jaja _emo _url</td> </tr><tr><td>3</td> <td>24607 => 0.65</td> <td>♥</td> <td>_usr _emo jaja _url</td> </tr><tr><td>4</td> <td>16891 => 0.65</td> <td>😳</td> <td>JAJA _emo</td> </tr><tr><td>5</td> <td>24939 => 0.66</td> <td>👀</td> <td>_usr como de...? _emo lo que imagino?</td> </tr><tr><td>6</td> <td>23680 => 0.66</td> <td>🙊</td> <td>_usr Jaja _emo</td> </tr><tr><td>7</td> <td>35024 => 0.66</td> <td>😜</td> <td>_usr jaja _emo</td> </tr>\n",
       "</table>\n"
      ]
     },
     "metadata": {},
     "output_type": "display_data"
    },
    {
     "name": "stdout",
     "output_type": "stream",
     "text": [
      "  0.002254 seconds (48 allocations: 4.867 KiB)\n"
     ]
    },
    {
     "data": {
      "text/html": [
       "<h3>Resultados para la consulta \"_emo _emo _emo (@ UNAM CELE Mascarones in Cuauhtémoc) _url\"</h3>\n",
       "<table>\n",
       "<tr><td>1</td> <td>34233 => -0.0</td> <td>😴</td> <td>_emo _emo _emo (@ UNAM CELE Mascarones in Cuauhtémoc) _url</td> </tr><tr><td>2</td> <td>2779 => 0.56</td> <td>🤓</td> <td>_emo _emo _emo (@ CELE Milan in Mexico DF) _url</td> </tr><tr><td>3</td> <td>8825 => 0.69</td> <td>🤓</td> <td>_emo (@ Instituto de Fisica, UNAM) _url</td> </tr><tr><td>4</td> <td>37491 => 0.72</td> <td>😻</td> <td>_emo (@ Salón Luz in Cuauhtémoc, DF) _url</td> </tr><tr><td>5</td> <td>33476 => 0.72</td> <td>😀</td> <td>_emo (@ Fórum _usr in Cuauhtémoc, DF) _url</td> </tr><tr><td>6</td> <td>41400 => 0.73</td> <td>😀</td> <td>_emo _emo (at _usr in Cuauhtémoc, DF) _url</td> </tr><tr><td>7</td> <td>32880 => 0.73</td> <td>😀</td> <td>_emo (@ Parque España in Cuauhtémoc, DF) _url _url</td> </tr>\n",
       "</table>\n"
      ],
      "text/plain": [
       "<h3>Resultados para la consulta \"_emo _emo _emo (@ UNAM CELE Mascarones in Cuauhtémoc) _url\"</h3>\n",
       "<table>\n",
       "<tr><td>1</td> <td>34233 => -0.0</td> <td>😴</td> <td>_emo _emo _emo (@ UNAM CELE Mascarones in Cuauhtémoc) _url</td> </tr><tr><td>2</td> <td>2779 => 0.56</td> <td>🤓</td> <td>_emo _emo _emo (@ CELE Milan in Mexico DF) _url</td> </tr><tr><td>3</td> <td>8825 => 0.69</td> <td>🤓</td> <td>_emo (@ Instituto de Fisica, UNAM) _url</td> </tr><tr><td>4</td> <td>37491 => 0.72</td> <td>😻</td> <td>_emo (@ Salón Luz in Cuauhtémoc, DF) _url</td> </tr><tr><td>5</td> <td>33476 => 0.72</td> <td>😀</td> <td>_emo (@ Fórum _usr in Cuauhtémoc, DF) _url</td> </tr><tr><td>6</td> <td>41400 => 0.73</td> <td>😀</td> <td>_emo _emo (at _usr in Cuauhtémoc, DF) _url</td> </tr><tr><td>7</td> <td>32880 => 0.73</td> <td>😀</td> <td>_emo (@ Parque España in Cuauhtémoc, DF) _url _url</td> </tr>\n",
       "</table>\n"
      ]
     },
     "metadata": {},
     "output_type": "display_data"
    },
    {
     "name": "stdout",
     "output_type": "stream",
     "text": [
      "  0.003281 seconds (56 allocations: 5.422 KiB)\n"
     ]
    },
    {
     "data": {
      "text/html": [
       "<h3>Resultados para la consulta \"Tacos al pastor $_num._num/ea. _emo _emo #thisiswhyimfat #kkadventures… _url\"</h3>\n",
       "<table>\n",
       "<tr><td>1</td> <td>6614 => 0.0</td> <td>😋</td> <td>Tacos al pastor $_num._num/ea. _emo _emo #thisiswhyimfat #kkadventures… _url</td> </tr><tr><td>2</td> <td>9570 => 0.67</td> <td>👀</td> <td>_usr Pastor _emo</td> </tr><tr><td>3</td> <td>32809 => 0.72</td> <td>😁</td> <td>La vida cambia después de unos buenos tacos al pastor _emo</td> </tr><tr><td>4</td> <td>35913 => 0.74</td> <td>♥</td> <td>tacos _emo _emo _url</td> </tr><tr><td>5</td> <td>39000 => 0.74</td> <td>😂</td> <td>Tacos _emo _url</td> </tr><tr><td>6</td> <td>38064 => 0.75</td> <td>🌚</td> <td>_usr Espero que sean unos tacos al pastor con salsa de cacahuate. _emo</td> </tr><tr><td>7</td> <td>39088 => 0.76</td> <td>😢</td> <td>Quiero unos taquitos al pastor _emo</td> </tr>\n",
       "</table>\n"
      ],
      "text/plain": [
       "<h3>Resultados para la consulta \"Tacos al pastor $_num._num/ea. _emo _emo #thisiswhyimfat #kkadventures… _url\"</h3>\n",
       "<table>\n",
       "<tr><td>1</td> <td>6614 => 0.0</td> <td>😋</td> <td>Tacos al pastor $_num._num/ea. _emo _emo #thisiswhyimfat #kkadventures… _url</td> </tr><tr><td>2</td> <td>9570 => 0.67</td> <td>👀</td> <td>_usr Pastor _emo</td> </tr><tr><td>3</td> <td>32809 => 0.72</td> <td>😁</td> <td>La vida cambia después de unos buenos tacos al pastor _emo</td> </tr><tr><td>4</td> <td>35913 => 0.74</td> <td>♥</td> <td>tacos _emo _emo _url</td> </tr><tr><td>5</td> <td>39000 => 0.74</td> <td>😂</td> <td>Tacos _emo _url</td> </tr><tr><td>6</td> <td>38064 => 0.75</td> <td>🌚</td> <td>_usr Espero que sean unos tacos al pastor con salsa de cacahuate. _emo</td> </tr><tr><td>7</td> <td>39088 => 0.76</td> <td>😢</td> <td>Quiero unos taquitos al pastor _emo</td> </tr>\n",
       "</table>\n"
      ]
     },
     "metadata": {},
     "output_type": "display_data"
    },
    {
     "name": "stdout",
     "output_type": "stream",
     "text": [
      "  0.003866 seconds (44 allocations: 4.578 KiB)\n"
     ]
    },
    {
     "data": {
      "text/html": [
       "<h3>Resultados para la consulta \"_usr Yo tengo tamales de elote en mi casa _emo\"</h3>\n",
       "<table>\n",
       "<tr><td>1</td> <td>40428 => -0.0</td> <td>🤭</td> <td>_usr Yo tengo tamales de elote en mi casa _emo</td> </tr><tr><td>2</td> <td>31862 => 0.24</td> <td>😩</td> <td>Necesito tamales de elote _emo</td> </tr><tr><td>3</td> <td>8863 => 0.33</td> <td>😋</td> <td>Tamales de elote para empezar bien mi día _emo _emo _emo</td> </tr><tr><td>4</td> <td>34503 => 0.44</td> <td>✨</td> <td>Tamales _emo _url</td> </tr><tr><td>5</td> <td>30325 => 0.46</td> <td>😱</td> <td>Los tamales _emo _emo _emo _emo _emo</td> </tr><tr><td>6</td> <td>4372 => 0.51</td> <td>🤤</td> <td>Que ganas de un elote _emo _emo _emo</td> </tr><tr><td>7</td> <td>19760 => 0.52</td> <td>🙈</td> <td>Tamales tamales tamales. Hoy tocan... Y el diente lo sabe _emo _emo _emo _url</td> </tr>\n",
       "</table>\n"
      ],
      "text/plain": [
       "<h3>Resultados para la consulta \"_usr Yo tengo tamales de elote en mi casa _emo\"</h3>\n",
       "<table>\n",
       "<tr><td>1</td> <td>40428 => -0.0</td> <td>🤭</td> <td>_usr Yo tengo tamales de elote en mi casa _emo</td> </tr><tr><td>2</td> <td>31862 => 0.24</td> <td>😩</td> <td>Necesito tamales de elote _emo</td> </tr><tr><td>3</td> <td>8863 => 0.33</td> <td>😋</td> <td>Tamales de elote para empezar bien mi día _emo _emo _emo</td> </tr><tr><td>4</td> <td>34503 => 0.44</td> <td>✨</td> <td>Tamales _emo _url</td> </tr><tr><td>5</td> <td>30325 => 0.46</td> <td>😱</td> <td>Los tamales _emo _emo _emo _emo _emo</td> </tr><tr><td>6</td> <td>4372 => 0.51</td> <td>🤤</td> <td>Que ganas de un elote _emo _emo _emo</td> </tr><tr><td>7</td> <td>19760 => 0.52</td> <td>🙈</td> <td>Tamales tamales tamales. Hoy tocan... Y el diente lo sabe _emo _emo _emo _url</td> </tr>\n",
       "</table>\n"
      ]
     },
     "metadata": {},
     "output_type": "display_data"
    },
    {
     "name": "stdout",
     "output_type": "stream",
     "text": [
      "  0.002111 seconds (34 allocations: 4.164 KiB)\n"
     ]
    },
    {
     "data": {
      "text/html": [
       "<h3>Resultados para la consulta \"_usr Sonrisa sensual y elegante _emo _emo\"</h3>\n",
       "<table>\n",
       "<tr><td>1</td> <td>20866 => -0.0</td> <td>😍</td> <td>_usr Sonrisa sensual y elegante _emo _emo</td> </tr><tr><td>2</td> <td>1128 => 0.6</td> <td>🤤</td> <td>El jersey más elegante de la Liga. _emo</td> </tr><tr><td>3</td> <td>1554 => 0.6</td> <td>🤤</td> <td>_usr Es una voz sensual bb _emo</td> </tr><tr><td>4</td> <td>11059 => 0.62</td> <td>♥</td> <td>_usr Ay Cuñado Bien Sensual! _emo</td> </tr><tr><td>5</td> <td>13323 => 0.62</td> <td>😍</td> <td>_usr Tu sonrisa _emo _emo _url</td> </tr><tr><td>6</td> <td>34979 => 0.64</td> <td>💜</td> <td>Bella y sensual, sobrenatural _emo</td> </tr><tr><td>7</td> <td>23044 => 0.67</td> <td>😘</td> <td>_usr al contrario gracias a ti por ser una mujer muy sensual _emo</td> </tr>\n",
       "</table>\n"
      ],
      "text/plain": [
       "<h3>Resultados para la consulta \"_usr Sonrisa sensual y elegante _emo _emo\"</h3>\n",
       "<table>\n",
       "<tr><td>1</td> <td>20866 => -0.0</td> <td>😍</td> <td>_usr Sonrisa sensual y elegante _emo _emo</td> </tr><tr><td>2</td> <td>1128 => 0.6</td> <td>🤤</td> <td>El jersey más elegante de la Liga. _emo</td> </tr><tr><td>3</td> <td>1554 => 0.6</td> <td>🤤</td> <td>_usr Es una voz sensual bb _emo</td> </tr><tr><td>4</td> <td>11059 => 0.62</td> <td>♥</td> <td>_usr Ay Cuñado Bien Sensual! _emo</td> </tr><tr><td>5</td> <td>13323 => 0.62</td> <td>😍</td> <td>_usr Tu sonrisa _emo _emo _url</td> </tr><tr><td>6</td> <td>34979 => 0.64</td> <td>💜</td> <td>Bella y sensual, sobrenatural _emo</td> </tr><tr><td>7</td> <td>23044 => 0.67</td> <td>😘</td> <td>_usr al contrario gracias a ti por ser una mujer muy sensual _emo</td> </tr>\n",
       "</table>\n"
      ]
     },
     "metadata": {},
     "output_type": "display_data"
    },
    {
     "name": "stdout",
     "output_type": "stream",
     "text": [
      "  0.001525 seconds (29 allocations: 3.805 KiB)\n"
     ]
    },
    {
     "data": {
      "text/html": [
       "<h3>Resultados para la consulta \"Para para PARADISE... _emo\"</h3>\n",
       "<table>\n",
       "<tr><td>1</td> <td>20735 => 0.0</td> <td>😍</td> <td>Para para PARADISE... _emo</td> </tr><tr><td>2</td> <td>39750 => 0.7</td> <td>😉</td> <td>Me lo merezco y lo necesito _emo (@ Claudinho&apos;s Paradise City ... Cocoyoc !!! in Cocoyoc, Morelos) _url _url</td> </tr><tr><td>3</td> <td>18803 => 0.72</td> <td>❤</td> <td>Night Night from paradise _emo @ Jardín Principal de San Miguel de Allende Gto. _url</td> </tr><tr><td>4</td> <td>11245 => 0.76</td> <td>🙂</td> <td>Tardeeeeeeees para muchos, noches para algunos, días para pocos y peores para otros tantos... _emo _url</td> </tr><tr><td>5</td> <td>22161 => 0.77</td> <td>😪</td> <td>Ya ni para que _emo</td> </tr><tr><td>6</td> <td>33841 => 0.78</td> <td>👀</td> <td>No eres para mí _emo</td> </tr><tr><td>7</td> <td>43967 => 0.78</td> <td>👀</td> <td>No eres para mí _emo</td> </tr>\n",
       "</table>\n"
      ],
      "text/plain": [
       "<h3>Resultados para la consulta \"Para para PARADISE... _emo\"</h3>\n",
       "<table>\n",
       "<tr><td>1</td> <td>20735 => 0.0</td> <td>😍</td> <td>Para para PARADISE... _emo</td> </tr><tr><td>2</td> <td>39750 => 0.7</td> <td>😉</td> <td>Me lo merezco y lo necesito _emo (@ Claudinho&apos;s Paradise City ... Cocoyoc !!! in Cocoyoc, Morelos) _url _url</td> </tr><tr><td>3</td> <td>18803 => 0.72</td> <td>❤</td> <td>Night Night from paradise _emo @ Jardín Principal de San Miguel de Allende Gto. _url</td> </tr><tr><td>4</td> <td>11245 => 0.76</td> <td>🙂</td> <td>Tardeeeeeeees para muchos, noches para algunos, días para pocos y peores para otros tantos... _emo _url</td> </tr><tr><td>5</td> <td>22161 => 0.77</td> <td>😪</td> <td>Ya ni para que _emo</td> </tr><tr><td>6</td> <td>33841 => 0.78</td> <td>👀</td> <td>No eres para mí _emo</td> </tr><tr><td>7</td> <td>43967 => 0.78</td> <td>👀</td> <td>No eres para mí _emo</td> </tr>\n",
       "</table>\n"
      ]
     },
     "metadata": {},
     "output_type": "display_data"
    }
   ],
   "source": [
    "for i in 1:10\n",
    "    qID = rand(1:length(E.data.text))\n",
    "    search_and_display(E, E.data.text[qID], 7)\n",
    "end"
   ]
  },
  {
   "cell_type": "markdown",
   "id": "5403b789-c8d3-4a86-957d-e7500efefe9d",
   "metadata": {},
   "source": [
    "# Actividades\n",
    "\n",
    "- Revisión de los servicios y empresas mencionados \n",
    "- Revisión de los proyectos open source mencionados\n",
    "- Cargue este notebook y modifique las consultas (necesita Jupyter y el kernel de Julia <https://github.com/JuliaLang/IJulia.jl>)\n",
    "- Revise la bibliografía sobre recuperación de información, en especial [^SMR2008] se encuentra libre desde <https://nlp.stanford.edu/IR-book/pdf/irbookonlinereading.pdf>"
   ]
  },
  {
   "cell_type": "markdown",
   "id": "f558a317-b84c-45b2-a185-36af24741ace",
   "metadata": {},
   "source": [
    "# Bibliografía\n",
    "- [SMR2008] Schütze, H., Manning, C. D., & Raghavan, P. (2008). Introduction to information retrieval (Vol. 39, pp. 234-65). Cambridge: Cambridge University Press.\n",
    "- [BYN1999] Baeza-Yates, R., & Ribeiro-Neto, B. (1999). Modern information retrieval (Vol. 463). New York: ACM press."
   ]
  }
 ],
 "metadata": {
  "kernelspec": {
   "display_name": "Julia 1.10.0",
   "language": "julia",
   "name": "julia-1.10"
  },
  "language_info": {
   "file_extension": ".jl",
   "mimetype": "application/julia",
   "name": "julia",
   "version": "1.10.0"
  }
 },
 "nbformat": 4,
 "nbformat_minor": 5
}
