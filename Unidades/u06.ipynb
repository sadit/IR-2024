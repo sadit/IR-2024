{
 "cells": [
  {
   "cell_type": "markdown",
   "id": "9fc189d2-656e-41d4-be84-dcf6ccf9537b",
   "metadata": {},
   "source": [
    "# Búsqueda semántica\n",
    "Autor: Eric S. Tellez <eric.tellez@infotec.mx>\n",
    "\n",
    "Cuando la información esta poco específicada, las palabras adecuadas podrían ser dificiles de tener o limitar. En estos casos, la representaciones semánticas que permiten buscar _lo que se desea_ por medio de conceptos nos acerca más a la posibilidad de obtener información útil.\n",
    "\n",
    "Como anteriormente se presento, una de las representaciones semánticas más aceptadas son aquellas basadas en word embeddings. Recordando, estas son representaciones vectoriales de cada palabra, donde la semántica se asocia con la estructura en un espacio métrico, i.e., cercano en la métrica significa similar semánticamente.\n",
    "\n",
    "# Representación semántica de documentos basada en _word embeddings_\n",
    "Un documento puede verse como una bolsa de palabras, como en el modelado tradicional, pero en lugar de usar los términos como símbolos se pueden usar los vectores semánticos. El como usar esta nube de puntos multidimensional para obtener una representación computacionalmente manejable y a la vez eficaz, es un tema que ha llevado al desarrollo de modelos cada vez más complejos, como pueden ser los grandes modelos de lenguaje. \n",
    "\n",
    "La manera forma más directa de definir una representación semántica de documentos es el uso de centroides, esto es, un vector de la misma dimensión que sumariza a un conjunto de vectores usando su media geométrica. De manera más precisa, sea $E$ una matrix $m \\times n$ de embeddings del vocabulario, i.e., considerando un vocabulario de tamaño $n$ y dimensión $m$.\n",
    "Sea $D_{m,\\ell}$ la submatriz de $E$ que contiene los $\\ell$ vectores del documento $\\textsf{doc}$. El prototipo $\\vec{d}$ de $D$ esta definido de la siguiente forma:\n",
    "\n",
    "\\begin{equation}\n",
    "\\vec{d} = \\frac{1}{\\ell} \\sum_{i=1}^\\ell D_i\n",
    "\\end{equation}\n",
    "\n",
    "\n",
    "Donde $D_i$ es el i-ésimo vector columna de $D$. Dado que se usa el coseno como similitud, también es factible el cálculo como la suma vectorial normalizada, esto es,\n",
    "\n",
    "$$ \\vec{d} = \\frac{\\sum_{i=1}^\\ell D_i}{\\lVert \\sum_{i=1}^\\ell D_i \\rVert}$$\n",
    "\n",
    "También es posible añadir información local basada en la representación de bolsa de plabras. Por ejemplo, realizar una suma pesada usando el peso de las palabras mediante la frecuencia normalizada de término (TF) o la probabilidad de término $pt$, ver unidad 3 para más información.\n",
    "\n",
    "$$\\vec{d} = \\sum_{i=1}^{\\ell} \\textsf{TF}(t_i, \\textsf{doc}) \\cdot D_i$$\n",
    "\n",
    "Donde $t_i$ es el $i$-ésimo término de $\\textsf{doc}$. Note que el orden no se captura y solo es necesario para la notación.\n",
    "\n",
    "# Ejemplo\n"
   ]
  },
  {
   "cell_type": "code",
   "execution_count": 1,
   "id": "cd04785e-aa4e-493c-9aa8-5c54c8e1f322",
   "metadata": {},
   "outputs": [
    {
     "name": "stderr",
     "output_type": "stream",
     "text": [
      "\u001b[32m\u001b[1m  Activating\u001b[22m\u001b[39m project at `~/IR-2022/Unidades`\n"
     ]
    }
   ],
   "source": [
    "using Pkg\n",
    "Pkg.activate(\".\")\n",
    "\n",
    "using SimilaritySearch, TextSearch, Plots, KNearestCenters, LinearAlgebra, Embeddings, HypertextLiteral, CodecZlib, JSON, Base64, Random\n",
    "using Downloads: download"
   ]
  },
  {
   "cell_type": "code",
   "execution_count": 2,
   "id": "95d9bcb8-60f5-42d5-adb3-dca1f1b480b3",
   "metadata": {},
   "outputs": [
    {
     "data": {
      "text/plain": [
       "scores (generic function with 1 method)"
      ]
     },
     "execution_count": 2,
     "metadata": {},
     "output_type": "execute_result"
    }
   ],
   "source": [
    "include(\"knn.jl\")"
   ]
  },
  {
   "cell_type": "code",
   "execution_count": 3,
   "id": "e4fcb23f-9564-4910-9a4f-1f5d4a582d5f",
   "metadata": {},
   "outputs": [
    {
     "data": {
      "text/plain": [
       "text_model_and_vectors (generic function with 1 method)"
      ]
     },
     "execution_count": 3,
     "metadata": {},
     "output_type": "execute_result"
    }
   ],
   "source": [
    "struct ValidVocabulary{DictType} <: AbstractTokenTransformation\n",
    "    valid::DictType\n",
    "end\n",
    "\n",
    "TextSearch.transform_unigram(S::ValidVocabulary, tok) = haskey(S.valid, tok) ? tok : nothing\n",
    "\n",
    "function text_model_and_vectors(\n",
    "        corpus, vocab;\n",
    "        localweighting=TpWeighting(),\n",
    "        globalweighting=BinaryGlobalWeighting(),\n",
    "        nlist=[1],\n",
    "        qlist=[],\n",
    "        slist=[],\n",
    "        group_usr=false,\n",
    "        group_url=true,\n",
    "        group_num=true,\n",
    "        del_diac=true,\n",
    "        lc=true\n",
    "    )\n",
    "\n",
    "    voc = Vocabulary(length(corpus))\n",
    "    for v in vocab\n",
    "       push!(voc, v)\n",
    "    end\n",
    "    \n",
    "    tt = ValidVocabulary(voc.token2id)\n",
    "    textconfig = TextConfig(; group_usr, group_url, del_diac, lc, group_num, nlist, qlist, slist, tt)\n",
    "    tokenize_and_append!(voc, textconfig, corpus)\n",
    "    model = VectorModel(globalweighting, localweighting, voc)\n",
    "    (; textconfig, model, voc)\n",
    "end\n"
   ]
  },
  {
   "cell_type": "code",
   "execution_count": 13,
   "id": "af8bad4e-c31b-4506-8341-47c4130d664a",
   "metadata": {},
   "outputs": [
    {
     "data": {
      "text/plain": [
       "create_index (generic function with 1 method)"
      ]
     },
     "execution_count": 13,
     "metadata": {},
     "output_type": "execute_result"
    }
   ],
   "source": [
    "function embeddings(embname=\"MX.vec\")\n",
    "    embfile = \"../data/$embname\"\n",
    "    !isfile(embfile) && download(\"http://geo.ingeotec.mx/~sadit/regional-spanish-models/$embname\", embfile)\n",
    "    emb = load_embeddings(FastText_Text, embfile)  # you can change with any of the available embeddings in `Embeddings`\n",
    "    #=for c in eachcol(emb.embeddings)\n",
    "        normalize!(c)\n",
    "    end=#\n",
    "    \n",
    "    (; X=emb.embeddings, vocab=emb.vocab)\n",
    "end\n",
    "\n",
    "function vectorize_as_prototype!(c, text, E, T)\n",
    "    x = vectorize(T.model, T.textconfig, text; normalize=false)\n",
    "    if length(x) == 1 && haskey(x, 0)\n",
    "        #@warn \"empty vector $(Int(i)) selecting a random vector for it \" # $(corpus[i])\n",
    "        rand!(c)\n",
    "    else\n",
    "        for (id, weight) in x\n",
    "            id == 0 && continue\n",
    "             c .= c .+ weight .* view(E.X, :, id)\n",
    "        end\n",
    "    end\n",
    "    \n",
    "    #normalize!(c)\n",
    "    c\n",
    "end\n",
    "\n",
    "function vectorize_corpus_as_prototypes(corpus, E, T)\n",
    "    dim = size(E.X, 1)\n",
    "    n = length(corpus)\n",
    "    C = zeros(Float32, dim, n)\n",
    "    # Threads.@threads\n",
    "    for i in 1:n\n",
    "        vectorize_as_prototype!(view(C, :, i), corpus[i], E, T)\n",
    "    end\n",
    "    \n",
    "    C\n",
    "end\n",
    "\n",
    "function create_index(db, recall)\n",
    "    dist = SqL2Distance()\n",
    "    index = SearchGraph(; dist, db, verbose=false)\n",
    "    index!(index; callbacks=SearchGraphCallbacks(MinRecall(recall)))\n",
    "    optimize!(index, MinRecall(recall))\n",
    "    index\n",
    "end"
   ]
  },
  {
   "cell_type": "code",
   "execution_count": 5,
   "id": "47d9e476-d8ce-4d8e-bb7a-f6cf87e195ca",
   "metadata": {},
   "outputs": [
    {
     "name": "stdout",
     "output_type": "stream",
     "text": [
      " 33.656451 seconds (7.49 M allocations: 11.543 GiB, 2.44% gc time, 0.87% compilation time)\n"
     ]
    },
    {
     "data": {
      "text/plain": [
       "(X = Float32[-0.07049 -0.11775 … -0.14671 0.173; 0.16225 0.10458 … -0.05029 0.20899; … ; -0.0786 0.12893 … -0.1113 -0.31056; 0.03832 0.03368 … -0.00493 0.0213], vocab = [\"</s>\", \"_usr\", \"que\", \"de\", \",\", \".\", \"y\", \"a\", \"la\", \"no\"  …  \"tannehil\", \"movelike\", \"peliblanca\", \"cristianzav\", \"rqq\", \"preguntartee\", \"sutedes\", \"venciendolo\", \"eviscerado\", \"fectivo\"])"
      ]
     },
     "execution_count": 5,
     "metadata": {},
     "output_type": "execute_result"
    }
   ],
   "source": [
    "@time E = embeddings()"
   ]
  },
  {
   "cell_type": "code",
   "execution_count": 6,
   "id": "9d1dc14b-02cb-45ab-8466-5783251ef877",
   "metadata": {},
   "outputs": [
    {
     "data": {
      "text/html": [
       "<h1>Cargando el corpus</h1>"
      ],
      "text/plain": [
       "<h1>Cargando el corpus</h1>"
      ]
     },
     "metadata": {},
     "output_type": "display_data"
    },
    {
     "name": "stdout",
     "output_type": "stream",
     "text": [
      "(unique(D.labels), T.model) = ([\"AdriDelgadoRuiz\", \"El_Universal_Mx\", \"CNNEE\", \"NTN24\", \"UniNoticias\", \"TelemundoNews\", \"SinEmbargoMX\", \"Reforma\", \"abc_es\", \"azucenau\", \"AristeguiOnline\", \"el_pais\", \"EFEnoticias\", \"PublimetroMX\", \"PublimetroChile\", \"Radio_Formula\", \"RicardoAlemanMx\", \"epigmenioibarra\", \"Milenio\", \"LaRazon_mx\", \"abrahamendieta\", \"PublimetroCol\", \"teleSURtv\", \"bbcmundo\", \"julioastillero\"], {VectorModel global_weighting=BinaryGlobalWeighting(), local_weighting=TpWeighting(), train-voc=438136, train-n=30244, maxoccs=43239})\n"
     ]
    },
    {
     "data": {
      "text/plain": [
       "([\"AdriDelgadoRuiz\", \"El_Universal_Mx\", \"CNNEE\", \"NTN24\", \"UniNoticias\", \"TelemundoNews\", \"SinEmbargoMX\", \"Reforma\", \"abc_es\", \"azucenau\"  …  \"Radio_Formula\", \"RicardoAlemanMx\", \"epigmenioibarra\", \"Milenio\", \"LaRazon_mx\", \"abrahamendieta\", \"PublimetroCol\", \"teleSURtv\", \"bbcmundo\", \"julioastillero\"], {VectorModel global_weighting=BinaryGlobalWeighting(), local_weighting=TpWeighting(), train-voc=438136, train-n=30244, maxoccs=43239})"
      ]
     },
     "execution_count": 6,
     "metadata": {},
     "output_type": "execute_result"
    }
   ],
   "source": [
    "display(@htl \"<h1>Cargando el corpus</h1>\")\n",
    "\n",
    "include(\"read_datasets.jl\")\n",
    "D, Q = read_news()\n",
    "T = text_model_and_vectors(D.corpus, E.vocab)\n",
    "@show unique(D.labels), T.model"
   ]
  },
  {
   "cell_type": "code",
   "execution_count": 7,
   "id": "593497b1-0da0-45e3-83ae-54507b233311",
   "metadata": {},
   "outputs": [
    {
     "name": "stdout",
     "output_type": "stream",
     "text": [
      "  1.542268 seconds (3.34 M allocations: 312.757 MiB, 29.45% compilation time)\n"
     ]
    },
    {
     "data": {
      "text/plain": [
       "300×30244 Matrix{Float32}:\n",
       " -0.0716944   -0.0126372    -0.0639624   …  -0.114824    -0.164547\n",
       "  0.0222967    0.00466333   -0.00958138      0.0400896    0.0723063\n",
       "  0.00139444   0.0134513    -0.00457931     -0.00827696   0.0358446\n",
       " -0.08063     -0.0221579    -0.02271         0.0568417    0.0490838\n",
       "  0.0766478    0.000928206   0.00133828     -0.0530687   -0.0109383\n",
       "  0.110559    -0.0319262     0.048371    …   0.00874826  -0.00037667\n",
       " -0.0803789    0.0292315     0.0357379       0.00898913   0.0120629\n",
       "  0.0959622    0.0295805    -0.0130335      -0.0664948    0.0322692\n",
       "  0.114802     0.0164505     0.126971        0.149568     0.185204\n",
       "  0.0238333   -0.0266008    -0.00980345     -0.0192987   -0.0253933\n",
       "  0.121443     0.0632185     0.13941     …   0.136218     0.166292\n",
       "  0.134657    -0.0398746     0.0664055       0.044667     0.0862833\n",
       "  0.116133    -0.00271231    0.0980417       0.12451      0.0429154\n",
       "  ⋮                                      ⋱               \n",
       " -0.0380811   -0.12427      -0.0858679      -0.158596    -0.0860292\n",
       " -0.0833267    0.014719      0.0192383       0.00627696   0.0712921\n",
       "  0.0454367    0.0941449     0.0156993   …  -0.0206504    0.0358842\n",
       "  0.04689     -0.0682908    -0.0708114      -0.00189782  -0.0932125\n",
       " -0.0217033   -0.0451067     0.0275786      -0.0416452   -0.065425\n",
       "  0.0519511   -0.00204692    0.137291        0.141684     0.0963733\n",
       " -0.0140467    0.0410249     0.00997793     -0.0213656    0.0612108\n",
       " -0.02264      0.0123623     0.00206379  …  -0.029813     0.058235\n",
       " -0.0017      -0.133398     -0.10878        -0.0784122   -0.0881142\n",
       "  0.00595      0.0324431     0.0496566       0.052803    -0.0214975\n",
       " -0.156274    -0.118077     -0.117195       -0.124681    -0.132098\n",
       "  0.00842778   0.0679182     0.0923152       0.0908848    0.0849738"
      ]
     },
     "execution_count": 7,
     "metadata": {},
     "output_type": "execute_result"
    }
   ],
   "source": [
    "@time C = vectorize_corpus_as_prototypes(D.corpus, E, T)"
   ]
  },
  {
   "cell_type": "code",
   "execution_count": null,
   "id": "a9ff6403-f5e7-470e-90e0-baa79eccb793",
   "metadata": {},
   "outputs": [],
   "source": []
  },
  {
   "cell_type": "markdown",
   "id": "0bcb60ff-68c0-4c09-a8dd-70079ba59994",
   "metadata": {},
   "source": [
    "### Se crea el índice métrico"
   ]
  },
  {
   "cell_type": "code",
   "execution_count": 14,
   "id": "3d9108c0-02a7-4afe-bfa2-7b436f7bd0f0",
   "metadata": {},
   "outputs": [
    {
     "name": "stdout",
     "output_type": "stream",
     "text": [
      " 20.719137 seconds (4.72 M allocations: 676.241 MiB, 2.31% gc time, 27.03% compilation time)\n"
     ]
    },
    {
     "data": {
      "text/plain": [
       "SearchGraph{SqL2Distance, MatrixDatabase{Matrix{Float32}}, BeamSearch}\n",
       "  dist: SqL2Distance SqL2Distance()\n",
       "  db: MatrixDatabase{Matrix{Float32}}\n",
       "  links: Array{Vector{Int32}}((30244,))\n",
       "  locks: Array{Base.Threads.SpinLock}((30244,))\n",
       "  hints: Array{Int32}((105,)) Int32[42, 101, 107, 284, 315, 354, 466, 500, 551, 577  …  2300, 2329, 2344, 2363, 2366, 2370, 2386, 2401, 2440, 25642]\n",
       "  search_algo: BeamSearch\n",
       "  verbose: Bool false\n"
      ]
     },
     "execution_count": 14,
     "metadata": {},
     "output_type": "execute_result"
    }
   ],
   "source": [
    "@time index = create_index(MatrixDatabase(C), 0.95)"
   ]
  },
  {
   "cell_type": "markdown",
   "id": "7e629f24-ecf3-4908-a100-b70559dca89a",
   "metadata": {},
   "source": [
    "### Búsqueda de todos los vecinos cercanos en el vocabulario, observe la conveniencia del uso de un índice\n",
    "\n",
    "Entre más sean las consultas más se ve la bondad (~42k consultas)"
   ]
  },
  {
   "cell_type": "code",
   "execution_count": 15,
   "id": "f43463a8-0c73-4903-a78c-6b2405ddf812",
   "metadata": {},
   "outputs": [
    {
     "data": {
      "text/html": [
       "<div>(brute vs indexed) macro-recall: 0.9334613616077625, n: 3361</div>\n",
       "<div>searchgraph search time: 0.540023268, scores: <span class=\"Core-NamedTuple\">(macrof1 = 0.26325391828720446, macrorecall = 0.2585745359480052, accuracy = 0.28324903302588517)</span></div>\n",
       "<div>brute force search time: 1.125471385, scores: <span class=\"Core-NamedTuple\">(macrof1 = 0.27446725406455935, macrorecall = 0.27056569458624175, accuracy = 0.29604284439155015)</span></div>\n"
      ],
      "text/plain": [
       "<div>(brute vs indexed) macro-recall: 0.9334613616077625, n: 3361</div>\n",
       "<div>searchgraph search time: 0.540023268, scores: <span class=\"Core-NamedTuple\">(macrof1 = 0.26325391828720446, macrorecall = 0.2585745359480052, accuracy = 0.28324903302588517)</span></div>\n",
       "<div>brute force search time: 1.125471385, scores: <span class=\"Core-NamedTuple\">(macrof1 = 0.27446725406455935, macrorecall = 0.27056569458624175, accuracy = 0.29604284439155015)</span></div>\n"
      ]
     },
     "execution_count": 15,
     "metadata": {},
     "output_type": "execute_result"
    }
   ],
   "source": [
    "let k = 11\n",
    "    Qvectors = MatrixDatabase(vectorize_corpus_as_prototypes(Q.corpus, E, T))\n",
    "    t1 = @elapsed I, _ = searchbatch(index, Qvectors, k)\n",
    "    # WARNING: Don't run the following line, it takes too much time\n",
    "    ex = ExhaustiveSearch(; db=index.db, dist=index.dist)\n",
    "    t2 = @elapsed gI, _ = searchbatch(ex, Qvectors, k)\n",
    "    r = macrorecall(gI, I)\n",
    "    n = size(I, 2)\n",
    "    labels = String.(D.labels)\n",
    "    s1 = scores(Q.labels, knn(I, labels))\n",
    "    s2 = scores(Q.labels, knn(gI, labels))\n",
    "    \n",
    "    @htl \"\"\"\n",
    "    <div>(brute vs indexed) macro-recall: $r, n: $n</div>\n",
    "    <div>searchgraph search time: $t1, scores: $s1</div>\n",
    "    <div>brute force search time: $t2, scores: $s2</div>\n",
    "    \"\"\"\n",
    "end"
   ]
  },
  {
   "cell_type": "code",
   "execution_count": null,
   "id": "e9a41c3f-e904-46a4-99a5-0c3d61fa6722",
   "metadata": {},
   "outputs": [],
   "source": []
  },
  {
   "cell_type": "markdown",
   "id": "51b68d72-5256-49ad-b22b-e896f58bc29f",
   "metadata": {},
   "source": [
    "### Búsqueda y presentación de los resultados"
   ]
  },
  {
   "cell_type": "code",
   "execution_count": 10,
   "id": "e045135e-4189-47cc-9513-72a5000527f6",
   "metadata": {},
   "outputs": [
    {
     "data": {
      "text/plain": [
       "search_and_display (generic function with 1 method)"
      ]
     },
     "execution_count": 10,
     "metadata": {},
     "output_type": "execute_result"
    }
   ],
   "source": [
    "function search_and_display(index, qtext, k, D, E, T)\n",
    "    res = KnnResult(k)\n",
    "    q = zeros(Float32, size(E.X, 1))\n",
    "    vectorize_as_prototype!(q, qtext, E, T)\n",
    "    @time search(index, q, res)\n",
    "    \n",
    "    L = []\n",
    "    for (j, (id, d)) in enumerate(res)\n",
    "        push!(L, @htl \"<tr><td>$j</td><td>$id</td><td>$(round(d, digits=3))</td> <td>$(D.labels[id])</td><td> $(D.corpus[id])</td> </tr>\")\n",
    "    end\n",
    "\n",
    "    display(@htl \"\"\"<h2>resultados for \"$qtext\"</h2>\n",
    "    <table>\n",
    "    <th>  <td>id</td> <td>dist</td> <td>user</td> </td>message<td> </th>\n",
    "        $L\n",
    "    </table>\n",
    "    \"\"\")\n",
    "end\n"
   ]
  },
  {
   "cell_type": "code",
   "execution_count": 11,
   "id": "b1123924-05b2-4799-b2f7-18b3d2c46f4d",
   "metadata": {},
   "outputs": [
    {
     "data": {
      "text/html": [
       "<h1>Ejemplos de búsqueda</h1>"
      ],
      "text/plain": [
       "<h1>Ejemplos de búsqueda</h1>"
      ]
     },
     "metadata": {},
     "output_type": "display_data"
    },
    {
     "name": "stdout",
     "output_type": "stream",
     "text": [
      "  0.000648 seconds\n"
     ]
    },
    {
     "data": {
      "text/html": [
       "<h2>resultados for \"el gobierno de andres manuel lopez\"</h2>\n",
       "<table>\n",
       "<th>  <td>id</td> <td>dist</td> <td>user</td> </td>message<td> </th>\n",
       "    <tr><td>1</td><td>18286</td><td>-3.006</td> <td>RicardoAlemanMx</td><td> AMLO arremetió contra Calderón\n",
       "https://t.co/h6eMNroqT1</td> </tr><tr><td>2</td><td>3296</td><td>-2.719</td> <td>LaRazon_mx</td><td> Descarta el presidente @lopezobrador_ renuncia del fiscal Alejandro Gertz Manero https://t.co/NCrXYcXYKF https://t.co/jaLL68tlRs</td> </tr><tr><td>3</td><td>2292</td><td>-2.635</td> <td>El_Universal_Mx</td><td> RT @ElUniversal_SLP: #Entérate El gobernador Ricardo Gallardo Cardona pidió al presidente Andrés Manuel López Obrador apoyo para reforzar l…</td> </tr><tr><td>4</td><td>24486</td><td>-2.595</td> <td>Radio_Formula</td><td> Felipe Fuentes Barrera es nombrado presidente interino del TEPJF https://t.co/KO00PbeSbN https://t.co/jxnfe2bN2U</td> </tr><tr><td>5</td><td>6262</td><td>-2.583</td> <td>LaRazon_mx</td><td> 🚨 #ÚLTIMAHORA | Reyes Rodríguez Mondragón es electo magistrado presidente del TEPJF https://t.co/uDL9CIupaz https://t.co/JTBU4SCdSf</td> </tr><tr><td>6</td><td>24904</td><td>-2.412</td> <td>azucenau</td><td> #AzucenaxMilenio | Durante #LaMañanera, el presidente López Obrador respaldó nuevamente al gobernador de Veracruz, Cuitláhuac García https://t.co/iX2ubBHbyJ</td> </tr><tr><td>7</td><td>1231</td><td>-2.388</td> <td>azucenau</td><td> #ENVIVO | Mensaje conjunto del presidente López Obrador y Alejandro Giammattei, presidente de #Guatemala https://t.co/uOwcCHGKt3</td> </tr>\n",
       "</table>\n"
      ],
      "text/plain": [
       "<h2>resultados for \"el gobierno de andres manuel lopez\"</h2>\n",
       "<table>\n",
       "<th>  <td>id</td> <td>dist</td> <td>user</td> </td>message<td> </th>\n",
       "    <tr><td>1</td><td>18286</td><td>-3.006</td> <td>RicardoAlemanMx</td><td> AMLO arremetió contra Calderón\n",
       "https://t.co/h6eMNroqT1</td> </tr><tr><td>2</td><td>3296</td><td>-2.719</td> <td>LaRazon_mx</td><td> Descarta el presidente @lopezobrador_ renuncia del fiscal Alejandro Gertz Manero https://t.co/NCrXYcXYKF https://t.co/jaLL68tlRs</td> </tr><tr><td>3</td><td>2292</td><td>-2.635</td> <td>El_Universal_Mx</td><td> RT @ElUniversal_SLP: #Entérate El gobernador Ricardo Gallardo Cardona pidió al presidente Andrés Manuel López Obrador apoyo para reforzar l…</td> </tr><tr><td>4</td><td>24486</td><td>-2.595</td> <td>Radio_Formula</td><td> Felipe Fuentes Barrera es nombrado presidente interino del TEPJF https://t.co/KO00PbeSbN https://t.co/jxnfe2bN2U</td> </tr><tr><td>5</td><td>6262</td><td>-2.583</td> <td>LaRazon_mx</td><td> 🚨 #ÚLTIMAHORA | Reyes Rodríguez Mondragón es electo magistrado presidente del TEPJF https://t.co/uDL9CIupaz https://t.co/JTBU4SCdSf</td> </tr><tr><td>6</td><td>24904</td><td>-2.412</td> <td>azucenau</td><td> #AzucenaxMilenio | Durante #LaMañanera, el presidente López Obrador respaldó nuevamente al gobernador de Veracruz, Cuitláhuac García https://t.co/iX2ubBHbyJ</td> </tr><tr><td>7</td><td>1231</td><td>-2.388</td> <td>azucenau</td><td> #ENVIVO | Mensaje conjunto del presidente López Obrador y Alejandro Giammattei, presidente de #Guatemala https://t.co/uOwcCHGKt3</td> </tr>\n",
       "</table>\n"
      ]
     },
     "metadata": {},
     "output_type": "display_data"
    },
    {
     "name": "stdout",
     "output_type": "stream",
     "text": [
      "  0.000744 seconds\n"
     ]
    },
    {
     "data": {
      "text/html": [
       "<h2>resultados for \"trafico de drogas\"</h2>\n",
       "<table>\n",
       "<th>  <td>id</td> <td>dist</td> <td>user</td> </td>message<td> </th>\n",
       "    <tr><td>1</td><td>4059</td><td>-2.259</td> <td>El_Universal_Mx</td><td> Regresan los asaltos a automovilistas en Periférico ▶️ https://t.co/5j02oCFXHZ</td> </tr><tr><td>2</td><td>16919</td><td>-2.169</td> <td>LaRazon_mx</td><td> . @ONU_es aprueba resolución mexicana para combatir tráfico de armas https://t.co/B7YEbjID5n https://t.co/WBD30vdeJa</td> </tr><tr><td>3</td><td>29911</td><td>-2.131</td> <td>Milenio</td><td> ▶ Choferes de tráileres golpean a agentes de tránsito tras intentar multarlos\n",
       "https://t.co/xnMf2Yqvcv https://t.co/UT5XyxGp6F</td> </tr><tr><td>4</td><td>30159</td><td>-2.121</td> <td>AristeguiOnline</td><td> Decomisan metanfetamina oculta en dulces de palanqueta en Sinaloa\n",
       "https://t.co/onlqnv3Fd5 https://t.co/JSRR9wYxco</td> </tr><tr><td>5</td><td>12829</td><td>-2.092</td> <td>Radio_Formula</td><td> Insurgentes Norte, Calzada Ignacio Zaragoza y hasta Tlalpan presentan tránsito fluido en ambos sentidos. \n",
       "\n",
       "https://t.co/QF5BfhSgMP</td> </tr><tr><td>6</td><td>24701</td><td>-1.978</td> <td>AristeguiOnline</td><td> Militares decomisan 200 kilos de cocaína en Sonora y SLP\n",
       "https://t.co/HJpfqx4Jya https://t.co/VlXVvHtpDA</td> </tr><tr><td>7</td><td>4489</td><td>-1.978</td> <td>PublimetroMX</td><td> ▶️ #VIDEO l Camioneta de carga provoca carambola en avenida de #Toluca\n",
       "\n",
       "https://t.co/F4zCYXsMav</td> </tr>\n",
       "</table>\n"
      ],
      "text/plain": [
       "<h2>resultados for \"trafico de drogas\"</h2>\n",
       "<table>\n",
       "<th>  <td>id</td> <td>dist</td> <td>user</td> </td>message<td> </th>\n",
       "    <tr><td>1</td><td>4059</td><td>-2.259</td> <td>El_Universal_Mx</td><td> Regresan los asaltos a automovilistas en Periférico ▶️ https://t.co/5j02oCFXHZ</td> </tr><tr><td>2</td><td>16919</td><td>-2.169</td> <td>LaRazon_mx</td><td> . @ONU_es aprueba resolución mexicana para combatir tráfico de armas https://t.co/B7YEbjID5n https://t.co/WBD30vdeJa</td> </tr><tr><td>3</td><td>29911</td><td>-2.131</td> <td>Milenio</td><td> ▶ Choferes de tráileres golpean a agentes de tránsito tras intentar multarlos\n",
       "https://t.co/xnMf2Yqvcv https://t.co/UT5XyxGp6F</td> </tr><tr><td>4</td><td>30159</td><td>-2.121</td> <td>AristeguiOnline</td><td> Decomisan metanfetamina oculta en dulces de palanqueta en Sinaloa\n",
       "https://t.co/onlqnv3Fd5 https://t.co/JSRR9wYxco</td> </tr><tr><td>5</td><td>12829</td><td>-2.092</td> <td>Radio_Formula</td><td> Insurgentes Norte, Calzada Ignacio Zaragoza y hasta Tlalpan presentan tránsito fluido en ambos sentidos. \n",
       "\n",
       "https://t.co/QF5BfhSgMP</td> </tr><tr><td>6</td><td>24701</td><td>-1.978</td> <td>AristeguiOnline</td><td> Militares decomisan 200 kilos de cocaína en Sonora y SLP\n",
       "https://t.co/HJpfqx4Jya https://t.co/VlXVvHtpDA</td> </tr><tr><td>7</td><td>4489</td><td>-1.978</td> <td>PublimetroMX</td><td> ▶️ #VIDEO l Camioneta de carga provoca carambola en avenida de #Toluca\n",
       "\n",
       "https://t.co/F4zCYXsMav</td> </tr>\n",
       "</table>\n"
      ]
     },
     "metadata": {},
     "output_type": "display_data"
    },
    {
     "name": "stdout",
     "output_type": "stream",
     "text": [
      "  0.000050 seconds\n"
     ]
    },
    {
     "data": {
      "text/html": [
       "<h2>resultados for \"covid corona virus\"</h2>\n",
       "<table>\n",
       "<th>  <td>id</td> <td>dist</td> <td>user</td> </td>message<td> </th>\n",
       "    <tr><td>1</td><td>163</td><td>-1.619</td> <td>SinEmbargoMX</td><td> ¿Un chicle contra la COVID? Crean producto que puede frenar la transmisión del virus\n",
       "https://t.co/L0r3yXu4yA https://t.co/qM4VVEuaEi</td> </tr><tr><td>2</td><td>1600</td><td>-1.492</td> <td>AristeguiOnline</td><td> #Entérate | Anuncia López-Gatell vacuna de refuerzo contra Covid solo para adultos mayores \n",
       "👉  https://t.co/q1vRlO8QCG https://t.co/uzHk1zXzNP</td> </tr><tr><td>3</td><td>2303</td><td>-1.481</td> <td>Radio_Formula</td><td> Gibran Lajud obtiene pasaporte para poder ser convocado a la selección de Líbano https://t.co/8l43rOPWMi https://t.co/VlVajoYIto</td> </tr><tr><td>4</td><td>2015</td><td>-1.46</td> <td>el_pais</td><td> RT @elpais_tec: La ciberguerra de Rusia contra Ucrania nunca ha acabado https://t.co/vjzJKkFAke</td> </tr><tr><td>5</td><td>1591</td><td>-1.444</td> <td>AristeguiOnline</td><td> #Video ▶️| Champions League: Asistirá el Rey Felipe VI a la Final en París\n",
       "\n",
       "https://t.co/3H0LCMv92q</td> </tr><tr><td>6</td><td>1479</td><td>-1.405</td> <td>EFEnoticias</td><td> Millones de toneladas de desechos sanitarios, otro precio de la pandemia.\n",
       "\n",
       "https://t.co/cYgWsRhnzf https://t.co/F8ozpFPj9M</td> </tr><tr><td>7</td><td>1670</td><td>-1.395</td> <td>AristeguiOnline</td><td> Shanghái ve próximo el fin del confinamiento tras brote de Covid-19\n",
       "\n",
       "https://t.co/PKCeJiQttL</td> </tr>\n",
       "</table>\n"
      ],
      "text/plain": [
       "<h2>resultados for \"covid corona virus\"</h2>\n",
       "<table>\n",
       "<th>  <td>id</td> <td>dist</td> <td>user</td> </td>message<td> </th>\n",
       "    <tr><td>1</td><td>163</td><td>-1.619</td> <td>SinEmbargoMX</td><td> ¿Un chicle contra la COVID? Crean producto que puede frenar la transmisión del virus\n",
       "https://t.co/L0r3yXu4yA https://t.co/qM4VVEuaEi</td> </tr><tr><td>2</td><td>1600</td><td>-1.492</td> <td>AristeguiOnline</td><td> #Entérate | Anuncia López-Gatell vacuna de refuerzo contra Covid solo para adultos mayores \n",
       "👉  https://t.co/q1vRlO8QCG https://t.co/uzHk1zXzNP</td> </tr><tr><td>3</td><td>2303</td><td>-1.481</td> <td>Radio_Formula</td><td> Gibran Lajud obtiene pasaporte para poder ser convocado a la selección de Líbano https://t.co/8l43rOPWMi https://t.co/VlVajoYIto</td> </tr><tr><td>4</td><td>2015</td><td>-1.46</td> <td>el_pais</td><td> RT @elpais_tec: La ciberguerra de Rusia contra Ucrania nunca ha acabado https://t.co/vjzJKkFAke</td> </tr><tr><td>5</td><td>1591</td><td>-1.444</td> <td>AristeguiOnline</td><td> #Video ▶️| Champions League: Asistirá el Rey Felipe VI a la Final en París\n",
       "\n",
       "https://t.co/3H0LCMv92q</td> </tr><tr><td>6</td><td>1479</td><td>-1.405</td> <td>EFEnoticias</td><td> Millones de toneladas de desechos sanitarios, otro precio de la pandemia.\n",
       "\n",
       "https://t.co/cYgWsRhnzf https://t.co/F8ozpFPj9M</td> </tr><tr><td>7</td><td>1670</td><td>-1.395</td> <td>AristeguiOnline</td><td> Shanghái ve próximo el fin del confinamiento tras brote de Covid-19\n",
       "\n",
       "https://t.co/PKCeJiQttL</td> </tr>\n",
       "</table>\n"
      ]
     },
     "metadata": {},
     "output_type": "display_data"
    }
   ],
   "source": [
    "\n",
    "display(@htl \"<h1>Ejemplos de búsqueda</h1>\")\n",
    "search_and_display(index, \"el gobierno de andres manuel lopez\", 7, D, E, T)\n",
    "search_and_display(index, \"trafico de drogas\", 7, D, E, T)\n",
    "search_and_display(index, \"covid corona virus\", 7, D, E, T)\n"
   ]
  },
  {
   "cell_type": "code",
   "execution_count": 12,
   "id": "b4028733-5dd7-46e0-addb-5f7959766695",
   "metadata": {},
   "outputs": [
    {
     "data": {
      "text/html": [
       "<h1>Ejemplos de búsqueda (mensajes aleatorios)</h1>"
      ],
      "text/plain": [
       "<h1>Ejemplos de búsqueda (mensajes aleatorios)</h1>"
      ]
     },
     "metadata": {},
     "output_type": "display_data"
    },
    {
     "name": "stdout",
     "output_type": "stream",
     "text": [
      "  0.003390 seconds\n"
     ]
    },
    {
     "data": {
      "text/html": [
       "<h2>resultados for \"Iveth Camila Ortiz, una niña de 12 años que logró que adultos de su comunidad se vacunaran, ahora es parte de las 100 mujeres más poderosas. https://t.co/DLZKYGvGeW\"</h2>\n",
       "<table>\n",
       "<th>  <td>id</td> <td>dist</td> <td>user</td> </td>message<td> </th>\n",
       "    <tr><td>1</td><td>6854</td><td>-1.107</td> <td>PublimetroMX</td><td> RT @Publisport_MX: #RepechajeUEFA \n",
       "\n",
       "¡Comienza el partido! \n",
       "\n",
       "#Escocia 🏴󠁧󠁢󠁳󠁣󠁴󠁿 0-0 🇺🇦 #Ucrania \n",
       "\n",
       "https://t.co/jcH7NIt9M0 https://t.co/yxOuBPi…</td> </tr><tr><td>2</td><td>2483</td><td>-1.086</td> <td>LaRazon_mx</td><td> 🚨 #ÚLTIMAHORA | SCJN avala aborto a menores de 12 a 17 años víctimas de violación https://t.co/I9c1D4FZop https://t.co/ioa3Etu4aD</td> </tr><tr><td>3</td><td>22625</td><td>-1.08</td> <td>LaRazon_mx</td><td> #OJO | Autoridades minimizan violencia contra las mujeres, afirman activistas https://t.co/YQHOHwtURp https://t.co/kfFx5tQMdB</td> </tr><tr><td>4</td><td>23958</td><td>-1.071</td> <td>Milenio</td><td> Dictan prisión preventiva oficiosa a presunto asesino de María Fernanda\n",
       "\n",
       "https://t.co/OCPZI8NksD https://t.co/sWp0ImFxem</td> </tr><tr><td>5</td><td>10619</td><td>-1.063</td> <td>LaRazon_mx</td><td> 🚨 #ÚLTIMAHORA | Aprueba @SCJN despenalizar aborto; determina que mujeres decidan interrupción del embarazo https://t.co/b6asxzys76 https://t.co/SnYMKxtm0B</td> </tr><tr><td>6</td><td>2570</td><td>-1.054</td> <td>AristeguiOnline</td><td> #Video Bachelet denuncia agresiones contra ambientalistas en América Latina https://t.co/9AqXtIgLpu</td> </tr><tr><td>7</td><td>8523</td><td>-1.051</td> <td>AristeguiOnline</td><td> Condenan organismos de derechos humanos el asesinato de Lourdes Maldonado https://t.co/Mp151TrWWx https://t.co/VZLcRkfC3x</td> </tr>\n",
       "</table>\n"
      ],
      "text/plain": [
       "<h2>resultados for \"Iveth Camila Ortiz, una niña de 12 años que logró que adultos de su comunidad se vacunaran, ahora es parte de las 100 mujeres más poderosas. https://t.co/DLZKYGvGeW\"</h2>\n",
       "<table>\n",
       "<th>  <td>id</td> <td>dist</td> <td>user</td> </td>message<td> </th>\n",
       "    <tr><td>1</td><td>6854</td><td>-1.107</td> <td>PublimetroMX</td><td> RT @Publisport_MX: #RepechajeUEFA \n",
       "\n",
       "¡Comienza el partido! \n",
       "\n",
       "#Escocia 🏴󠁧󠁢󠁳󠁣󠁴󠁿 0-0 🇺🇦 #Ucrania \n",
       "\n",
       "https://t.co/jcH7NIt9M0 https://t.co/yxOuBPi…</td> </tr><tr><td>2</td><td>2483</td><td>-1.086</td> <td>LaRazon_mx</td><td> 🚨 #ÚLTIMAHORA | SCJN avala aborto a menores de 12 a 17 años víctimas de violación https://t.co/I9c1D4FZop https://t.co/ioa3Etu4aD</td> </tr><tr><td>3</td><td>22625</td><td>-1.08</td> <td>LaRazon_mx</td><td> #OJO | Autoridades minimizan violencia contra las mujeres, afirman activistas https://t.co/YQHOHwtURp https://t.co/kfFx5tQMdB</td> </tr><tr><td>4</td><td>23958</td><td>-1.071</td> <td>Milenio</td><td> Dictan prisión preventiva oficiosa a presunto asesino de María Fernanda\n",
       "\n",
       "https://t.co/OCPZI8NksD https://t.co/sWp0ImFxem</td> </tr><tr><td>5</td><td>10619</td><td>-1.063</td> <td>LaRazon_mx</td><td> 🚨 #ÚLTIMAHORA | Aprueba @SCJN despenalizar aborto; determina que mujeres decidan interrupción del embarazo https://t.co/b6asxzys76 https://t.co/SnYMKxtm0B</td> </tr><tr><td>6</td><td>2570</td><td>-1.054</td> <td>AristeguiOnline</td><td> #Video Bachelet denuncia agresiones contra ambientalistas en América Latina https://t.co/9AqXtIgLpu</td> </tr><tr><td>7</td><td>8523</td><td>-1.051</td> <td>AristeguiOnline</td><td> Condenan organismos de derechos humanos el asesinato de Lourdes Maldonado https://t.co/Mp151TrWWx https://t.co/VZLcRkfC3x</td> </tr>\n",
       "</table>\n"
      ]
     },
     "metadata": {},
     "output_type": "display_data"
    },
    {
     "name": "stdout",
     "output_type": "stream",
     "text": [
      "  0.002716 seconds\n"
     ]
    },
    {
     "data": {
      "text/html": [
       "<h2>resultados for \"Vicky White y Casey White, que no son familiares y habrían mantenido un romance desde 2020, fueron capturados este lunes luego de una persecución automovilística y horas más tarde se reportó la muerte de ella.\n",
       "https://t.co/So2qPOmS06\"</h2>\n",
       "<table>\n",
       "<th>  <td>id</td> <td>dist</td> <td>user</td> </td>message<td> </th>\n",
       "    <tr><td>1</td><td>23936</td><td>-1.365</td> <td>El_Universal_Mx</td><td> 🚨 #ÚltimaHora Reportan cuatro muertos tras balacera durante operativo en Azcapotzalco\n",
       "https://t.co/Sh6GiJxAJc</td> </tr><tr><td>2</td><td>7866</td><td>-1.272</td> <td>julioastillero</td><td> Reporte de @ArturoCanoMx</td> </tr><tr><td>3</td><td>19519</td><td>-1.257</td> <td>El_Universal_Mx</td><td> 🚨#ÚltimaHora🚨 Pemex restablece producción de barriles tras explosión en plataforma https://t.co/P0rcDlMnl9 https://t.co/xnye3Ud3dj</td> </tr><tr><td>4</td><td>6854</td><td>-1.246</td> <td>PublimetroMX</td><td> RT @Publisport_MX: #RepechajeUEFA \n",
       "\n",
       "¡Comienza el partido! \n",
       "\n",
       "#Escocia 🏴󠁧󠁢󠁳󠁣󠁴󠁿 0-0 🇺🇦 #Ucrania \n",
       "\n",
       "https://t.co/jcH7NIt9M0 https://t.co/yxOuBPi…</td> </tr><tr><td>5</td><td>28378</td><td>-1.208</td> <td>LaRazon_mx</td><td> Suman 4 detenidos tras hallazgo de tráiler con migrantes muertos en Texas https://t.co/HJx4W93IxU https://t.co/ZBwnDsndOG</td> </tr><tr><td>6</td><td>22847</td><td>-1.197</td> <td>El_Universal_Mx</td><td> 🚨 #ÚltimaHora 🚨 Enfrentamientos entre civiles armados han dejado al menos dos policías estatales heridos en Tamaulipas https://t.co/WK9Q5dowXO</td> </tr><tr><td>7</td><td>13538</td><td>-1.16</td> <td>julioastillero</td><td> Cinco gobernadores negocian en EU https://t.co/XF3mBKhfU0</td> </tr>\n",
       "</table>\n"
      ],
      "text/plain": [
       "<h2>resultados for \"Vicky White y Casey White, que no son familiares y habrían mantenido un romance desde 2020, fueron capturados este lunes luego de una persecución automovilística y horas más tarde se reportó la muerte de ella.\n",
       "https://t.co/So2qPOmS06\"</h2>\n",
       "<table>\n",
       "<th>  <td>id</td> <td>dist</td> <td>user</td> </td>message<td> </th>\n",
       "    <tr><td>1</td><td>23936</td><td>-1.365</td> <td>El_Universal_Mx</td><td> 🚨 #ÚltimaHora Reportan cuatro muertos tras balacera durante operativo en Azcapotzalco\n",
       "https://t.co/Sh6GiJxAJc</td> </tr><tr><td>2</td><td>7866</td><td>-1.272</td> <td>julioastillero</td><td> Reporte de @ArturoCanoMx</td> </tr><tr><td>3</td><td>19519</td><td>-1.257</td> <td>El_Universal_Mx</td><td> 🚨#ÚltimaHora🚨 Pemex restablece producción de barriles tras explosión en plataforma https://t.co/P0rcDlMnl9 https://t.co/xnye3Ud3dj</td> </tr><tr><td>4</td><td>6854</td><td>-1.246</td> <td>PublimetroMX</td><td> RT @Publisport_MX: #RepechajeUEFA \n",
       "\n",
       "¡Comienza el partido! \n",
       "\n",
       "#Escocia 🏴󠁧󠁢󠁳󠁣󠁴󠁿 0-0 🇺🇦 #Ucrania \n",
       "\n",
       "https://t.co/jcH7NIt9M0 https://t.co/yxOuBPi…</td> </tr><tr><td>5</td><td>28378</td><td>-1.208</td> <td>LaRazon_mx</td><td> Suman 4 detenidos tras hallazgo de tráiler con migrantes muertos en Texas https://t.co/HJx4W93IxU https://t.co/ZBwnDsndOG</td> </tr><tr><td>6</td><td>22847</td><td>-1.197</td> <td>El_Universal_Mx</td><td> 🚨 #ÚltimaHora 🚨 Enfrentamientos entre civiles armados han dejado al menos dos policías estatales heridos en Tamaulipas https://t.co/WK9Q5dowXO</td> </tr><tr><td>7</td><td>13538</td><td>-1.16</td> <td>julioastillero</td><td> Cinco gobernadores negocian en EU https://t.co/XF3mBKhfU0</td> </tr>\n",
       "</table>\n"
      ]
     },
     "metadata": {},
     "output_type": "display_data"
    },
    {
     "name": "stdout",
     "output_type": "stream",
     "text": [
      "  0.003064 seconds\n"
     ]
    },
    {
     "data": {
      "text/html": [
       "<h2>resultados for \"#EnLaSemana | Así influyó el narco en Tláhuac para que Morena ganara\n",
       "¿Esta es la verdadera razón de su victoria?\n",
       "https://t.co/Fwan4UAy9L\"</h2>\n",
       "<table>\n",
       "<th>  <td>id</td> <td>dist</td> <td>user</td> </td>message<td> </th>\n",
       "    <tr><td>1</td><td>18286</td><td>-1.568</td> <td>RicardoAlemanMx</td><td> AMLO arremetió contra Calderón\n",
       "https://t.co/h6eMNroqT1</td> </tr><tr><td>2</td><td>6854</td><td>-1.464</td> <td>PublimetroMX</td><td> RT @Publisport_MX: #RepechajeUEFA \n",
       "\n",
       "¡Comienza el partido! \n",
       "\n",
       "#Escocia 🏴󠁧󠁢󠁳󠁣󠁴󠁿 0-0 🇺🇦 #Ucrania \n",
       "\n",
       "https://t.co/jcH7NIt9M0 https://t.co/yxOuBPi…</td> </tr><tr><td>3</td><td>7212</td><td>-1.426</td> <td>LaRazon_mx</td><td> .@SandraCuevas_ promete desmantelar cárteles en la alcaldía #Cuauhtémoc https://t.co/XnCpQv0IXd https://t.co/VeyuhEIbbp</td> </tr><tr><td>4</td><td>2570</td><td>-1.381</td> <td>AristeguiOnline</td><td> #Video Bachelet denuncia agresiones contra ambientalistas en América Latina https://t.co/9AqXtIgLpu</td> </tr><tr><td>5</td><td>6262</td><td>-1.379</td> <td>LaRazon_mx</td><td> 🚨 #ÚLTIMAHORA | Reyes Rodríguez Mondragón es electo magistrado presidente del TEPJF https://t.co/uDL9CIupaz https://t.co/JTBU4SCdSf</td> </tr><tr><td>6</td><td>4673</td><td>-1.356</td> <td>AristeguiOnline</td><td> Vandalizan instalaciones del Instituto Estatal Electoral en Oaxaca https://t.co/DxoSaCG7Ag</td> </tr><tr><td>7</td><td>6054</td><td>-1.353</td> <td>LaRazon_mx</td><td> AMLO defiende en Sinaloa estrategia contra el crimen https://t.co/eGmxU1Cffz https://t.co/nTjcE7Squa</td> </tr>\n",
       "</table>\n"
      ],
      "text/plain": [
       "<h2>resultados for \"#EnLaSemana | Así influyó el narco en Tláhuac para que Morena ganara\n",
       "¿Esta es la verdadera razón de su victoria?\n",
       "https://t.co/Fwan4UAy9L\"</h2>\n",
       "<table>\n",
       "<th>  <td>id</td> <td>dist</td> <td>user</td> </td>message<td> </th>\n",
       "    <tr><td>1</td><td>18286</td><td>-1.568</td> <td>RicardoAlemanMx</td><td> AMLO arremetió contra Calderón\n",
       "https://t.co/h6eMNroqT1</td> </tr><tr><td>2</td><td>6854</td><td>-1.464</td> <td>PublimetroMX</td><td> RT @Publisport_MX: #RepechajeUEFA \n",
       "\n",
       "¡Comienza el partido! \n",
       "\n",
       "#Escocia 🏴󠁧󠁢󠁳󠁣󠁴󠁿 0-0 🇺🇦 #Ucrania \n",
       "\n",
       "https://t.co/jcH7NIt9M0 https://t.co/yxOuBPi…</td> </tr><tr><td>3</td><td>7212</td><td>-1.426</td> <td>LaRazon_mx</td><td> .@SandraCuevas_ promete desmantelar cárteles en la alcaldía #Cuauhtémoc https://t.co/XnCpQv0IXd https://t.co/VeyuhEIbbp</td> </tr><tr><td>4</td><td>2570</td><td>-1.381</td> <td>AristeguiOnline</td><td> #Video Bachelet denuncia agresiones contra ambientalistas en América Latina https://t.co/9AqXtIgLpu</td> </tr><tr><td>5</td><td>6262</td><td>-1.379</td> <td>LaRazon_mx</td><td> 🚨 #ÚLTIMAHORA | Reyes Rodríguez Mondragón es electo magistrado presidente del TEPJF https://t.co/uDL9CIupaz https://t.co/JTBU4SCdSf</td> </tr><tr><td>6</td><td>4673</td><td>-1.356</td> <td>AristeguiOnline</td><td> Vandalizan instalaciones del Instituto Estatal Electoral en Oaxaca https://t.co/DxoSaCG7Ag</td> </tr><tr><td>7</td><td>6054</td><td>-1.353</td> <td>LaRazon_mx</td><td> AMLO defiende en Sinaloa estrategia contra el crimen https://t.co/eGmxU1Cffz https://t.co/nTjcE7Squa</td> </tr>\n",
       "</table>\n"
      ]
     },
     "metadata": {},
     "output_type": "display_data"
    }
   ],
   "source": [
    "display(@htl \"<h1>Ejemplos de búsqueda (mensajes aleatorios)</h1>\")\n",
    "\n",
    "for i in 1:3\n",
    "    for qid in rand(1:length(D.corpus))\n",
    "        search_and_display(index, D.corpus[qid], 7, D, E, T)\n",
    "    end\n",
    "end"
   ]
  },
  {
   "cell_type": "markdown",
   "id": "1e8f09a9-75aa-49c5-9e35-4c486defa289",
   "metadata": {},
   "source": [
    "# Actividades\n",
    "- Reproduzca el ejercicio de este notebook, use embeddings para español, cambié los ejemplos. Se sugiere el uso de <https://ingeotec.github.io/regional-spanish-models/> donde encontrará modelos fastText regionalizados del español, pero puede usar otros embeddings.\n",
    "- ¿Qué piensa de las diferencias de tamaño entre los documentos y las consultas? esto como afecta a la representación semántica.\n",
    "- ¿Cuál sería el símil de bigramas y trigramas para este esquema de representación semántica? Implementelo.\n",
    "- Implemente su búsqueda semántica. Si usa Julia considere `SimilaritySearch.jl` y si usa Python considere `faiss`.\n",
    "- Reporte su notebook y anote sus soluciones a las preguntas planteadas. Reporte los resultados de sus implementaciones, compare contra las alternativas presentadas en este reporte. Discuta sus resultados. Finalice el reporte  con reflexiones sobre el uso de nubes de puntos en lugar de bolsas de palabras tradicionales. Anoté sus conclusiones.\n",
    "\n",
    "# Bibliografía\n",
    "- [KSKW2015] Kusner, M., Sun, Y., Kolkin, N., & Weinberger, K. (2015, June). From word embeddings to document distances. In International conference on machine learning (pp. 957-966). PMLR.\n",
    "- [PW2009] Pele, O., & Werman, M. (2009, September). Fast and robust earth mover's distances. In 2009 IEEE 12th international conference on computer vision (pp. 460-467). IEEE.\n"
   ]
  }
 ],
 "metadata": {
  "kernelspec": {
   "display_name": "Julia 1.7.2",
   "language": "julia",
   "name": "julia-1.7"
  },
  "language_info": {
   "file_extension": ".jl",
   "mimetype": "application/julia",
   "name": "julia",
   "version": "1.7.2"
  }
 },
 "nbformat": 4,
 "nbformat_minor": 5
}
