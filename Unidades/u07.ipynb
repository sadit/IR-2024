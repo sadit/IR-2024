{
 "cells": [
  {
   "cell_type": "markdown",
   "id": "9fc189d2-656e-41d4-be84-dcf6ccf9537b",
   "metadata": {},
   "source": [
    "# Búsqueda semántica con nubes de puntos\n",
    "Autor: Eric S. Tellez <eric.tellez@infotec.mx>\n",
    "\n",
    "## Usando la nube de puntos\n",
    "\n",
    "La representación de nube de puntos puede usarse directamente sin realizar prototipos, sin embargo, es posible que dada su complejidad, dimensión intrinseca, tenga poca utilidad en grandes volumenes de información. Por ejemplo, es posible utilizar la distancia de [Hausdorff](https://en.wikipedia.org/wiki/Hausdorff_distance); que entre dos nubes de puntos (documentos para este caso) esta definida como sigue:\n",
    "\n",
    "$$ H_d(U, V) = \\max \\left\\{ \\max_{u \\in U} \\min_{x \\in V} d(u, x), \\max_{v \\in V} \\min_{x \\in U} d(v, x) \\right\\} $$\n",
    "\n",
    "Donde $\\textsf{nn}$ encuentra el vecino cercano del primer argumento en el segundo. Podemos ver la intuición de esta distancia, analizando las partes de la expresión. \n",
    "La diferencia entre ambos conjuntos se representa con el máximo de las distancias mínimas. Note que esta parte es idéntica a resolver una búsqueda de vecinos cercanos. La parte más externa de la expresión se repite para los dos conjuntos para preservar la simétria de la función.\n",
    "\n",
    "De la misma forma, es posible obtener variaciones de interés como considerar todas las distancias cercanas en lugar de solo las máximas, lo cual puede reducir formas caprichosas de _outlayers_.\n",
    "\n",
    "$$ H^+_d(U, V) = \\frac{1}{2|U|} \\sum_{u \\in U} \\min_{x \\in V} d(u, x) + \\frac{1}{2|V|}\\sum_{v \\in V} \\min_{x \\in U} d(v, x) $$\n",
    "\n",
    "La información local de una representación de bolsa de palabras también puede ser aprovechada, por ejemplo, añadiendo información de $\\textsf{tp}$\n",
    "\n",
    "$$ H^\\textsf{pt}_d(U, V) = \\max \\left\\{\n",
    "        \\max_{u \\in U} \\left\\{\\textsf{pt}(u, U) \\min_{x \\in V} d(u, x)\\right\\},\n",
    "        \\max_{v \\in V} \\left\\{\\textsf{pt}(v, V) \\min_{x \\in U} d(v, x)\\right\\}\n",
    "     \\right\\} $$\n",
    "\n",
    "# Notas adicionales\n",
    "La versión de $H^\\textsf{pt}_d$ que usa la probabilidad de término $\\textsf{pt}$ es similar a la aproximación 2 listada en [@KSKW2015]. Los prototipos son similares a la aproximación 1 del mismo artículo. En el artículo se presenta la función de distancia _word mover's distance_ (WMD) que es una adecuación de la Earths mover's distance (EMD) [PW2009]. EMD es la solución óptima a un problema de transportación, la WMD es la adaptación teniendo en cuenta embeddings de palabras.\n",
    "\n",
    "# Ejemplo\n"
   ]
  },
  {
   "cell_type": "code",
   "execution_count": 1,
   "id": "cd04785e-aa4e-493c-9aa8-5c54c8e1f322",
   "metadata": {},
   "outputs": [
    {
     "name": "stderr",
     "output_type": "stream",
     "text": [
      "\u001b[32m\u001b[1m  Activating\u001b[22m\u001b[39m project at `~/IR-2022/Unidades`\n"
     ]
    }
   ],
   "source": [
    "using Pkg\n",
    "Pkg.activate(\".\")\n",
    "\n",
    "using SimilaritySearch, TextSearch, Plots, Word2Vec, KNearestCenters, LinearAlgebra, HypertextLiteral, JSON, CodecZlib, Random\n",
    "using Embeddings: load_embeddings, FastText_Text\n",
    "using Downloads: download"
   ]
  },
  {
   "cell_type": "code",
   "execution_count": 2,
   "id": "d2219462-7519-4273-9a39-ebb5361099c3",
   "metadata": {},
   "outputs": [
    {
     "data": {
      "text/plain": [
       "scores (generic function with 1 method)"
      ]
     },
     "execution_count": 2,
     "metadata": {},
     "output_type": "execute_result"
    }
   ],
   "source": [
    "include(\"knn.jl\")"
   ]
  },
  {
   "cell_type": "code",
   "execution_count": 3,
   "id": "9fe195c4-8f5a-4b8f-bde9-8be620397ba1",
   "metadata": {},
   "outputs": [
    {
     "data": {
      "text/plain": [
       "word2vec_embeddings (generic function with 1 method)"
      ]
     },
     "execution_count": 3,
     "metadata": {},
     "output_type": "execute_result"
    }
   ],
   "source": [
    "function word2vec_embeddings(textconfig, corpus, embfile; dim=32, w2vtmp=tempfile(pwd()))\n",
    "    isfile(embfile) && return\n",
    "    tcorpus = tokenize_corpus(textconfig, corpus)\n",
    "    voc = Vocabulary(textconfig, tcorpus)\n",
    "    fvoc = filter_tokens(voc) do t\n",
    "        5 <= t.ndocs <= 10000\n",
    "    end\n",
    "    valid = Set(fvoc.token)\n",
    "\n",
    "    open(w2vtmp, \"w\") do f\n",
    "        for tokens in tcorpus\n",
    "            tokens = filter!(t -> t in valid, tokens)\n",
    "            if length(tokens) > 7 # minimum number of tokens in a message\n",
    "                println(f, join(tokens, ' '))\n",
    "            end\n",
    "        end\n",
    "    end\n",
    "\n",
    "    word2vec(w2vtmp, embfile, size=dim, iter=15, threads=Threads.nthreads()-1)\n",
    "end\n"
   ]
  },
  {
   "cell_type": "markdown",
   "id": "2212f846-9b5c-4101-bdce-8b60bd4baf7c",
   "metadata": {},
   "source": [
    "# Cargando datos y creando word embeddings a la medida"
   ]
  },
  {
   "cell_type": "code",
   "execution_count": 4,
   "id": "67d4602c-c9d6-4a52-a451-1d482fa5413a",
   "metadata": {},
   "outputs": [
    {
     "data": {
      "text/html": [
       "<h1>Cargando el corpus</h1>"
      ],
      "text/plain": [
       "<h1>Cargando el corpus</h1>"
      ]
     },
     "metadata": {},
     "output_type": "display_data"
    },
    {
     "name": "stdout",
     "output_type": "stream",
     "text": [
      "Starting training using file /home/sadit/IR-2022/Unidades/w2v.tmp\n",
      "Vocab size: 11080\n",
      "Words in train file: 455119\n",
      "unique(D.labels) = [\"AdriDelgadoRuiz\", \"El_Universal_Mx\", \"CNNEE\", \"NTN24\", \"UniNoticias\", \"TelemundoNews\", \"SinEmbargoMX\", \"Reforma\", \"abc_es\", \"azucenau\", \"AristeguiOnline\", \"el_pais\", \"EFEnoticias\", \"PublimetroMX\", \"PublimetroChile\", \"Radio_Formula\", \"RicardoAlemanMx\", \"epigmenioibarra\", \"Milenio\", \"LaRazon_mx\", \"abrahamendieta\", \"PublimetroCol\", \"teleSURtv\", \"bbcmundo\", \"julioastillero\"]\n"
     ]
    },
    {
     "data": {
      "text/plain": [
       "25-element Vector{String}:\n",
       " \"AdriDelgadoRuiz\"\n",
       " \"El_Universal_Mx\"\n",
       " \"CNNEE\"\n",
       " \"NTN24\"\n",
       " \"UniNoticias\"\n",
       " \"TelemundoNews\"\n",
       " \"SinEmbargoMX\"\n",
       " \"Reforma\"\n",
       " \"abc_es\"\n",
       " \"azucenau\"\n",
       " \"AristeguiOnline\"\n",
       " \"el_pais\"\n",
       " \"EFEnoticias\"\n",
       " \"PublimetroMX\"\n",
       " \"PublimetroChile\"\n",
       " \"Radio_Formula\"\n",
       " \"RicardoAlemanMx\"\n",
       " \"epigmenioibarra\"\n",
       " \"Milenio\"\n",
       " \"LaRazon_mx\"\n",
       " \"abrahamendieta\"\n",
       " \"PublimetroCol\"\n",
       " \"teleSURtv\"\n",
       " \"bbcmundo\"\n",
       " \"julioastillero\""
      ]
     },
     "execution_count": 4,
     "metadata": {},
     "output_type": "execute_result"
    }
   ],
   "source": [
    "textconfig = TextConfig(; nlist=[1], qlist=[], slist=[], lc=true,\n",
    "    group_usr=false, group_url=true, group_num=true, del_diac=true, del_punc=true)\n",
    "\n",
    "display(@htl \"<h1>Cargando el corpus</h1>\")\n",
    "\n",
    "include(\"read_datasets.jl\")\n",
    "D, Q = read_news()\n",
    "embfile = \"../data/news.w2v.vec\"\n",
    "isfile(embfile) && rm(embfile)\n",
    "word2vec_embeddings(textconfig, D.corpus, embfile; dim=16, w2vtmp=joinpath(pwd(), \"w2v.tmp\"))\n",
    "E = load_embeddings(FastText_Text, embfile)\n",
    "\n",
    "@show unique(D.labels)"
   ]
  },
  {
   "cell_type": "code",
   "execution_count": 5,
   "id": "dd9ccc0b-aacb-4bc8-b36e-7effdb3647dd",
   "metadata": {},
   "outputs": [
    {
     "data": {
      "text/plain": [
       "(textconfig = TextConfig(true, false, true, true, true, false, false, true, Int8[], Int8[1], Skipgram[], IdentityTokenTransformation()), model = {VectorModel global_weighting=BinaryGlobalWeighting(), local_weighting=TpWeighting(), train-voc=11080, train-n=30244, maxoccs=43239}, voc = Vocabulary([\"</s>\", \"los\", \"del\", \"por\", \"un\", \"rt\", \"se\", \"con\", \"las\", \"para\"  …  \"marbelle\", \"cruces\", \"nolleva\", \"acaboelpaseviernes\", \"@docede\", \"@gregoriacarod\", \"salvadorena\", \"ignorancia\", \"nombrado\", \"mayorkas\"], Int32[0, 8882, 7593, 6956, 6568, 6721, 6328, 5999, 5963, 5070  …  6, 6, 5, 5, 5, 5, 5, 5, 5, 5], Int32[0, 8882, 7593, 6956, 6568, 6721, 6328, 5999, 5963, 5070  …  6, 6, 5, 5, 5, 5, 5, 5, 5, 5], Dict{String, UInt32}(\"focos\" => 0x00002284, \"#videos\" => 0x00001535, \"libertad\" => 0x00000213, \"ayudas\" => 0x00000f7a, \"henry\" => 0x000018e2, \"islamico\" => 0x000018d5, \"directivos\" => 0x00001c4d, \"soporte\" => 0x000013cb, \"astronautas\" => 0x00002532, \"advirtieron\" => 0x000024f4…), 30244))"
      ]
     },
     "execution_count": 5,
     "metadata": {},
     "output_type": "execute_result"
    }
   ],
   "source": [
    "T = let\n",
    "    voc = Vocabulary(textconfig, D.corpus; thesaurus=E.vocab)\n",
    "    model = VectorModel(BinaryGlobalWeighting(), TpWeighting(), voc)\n",
    "    (; textconfig, model, voc)\n",
    "end"
   ]
  },
  {
   "cell_type": "code",
   "execution_count": 6,
   "id": "e4fcb23f-9564-4910-9a4f-1f5d4a582d5f",
   "metadata": {},
   "outputs": [],
   "source": [
    "\n",
    "\n",
    "cloud(text, T) = vectorize(T.model, T.textconfig, text; normalize=false)\n",
    "cloud_corpus(corpus, T) = vectorize_corpus(T.model, T.textconfig, corpus; normalize=false)\n",
    "\n",
    "struct AWMD{DistType} <: SemiMetric\n",
    "    X::MatrixDatabase\n",
    "    results::Vector{KnnResult}\n",
    "    dist::DistType\n",
    "end\n",
    "\n",
    "@inline function nn_(X, res, dist, u, V)\n",
    "    res = reuse!(res)\n",
    "\n",
    "    for (vid, _) in V\n",
    "        push!(res, vid, evaluate(dist, u, X[vid]))\n",
    "    end\n",
    "    \n",
    "    minimum(res)\n",
    "end\n",
    "\n",
    "function onesidewmd(X, res, dist, U, V)\n",
    "    d::Float32 = zero(Float32)\n",
    "    @fastmath for (uid, w) in U\n",
    "        if !haskey(V, uid) # evaluates to zero\n",
    "            d = max(d, w * nn_(X, res, dist, X[uid], V))\n",
    "        end\n",
    "    end\n",
    "\n",
    "    d\n",
    "end\n",
    "\n",
    "function SimilaritySearch.evaluate(wmd::AWMD, U::T, V::T) where T\n",
    "    length(U) == 1 && haskey(U, 0) && return 1f3\n",
    "    length(V) == 1 && haskey(V, 0) && return 1f3\n",
    "    res = wmd.results[Threads.threadid()]\n",
    "\n",
    "    max(onesidewmd(wmd.X, res, wmd.dist, U, V), onesidewmd(wmd.X, res, wmd.dist, V, U))\n",
    "end"
   ]
  },
  {
   "cell_type": "code",
   "execution_count": 7,
   "id": "af8bad4e-c31b-4506-8341-47c4130d664a",
   "metadata": {},
   "outputs": [
    {
     "data": {
      "text/plain": [
       "AWMD{L2Distance}(MatrixDatabase{Matrix{Float32}}(Float32[0.025017 -2.122852 … -0.979149 -0.839573; 0.027621 0.398205 … 0.255373 0.433022; … ; -0.020723 -0.802804 … 0.393353 0.152764; -0.011764 -1.209199 … 0.187008 0.046162]), KnnResult[KnnResult(Int32[], Float32[], 1), KnnResult(Int32[], Float32[], 1), KnnResult(Int32[], Float32[], 1), KnnResult(Int32[], Float32[], 1), KnnResult(Int32[], Float32[], 1), KnnResult(Int32[], Float32[], 1), KnnResult(Int32[], Float32[], 1), KnnResult(Int32[], Float32[], 1), KnnResult(Int32[], Float32[], 1), KnnResult(Int32[], Float32[], 1)  …  KnnResult(Int32[], Float32[], 1), KnnResult(Int32[], Float32[], 1), KnnResult(Int32[], Float32[], 1), KnnResult(Int32[], Float32[], 1), KnnResult(Int32[], Float32[], 1), KnnResult(Int32[], Float32[], 1), KnnResult(Int32[], Float32[], 1), KnnResult(Int32[], Float32[], 1), KnnResult(Int32[], Float32[], 1), KnnResult(Int32[], Float32[], 1)], L2Distance())"
      ]
     },
     "execution_count": 7,
     "metadata": {},
     "output_type": "execute_result"
    }
   ],
   "source": [
    "db = VectorDatabase(cloud_corpus(D.corpus, T))\n",
    "#=for c in eachcol(E.embeddings)\n",
    "    normalize!(c)\n",
    "end=#\n",
    "# dist = AWMD(MatrixDatabase(E.embeddings))\n",
    "dist = AWMD(\n",
    "    MatrixDatabase(E.embeddings),\n",
    "    [KnnResult(1) for _ in 1:Threads.nthreads()],\n",
    "    L2Distance()\n",
    ")"
   ]
  },
  {
   "cell_type": "code",
   "execution_count": 8,
   "id": "9d1dc14b-02cb-45ab-8466-5783251ef877",
   "metadata": {
    "tags": []
   },
   "outputs": [],
   "source": [
    "#=recall = 0.8\n",
    "index = SearchGraph(; dist, db, verbose=true)\n",
    "#index!(index; callbacks=SearchGraphCallbacks(MinRecall(recall)))\n",
    "index!(index)\n",
    "optimize!(index, MinRecall(recall))\n",
    "=#"
   ]
  },
  {
   "cell_type": "code",
   "execution_count": 9,
   "id": "61fded63-d4ca-42f6-b69e-b0a044c4396b",
   "metadata": {},
   "outputs": [],
   "source": [
    "index = ExhaustiveSearch(; db, dist);"
   ]
  },
  {
   "cell_type": "code",
   "execution_count": 16,
   "id": "03eaad27-034e-437a-92e1-0d7a54500823",
   "metadata": {},
   "outputs": [
    {
     "data": {
      "text/html": [
       "<div>search time: 133.655987781, scores: <span class=\"Core-NamedTuple\">(macrof1 = 0.27047964730664564, macrorecall = 0.281091825903312, accuracy = 0.3019934543290687)</span></div>\n"
      ],
      "text/plain": [
       "<div>search time: 133.655987781, scores: <span class=\"Core-NamedTuple\">(macrof1 = 0.27047964730664564, macrorecall = 0.281091825903312, accuracy = 0.3019934543290687)</span></div>\n"
      ]
     },
     "execution_count": 16,
     "metadata": {},
     "output_type": "execute_result"
    }
   ],
   "source": [
    "let k = 1\n",
    "    Qvectors = VectorDatabase(cloud_corpus(Q.corpus, T))\n",
    "    t1 = @elapsed I, _ = searchbatch(index, Qvectors, k)\n",
    "    s1 = scores(Q.labels, knn(I, D.labels))\n",
    "    \n",
    "    @htl \"\"\"\n",
    "    <div>search time: $t1, scores: $s1</div>\n",
    "    \"\"\"\n",
    "end"
   ]
  },
  {
   "cell_type": "code",
   "execution_count": 11,
   "id": "4866489d-bf63-42e9-a871-c0d864c12417",
   "metadata": {},
   "outputs": [],
   "source": [
    "index = ParallelExhaustiveSearch(; db, dist);"
   ]
  },
  {
   "cell_type": "code",
   "execution_count": 12,
   "id": "e4c515d9-d81d-4d91-9087-df312a117242",
   "metadata": {},
   "outputs": [],
   "source": [
    "#@time res, _ = search(ex, db[111], KnnResult(10))\n",
    "#=@time res, _ = search(ex, cloud(\"covid en México\", E, T), KnnResult(10))\n",
    "\n",
    "for (id_, dist_) in res\n",
    "    display(@htl \"\"\"<div style=\"padding: 0.5em;\">\n",
    "        <span style=\"width: 25%; margin: 0.25em;\"> $(id_ => round(dist_; digits=3))</span>\n",
    "        <span style=\"background-color: rgb(120, 60, 60); margin: 0.2em;\">$(D.text[id_])</span>\n",
    "    </div>\"\"\")\n",
    "end\n",
    "=#"
   ]
  },
  {
   "cell_type": "markdown",
   "id": "51b68d72-5256-49ad-b22b-e896f58bc29f",
   "metadata": {},
   "source": [
    "### Búsqueda y presentación de los resultados"
   ]
  },
  {
   "cell_type": "code",
   "execution_count": 13,
   "id": "e045135e-4189-47cc-9513-72a5000527f6",
   "metadata": {},
   "outputs": [
    {
     "data": {
      "text/plain": [
       "search_and_display (generic function with 1 method)"
      ]
     },
     "execution_count": 13,
     "metadata": {},
     "output_type": "execute_result"
    }
   ],
   "source": [
    "function search_and_display(index, qtext, k, D, T)\n",
    "    res = KnnResult(k)\n",
    "    q = cloud(qtext, T)\n",
    "    @time search(index, q, res)\n",
    "    \n",
    "    L = []\n",
    "    for (j, (id, d)) in enumerate(res)\n",
    "        push!(L, @htl \"<tr><td>$j</td><td>$id</td><td>$(round(d, digits=3))</td> <td>$(D.labels[id])</td><td> $(D.corpus[id])</td> </tr>\")\n",
    "    end\n",
    "\n",
    "    display(@htl \"\"\"<h2>resultados para \"$qtext\"</h2>\n",
    "    <table>\n",
    "    <th>  <td>id</td> <td>dist</td> <td>user</td> </td>message<td> </th>\n",
    "        $L\n",
    "    </table>\n",
    "    \"\"\")\n",
    "end\n"
   ]
  },
  {
   "cell_type": "code",
   "execution_count": 14,
   "id": "b1123924-05b2-4799-b2f7-18b3d2c46f4d",
   "metadata": {},
   "outputs": [
    {
     "data": {
      "text/html": [
       "<h1>Ejemplos de búsqueda</h1>"
      ],
      "text/plain": [
       "<h1>Ejemplos de búsqueda</h1>"
      ]
     },
     "metadata": {},
     "output_type": "display_data"
    },
    {
     "name": "stdout",
     "output_type": "stream",
     "text": [
      "  0.046767 seconds (120.95 k allocations: 2.769 MiB)\n"
     ]
    },
    {
     "data": {
      "text/html": [
       "<h2>resultados para \"el gobierno de andres manuel lopez\"</h2>\n",
       "<table>\n",
       "<th>  <td>id</td> <td>dist</td> <td>user</td> </td>message<td> </th>\n",
       "    <tr><td>1</td><td>19737</td><td>0.261</td> <td>azucenau</td><td> La jefa de gobierno de la Ciudad de México, Claudia Sheinbaum, aseguró que ella y el presidente de la República, Andrés Manuel López Obrador, “somos parte del mismo movimiento”, y que jamás será líder de oposición, pues “somos parte de la Cuarta Transformación”. https://t.co/FYoh0GuROr</td> </tr><tr><td>2</td><td>27745</td><td>0.649</td> <td>Reforma</td><td> El Presidente Andrés Manuel López Obrador propuso al Gobierno de #NuevoLeon acordar con empresarios que produzcan menos, usen menos #agua, y que así vaya más líquido a la gente.\n",
       "https://t.co/9kW1cPZBmj</td> </tr><tr><td>3</td><td>19047</td><td>0.717</td> <td>SinEmbargoMX</td><td> El Secretario de Gobernación, Adán Augusto López, informó que el Gobierno federal y las aerolíneas llegaron a acuerdos para que los vuelos de carga doméstica y las operaciones tipo chárter migren “casi de inmediato” al AIFA https://t.co/LOJTQIPLxG https://t.co/41PU4vxjFX</td> </tr><tr><td>4</td><td>9748</td><td>0.742</td> <td>SinEmbargoMX</td><td> 🚨 #URGENTE |  El Gobierno de EU ofrece 5 millones de dólares por información que conduzca al arresto y condena de los mexicanos Ovidio Guzmán López, Iván Archivaldo Guzmán Salazar, Jesús Alfredo Guzmán Salazar y Joaquín Guzmán López, hijos de “El Chapo” https://t.co/S8eyJEDNTX https://t.co/YSXPkhUM7k</td> </tr><tr><td>5</td><td>22699</td><td>0.828</td> <td>El_Universal_Mx</td><td> RT @ElUniversalOax: #Entérate ➡️ A 11 días del impacto del huracán Agatha en #Oaxaca, el presidente Andrés Manuel López Obrador dijo que es…</td> </tr><tr><td>6</td><td>9958</td><td>0.828</td> <td>El_Universal_Mx</td><td> #LaMañaneraDeAMLO  El presidente López Obrador entrega a los doctores Jorge Salas Hernández y Manuel Martínez Lavín el reconocimiento al mérito médico 2021.\n",
       "\n",
       "👉https://t.co/94pMxbgfFT https://t.co/kzILozOZmM</td> </tr><tr><td>7</td><td>8555</td><td>0.828</td> <td>EFEnoticias</td><td> El presidente mexicano, Andrés Manuel López Obrador, anuncia que habrá regreso a clases presenciales &quot;llueva, truene o relampaguee&quot; pese a la tercera ola de covid-19 que aqueja al país y al recelo de algunos maestros.\n",
       "\n",
       "https://t.co/rA6FmtFASo</td> </tr>\n",
       "</table>\n"
      ],
      "text/plain": [
       "<h2>resultados para \"el gobierno de andres manuel lopez\"</h2>\n",
       "<table>\n",
       "<th>  <td>id</td> <td>dist</td> <td>user</td> </td>message<td> </th>\n",
       "    <tr><td>1</td><td>19737</td><td>0.261</td> <td>azucenau</td><td> La jefa de gobierno de la Ciudad de México, Claudia Sheinbaum, aseguró que ella y el presidente de la República, Andrés Manuel López Obrador, “somos parte del mismo movimiento”, y que jamás será líder de oposición, pues “somos parte de la Cuarta Transformación”. https://t.co/FYoh0GuROr</td> </tr><tr><td>2</td><td>27745</td><td>0.649</td> <td>Reforma</td><td> El Presidente Andrés Manuel López Obrador propuso al Gobierno de #NuevoLeon acordar con empresarios que produzcan menos, usen menos #agua, y que así vaya más líquido a la gente.\n",
       "https://t.co/9kW1cPZBmj</td> </tr><tr><td>3</td><td>19047</td><td>0.717</td> <td>SinEmbargoMX</td><td> El Secretario de Gobernación, Adán Augusto López, informó que el Gobierno federal y las aerolíneas llegaron a acuerdos para que los vuelos de carga doméstica y las operaciones tipo chárter migren “casi de inmediato” al AIFA https://t.co/LOJTQIPLxG https://t.co/41PU4vxjFX</td> </tr><tr><td>4</td><td>9748</td><td>0.742</td> <td>SinEmbargoMX</td><td> 🚨 #URGENTE |  El Gobierno de EU ofrece 5 millones de dólares por información que conduzca al arresto y condena de los mexicanos Ovidio Guzmán López, Iván Archivaldo Guzmán Salazar, Jesús Alfredo Guzmán Salazar y Joaquín Guzmán López, hijos de “El Chapo” https://t.co/S8eyJEDNTX https://t.co/YSXPkhUM7k</td> </tr><tr><td>5</td><td>22699</td><td>0.828</td> <td>El_Universal_Mx</td><td> RT @ElUniversalOax: #Entérate ➡️ A 11 días del impacto del huracán Agatha en #Oaxaca, el presidente Andrés Manuel López Obrador dijo que es…</td> </tr><tr><td>6</td><td>9958</td><td>0.828</td> <td>El_Universal_Mx</td><td> #LaMañaneraDeAMLO  El presidente López Obrador entrega a los doctores Jorge Salas Hernández y Manuel Martínez Lavín el reconocimiento al mérito médico 2021.\n",
       "\n",
       "👉https://t.co/94pMxbgfFT https://t.co/kzILozOZmM</td> </tr><tr><td>7</td><td>8555</td><td>0.828</td> <td>EFEnoticias</td><td> El presidente mexicano, Andrés Manuel López Obrador, anuncia que habrá regreso a clases presenciales &quot;llueva, truene o relampaguee&quot; pese a la tercera ola de covid-19 que aqueja al país y al recelo de algunos maestros.\n",
       "\n",
       "https://t.co/rA6FmtFASo</td> </tr>\n",
       "</table>\n"
      ]
     },
     "metadata": {},
     "output_type": "display_data"
    },
    {
     "name": "stdout",
     "output_type": "stream",
     "text": [
      "  0.086905 seconds (120.93 k allocations: 2.768 MiB)\n"
     ]
    },
    {
     "data": {
      "text/html": [
       "<h2>resultados para \"trafico de drogas\"</h2>\n",
       "<table>\n",
       "<th>  <td>id</td> <td>dist</td> <td>user</td> </td>message<td> </th>\n",
       "    <tr><td>1</td><td>26942</td><td>0.289</td> <td>TelemundoNews</td><td> 📌 #ENVIVO: Autoridades de Nueva York hablan de la extradición de Dairo Antonio Úsuga, uno de los capos más poderosos de Colombia.\n",
       "\n",
       "👉🏻 El máximo jefe del Clan del Golfo, mejor conocido como Otoniel, debe responder por tráfico de drogas y armas.\n",
       " https://t.co/lDodg4jpcI</td> </tr><tr><td>2</td><td>19060</td><td>0.444</td> <td>UniNoticias</td><td> 🇭🇳 El expresidente Juan Orlando Hernández, acusado de tráfico de drogas y armas, será extraditado a Estados Unidos el jueves 21 de abril a las 7.00 a. m., hora local.\n",
       "https://t.co/C4mHRVO1E1</td> </tr><tr><td>3</td><td>19869</td><td>0.445</td> <td>epigmenioibarra</td><td> 29 JoseE\n",
       "30 JoseLuisL\n",
       "31 Jhosivani\n",
       "32 JulioCesarL\n",
       "El GIEI solicitó investigar el tráfico de drogas escondidas en autobuses como probable motivo del ataque a los normalistas, ya que un quinto autobús que apareció quemado fue omitido en la investigación oficial.\n",
       "#Ayotzinapa80Meses https://t.co/jbAcSdIuPI</td> </tr><tr><td>4</td><td>10449</td><td>0.445</td> <td>epigmenioibarra</td><td> 29 JoseE\n",
       "30 JoseLuisL\n",
       "31 Jhosivani\n",
       "32 JulioCesarL\n",
       "El GIEI solicitó investigar el tráfico de drogas escondidas en autobuses como probable motivo del ataque a los normalistas, ya que un quinto autobús que apareció quemado fue omitido en la investigación oficial.\n",
       "#Ayotzinapa80Meses https://t.co/BNAdU3bp0n</td> </tr><tr><td>5</td><td>14765</td><td>0.445</td> <td>epigmenioibarra</td><td> 29 JoseE\n",
       "30 JoseLuisL\n",
       "31 Jhosivani\n",
       "32 JulioCesarL\n",
       "El GIEI solicitó investigar el tráfico de drogas escondidas en autobuses como probable motivo del ataque a los normalistas, ya que un quinto autobús que apareció quemado fue omitido en la investigación oficial.\n",
       "#Ayotzinapa80Meses https://t.co/cR2d88sSeF</td> </tr><tr><td>6</td><td>10549</td><td>0.445</td> <td>epigmenioibarra</td><td> 29 JoseE\n",
       "30 JoseLuisL\n",
       "31 Jhosivani\n",
       "32 JulioCesarL\n",
       "El GIEI solicitó investigar el tráfico de drogas escondidas en autobuses como probable motivo del ataque a los normalistas, ya que un quinto autobús que apareció quemado fue omitido en la investigación oficial.\n",
       "#Ayotzinapa88meses https://t.co/Yg7Rf8yDoS</td> </tr><tr><td>7</td><td>26176</td><td>0.445</td> <td>epigmenioibarra</td><td> 29 JoseE\n",
       "30 JoseLuisL\n",
       "31 Jhosivani\n",
       "32 JulioCesarL\n",
       "El GIEI solicitó investigar el tráfico de drogas escondidas en autobuses como probable motivo del ataque a los normalistas, ya que un quinto autobús que apareció quemado fue omitido en la investigación oficial.\n",
       "#Ayotzinapa81Meses https://t.co/cxi6tlCTMA</td> </tr>\n",
       "</table>\n"
      ],
      "text/plain": [
       "<h2>resultados para \"trafico de drogas\"</h2>\n",
       "<table>\n",
       "<th>  <td>id</td> <td>dist</td> <td>user</td> </td>message<td> </th>\n",
       "    <tr><td>1</td><td>26942</td><td>0.289</td> <td>TelemundoNews</td><td> 📌 #ENVIVO: Autoridades de Nueva York hablan de la extradición de Dairo Antonio Úsuga, uno de los capos más poderosos de Colombia.\n",
       "\n",
       "👉🏻 El máximo jefe del Clan del Golfo, mejor conocido como Otoniel, debe responder por tráfico de drogas y armas.\n",
       " https://t.co/lDodg4jpcI</td> </tr><tr><td>2</td><td>19060</td><td>0.444</td> <td>UniNoticias</td><td> 🇭🇳 El expresidente Juan Orlando Hernández, acusado de tráfico de drogas y armas, será extraditado a Estados Unidos el jueves 21 de abril a las 7.00 a. m., hora local.\n",
       "https://t.co/C4mHRVO1E1</td> </tr><tr><td>3</td><td>19869</td><td>0.445</td> <td>epigmenioibarra</td><td> 29 JoseE\n",
       "30 JoseLuisL\n",
       "31 Jhosivani\n",
       "32 JulioCesarL\n",
       "El GIEI solicitó investigar el tráfico de drogas escondidas en autobuses como probable motivo del ataque a los normalistas, ya que un quinto autobús que apareció quemado fue omitido en la investigación oficial.\n",
       "#Ayotzinapa80Meses https://t.co/jbAcSdIuPI</td> </tr><tr><td>4</td><td>10449</td><td>0.445</td> <td>epigmenioibarra</td><td> 29 JoseE\n",
       "30 JoseLuisL\n",
       "31 Jhosivani\n",
       "32 JulioCesarL\n",
       "El GIEI solicitó investigar el tráfico de drogas escondidas en autobuses como probable motivo del ataque a los normalistas, ya que un quinto autobús que apareció quemado fue omitido en la investigación oficial.\n",
       "#Ayotzinapa80Meses https://t.co/BNAdU3bp0n</td> </tr><tr><td>5</td><td>14765</td><td>0.445</td> <td>epigmenioibarra</td><td> 29 JoseE\n",
       "30 JoseLuisL\n",
       "31 Jhosivani\n",
       "32 JulioCesarL\n",
       "El GIEI solicitó investigar el tráfico de drogas escondidas en autobuses como probable motivo del ataque a los normalistas, ya que un quinto autobús que apareció quemado fue omitido en la investigación oficial.\n",
       "#Ayotzinapa80Meses https://t.co/cR2d88sSeF</td> </tr><tr><td>6</td><td>10549</td><td>0.445</td> <td>epigmenioibarra</td><td> 29 JoseE\n",
       "30 JoseLuisL\n",
       "31 Jhosivani\n",
       "32 JulioCesarL\n",
       "El GIEI solicitó investigar el tráfico de drogas escondidas en autobuses como probable motivo del ataque a los normalistas, ya que un quinto autobús que apareció quemado fue omitido en la investigación oficial.\n",
       "#Ayotzinapa88meses https://t.co/Yg7Rf8yDoS</td> </tr><tr><td>7</td><td>26176</td><td>0.445</td> <td>epigmenioibarra</td><td> 29 JoseE\n",
       "30 JoseLuisL\n",
       "31 Jhosivani\n",
       "32 JulioCesarL\n",
       "El GIEI solicitó investigar el tráfico de drogas escondidas en autobuses como probable motivo del ataque a los normalistas, ya que un quinto autobús que apareció quemado fue omitido en la investigación oficial.\n",
       "#Ayotzinapa81Meses https://t.co/cxi6tlCTMA</td> </tr>\n",
       "</table>\n"
      ]
     },
     "metadata": {},
     "output_type": "display_data"
    },
    {
     "name": "stdout",
     "output_type": "stream",
     "text": [
      "  0.064159 seconds (120.93 k allocations: 2.768 MiB)\n"
     ]
    },
    {
     "data": {
      "text/html": [
       "<h2>resultados para \"calentamiento global\"</h2>\n",
       "<table>\n",
       "<th>  <td>id</td> <td>dist</td> <td>user</td> </td>message<td> </th>\n",
       "    <tr><td>1</td><td>6080</td><td>0.345</td> <td>SinEmbargoMX</td><td> #Opinión | Ana Ortega de @THL_Latino\n",
       "\n",
       "&quot;El consumo de carne o lo que no se habla del calentamiento global&quot;\n",
       "\n",
       "Si no adoptamos una postura más firme ante el calentamiento global, el panorama de México está a punto de ponerse sombrío\n",
       "https://t.co/HL8v7EBp2x https://t.co/k8Az8hDr5y</td> </tr><tr><td>2</td><td>2189</td><td>0.406</td> <td>CNNEE</td><td> ▶ Todavía podemos mitigar el daño al planeta por el calentamiento global si exigimos políticas públicas a gobiernos, dicen expertas. https://t.co/7eoc24sboY</td> </tr><tr><td>3</td><td>16524</td><td>0.703</td> <td>CNNEE</td><td> #podcast 🎧 La prioridad ahora para Washington no es Rusia, como muchos podrían pensar, sino un protagonista central, relativamente nuevo, de la estrategia global: China, calificado por EE.UU. como el mayor desafío al que se enfrenta ahora la humanidad. https://t.co/bBfj1oojY0</td> </tr><tr><td>4</td><td>4420</td><td>0.717</td> <td>RicardoAlemanMx</td><td> RT @ContrapesoC: #Columna  La geopolítica y el factor del cambio global\n",
       "Escribe @arturotaipan \n",
       "https://t.co/VepEkoQWUS</td> </tr><tr><td>5</td><td>27948</td><td>0.744</td> <td>bbcmundo</td><td> El calentamiento global avanza y los países parecen incapaces de cumplir con los objetivos de emisiones.\n",
       "\n",
       "https://t.co/xW9mKglT2u</td> </tr><tr><td>6</td><td>12681</td><td>0.787</td> <td>epigmenioibarra</td><td> Histórico: OCDE amarra un acuerdo global para garantizar que las trasnacionales paguen una tasa impositiva mínima del 15%. De 140 países involucrados, 136 apoyaron el acuerdo; sólo se abstuvieron Kenia, Nigeria, Pakistán y Sri Lanka.\n",
       "vía @Forbes_Mexico \n",
       "https://t.co/xbBbdiF6t6 https://t.co/AejsxZYOTg</td> </tr><tr><td>7</td><td>19181</td><td>0.788</td> <td>EFEnoticias</td><td> La vicepresidenta estadounidense, Kamala Harris, instó este jueves a &quot;desafiar el statu quo&quot; y a actuar de forma conjunta a nivel global en la recuperación de la pandemia, de forma que puedan cerrarse las actuales desigualdades.\n",
       "\n",
       "https://t.co/OfEoj4s7fc</td> </tr>\n",
       "</table>\n"
      ],
      "text/plain": [
       "<h2>resultados para \"calentamiento global\"</h2>\n",
       "<table>\n",
       "<th>  <td>id</td> <td>dist</td> <td>user</td> </td>message<td> </th>\n",
       "    <tr><td>1</td><td>6080</td><td>0.345</td> <td>SinEmbargoMX</td><td> #Opinión | Ana Ortega de @THL_Latino\n",
       "\n",
       "&quot;El consumo de carne o lo que no se habla del calentamiento global&quot;\n",
       "\n",
       "Si no adoptamos una postura más firme ante el calentamiento global, el panorama de México está a punto de ponerse sombrío\n",
       "https://t.co/HL8v7EBp2x https://t.co/k8Az8hDr5y</td> </tr><tr><td>2</td><td>2189</td><td>0.406</td> <td>CNNEE</td><td> ▶ Todavía podemos mitigar el daño al planeta por el calentamiento global si exigimos políticas públicas a gobiernos, dicen expertas. https://t.co/7eoc24sboY</td> </tr><tr><td>3</td><td>16524</td><td>0.703</td> <td>CNNEE</td><td> #podcast 🎧 La prioridad ahora para Washington no es Rusia, como muchos podrían pensar, sino un protagonista central, relativamente nuevo, de la estrategia global: China, calificado por EE.UU. como el mayor desafío al que se enfrenta ahora la humanidad. https://t.co/bBfj1oojY0</td> </tr><tr><td>4</td><td>4420</td><td>0.717</td> <td>RicardoAlemanMx</td><td> RT @ContrapesoC: #Columna  La geopolítica y el factor del cambio global\n",
       "Escribe @arturotaipan \n",
       "https://t.co/VepEkoQWUS</td> </tr><tr><td>5</td><td>27948</td><td>0.744</td> <td>bbcmundo</td><td> El calentamiento global avanza y los países parecen incapaces de cumplir con los objetivos de emisiones.\n",
       "\n",
       "https://t.co/xW9mKglT2u</td> </tr><tr><td>6</td><td>12681</td><td>0.787</td> <td>epigmenioibarra</td><td> Histórico: OCDE amarra un acuerdo global para garantizar que las trasnacionales paguen una tasa impositiva mínima del 15%. De 140 países involucrados, 136 apoyaron el acuerdo; sólo se abstuvieron Kenia, Nigeria, Pakistán y Sri Lanka.\n",
       "vía @Forbes_Mexico \n",
       "https://t.co/xbBbdiF6t6 https://t.co/AejsxZYOTg</td> </tr><tr><td>7</td><td>19181</td><td>0.788</td> <td>EFEnoticias</td><td> La vicepresidenta estadounidense, Kamala Harris, instó este jueves a &quot;desafiar el statu quo&quot; y a actuar de forma conjunta a nivel global en la recuperación de la pandemia, de forma que puedan cerrarse las actuales desigualdades.\n",
       "\n",
       "https://t.co/OfEoj4s7fc</td> </tr>\n",
       "</table>\n"
      ]
     },
     "metadata": {},
     "output_type": "display_data"
    },
    {
     "name": "stdout",
     "output_type": "stream",
     "text": [
      "  0.085491 seconds (120.93 k allocations: 2.768 MiB)\n"
     ]
    },
    {
     "data": {
      "text/html": [
       "<h2>resultados para \"covid corona virus\"</h2>\n",
       "<table>\n",
       "<th>  <td>id</td> <td>dist</td> <td>user</td> </td>message<td> </th>\n",
       "    <tr><td>1</td><td>20260</td><td>0.967</td> <td>CNNEE</td><td> La humanidad ha logrado la inmunidad de rebaño contra algunos virus formidables, como la rubéola y el sarampión. Pensamos que podríamos llegar a ello con el covid-19. Probablemente nos equivocamos: \n",
       "https://t.co/ZA8T2sxwpY</td> </tr><tr><td>2</td><td>10574</td><td>0.992</td> <td>El_Universal_Mx</td><td> RT @De10mx: #HumorDe10 😂😷 La actriz Paty Navidad informó que dio positivo a Covid, pero insiste en que el virus no existe, por lo que los i…</td> </tr><tr><td>3</td><td>24688</td><td>1.022</td> <td>abc_es</td><td> Un estudio de la Universidad de Córdoba relaciona las proteínas del virus del Covid con sus efectos más letales https://t.co/GWPqasZfHy</td> </tr><tr><td>4</td><td>21905</td><td>1.026</td> <td>bbcmundo</td><td> ¿Sabías que podrías ser una de las raras personas en el mundo que tienen una resistencia genética al SARS-Cov-2, el virus causante de la covid-19? https://t.co/SWj16nEITP</td> </tr><tr><td>5</td><td>25904</td><td>1.054</td> <td>TelemundoNews</td><td> 📌 #ENVIVO: Estudiantes en Chicago exigen mejores protocolos contra el COVID-19 para el regreso a clases presenciales.\n",
       "\n",
       "👉🏻 Las escuelas públicas de la ciudad y el sindicato de maestros acordaron volver en medio de la rápida propagación del virus.\n",
       " https://t.co/Rpgmdp1gAw</td> </tr><tr><td>6</td><td>11395</td><td>1.135</td> <td>CNNEE</td><td> China, el país en el que se detectó por primera vez el covid-19 hace casi dos años, sigue decidida a eliminar el virus dentro de sus fronteras, a pesar de haber vacunado a más del 75% de su población. https://t.co/uu2mbOFZHg</td> </tr><tr><td>7</td><td>29655</td><td>1.144</td> <td>AristeguiOnline</td><td> Repuntan casos Covid en Hong Kong; ‘la ciudad no puede rendirse ante el virus’\n",
       "https://t.co/udF8p2A9JK https://t.co/1cP410pc5g</td> </tr>\n",
       "</table>\n"
      ],
      "text/plain": [
       "<h2>resultados para \"covid corona virus\"</h2>\n",
       "<table>\n",
       "<th>  <td>id</td> <td>dist</td> <td>user</td> </td>message<td> </th>\n",
       "    <tr><td>1</td><td>20260</td><td>0.967</td> <td>CNNEE</td><td> La humanidad ha logrado la inmunidad de rebaño contra algunos virus formidables, como la rubéola y el sarampión. Pensamos que podríamos llegar a ello con el covid-19. Probablemente nos equivocamos: \n",
       "https://t.co/ZA8T2sxwpY</td> </tr><tr><td>2</td><td>10574</td><td>0.992</td> <td>El_Universal_Mx</td><td> RT @De10mx: #HumorDe10 😂😷 La actriz Paty Navidad informó que dio positivo a Covid, pero insiste en que el virus no existe, por lo que los i…</td> </tr><tr><td>3</td><td>24688</td><td>1.022</td> <td>abc_es</td><td> Un estudio de la Universidad de Córdoba relaciona las proteínas del virus del Covid con sus efectos más letales https://t.co/GWPqasZfHy</td> </tr><tr><td>4</td><td>21905</td><td>1.026</td> <td>bbcmundo</td><td> ¿Sabías que podrías ser una de las raras personas en el mundo que tienen una resistencia genética al SARS-Cov-2, el virus causante de la covid-19? https://t.co/SWj16nEITP</td> </tr><tr><td>5</td><td>25904</td><td>1.054</td> <td>TelemundoNews</td><td> 📌 #ENVIVO: Estudiantes en Chicago exigen mejores protocolos contra el COVID-19 para el regreso a clases presenciales.\n",
       "\n",
       "👉🏻 Las escuelas públicas de la ciudad y el sindicato de maestros acordaron volver en medio de la rápida propagación del virus.\n",
       " https://t.co/Rpgmdp1gAw</td> </tr><tr><td>6</td><td>11395</td><td>1.135</td> <td>CNNEE</td><td> China, el país en el que se detectó por primera vez el covid-19 hace casi dos años, sigue decidida a eliminar el virus dentro de sus fronteras, a pesar de haber vacunado a más del 75% de su población. https://t.co/uu2mbOFZHg</td> </tr><tr><td>7</td><td>29655</td><td>1.144</td> <td>AristeguiOnline</td><td> Repuntan casos Covid en Hong Kong; ‘la ciudad no puede rendirse ante el virus’\n",
       "https://t.co/udF8p2A9JK https://t.co/1cP410pc5g</td> </tr>\n",
       "</table>\n"
      ]
     },
     "metadata": {},
     "output_type": "display_data"
    }
   ],
   "source": [
    "\n",
    "display(@htl \"<h1>Ejemplos de búsqueda</h1>\")\n",
    "search_and_display(index, \"el gobierno de andres manuel lopez\", 7, D, T)\n",
    "search_and_display(index, \"trafico de drogas\", 7, D, T)\n",
    "search_and_display(index, \"calentamiento global\", 7, D, T)\n",
    "search_and_display(index, \"covid corona virus\", 7, D, T)\n"
   ]
  },
  {
   "cell_type": "code",
   "execution_count": 15,
   "id": "b4028733-5dd7-46e0-addb-5f7959766695",
   "metadata": {},
   "outputs": [
    {
     "data": {
      "text/html": [
       "<h1>Ejemplos de búsqueda (mensajes aleatorios)</h1>"
      ],
      "text/plain": [
       "<h1>Ejemplos de búsqueda (mensajes aleatorios)</h1>"
      ]
     },
     "metadata": {},
     "output_type": "display_data"
    },
    {
     "name": "stdout",
     "output_type": "stream",
     "text": [
      "  0.174125 seconds (120.95 k allocations: 2.769 MiB)\n"
     ]
    },
    {
     "data": {
      "text/html": [
       "<h2>resultados para \"Este fin de semana se cambia la hora, pero eso no va a ayudar a la conciliación. La clave es que España no está en el huso horario que le corresponde, lo que se traduce en que los españoles llevan dos horas de retraso con el resto de Europa #hemeroteca https://t.co/gkVNV1jE2V\"</h2>\n",
       "<table>\n",
       "<th>  <td>id</td> <td>dist</td> <td>user</td> </td>message<td> </th>\n",
       "    <tr><td>1</td><td>24437</td><td>0.0</td> <td>el_pais</td><td> Este fin de semana se cambia la hora, pero eso no va a ayudar a la conciliación. La clave es que España no está en el huso horario que le corresponde, lo que se traduce en que los españoles llevan dos horas de retraso con el resto de Europa #hemeroteca https://t.co/gkVNV1jE2V</td> </tr><tr><td>2</td><td>6572</td><td>0.166</td> <td>CNNEE</td><td> Los damnificados por el huracán Ida, que regresan a sus casas dañadas, se enfrentan a un torrente de problemas, si es que tienen la suerte de tener una casa en pie. \n",
       "Mira cómo obtener ayuda y mantenerte a salvo en las difíciles semanas que se avecinan: \n",
       "https://t.co/en0lVMaEqd</td> </tr><tr><td>3</td><td>8569</td><td>0.167</td> <td>EFEnoticias</td><td> Las comunidades esperan para relajar el uso de mascarillas en interiores el criterio de los expertos de la Ponencia de Alertas y Planes de Preparación y Respuesta, que consideran que no debería retirarse hasta después de Semana Santa.\n",
       "\n",
       "https://t.co/hcymNQ7hJv https://t.co/IXO417klvL</td> </tr><tr><td>4</td><td>14582</td><td>0.168</td> <td>el_pais</td><td> La imagen se viralizó. Una embarazada con sangre en el rostro y gesto aturdido saliendo en pijama de un hospital recién bombardeado. Dio a luz al día siguiente. “Se encuentran bien, aunque hace mucho frío en Mariupol y los bombardeos no cesan”  https://t.co/FQgBo5MkKN</td> </tr><tr><td>5</td><td>4361</td><td>0.178</td> <td>el_pais</td><td> 🔊 El segundo día se lo dedicamos a Feijóo, candidato a las forzadas primarias del PP. Nos preguntamos quién es y cuál es su plan con dos de los periodistas que más le conocen. Porque, pese a sus años en la política, sigue siendo desconocido para muchos https://t.co/QRQ8SweTOQ https://t.co/KB0NUfatWV</td> </tr><tr><td>6</td><td>13975</td><td>0.182</td> <td>el_pais</td><td> Sánchez, sobre los indultos: “Lo que tenemos que hacer los políticos y los gobiernos es construir convivencia. En esa construcción hay momentos en los que lo útil es el castigo y otros en el que lo útil es el perdón. Ahora estamos en el momento del perdón” https://t.co/9QWlBqWaD5</td> </tr><tr><td>7</td><td>16344</td><td>0.182</td> <td>CNNEE</td><td> Desde el metaverso hasta los NFT, la nueva tecnología está cambiando sin cesar la forma en que vivimos nuestras vidas. Y uno de los escenarios más grandes donde se desarrolla es el deporte. Mira aquí algunos de los que ya existen\n",
       "https://t.co/jfe3LrEaXw</td> </tr>\n",
       "</table>\n"
      ],
      "text/plain": [
       "<h2>resultados para \"Este fin de semana se cambia la hora, pero eso no va a ayudar a la conciliación. La clave es que España no está en el huso horario que le corresponde, lo que se traduce en que los españoles llevan dos horas de retraso con el resto de Europa #hemeroteca https://t.co/gkVNV1jE2V\"</h2>\n",
       "<table>\n",
       "<th>  <td>id</td> <td>dist</td> <td>user</td> </td>message<td> </th>\n",
       "    <tr><td>1</td><td>24437</td><td>0.0</td> <td>el_pais</td><td> Este fin de semana se cambia la hora, pero eso no va a ayudar a la conciliación. La clave es que España no está en el huso horario que le corresponde, lo que se traduce en que los españoles llevan dos horas de retraso con el resto de Europa #hemeroteca https://t.co/gkVNV1jE2V</td> </tr><tr><td>2</td><td>6572</td><td>0.166</td> <td>CNNEE</td><td> Los damnificados por el huracán Ida, que regresan a sus casas dañadas, se enfrentan a un torrente de problemas, si es que tienen la suerte de tener una casa en pie. \n",
       "Mira cómo obtener ayuda y mantenerte a salvo en las difíciles semanas que se avecinan: \n",
       "https://t.co/en0lVMaEqd</td> </tr><tr><td>3</td><td>8569</td><td>0.167</td> <td>EFEnoticias</td><td> Las comunidades esperan para relajar el uso de mascarillas en interiores el criterio de los expertos de la Ponencia de Alertas y Planes de Preparación y Respuesta, que consideran que no debería retirarse hasta después de Semana Santa.\n",
       "\n",
       "https://t.co/hcymNQ7hJv https://t.co/IXO417klvL</td> </tr><tr><td>4</td><td>14582</td><td>0.168</td> <td>el_pais</td><td> La imagen se viralizó. Una embarazada con sangre en el rostro y gesto aturdido saliendo en pijama de un hospital recién bombardeado. Dio a luz al día siguiente. “Se encuentran bien, aunque hace mucho frío en Mariupol y los bombardeos no cesan”  https://t.co/FQgBo5MkKN</td> </tr><tr><td>5</td><td>4361</td><td>0.178</td> <td>el_pais</td><td> 🔊 El segundo día se lo dedicamos a Feijóo, candidato a las forzadas primarias del PP. Nos preguntamos quién es y cuál es su plan con dos de los periodistas que más le conocen. Porque, pese a sus años en la política, sigue siendo desconocido para muchos https://t.co/QRQ8SweTOQ https://t.co/KB0NUfatWV</td> </tr><tr><td>6</td><td>13975</td><td>0.182</td> <td>el_pais</td><td> Sánchez, sobre los indultos: “Lo que tenemos que hacer los políticos y los gobiernos es construir convivencia. En esa construcción hay momentos en los que lo útil es el castigo y otros en el que lo útil es el perdón. Ahora estamos en el momento del perdón” https://t.co/9QWlBqWaD5</td> </tr><tr><td>7</td><td>16344</td><td>0.182</td> <td>CNNEE</td><td> Desde el metaverso hasta los NFT, la nueva tecnología está cambiando sin cesar la forma en que vivimos nuestras vidas. Y uno de los escenarios más grandes donde se desarrolla es el deporte. Mira aquí algunos de los que ya existen\n",
       "https://t.co/jfe3LrEaXw</td> </tr>\n",
       "</table>\n"
      ]
     },
     "metadata": {},
     "output_type": "display_data"
    },
    {
     "name": "stdout",
     "output_type": "stream",
     "text": [
      "  0.123769 seconds (120.97 k allocations: 2.769 MiB)\n"
     ]
    },
    {
     "data": {
      "text/html": [
       "<h2>resultados para \"El Ministerio de Sanidad ha notificado 98 casos positivos de viruela del mono, que se distribuyen en siete comunidades autónomas, cuando se cumplen 10 días desde que el pasado 18 de mayo se confirmaran los primeros contagios.\n",
       "\n",
       "https://t.co/DR4EJs6CJF\"</h2>\n",
       "<table>\n",
       "<th>  <td>id</td> <td>dist</td> <td>user</td> </td>message<td> </th>\n",
       "    <tr><td>1</td><td>24734</td><td>0.0</td> <td>EFEnoticias</td><td> El Ministerio de Sanidad ha notificado 98 casos positivos de viruela del mono, que se distribuyen en siete comunidades autónomas, cuando se cumplen 10 días desde que el pasado 18 de mayo se confirmaran los primeros contagios.\n",
       "\n",
       "https://t.co/DR4EJs6CJF</td> </tr><tr><td>2</td><td>14053</td><td>0.213</td> <td>SinEmbargoMX</td><td> A mitad del sexenio de AMLO su talón de Aquiles sigue siendo el crecimiento económico, que lo ha quedado a deber, en gran medida, por el clima de recesión por el que atraviesa el país desde principios de 2019, mismo que se acentuó con la pandemia\n",
       " https://t.co/cjj7wceW3j https://t.co/Jpm3WZdTB2</td> </tr><tr><td>3</td><td>27208</td><td>0.217</td> <td>el_pais</td><td> La pandemia ha servido a youtubers educativos como @QuantumFracture, @davidcpvm o @math2me para validar lo que llevan años haciendo y ha abierto la puerta a que otros profesores se animen a compartir en un canal sus conocimientos https://t.co/f5WRsZMRg1</td> </tr><tr><td>4</td><td>16662</td><td>0.218</td> <td>AdriDelgadoRuiz</td><td> “La realidad es que de cualquier manera renunció y Coumo se encontraba en medio de un escándalo general, había muchos cuestionamientos respecto al manejo de la pandemia, particularmente en lo referente a los asilos para los ancianos del estado”</td> </tr><tr><td>5</td><td>5565</td><td>0.224</td> <td>EFEnoticias</td><td> Un total de 2.520 nuevos contagios y siete fallecidos más por COVID se han registrado en las últimas 24 horas en Cataluña, donde además ha aumentado el riesgo de rebrote y el número de pacientes ingresados en las unidades de cuidados intensivos (UCI).\n",
       "\n",
       "https://t.co/jghE1YS7qc</td> </tr><tr><td>6</td><td>5964</td><td>0.227</td> <td>TelemundoNews</td><td> El pequeño Wyatt Gibson, de 5 años, murió de COVID-19 en Georgia mientras los casos aumentan en el país.\n",
       "&quot;Había tenido algún resfriado pero nada más. (El virus) se apoderó de él y se lo llevó. Es una locura&quot;, aseguró su madrina.\n",
       "https://t.co/4Mwrl0Asxh</td> </tr><tr><td>7</td><td>11056</td><td>0.23</td> <td>teleSURtv</td><td> #ENVIDEO📹| La Organización Mundial de la Salud advierte sobre el aumento preocupante de casos de #HepatitisAguda en niños\n",
       "\n",
       "Casi 200 casos han sido detectados en más de 10 países y aún se desconoce la verdadera causa de la enfermedad\n",
       "\n",
       "Conoce más, en este video→ https://t.co/koQj6ocDPX</td> </tr>\n",
       "</table>\n"
      ],
      "text/plain": [
       "<h2>resultados para \"El Ministerio de Sanidad ha notificado 98 casos positivos de viruela del mono, que se distribuyen en siete comunidades autónomas, cuando se cumplen 10 días desde que el pasado 18 de mayo se confirmaran los primeros contagios.\n",
       "\n",
       "https://t.co/DR4EJs6CJF\"</h2>\n",
       "<table>\n",
       "<th>  <td>id</td> <td>dist</td> <td>user</td> </td>message<td> </th>\n",
       "    <tr><td>1</td><td>24734</td><td>0.0</td> <td>EFEnoticias</td><td> El Ministerio de Sanidad ha notificado 98 casos positivos de viruela del mono, que se distribuyen en siete comunidades autónomas, cuando se cumplen 10 días desde que el pasado 18 de mayo se confirmaran los primeros contagios.\n",
       "\n",
       "https://t.co/DR4EJs6CJF</td> </tr><tr><td>2</td><td>14053</td><td>0.213</td> <td>SinEmbargoMX</td><td> A mitad del sexenio de AMLO su talón de Aquiles sigue siendo el crecimiento económico, que lo ha quedado a deber, en gran medida, por el clima de recesión por el que atraviesa el país desde principios de 2019, mismo que se acentuó con la pandemia\n",
       " https://t.co/cjj7wceW3j https://t.co/Jpm3WZdTB2</td> </tr><tr><td>3</td><td>27208</td><td>0.217</td> <td>el_pais</td><td> La pandemia ha servido a youtubers educativos como @QuantumFracture, @davidcpvm o @math2me para validar lo que llevan años haciendo y ha abierto la puerta a que otros profesores se animen a compartir en un canal sus conocimientos https://t.co/f5WRsZMRg1</td> </tr><tr><td>4</td><td>16662</td><td>0.218</td> <td>AdriDelgadoRuiz</td><td> “La realidad es que de cualquier manera renunció y Coumo se encontraba en medio de un escándalo general, había muchos cuestionamientos respecto al manejo de la pandemia, particularmente en lo referente a los asilos para los ancianos del estado”</td> </tr><tr><td>5</td><td>5565</td><td>0.224</td> <td>EFEnoticias</td><td> Un total de 2.520 nuevos contagios y siete fallecidos más por COVID se han registrado en las últimas 24 horas en Cataluña, donde además ha aumentado el riesgo de rebrote y el número de pacientes ingresados en las unidades de cuidados intensivos (UCI).\n",
       "\n",
       "https://t.co/jghE1YS7qc</td> </tr><tr><td>6</td><td>5964</td><td>0.227</td> <td>TelemundoNews</td><td> El pequeño Wyatt Gibson, de 5 años, murió de COVID-19 en Georgia mientras los casos aumentan en el país.\n",
       "&quot;Había tenido algún resfriado pero nada más. (El virus) se apoderó de él y se lo llevó. Es una locura&quot;, aseguró su madrina.\n",
       "https://t.co/4Mwrl0Asxh</td> </tr><tr><td>7</td><td>11056</td><td>0.23</td> <td>teleSURtv</td><td> #ENVIDEO📹| La Organización Mundial de la Salud advierte sobre el aumento preocupante de casos de #HepatitisAguda en niños\n",
       "\n",
       "Casi 200 casos han sido detectados en más de 10 países y aún se desconoce la verdadera causa de la enfermedad\n",
       "\n",
       "Conoce más, en este video→ https://t.co/koQj6ocDPX</td> </tr>\n",
       "</table>\n"
      ]
     },
     "metadata": {},
     "output_type": "display_data"
    },
    {
     "name": "stdout",
     "output_type": "stream",
     "text": [
      "  0.114441 seconds (120.95 k allocations: 2.768 MiB)\n"
     ]
    },
    {
     "data": {
      "text/html": [
       "<h2>resultados para \"El líder del PSC en el Parlament, Salvador Illa, ha reclamado al presidente de la Generalitat, Pere Aragonès, que acuda a la conferencia de presidentes autonómicos prevista para este mes de julio en Salamanca.\n",
       "\n",
       "https://t.co/yUnsJNyQLb\"</h2>\n",
       "<table>\n",
       "<th>  <td>id</td> <td>dist</td> <td>user</td> </td>message<td> </th>\n",
       "    <tr><td>1</td><td>20829</td><td>0.0</td> <td>EFEnoticias</td><td> El líder del PSC en el Parlament, Salvador Illa, ha reclamado al presidente de la Generalitat, Pere Aragonès, que acuda a la conferencia de presidentes autonómicos prevista para este mes de julio en Salamanca.\n",
       "\n",
       "https://t.co/yUnsJNyQLb</td> </tr><tr><td>2</td><td>9725</td><td>0.226</td> <td>EFEnoticias</td><td> El presidente del Gobierno, Pedro Sánchez, ha anunciado este miércoles, en un acto de apertura del curso político, que el Ejecutivo tiene la voluntad de abordar la &quot;subida inmediata&quot; del salario mínimo interprofesional &quot;en lo que queda de año&quot;.\n",
       "\n",
       "https://t.co/W9PR9uHzFL https://t.co/7l4D6NZw5f</td> </tr><tr><td>3</td><td>8521</td><td>0.233</td> <td>el_pais</td><td> El Gobierno italiano ha decretado el uso de mascarillas al aire libre, será obligatorio utilizar la FFP2 en los transportes y otros lugares concurridos y también cerrarán las discotecas y salas de baile hasta el 31 de enero https://t.co/DJy9uVXXxC</td> </tr><tr><td>4</td><td>755</td><td>0.235</td> <td>EFEnoticias</td><td> El Senado de Haití instó al primer ministro, Ariel Henry, a entregar el poder a la Cámara alta el próximo lunes 7 de febrero, fecha en la que habría finalizado el mandato del presidente Jovenel Moise, asesinado en julio de 2021.\n",
       "\n",
       "https://t.co/pr4y8Anet3</td> </tr><tr><td>5</td><td>1333</td><td>0.235</td> <td>Reforma</td><td> Estos son los temas que trató el Presidente @lopezobrador_ en la mañanera del 13 de diciembre.\n",
       "\n",
       "-&apos;Empresarios han ofrecido disculpas por reforma eléctrica&apos;\n",
       "-&apos;Despropósito, comparar conflicto de CIDE con 68&apos;\n",
       "-Anuncia en víspera de elecciones obras en Cancún y Tulum\n",
       "\n",
       "Revisa el hilo https://t.co/b8pzyp449A</td> </tr><tr><td>6</td><td>14053</td><td>0.235</td> <td>SinEmbargoMX</td><td> A mitad del sexenio de AMLO su talón de Aquiles sigue siendo el crecimiento económico, que lo ha quedado a deber, en gran medida, por el clima de recesión por el que atraviesa el país desde principios de 2019, mismo que se acentuó con la pandemia\n",
       " https://t.co/cjj7wceW3j https://t.co/Jpm3WZdTB2</td> </tr><tr><td>7</td><td>2994</td><td>0.238</td> <td>el_pais</td><td> 🔴 ÚLTIMA HORA | El congreso del PP proclama a Feijóo nuevo presidente del partido con un 98,35% de votos a favor. Este ha sido el momento en el que se ha anunciado el resultado https://t.co/EnOIovl4ls https://t.co/2Ck9ECKr8g</td> </tr>\n",
       "</table>\n"
      ],
      "text/plain": [
       "<h2>resultados para \"El líder del PSC en el Parlament, Salvador Illa, ha reclamado al presidente de la Generalitat, Pere Aragonès, que acuda a la conferencia de presidentes autonómicos prevista para este mes de julio en Salamanca.\n",
       "\n",
       "https://t.co/yUnsJNyQLb\"</h2>\n",
       "<table>\n",
       "<th>  <td>id</td> <td>dist</td> <td>user</td> </td>message<td> </th>\n",
       "    <tr><td>1</td><td>20829</td><td>0.0</td> <td>EFEnoticias</td><td> El líder del PSC en el Parlament, Salvador Illa, ha reclamado al presidente de la Generalitat, Pere Aragonès, que acuda a la conferencia de presidentes autonómicos prevista para este mes de julio en Salamanca.\n",
       "\n",
       "https://t.co/yUnsJNyQLb</td> </tr><tr><td>2</td><td>9725</td><td>0.226</td> <td>EFEnoticias</td><td> El presidente del Gobierno, Pedro Sánchez, ha anunciado este miércoles, en un acto de apertura del curso político, que el Ejecutivo tiene la voluntad de abordar la &quot;subida inmediata&quot; del salario mínimo interprofesional &quot;en lo que queda de año&quot;.\n",
       "\n",
       "https://t.co/W9PR9uHzFL https://t.co/7l4D6NZw5f</td> </tr><tr><td>3</td><td>8521</td><td>0.233</td> <td>el_pais</td><td> El Gobierno italiano ha decretado el uso de mascarillas al aire libre, será obligatorio utilizar la FFP2 en los transportes y otros lugares concurridos y también cerrarán las discotecas y salas de baile hasta el 31 de enero https://t.co/DJy9uVXXxC</td> </tr><tr><td>4</td><td>755</td><td>0.235</td> <td>EFEnoticias</td><td> El Senado de Haití instó al primer ministro, Ariel Henry, a entregar el poder a la Cámara alta el próximo lunes 7 de febrero, fecha en la que habría finalizado el mandato del presidente Jovenel Moise, asesinado en julio de 2021.\n",
       "\n",
       "https://t.co/pr4y8Anet3</td> </tr><tr><td>5</td><td>1333</td><td>0.235</td> <td>Reforma</td><td> Estos son los temas que trató el Presidente @lopezobrador_ en la mañanera del 13 de diciembre.\n",
       "\n",
       "-&apos;Empresarios han ofrecido disculpas por reforma eléctrica&apos;\n",
       "-&apos;Despropósito, comparar conflicto de CIDE con 68&apos;\n",
       "-Anuncia en víspera de elecciones obras en Cancún y Tulum\n",
       "\n",
       "Revisa el hilo https://t.co/b8pzyp449A</td> </tr><tr><td>6</td><td>14053</td><td>0.235</td> <td>SinEmbargoMX</td><td> A mitad del sexenio de AMLO su talón de Aquiles sigue siendo el crecimiento económico, que lo ha quedado a deber, en gran medida, por el clima de recesión por el que atraviesa el país desde principios de 2019, mismo que se acentuó con la pandemia\n",
       " https://t.co/cjj7wceW3j https://t.co/Jpm3WZdTB2</td> </tr><tr><td>7</td><td>2994</td><td>0.238</td> <td>el_pais</td><td> 🔴 ÚLTIMA HORA | El congreso del PP proclama a Feijóo nuevo presidente del partido con un 98,35% de votos a favor. Este ha sido el momento en el que se ha anunciado el resultado https://t.co/EnOIovl4ls https://t.co/2Ck9ECKr8g</td> </tr>\n",
       "</table>\n"
      ]
     },
     "metadata": {},
     "output_type": "display_data"
    }
   ],
   "source": [
    "display(@htl \"<h1>Ejemplos de búsqueda (mensajes aleatorios)</h1>\")\n",
    "\n",
    "for i in 1:3\n",
    "    for qid in rand(1:length(D.corpus))\n",
    "        search_and_display(index, D.corpus[qid], 7, D, T)\n",
    "    end\n",
    "end"
   ]
  },
  {
   "cell_type": "markdown",
   "id": "1e8f09a9-75aa-49c5-9e35-4c486defa289",
   "metadata": {},
   "source": [
    "# Actividades\n",
    "- Reproduzca el ejercicio de este notebook, use embeddings para español, cambié los ejemplos. Se sugiere el uso de <https://ingeotec.github.io/regional-spanish-models/> donde encontrará modelos fastText regionalizados del español, pero puede usar otros embeddings.\n",
    "- ¿Qué piensa de las diferencias de tamaño entre los documentos y las consultas? esto como afecta a la representación semántica.\n",
    "- ¿Cuál sería el símil de bigramas y trigramas para este esquema de representación semántica? Implementelo.\n",
    "- Defina $H^\\textsf{pt}_d$, donde $pt$ es la probabilidad de ocurrencia de término.\n",
    "- Defina $H^\\textsf{TF}_d$, donde $TF$ es la frecuencia de término normalizada.\n",
    "- Implemente $H^\\textsf{TF}_d$ y $H^\\textsf{pt}_d$ de manera secuencial y con un índice métrico. Si usa Julia considere `SimilaritySearch.jl` y si usa Python considere `faiss`.\n",
    "- Reporte su notebook y anote sus soluciones a las preguntas planteadas. El reporte deberá contener un ensayo de [@KSKW2015] como introducción. Reporte los resultados de sus implementaciones, compare contra las alternativas presentadas en este reporte. Discuta sus resultados. Finalice el reporte  con reflexiones sobre el uso de nubes de puntos en lugar de bolsas de palabras tradicionales. Anoté sus conclusiones.\n",
    "\n",
    "# Bibliografía\n",
    "- [KSKW2015] Kusner, M., Sun, Y., Kolkin, N., & Weinberger, K. (2015, June). From word embeddings to document distances. In International conference on machine learning (pp. 957-966). PMLR.\n",
    "- [PW2009] Pele, O., & Werman, M. (2009, September). Fast and robust earth mover's distances. In 2009 IEEE 12th international conference on computer vision (pp. 460-467). IEEE.\n"
   ]
  }
 ],
 "metadata": {
  "kernelspec": {
   "display_name": "Julia 1.7.2",
   "language": "julia",
   "name": "julia-1.7"
  },
  "language_info": {
   "file_extension": ".jl",
   "mimetype": "application/julia",
   "name": "julia",
   "version": "1.7.2"
  }
 },
 "nbformat": 4,
 "nbformat_minor": 5
}
