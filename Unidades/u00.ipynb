{
 "cells": [
  {
   "cell_type": "markdown",
   "id": "61a9f8c8-a467-411f-8cae-8582d3f177bc",
   "metadata": {},
   "source": [
    "# Metodología y configuración del ambiente de trabajo \n",
    "Autor: Eric S. Tellez <eric.tellez@infotec.mx><br/>\n",
    "\n",
    "Para el curso de Recuperación de Información de información se estarán usando notebooks con el tratamiento de los temas, referencias, así como implementaciones funcionales de los algoritmos y estructuras. Se hará uso intensivo de Jupyter Notebook (https://jupyter.org/) o JupyterLab (https://github.com/jupyterlab/jupyterlab). También se pedirá que se realicen tareas con el mismo framework. En particular, se estará usando el lenguaje de programación Julia para todo esto, usando el kernel de notebook [IJulia](https://github.com/JuliaLang/IJulia.jl). Se estarán usando diversos paquetes relacionados, los cuales son parte de los productos de software de nuestras investigaciones.\n",
    "\n",
    "Se estará probando siempre que sea posible con datos reales mediante el uso de diferentes medidas de costo / calidad.\n",
    "\n",
    "## Sobre el lenguaje de programación para las entregas de reportes\n",
    "\n",
    "Se estarán solicitando reportes en cada unidad que se deberán realizar como notebooks de Jupyter. En principio casi cualquier lenguaje de programación podría utilizarse para el curso, sin embargo, para efectos prácticos, nos limitaremos a dos lenguajes de programación:\n",
    "\n",
    "- Python, se recomieda utilizar la distribución de <https://www.anaconda.com/d>\n",
    "- Julia, se recomienda utilizar la versión 1.9 o superior, <https://julialang.org/>. El código del curso se probó usando Julia `1.10`.\n",
    "\n",
    "Ambos lenguajes de programación son fáciles de aprender y altamente productivos. Python es un lenguaje excelente para realizar prototipos, o para cuando existen bibliotecas que resuelvan el problema que se este enfrentando; en este sentido se estarán listando alternativas a las presentadas.\n",
    "\n",
    "# Como correr los notebooks\n",
    "\n",
    "Como se comento, cada unidad tiene código asociado en notebooks de Jupyter. Es posible revisar los notebooks sin ejecutar usando un navegador y las ligas a github, ya que tiene un visualizador de notebooks. Es aconsejable usar el código directamente, correrlo y modificarlo para obtener un mejor entendimiento.\n",
    "\n",
    "Los notebooks estan en Julia y requieren IJulia. Si usted no tiene Julia instalado, deberá bajar e instalar desde\n",
    "<https://julialang.org/> o <https://juliacomputing.com/>.\n",
    "\n",
    "Después deberá instalar IJulia, que es un paquete instalar el kernel de Julia en Jupyter. Siga las instrucciones de <https://github.com/JuliaLang/IJulia.jl>.\n",
    "\n",
    "Una vez que tenga todo instalado, deberá lanzar Jupyter desde el directorio raíz de este repositorio, para esto deberá descargarlo o clonarlo a su computadora. Una vez que lo tenga instalado, deberá correr este notebook (Unidades/00.ipynb) para preparar el ambiente (instalar paquetes). Esto se hace con las siguientes lineas de código. Puede tardar varios minutos ya que se descargaran varios paquetes, y algunos tienen muchas dependencias (e.g., los paquetes de graficación) que también se instalaran automáticamente."
   ]
  },
  {
   "cell_type": "code",
   "execution_count": 1,
   "id": "e0b21944-e694-409a-bcae-55655c217919",
   "metadata": {},
   "outputs": [
    {
     "name": "stderr",
     "output_type": "stream",
     "text": [
      "\u001b[32m\u001b[1m  Activating\u001b[22m\u001b[39m project at `~/Cursos/IR-2024/Unidades`\n",
      "\u001b[32m\u001b[1mPrecompiling\u001b[22m\u001b[39m project...\n",
      "\u001b[32m  ✓ \u001b[39m\u001b[90mJSON3\u001b[39m\n",
      "  1 dependency successfully precompiled in 9 seconds. 404 already precompiled.\n"
     ]
    }
   ],
   "source": [
    "using Pkg\n",
    "Pkg.activate(\".\")\n",
    "Pkg.instantiate() "
   ]
  },
  {
   "cell_type": "markdown",
   "id": "83317fc7-a5a0-46ad-97e6-95ee45a93307",
   "metadata": {},
   "source": [
    "# Precompilación\n",
    "\n",
    "Julia es un lenguaje de programación de alto nivel pero que compila su código. Hace uso intensivo de multi despacho, para nuestros fines de diseño es muy importante, ya se verá en el resto del curso como nuestro diseño esta orientado no a Programación Orientada a Objetos sino a la definición de tipos y multiples despachos. En términos que nos ocupa, puede llegar a ser muy eficiente en muchas condiciones de uso, pero también requiere tiempos importantes de compilación. Para reducir estos tiempos en el resto de los notebooks haremos un primer llamado a los diferentes paquetes. "
   ]
  },
  {
   "cell_type": "code",
   "execution_count": 2,
   "id": "94451594-cb86-4631-88d0-8725c1ed3952",
   "metadata": {},
   "outputs": [],
   "source": [
    "using SimilaritySearch, TextSearch, InvertedFiles, KNearestCenters, StatsPlots, LinearAlgebra, HypertextLiteral, JSON, DataFrames, CSV, Base64, Languages, Snowball"
   ]
  },
  {
   "cell_type": "markdown",
   "id": "02839c0f-b19f-4784-b89f-0526aec49727",
   "metadata": {},
   "source": [
    "Los paquetes y sus versiones estan listados en `Proyect.toml`\n"
   ]
  },
  {
   "cell_type": "code",
   "execution_count": 3,
   "id": "022dd19f-d339-413f-b61b-016884b4ad20",
   "metadata": {},
   "outputs": [
    {
     "name": "stdout",
     "output_type": "stream",
     "text": [
      "[deps]\n",
      "BagOfWords = \"87b137f8-3b59-4550-8c54-1b47926674ff\"\n",
      "CSV = \"336ed68f-0bac-5ca0-87d4-7b16caf5d00b\"\n",
      "Clustering = \"aaaa29a8-35af-508c-8bc3-b662a17a0fe5\"\n",
      "CodecZlib = \"944b1d66-785c-5afd-91f1-9de20f533193\"\n",
      "CommonMark = \"a80b9123-70ca-4bc0-993e-6e3bcb318db6\"\n",
      "DataFrames = \"a93c6f00-e57d-5684-b7b6-d8193f3e46c0\"\n",
      "Embeddings = \"c5bfea45-b7f1-5224-a596-15500f5db411\"\n",
      "HypertextLiteral = \"ac1192a8-f4b3-4bfe-ba22-af5b92cd3ab2\"\n",
      "IJulia = \"7073ff75-c697-5162-941a-fcdaad2a7d2a\"\n",
      "Interact = \"c601a237-2ae4-5e1e-952c-7a85b0c7eef1\"\n",
      "InvertedFiles = \"b20bd276-2c70-11ec-161a-3d1e1109a1c3\"\n",
      "JLD2 = \"033835bb-8acc-5ee8-8aae-3f567f8a3819\"\n",
      "JSON = \"682c06a0-de6a-54ab-a142-c8b1cf79cde6\"\n",
      "KNearestCenters = \"4dca28ae-43b8-11eb-1f5e-d55054101997\"\n",
      "Languages = \"8ef0a80b-9436-5d2c-a485-80b904378c43\"\n",
      "MLDatasets = \"eb30cadb-4394-5ae3-aed4-317e484a6458\"\n",
      "ManifoldLearning = \"06eb3307-b2af-5a2a-abea-d33192699d32\"\n",
      "MultivariateStats = \"6f286f6a-111f-5878-ab1e-185364afe411\"\n",
      "Plots = \"91a5bcdd-55d7-5caf-9e0b-520d859cae80\"\n",
      "PyCall = \"438e738f-606a-5dbb-bf0a-cddfbfd45ab0\"\n",
      "SimSearchManifoldLearning = \"ca7ab67e-1aa0-420a-90d9-eb5aef468722\"\n",
      "SimilaritySearch = \"053f045d-5466-53fd-b400-a066f88fe02a\"\n",
      "Snowball = \"fb8f903a-0164-4e73-9ffe-431110250c3b\"\n",
      "StatsBase = \"2913bbd2-ae8a-5f71-8c99-4fb6c76f3a91\"\n",
      "StatsPlots = \"f3b207a7-027a-5e70-b257-86293d7955fd\"\n",
      "TSne = \"24678dba-d5e9-5843-a4c6-250288b04835\"\n",
      "TextSearch = \"7f6f6c8a-3b03-11e9-223d-e7d88259bd6c\"\n",
      "WebIO = \"0f1e0344-ec1d-5b48-a673-e5cf874b6c29\"\n",
      "Word2Vec = \"c64b6f0f-98cd-51d1-af78-58ae84944834\"\n",
      "ZipFile = \"a5390f91-8eb1-5f08-bee0-b1d1ffed6cea\"\n",
      "\n",
      "[compat]\n",
      "CSV = \"0.10\"\n",
      "Clustering = \"0.15\"\n",
      "CodecZlib = \"0.7\"\n",
      "CommonMark = \"0.8\"\n",
      "DataFrames = \"^1.3\"\n",
      "Embeddings = \"0.4\"\n",
      "HypertextLiteral = \"0.9\"\n",
      "InvertedFiles = \"0.7\"\n",
      "JSON = \"^0.21\"\n",
      "KNearestCenters = \"0.7\"\n",
      "Languages = \"0.4\"\n",
      "MLDatasets = \"0.7\"\n",
      "Plots = \"1.31\"\n",
      "SimSearchManifoldLearning = \"^0.2\"\n",
      "SimilaritySearch = \"0.11\"\n",
      "Snowball = \"0.1\"\n",
      "StatsBase = \"0.33 - 0.34\"\n",
      "StatsPlots = \"^0.15\"\n",
      "TextSearch = \"0.18\"\n",
      "Word2Vec = \"0.5\"\n",
      "ZipFile = \"0.9\"\n",
      "\n"
     ]
    }
   ],
   "source": [
    "println(read(\"Project.toml\", String))"
   ]
  },
  {
   "cell_type": "markdown",
   "id": "a9632ee7-7701-4c0d-a685-cfa802621d38",
   "metadata": {},
   "source": [
    "Ahora podrá ejecutar el resto de los notebooks, ya que estos esperan que se encuentre inicializado el ambiente.\n",
    "\n",
    "## Sobre la ejecución de jupyter\n",
    "Varios de los notebooks hacen uso intensivo de los recursos de computo. Es aconsejable usar tantos cores / threads esten disponibles en su sistema. Esto se hace corriendo Jupyter con la variable de ambiente `JULIA_NUM_THREADS=auto`. Por ejemplo, en Linux y MacOS X y estando en la raíz de este repositorio es posible correrlo usando\n",
    "\n",
    "\n",
    "```bash\n",
    "JULIA_NUM_THREADS=auto jupyter-lab .\n",
    "```\n",
    "\n",
    "Esto hará que cada notebook que se lance tenga todos los threads a su disposición. Puede reemplazar `auto` por el número de threads deseados. Recuerde que este número deberá ser menor o igual al número de threads de su computadora o el rendimiento más que mejorar seguramente disminuirá.\n",
    "\n",
    "## Sobre los datos\n",
    "Los datos estarán disponibles en el curso de aula virtual de Infotec. Para quienes no sean alumnos, en el directorio `data` hay un `README.md` que explica brevemente sus origenes. Se planear transitar los ejemplos para que sean descargables desde los notebooks mismos.\n",
    "\n",
    "## Nota\n",
    "\n",
    "Aprender a programar no es el objetivo de este curso, por lo que si es necesario, el alumno deberá fortalecer sus capacidades con auto estudio. Sin embargo, se anima a la discusión en los foros sobre cualquier problema, ya sea de programación o relacionado a los conceptos y problemas del curso.\n",
    "\n",
    "## Recursos para aprender Python y Julia\n",
    "\n",
    "- Documentación oficial, comenzar por el tutorial https://docs.python.org/3/\n",
    "- Documentación oficial https://docs.julialang.org/en/stable/\n",
    "- Curso \"Introduction to computational thinking\" https://computationalthinking.mit.edu/Fall20/\n",
    "- Think Julia: How to Think Like a Computer Scientist https://benlauwens.github.io/ThinkJulia.jl/latest/book.html"
   ]
  }
 ],
 "metadata": {
  "kernelspec": {
   "display_name": "Julia 1.10.0",
   "language": "julia",
   "name": "julia-1.10"
  },
  "language_info": {
   "file_extension": ".jl",
   "mimetype": "application/julia",
   "name": "julia",
   "version": "1.10.0"
  }
 },
 "nbformat": 4,
 "nbformat_minor": 5
}
