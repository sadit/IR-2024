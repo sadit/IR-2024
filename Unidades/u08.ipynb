{
 "cells": [
  {
   "cell_type": "markdown",
   "id": "a2775c98-916a-442c-9b82-ceef4915b859",
   "metadata": {
    "tags": []
   },
   "source": [
    "# Proyecto integrador (2022)\n",
    "Autor: Eric S. Tellez <eric.tellez@infotec.mx> <br/>\n",
    "\n",
    "A lo largo del curso de Recuperación de Información se vieron diferentes maneras de modelar texto, tomando encuenta su vocabulario o su semántica. En particular, se manipulo de diferentes formas el vocabulario para resaltar o disminuir efectos que impactarán en la calidad de respuesta o la velocidad de los resultados. Se utilizó el índice invertido para representaciones dispersas y búsqueda métrica con vectores densos, dando diferentes posibilidades para cumplir con los diferentes requerimientos de los sistemas de información.\n",
    "\n",
    "Adicional a la búsqueda, también se reviso la parte de organización por grupos, _clustering_, y visualización utilizando técnicas de reducción de dimensión no-lineal. \n",
    "\n",
    "Se espera que todos estos temas sean de utilidad en las actividades de un científico de datos, tanto en la etapa de análisis exploratorio de los datos como en la construcción de sistemas inteligentes.\n",
    "\n",
    "# Actividades\n",
    "\n",
    "- Construcción de un mini-sistema de información que solucione un problema que usted conozca\n",
    "- Recolección de documentos\n",
    "- Modelado de los documentos\n",
    "- Indexamiento, búsqueda y presentación de documentos\n",
    "- Análisis y visualización de datos\n",
    "- Reporte\n",
    "\n",
    "\n",
    "# Ejemplo: Paquetes en el registro principal del lenguaje Julia."
   ]
  },
  {
   "cell_type": "code",
   "execution_count": 1,
   "id": "e6b2537f-f24a-4db4-bce5-3ae8a216867d",
   "metadata": {},
   "outputs": [
    {
     "name": "stderr",
     "output_type": "stream",
     "text": [
      "\u001b[32m\u001b[1m  Activating\u001b[22m\u001b[39m project at `~/Cursos/IR-2024/Unidades`\n"
     ]
    }
   ],
   "source": [
    "using Pkg\n",
    "Pkg.activate(\".\")"
   ]
  },
  {
   "cell_type": "code",
   "execution_count": 2,
   "id": "0d024ca2-10e8-4e4d-ae1b-806d02bf4f04",
   "metadata": {},
   "outputs": [
    {
     "name": "stdout",
     "output_type": "stream",
     "text": [
      "\u001b[32m\u001b[1mStatus\u001b[22m\u001b[39m `~/Cursos/IR-2024/Unidades/Project.toml`\n",
      "  \u001b[90m[87b137f8] \u001b[39mBagOfWords v0.3.3\n",
      "  \u001b[90m[336ed68f] \u001b[39mCSV v0.10.12\n",
      "  \u001b[90m[aaaa29a8] \u001b[39mClustering v0.15.6\n",
      "  \u001b[90m[944b1d66] \u001b[39mCodecZlib v0.7.3\n",
      "  \u001b[90m[a80b9123] \u001b[39mCommonMark v0.8.12\n",
      "  \u001b[90m[a93c6f00] \u001b[39mDataFrames v1.6.1\n",
      "  \u001b[90m[c5bfea45] \u001b[39mEmbeddings v0.4.5 `~/.julia/dev/Embeddings`\n",
      "  \u001b[90m[ac1192a8] \u001b[39mHypertextLiteral v0.9.5\n",
      "  \u001b[90m[7073ff75] \u001b[39mIJulia v1.24.2\n",
      "  \u001b[90m[c601a237] \u001b[39mInteract v0.10.5\n",
      "  \u001b[90m[b20bd276] \u001b[39mInvertedFiles v0.7.1\n",
      "  \u001b[90m[033835bb] \u001b[39mJLD2 v0.4.41\n",
      "  \u001b[90m[682c06a0] \u001b[39mJSON v0.21.4\n",
      "  \u001b[90m[4dca28ae] \u001b[39mKNearestCenters v0.7.7\n",
      "  \u001b[90m[8ef0a80b] \u001b[39mLanguages v0.4.6\n",
      "  \u001b[90m[eb30cadb] \u001b[39mMLDatasets v0.7.14\n",
      "  \u001b[90m[06eb3307] \u001b[39mManifoldLearning v0.9.0\n",
      "\u001b[33m⌅\u001b[39m \u001b[90m[6f286f6a] \u001b[39mMultivariateStats v0.9.0\n",
      "  \u001b[90m[91a5bcdd] \u001b[39mPlots v1.39.0\n",
      "  \u001b[90m[438e738f] \u001b[39mPyCall v1.96.4\n",
      "  \u001b[90m[ca7ab67e] \u001b[39mSimSearchManifoldLearning v0.2.10\n",
      "  \u001b[90m[053f045d] \u001b[39mSimilaritySearch v0.11.1\n",
      "  \u001b[90m[fb8f903a] \u001b[39mSnowball v0.1.1\n",
      "\u001b[33m⌅\u001b[39m \u001b[90m[2913bbd2] \u001b[39mStatsBase v0.33.21\n",
      "  \u001b[90m[f3b207a7] \u001b[39mStatsPlots v0.15.6\n",
      "  \u001b[90m[24678dba] \u001b[39mTSne v1.3.0\n",
      "  \u001b[90m[7f6f6c8a] \u001b[39mTextSearch v0.18.0\n",
      "  \u001b[90m[0f1e0344] \u001b[39mWebIO v0.8.21\n",
      "  \u001b[90m[c64b6f0f] \u001b[39mWord2Vec v0.5.3\n",
      "\u001b[33m⌅\u001b[39m \u001b[90m[a5390f91] \u001b[39mZipFile v0.9.4\n",
      "\u001b[36m\u001b[1mInfo\u001b[22m\u001b[39m Packages marked with \u001b[33m⌅\u001b[39m have new versions available but compatibility constraints restrict them from upgrading. To see why use `status --outdated`\n"
     ]
    }
   ],
   "source": [
    "Pkg.status()"
   ]
  },
  {
   "cell_type": "code",
   "execution_count": 3,
   "id": "ca99a417-7c9a-434b-a6ad-7720cbf5d7ec",
   "metadata": {},
   "outputs": [
    {
     "data": {
      "application/vnd.webio.node+json": {
       "children": [],
       "instanceArgs": {
        "namespace": "html",
        "tag": "div"
       },
       "nodeType": "DOM",
       "props": {},
       "type": "node"
      },
      "text/html": [
       "<div style=\"padding: 1em; background-color: #f8d6da; border: 1px solid #f5c6cb; font-weight: bold;\">\n",
       "<p>The WebIO Jupyter extension was not detected. See the\n",
       "<a href=\"https://juliagizmos.github.io/WebIO.jl/latest/providers/ijulia/\" target=\"_blank\">\n",
       "    WebIO Jupyter integration documentation\n",
       "</a>\n",
       "for more information.\n",
       "</div>\n"
      ],
      "text/plain": [
       "WebIO._IJuliaInit()"
      ]
     },
     "metadata": {
      "@webio": {
       "kernelId": "60ad3fb5-aca8-45d3-90b6-92dc7ea503aa"
      }
     },
     "output_type": "display_data"
    },
    {
     "data": {
      "text/plain": [
       "get_julia_packages (generic function with 1 method)"
      ]
     },
     "execution_count": 3,
     "metadata": {},
     "output_type": "execute_result"
    }
   ],
   "source": [
    "using SimilaritySearch, Interact, SimSearchManifoldLearning, TextSearch, StatsBase, Clustering, ZipFile, CommonMark, JSON, Base64, Plots, LinearAlgebra, HypertextLiteral\n",
    "include(\"read_datasets.jl\")"
   ]
  },
  {
   "cell_type": "code",
   "execution_count": 4,
   "id": "7723480a-738b-4717-9060-b57999581ed0",
   "metadata": {},
   "outputs": [
    {
     "data": {
      "text/plain": [
       "package (generic function with 1 method)"
      ]
     },
     "execution_count": 4,
     "metadata": {},
     "output_type": "execute_result"
    }
   ],
   "source": [
    "function sections(readmetext, maxsections=1)\n",
    "    S = []\n",
    "    for p in eachmatch(r\"#(.+?)\\n([^#]+)\"ims, readmetext)\n",
    "        if length(p.captures) == 2\n",
    "            head, text = p.captures\n",
    "            head = strip(replace(head, \"#\" => \"\"))\n",
    "            push!(S, (; head, text))\n",
    "            length(S) == maxsections && break\n",
    "        end\n",
    "    end\n",
    "    \n",
    "    if 0 == length(S)\n",
    "        push!(S, (head=\"\", text=readmetext))\n",
    "    end\n",
    "    S\n",
    "end\n",
    "\n",
    "function packages_metadata()\n",
    "    packages = ZipFile.Reader(get_julia_packages())\n",
    "    readme = Dict{String, Int}()\n",
    "    metadata = Dict{String, Int}()\n",
    "    \n",
    "    for (i, file) in enumerate(packages.files)\n",
    "        arr = splitpath(file.name)\n",
    "        name, kind = arr[end-1], arr[end]\n",
    "        if kind == \"Metadata.json\"\n",
    "            metadata[name] = i\n",
    "        else\n",
    "            readme[name] = i\n",
    "        end\n",
    "    end\n",
    "\n",
    "    packages, readme, metadata\n",
    "end\n",
    "\n",
    "function read_zipped(z)\n",
    "    seekstart(z)\n",
    "    JSON.parse(read(z, String))\n",
    "end\n",
    "\n",
    "#metadata(name::String) = read_zipped(name, D.metadata)\n",
    "\n",
    "function readme(z)\n",
    "    r = read_zipped(z)\n",
    "    String(base64decode(r[\"content\"]))\n",
    "end\n",
    "\n",
    "# readme(name::String) = readme(D.readme[name])\n",
    "\n",
    "function create_dataset()\n",
    "    packages, readme_, metadata_ = packages_metadata()\n",
    "    \n",
    "    names = String[]\n",
    "    urls = String[]\n",
    "    descriptions = String[]\n",
    "    stars = Int[]\n",
    "    corpus = String[]\n",
    "    zipid = typeof((; readme=1, metadata=1))[]\n",
    "    name2id = Dict{String,Int}()\n",
    "    \n",
    "    for (k, i) in readme_\n",
    "        s = only(sections(readme(packages.files[i]), 1))\n",
    "        j = metadata_[k]\n",
    "        m = read_zipped(packages.files[j])\n",
    "        push!(names, k)\n",
    "        push!(urls, m[\"html_url\"])\n",
    "        d = m[\"description\"]\n",
    "        push!(descriptions, d === nothing ? \"_no description_\" : d)\n",
    "        push!(stars, m[\"watchers_count\"])\n",
    "        push!(corpus, s.text)\n",
    "        push!(zipid, (readme=i, metadata=j))\n",
    "        name2id[k] = length(names)\n",
    "    end    \n",
    "    \n",
    "    (; names, urls, descriptions, stars, zipid, name2id, corpus, packages)\n",
    "end\n",
    "\n",
    "function readme_and_metadata(name::String, D::NamedTuple)\n",
    "    f = D.zipid[D.name2id[\"SimilaritySearch\"]]\n",
    "    readme(D.packages.files[f.readme]), read_zipped(D.packages.files[f.metadata])\n",
    "end\n",
    "\n",
    "function package(name::String, D::NamedTuple)\n",
    "    id = D.name2id[name]\n",
    "    (; id, name, zipid=D.zipid[id], text=D.corpus[id])\n",
    "end"
   ]
  },
  {
   "cell_type": "code",
   "execution_count": 5,
   "id": "b47a51bf-dcae-4295-b11f-6a667a4bb66f",
   "metadata": {},
   "outputs": [],
   "source": [
    "D = create_dataset();"
   ]
  },
  {
   "cell_type": "code",
   "execution_count": 6,
   "id": "1897f432-4a95-4a09-ba33-e40b8c537af7",
   "metadata": {},
   "outputs": [
    {
     "data": {
      "text/plain": [
       "myvectorize_corpus (generic function with 1 method)"
      ]
     },
     "execution_count": 6,
     "metadata": {},
     "output_type": "execute_result"
    }
   ],
   "source": [
    "function create_index(vectors)\n",
    "    dist = NormalizedCosineDistance()\n",
    "    db = VectorDatabase(vectors)\n",
    "    index = SearchGraph(; dist, db)\n",
    "    minrecall = MinRecall(0.9)\n",
    "    ctx = SearchGraphContext(hyperparameters_callback=OptimizeParameters(minrecall))\n",
    "    index!(index, ctx)\n",
    "    optimize_index!(index, ctx, minrecall)\n",
    "    index\n",
    "end\n",
    "\n",
    "function text_model_and_vectors(corpus;\n",
    "        textconfig = TextConfig(group_usr=false, group_url=true, del_diac=true, del_punc=true, lc=true, group_num=true, nlist=[], qlist=[4]),\n",
    "        voc = Vocabulary(textconfig, corpus),\n",
    "        model = VectorModel(IdfWeighting(), TfWeighting(), voc)\n",
    "    )\n",
    "    model = filter_tokens(model) do t\n",
    "        5 ≤ t.ndocs ≤ 1000\n",
    "    end\n",
    "    vectors = vectorize_corpus(model, corpus)\n",
    "    (; textconfig, model, vectors)\n",
    "end\n",
    "\n",
    "myvectorize(text::String, T::NamedTuple) = vectorize(T.model, text)\n",
    "myvectorize_corpus(corpus, T::NamedTuple) = vectorize_corpus(T.model, corpus)"
   ]
  },
  {
   "cell_type": "code",
   "execution_count": 7,
   "id": "605ccc08-b788-46e0-856c-18570d5282e4",
   "metadata": {},
   "outputs": [
    {
     "name": "stdout",
     "output_type": "stream",
     "text": [
      "T.model = {VectorModel\n",
      "    global_weighting: IdfWeighting()\n",
      "    local_weighting: TfWeighting()\n",
      "    vocsize: 21210\n",
      "    trainsize=6686\n",
      "    maxoccs=167309                                    \n",
      "}\n",
      " 19.421375 seconds (4.44 M allocations: 406.315 MiB, 1.11% gc time, 23.63% compilation time)\n"
     ]
    }
   ],
   "source": [
    "T = text_model_and_vectors(D.corpus)\n",
    "@show T.model\n",
    "@time index = create_index(T.vectors);"
   ]
  },
  {
   "cell_type": "code",
   "execution_count": null,
   "id": "ecb917e8-5d60-494a-b2b4-848dd0f4f1dd",
   "metadata": {},
   "outputs": [],
   "source": []
  },
  {
   "cell_type": "code",
   "execution_count": 8,
   "id": "1af16cba-20d9-4baf-8730-3f06f10a521d",
   "metadata": {},
   "outputs": [
    {
     "data": {
      "text/plain": [
       "search_and_display (generic function with 1 method)"
      ]
     },
     "execution_count": 8,
     "metadata": {},
     "output_type": "execute_result"
    }
   ],
   "source": [
    "function search_and_display(text, k, D, T)\n",
    "    res = KnnResult(k)\n",
    "    search(index, myvectorize(text, T), res)\n",
    "    display(\"text/markdown\", \"# Results for `$text`\")\n",
    "    \n",
    "    for (i, p) in enumerate(res)\n",
    "        display(@htl \"\"\"\n",
    "            <hr />\n",
    "            <div style=\"padding: 0.5em; border-style: solid; border-color: #557799;\">\n",
    "            <div><a href=\"$(D.urls[p.id])\">$(D.names[p.id])</a> &nbsp;&nbsp; ⭐ $(D.stars[p.id]) </div>\n",
    "            <div> $(D.descriptions[p.id])</div>\n",
    "            <span style=\"color: #aaaa30;\">debug:: i: $(i), id: $(p.id), dist=$(p.weight)</span>\n",
    "            </div>\n",
    "        \"\"\")\n",
    "        display(\"text/markdown\", D.corpus[p.id])\n",
    "    end\n",
    "end\n",
    "\n",
    "#search_and_display(\"similarity search nearest neighbor\", 10, D, T)\n"
   ]
  },
  {
   "cell_type": "code",
   "execution_count": 9,
   "id": "05c37f2a-d934-42f8-809e-7994b3704dfc",
   "metadata": {
    "tags": []
   },
   "outputs": [
    {
     "data": {
      "text/markdown": [
       "# Results for `similarity search`"
      ]
     },
     "metadata": {},
     "output_type": "display_data"
    },
    {
     "data": {
      "text/html": [
       "    <hr />\n",
       "    <div style=\"padding: 0.5em; border-style: solid; border-color: #557799;\">\n",
       "    <div><a href=\"https://github.com/kernelmethod/LSHFunctions.jl\">LSHFunctions</a> &nbsp;&nbsp; ⭐ 12 </div>\n",
       "    <div> Locality-sensitive hashing (LSH) in Julia.</div>\n",
       "    <span style=\"color: #aaaa30;\">debug:: i: 1, id: 2843, dist=0.49194074</span>\n",
       "    </div>\n"
      ],
      "text/plain": [
       "    <hr />\n",
       "    <div style=\"padding: 0.5em; border-style: solid; border-color: #557799;\">\n",
       "    <div><a href=\"https://github.com/kernelmethod/LSHFunctions.jl\">LSHFunctions</a> &nbsp;&nbsp; ⭐ 12 </div>\n",
       "    <div> Locality-sensitive hashing (LSH) in Julia.</div>\n",
       "    <span style=\"color: #aaaa30;\">debug:: i: 1, id: 2843, dist=0.49194074</span>\n",
       "    </div>\n"
      ]
     },
     "metadata": {},
     "output_type": "display_data"
    },
    {
     "data": {
      "text/markdown": [
       "\n",
       "[![Stable docs](https://img.shields.io/badge/docs-stable-blue.svg)](https://kernelmethod.github.io/LSHFunctions.jl/stable/) [![Dev docs](https://img.shields.io/badge/docs-dev-blue.svg)](https://kernelmethod.github.io/LSHFunctions.jl/dev/)\n",
       "[![Build Status](https://github.com/kernelmethod/LSHFunctions.jl/workflows/CI/badge.svg)](https://github.com/kernelmethod/LSHFunctions.jl/actions)\n",
       "[![Codecov](https://codecov.io/gh/kernelmethod/LSHFunctions.jl/branch/master/graph/badge.svg)](https://codecov.io/gh/kernelmethod/LSHFunctions.jl)\n",
       "[![DOI](https://zenodo.org/badge/197700982.svg)](https://zenodo.org/badge/latestdoi/197700982)\n",
       "\n",
       "A Julia package for [locality-sensitive\n",
       "hashing](https://en.wikipedia.org/wiki/Locality-sensitive_hashing) to accelerate\n",
       "similarity search.\n",
       "\n",
       "- [What's LSH?]("
      ]
     },
     "metadata": {},
     "output_type": "display_data"
    },
    {
     "data": {
      "text/html": [
       "    <hr />\n",
       "    <div style=\"padding: 0.5em; border-style: solid; border-color: #557799;\">\n",
       "    <div><a href=\"https://github.com/zsz00/Faiss.jl\">Faiss</a> &nbsp;&nbsp; ⭐ 3 </div>\n",
       "    <div> Julia wrapper around the Faiss library for similarity search with PythonCall.jl</div>\n",
       "    <span style=\"color: #aaaa30;\">debug:: i: 2, id: 3388, dist=0.5954186</span>\n",
       "    </div>\n"
      ],
      "text/plain": [
       "    <hr />\n",
       "    <div style=\"padding: 0.5em; border-style: solid; border-color: #557799;\">\n",
       "    <div><a href=\"https://github.com/zsz00/Faiss.jl\">Faiss</a> &nbsp;&nbsp; ⭐ 3 </div>\n",
       "    <div> Julia wrapper around the Faiss library for similarity search with PythonCall.jl</div>\n",
       "    <span style=\"color: #aaaa30;\">debug:: i: 2, id: 3388, dist=0.5954186</span>\n",
       "    </div>\n"
      ]
     },
     "metadata": {},
     "output_type": "display_data"
    },
    {
     "data": {
      "text/markdown": [
       " [![][docs-dev-img]][docs-dev-url]\n",
       " \n",
       "A simple Julia wrapper around the [Faiss](https://github.com/facebookresearch/Faiss) library for similarity search with [`PythonCall.jl`](https://github.com/cjdoris/PythonCall.jl).\n",
       "\n",
       "While functional and faster than [`NearestNeighbors.jl`](https://github.com/KristofferC/NearestNeighbors.jl).\n",
       "\n",
       "Faiss is a library for efficient similarity search and clustering of dense vectors. It contains algorithms that search in sets of vectors of any size, up to ones that possibly do not fit in RAM. It also contains supporting code for evaluation and parameter tuning. Faiss is written in C++ with complete wrappers for Python/numpy. Some of the most useful algorithms are implemented on the GPU. It is developed primarily at Facebook AI Research.\n",
       "\n",
       "\n"
      ]
     },
     "metadata": {},
     "output_type": "display_data"
    },
    {
     "data": {
      "text/html": [
       "    <hr />\n",
       "    <div style=\"padding: 0.5em; border-style: solid; border-color: #557799;\">\n",
       "    <div><a href=\"https://github.com/sadit/SimilaritySearch.jl\">SimilaritySearch</a> &nbsp;&nbsp; ⭐ 21 </div>\n",
       "    <div> A Near Neighbor Search Library</div>\n",
       "    <span style=\"color: #aaaa30;\">debug:: i: 3, id: 3718, dist=0.7034133</span>\n",
       "    </div>\n"
      ],
      "text/plain": [
       "    <hr />\n",
       "    <div style=\"padding: 0.5em; border-style: solid; border-color: #557799;\">\n",
       "    <div><a href=\"https://github.com/sadit/SimilaritySearch.jl\">SimilaritySearch</a> &nbsp;&nbsp; ⭐ 21 </div>\n",
       "    <div> A Near Neighbor Search Library</div>\n",
       "    <span style=\"color: #aaaa30;\">debug:: i: 3, id: 3718, dist=0.7034133</span>\n",
       "    </div>\n"
      ]
     },
     "metadata": {},
     "output_type": "display_data"
    },
    {
     "data": {
      "text/markdown": [
       "\n",
       "\n",
       "SimilaritySearch.jl is a library for nearest neighbor search. In particular, it contains the implementation for `SearchGraph,` a fast and flexible search index using any metric function. It is designed to support multithreading in most of its functions and structures.\n",
       "\n",
       "The package provides the following indexes:\n",
       "\n",
       "- `ParallelExhaustiveSearch`: An brute force search index where each query is solved using all available threads.\n",
       "- `ExhaustiveSearch`: A brute force search index, each query is solved using a single thread.\n",
       "- `SearchGraph`: An approximate search index with parallel construction.\n",
       "\n",
       "The main set of functions are:\n",
       "\n",
       "- `search`: Solves a single query.\n",
       "- `searchbatch`: Solves a set of queries.\n",
       "- `allknn`: Computes the $k$ nearest neighbors for all elements in an index.\n",
       "- `neardup`: Removes near-duplicates from a metric dataset.\n",
       "- `closestpair`: Computes the closest pair in a metric dataset.\n",
       "\n",
       "The precise definitions of these functions and the complete set of functions and structures can be found in the [documentation](https://sadit.github.io/SimilaritySearch.jl/dev).\n",
       "\n"
      ]
     },
     "metadata": {},
     "output_type": "display_data"
    },
    {
     "data": {
      "text/html": [
       "    <hr />\n",
       "    <div style=\"padding: 0.5em; border-style: solid; border-color: #557799;\">\n",
       "    <div><a href=\"https://github.com/itsdfish/VisualSearchACTR.jl\">VisualSearchACTR</a> &nbsp;&nbsp; ⭐ 0 </div>\n",
       "    <div> Pre-attentive attentive vision</div>\n",
       "    <span style=\"color: #aaaa30;\">debug:: i: 4, id: 5919, dist=0.7293472</span>\n",
       "    </div>\n"
      ],
      "text/plain": [
       "    <hr />\n",
       "    <div style=\"padding: 0.5em; border-style: solid; border-color: #557799;\">\n",
       "    <div><a href=\"https://github.com/itsdfish/VisualSearchACTR.jl\">VisualSearchACTR</a> &nbsp;&nbsp; ⭐ 0 </div>\n",
       "    <div> Pre-attentive attentive vision</div>\n",
       "    <span style=\"color: #aaaa30;\">debug:: i: 4, id: 5919, dist=0.7293472</span>\n",
       "    </div>\n"
      ]
     },
     "metadata": {},
     "output_type": "display_data"
    },
    {
     "data": {
      "text/markdown": [
       "# VisiualSearch\n"
      ]
     },
     "metadata": {},
     "output_type": "display_data"
    },
    {
     "data": {
      "text/html": [
       "    <hr />\n",
       "    <div style=\"padding: 0.5em; border-style: solid; border-color: #557799;\">\n",
       "    <div><a href=\"https://github.com/sadit/InvertedFiles.jl\">InvertedFiles</a> &nbsp;&nbsp; ⭐ 4 </div>\n",
       "    <div> Implements a generic Inverted Index data structure for full text search and other kinds of search domains</div>\n",
       "    <span style=\"color: #aaaa30;\">debug:: i: 5, id: 314, dist=0.75111794</span>\n",
       "    </div>\n"
      ],
      "text/plain": [
       "    <hr />\n",
       "    <div style=\"padding: 0.5em; border-style: solid; border-color: #557799;\">\n",
       "    <div><a href=\"https://github.com/sadit/InvertedFiles.jl\">InvertedFiles</a> &nbsp;&nbsp; ⭐ 4 </div>\n",
       "    <div> Implements a generic Inverted Index data structure for full text search and other kinds of search domains</div>\n",
       "    <span style=\"color: #aaaa30;\">debug:: i: 5, id: 314, dist=0.75111794</span>\n",
       "    </div>\n"
      ]
     },
     "metadata": {},
     "output_type": "display_data"
    },
    {
     "data": {
      "text/markdown": [
       "\n",
       "This package implements inverted files, also known as inverted indexes, that are data structures that represents a large sparse matrix, specially organized to compute some distance functions and fetch `k` nearest neighbors.\n",
       "It is mainly used for full text search and other search tasks where data can be formulated as large sparse vectors.\n",
       "In particular, the package implements three types of inverted files:\n",
       "\n",
       "- `WeightedInvertedFile`: Inverted files for sparse vectors, it can solve $k$ nearest neighbors using the  normalized cosine distance, $1 - dot(u, q)$\n",
       "- `BinaryInvertedFile`: Inverted file for sparse binary data, it can solve $k$ nearest neighbors using Jaccard, Dice, and Cosine distances, and also the intersection dissimilarity measure.\n",
       "- `KnrIndex`: An approximated similarity search index based on inverted files. It supports general metric spaces.\n",
       "\n",
       "These structs integrates with the `SimilaritySearch` environment, such that you can use it as a drop-in replacement of other indexes. In particular, inverted files are well-known for its scalability when the proper setup is used.\n",
       "\n"
      ]
     },
     "metadata": {},
     "output_type": "display_data"
    },
    {
     "data": {
      "text/html": [
       "    <hr />\n",
       "    <div style=\"padding: 0.5em; border-style: solid; border-color: #557799;\">\n",
       "    <div><a href=\"https://github.com/sadit/SimSearchManifoldLearning.jl\">SimSearchManifoldLearning</a> &nbsp;&nbsp; ⭐ 5 </div>\n",
       "    <div> Non-linear dimensional reduction using SimilaritySearch (ManifoldLearning and UMAP)</div>\n",
       "    <span style=\"color: #aaaa30;\">debug:: i: 6, id: 2409, dist=0.7929503</span>\n",
       "    </div>\n"
      ],
      "text/plain": [
       "    <hr />\n",
       "    <div style=\"padding: 0.5em; border-style: solid; border-color: #557799;\">\n",
       "    <div><a href=\"https://github.com/sadit/SimSearchManifoldLearning.jl\">SimSearchManifoldLearning</a> &nbsp;&nbsp; ⭐ 5 </div>\n",
       "    <div> Non-linear dimensional reduction using SimilaritySearch (ManifoldLearning and UMAP)</div>\n",
       "    <span style=\"color: #aaaa30;\">debug:: i: 6, id: 2409, dist=0.7929503</span>\n",
       "    </div>\n"
      ]
     },
     "metadata": {},
     "output_type": "display_data"
    },
    {
     "data": {
      "text/markdown": [
       "This package provides some support to use `SimilaritySearch` with manifold learning methods. In particular,\n",
       "we implement the required methods to implement `knn` function for `ManifoldLearning` and also provides an `UMAP`\n",
       "implementation that takes advantage of many `SimilaritySearch` features like multithreading and data independency; it supports string, sets, vectors, etc. under diverse distance functions.\n",
       "\n",
       "The `ManifoldLearning` support is limited to some structure specification due to the design of the package. See the `ManifoldKnnIndex` type in the documentation pages.\n",
       "\n"
      ]
     },
     "metadata": {},
     "output_type": "display_data"
    },
    {
     "data": {
      "text/html": [
       "    <hr />\n",
       "    <div style=\"padding: 0.5em; border-style: solid; border-color: #557799;\">\n",
       "    <div><a href=\"https://github.com/GenieFramework/SearchLight.jl\">SearchLight</a> &nbsp;&nbsp; ⭐ 111 </div>\n",
       "    <div> ORM layer for Genie.jl, the highly productive Julia web framework</div>\n",
       "    <span style=\"color: #aaaa30;\">debug:: i: 7, id: 6012, dist=0.8036198</span>\n",
       "    </div>\n"
      ],
      "text/plain": [
       "    <hr />\n",
       "    <div style=\"padding: 0.5em; border-style: solid; border-color: #557799;\">\n",
       "    <div><a href=\"https://github.com/GenieFramework/SearchLight.jl\">SearchLight</a> &nbsp;&nbsp; ⭐ 111 </div>\n",
       "    <div> ORM layer for Genie.jl, the highly productive Julia web framework</div>\n",
       "    <span style=\"color: #aaaa30;\">debug:: i: 7, id: 6012, dist=0.8036198</span>\n",
       "    </div>\n"
      ]
     },
     "metadata": {},
     "output_type": "display_data"
    },
    {
     "data": {
      "text/markdown": [
       "![SearchLight Logo](https://dl.dropboxusercontent.com/s/sy04ofyyi8es388/searchlight-logo.png)\n",
       "\n",
       "[![Docs](https://img.shields.io/badge/searchlight-docs-greenyellow)](https://www.genieframework.com/docs/)\n",
       "# Genie / SearchLight\n",
       "#### SearchLight is the ORM layer of Genie.jl, the high-performance high-productivity Julia web framework.\n"
      ]
     },
     "metadata": {},
     "output_type": "display_data"
    },
    {
     "data": {
      "text/html": [
       "    <hr />\n",
       "    <div style=\"padding: 0.5em; border-style: solid; border-color: #557799;\">\n",
       "    <div><a href=\"https://github.com/johnnychen94/BlockMatching.jl\">BlockMatching</a> &nbsp;&nbsp; ⭐ 2 </div>\n",
       "    <div> a collection of image block matching algorithms</div>\n",
       "    <span style=\"color: #aaaa30;\">debug:: i: 8, id: 983, dist=0.8241837</span>\n",
       "    </div>\n"
      ],
      "text/plain": [
       "    <hr />\n",
       "    <div style=\"padding: 0.5em; border-style: solid; border-color: #557799;\">\n",
       "    <div><a href=\"https://github.com/johnnychen94/BlockMatching.jl\">BlockMatching</a> &nbsp;&nbsp; ⭐ 2 </div>\n",
       "    <div> a collection of image block matching algorithms</div>\n",
       "    <span style=\"color: #aaaa30;\">debug:: i: 8, id: 983, dist=0.8241837</span>\n",
       "    </div>\n"
      ]
     },
     "metadata": {},
     "output_type": "display_data"
    },
    {
     "data": {
      "text/markdown": [
       "\n",
       "[![Stable](https://img.shields.io/badge/docs-stable-blue.svg)](https://johnnychen94.github.io/BlockMatching.jl/stable)\n",
       "[![Dev](https://img.shields.io/badge/docs-dev-blue.svg)](https://johnnychen94.github.io/BlockMatching.jl/dev)\n",
       "[![Build Status](https://github.com/johnnychen94/BlockMatching.jl/workflows/CI/badge.svg)](https://github.com/johnnychen94/BlockMatching.jl/actions)\n",
       "[![Coverage](https://codecov.io/gh/johnnychen94/BlockMatching.jl/branch/master/graph/badge.svg)](https://codecov.io/gh/johnnychen94/BlockMatching.jl)\n",
       "\n",
       "`BlockMatching` aims to provide a sophisticated implementation on common [block matching\n",
       "algorithms](https://en.wikipedia.org/wiki/Block-matching_algorithm) for image processing and\n",
       "computer vision tasks. Block matching is a data and computational intense algorithm, performance is\n",
       "of high priority for this package.\n",
       "\n",
       "🚧 This is still a WIP project.\n",
       "\n",
       "Two functions are provided as the standard API:\n",
       "\n",
       "- `best_match`: finds the best matching candidate. This is also known as nearest neighbor search.\n",
       "- `multi_match`: sort the similarities of all candidates and return the smallest K results. This is sometimes known as K nearest neighbor search or top-k selection.\n",
       "\n",
       "Available block matching strategies:\n",
       "\n",
       "- `FullSearch`(brute force): search among all possible candidates. This gives the most accurate result \n",
       "  but is computationally intensive. CUDA is supported for commonly used distances defined in \n",
       "  [Distances.jl].\n",
       "\n",
       "\n",
       "[Distances.jl]: https://github.com/JuliaStats/Distances.jl\n"
      ]
     },
     "metadata": {},
     "output_type": "display_data"
    },
    {
     "data": {
      "text/html": [
       "    <hr />\n",
       "    <div style=\"padding: 0.5em; border-style: solid; border-color: #557799;\">\n",
       "    <div><a href=\"https://github.com/Kolaru/BranchAndPrune.jl\">BranchAndPrune</a> &nbsp;&nbsp; ⭐ 9 </div>\n",
       "    <div> Branch and prune interface for Julia</div>\n",
       "    <span style=\"color: #aaaa30;\">debug:: i: 9, id: 2434, dist=0.8274313</span>\n",
       "    </div>\n"
      ],
      "text/plain": [
       "    <hr />\n",
       "    <div style=\"padding: 0.5em; border-style: solid; border-color: #557799;\">\n",
       "    <div><a href=\"https://github.com/Kolaru/BranchAndPrune.jl\">BranchAndPrune</a> &nbsp;&nbsp; ⭐ 9 </div>\n",
       "    <div> Branch and prune interface for Julia</div>\n",
       "    <span style=\"color: #aaaa30;\">debug:: i: 9, id: 2434, dist=0.8274313</span>\n",
       "    </div>\n"
      ]
     },
     "metadata": {},
     "output_type": "display_data"
    },
    {
     "data": {
      "text/markdown": [
       "\n",
       "This package aims at providing an interface for branch and prune search in Julia.\n",
       "\n"
      ]
     },
     "metadata": {},
     "output_type": "display_data"
    },
    {
     "data": {
      "text/html": [
       "    <hr />\n",
       "    <div style=\"padding: 0.5em; border-style: solid; border-color: #557799;\">\n",
       "    <div><a href=\"https://github.com/lotcher/ElasticSearch.jl\">ElasticSearch</a> &nbsp;&nbsp; ⭐ 3 </div>\n",
       "    <div> A ElasticSearch client for Julia</div>\n",
       "    <span style=\"color: #aaaa30;\">debug:: i: 10, id: 300, dist=0.8288296</span>\n",
       "    </div>\n"
      ],
      "text/plain": [
       "    <hr />\n",
       "    <div style=\"padding: 0.5em; border-style: solid; border-color: #557799;\">\n",
       "    <div><a href=\"https://github.com/lotcher/ElasticSearch.jl\">ElasticSearch</a> &nbsp;&nbsp; ⭐ 3 </div>\n",
       "    <div> A ElasticSearch client for Julia</div>\n",
       "    <span style=\"color: #aaaa30;\">debug:: i: 10, id: 300, dist=0.8288296</span>\n",
       "    </div>\n"
      ]
     },
     "metadata": {},
     "output_type": "display_data"
    },
    {
     "data": {
      "text/markdown": [
       "*A ElasticSearch client for Julia*\n",
       "\n"
      ]
     },
     "metadata": {},
     "output_type": "display_data"
    }
   ],
   "source": [
    "search_and_display(\"similarity search\", 10, D, T)"
   ]
  },
  {
   "cell_type": "code",
   "execution_count": null,
   "id": "dda7eb43-0b27-4fdf-b36e-1b00e67ecc2e",
   "metadata": {},
   "outputs": [],
   "source": []
  }
 ],
 "metadata": {
  "@webio": {
   "lastCommId": "94084a69-61cc-4f39-92dc-5a6a54d7410a",
   "lastKernelId": "9afc6a52-8bb3-42ac-b616-1f13eb439e43"
  },
  "kernelspec": {
   "display_name": "Julia 1.10.0",
   "language": "julia",
   "name": "julia-1.10"
  },
  "language_info": {
   "file_extension": ".jl",
   "mimetype": "application/julia",
   "name": "julia",
   "version": "1.10.0"
  }
 },
 "nbformat": 4,
 "nbformat_minor": 5
}
