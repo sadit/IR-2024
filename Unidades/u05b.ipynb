{
 "cells": [
  {
   "cell_type": "markdown",
   "id": "9fc189d2-656e-41d4-be84-dcf6ccf9537b",
   "metadata": {},
   "source": [
    "# Búsqueda semántica\n",
    "Autor: Eric S. Tellez <eric.tellez@infotec.mx>\n",
    "\n",
    "\n",
    "# Language models\n",
    "En los word embeddings, cada palabra del vocabulario tiene asignado un vector denso de manera estática, fruto de su semántica basada en la hipótesis distribucional. Los modelos de lenguaje van más allá, intentando no solo tener en cuenta una palabra para el vector, si no que el vector mismo es dependiente del contexto, por lo cual puede desambiguar de manera natural palabras idénticas (homónimos) usando dicha información contextual. Adicionalmente, capturan información relevante de grandes corpus de texto, aportando muchas veces información de un mundo (i.e., si se entrenan usando la wikipedia, tendrán información relavante de multiples dominios).\n",
    "\n",
    "La punta de lanza de los modelos de lenguaje es el aprendizaje profundo, y más precisamente, con el uso de _transformers_. Uno de los modelos de lenguaje más utilizado es BERT [@VSPU2017]. La persona interesada más sobre ellos <https://huggingface.co/>. \n",
    "Cuando la información esta poco específicada, las palabras adecuadas podrían ser dificiles de tener o limitar. En estos casos, la representaciones semánticas que permiten buscar _lo que se desea_ por medio de conceptos nos acerca más a la posibilidad de obtener información útil.\n",
    "\n",
    "En lo que resta de este notebook se estarán viendo como usar los modelos, y más precisamente los embeddings para realizar tareas de recuperación de información.\n"
   ]
  },
  {
   "cell_type": "code",
   "execution_count": 1,
   "id": "cd04785e-aa4e-493c-9aa8-5c54c8e1f322",
   "metadata": {
    "scrolled": true
   },
   "outputs": [
    {
     "name": "stderr",
     "output_type": "stream",
     "text": [
      "\u001b[32m\u001b[1m  Activating\u001b[22m\u001b[39m project at `~/Cursos/IR-2024/Unidades`\n"
     ]
    }
   ],
   "source": [
    "using Pkg\n",
    "Pkg.activate(\".\")"
   ]
  },
  {
   "cell_type": "code",
   "execution_count": 2,
   "id": "288c31fb-aeea-4a88-a93d-e056d9eb6f0c",
   "metadata": {},
   "outputs": [],
   "source": [
    "using SimilaritySearch, LinearAlgebra, HypertextLiteral, CodecZlib, JSON, Random, StatsBase, DataFrames, JLD2\n",
    "using Downloads: download"
   ]
  },
  {
   "cell_type": "markdown",
   "id": "036da756-1718-4491-97df-8984ae93b7bb",
   "metadata": {},
   "source": [
    "# Using Transformers as encoders\n",
    "## Using SentenceBert"
   ]
  },
  {
   "cell_type": "code",
   "execution_count": 3,
   "id": "f9d611e9-a656-4023-a112-615b60f5e2a9",
   "metadata": {},
   "outputs": [
    {
     "data": {
      "text/plain": [
       "PyObject <module 'sbertencoder' from '/home/sadit/Cursos/IR-2024/Unidades/sbertencoder.py'>"
      ]
     },
     "execution_count": 3,
     "metadata": {},
     "output_type": "execute_result"
    }
   ],
   "source": [
    "using PyCall # note that I already installed sentence-tranformers package and configured PyCall\n",
    "pushfirst!(pyimport(\"sys\").\"path\", \"\") # this is necessary to load modules in the current path\n",
    "sbert = pyimport(\"sbertencoder\")"
   ]
  },
  {
   "cell_type": "code",
   "execution_count": 4,
   "id": "e4fcb23f-9564-4910-9a4f-1f5d4a582d5f",
   "metadata": {},
   "outputs": [
    {
     "data": {
      "text/plain": [
       "PyObject <sbertencoder.TextEncoder object at 0x7fcc98622390>"
      ]
     },
     "execution_count": 4,
     "metadata": {},
     "output_type": "execute_result"
    }
   ],
   "source": [
    "langmodel = sbert.TextEncoder()"
   ]
  },
  {
   "cell_type": "code",
   "execution_count": 5,
   "id": "af8bad4e-c31b-4506-8341-47c4130d664a",
   "metadata": {},
   "outputs": [
    {
     "data": {
      "text/plain": [
       "create_index (generic function with 1 method)"
      ]
     },
     "execution_count": 5,
     "metadata": {},
     "output_type": "execute_result"
    }
   ],
   "source": [
    "function encode_text(model, text::AbstractString; normalize=true)\n",
    "    e = model.encode(text)\n",
    "    normalize && normalize!(e)\n",
    "    e\n",
    "end\n",
    "\n",
    "function encode_corpus(model, corpus::AbstractVector; normalize=true)\n",
    "    n = length(corpus)\n",
    "    e = model.encode(corpus)\n",
    "    E = permutedims(e)\n",
    "    @assert size(E, 1) == 384 # only for sbert\n",
    "    if normalize\n",
    "        for c in eachcol(E)\n",
    "            normalize!(c)\n",
    "        end\n",
    "    end\n",
    "\n",
    "    E\n",
    "end\n",
    "\n",
    "function create_index(db, recall)\n",
    "    dist = NormalizedCosineDistance()\n",
    "    index = SearchGraph(; dist, db)\n",
    "    minrecall = MinRecall(recall)\n",
    "    ctx = SearchGraphContext(;\n",
    "        hyperparameters_callback=OptimizeParameters(minrecall)\n",
    "    )\n",
    "    index!(index, ctx)\n",
    "    optimize_index!(index, ctx, minrecall)\n",
    "    index\n",
    "end"
   ]
  },
  {
   "cell_type": "code",
   "execution_count": null,
   "id": "e93de48f-0b6e-420e-8e5c-aad63d5297f1",
   "metadata": {},
   "outputs": [],
   "source": []
  },
  {
   "cell_type": "code",
   "execution_count": 6,
   "id": "9d1dc14b-02cb-45ab-8466-5783251ef877",
   "metadata": {
    "scrolled": true
   },
   "outputs": [
    {
     "data": {
      "text/html": [
       "<h1>Cargando el corpus</h1>"
      ],
      "text/plain": [
       "<h1>Cargando el corpus</h1>"
      ]
     },
     "metadata": {},
     "output_type": "display_data"
    },
    {
     "data": {
      "text/html": [
       "<div><div style = \"float: left;\"><span>3×2 DataFrame</span></div><div style = \"clear: both;\"></div></div><div class = \"data-frame\" style = \"overflow-x: scroll;\"><table class = \"data-frame\" style = \"margin-bottom: 6px;\"><thead><tr class = \"header\"><th class = \"rowNumber\" style = \"font-weight: bold; text-align: right;\">Row</th><th style = \"text-align: left;\">text</th><th style = \"text-align: left;\">labels</th></tr><tr class = \"subheader headerLastRow\"><th class = \"rowNumber\" style = \"font-weight: bold; text-align: right;\"></th><th title = \"String\" style = \"text-align: left;\">String</th><th title = \"String\" style = \"text-align: left;\">String</th></tr></thead><tbody><tr><td class = \"rowNumber\" style = \"font-weight: bold; text-align: right;\">1</td><td style = \"text-align: left;\">RT @SanGonAzc: @RadioIndeMexico @FiscaliaNL @FGRMexico @lopezobrador_ @AldoFasciZ @RicardoMeb  se van a seguir haciendo tontos?? #debaniesc…</td><td style = \"text-align: left;\">AdriDelgadoRuiz</td></tr><tr><td class = \"rowNumber\" style = \"font-weight: bold; text-align: right;\">2</td><td style = \"text-align: left;\">“El periodismo serio y responsable es una herramienta esencial para salvaguardar y fortalecer el sistema democrático en México y el mundo, y hoy se debe fortalecer esa profesión”, afirmó el periodista y escritor, Harris Whitbeck @harriswhitbeck\\n#ElDedoEnLaLLaga #HeraldoRadio</td><td style = \"text-align: left;\">AdriDelgadoRuiz</td></tr><tr><td class = \"rowNumber\" style = \"font-weight: bold; text-align: right;\">3</td><td style = \"text-align: left;\">&quot;...Sí esperamos que se aumente la tasa en 25 puntos base en las siguientes dos reuniones y continuar así durante el primer trimestre del 2022”: @raguilar_abe</td><td style = \"text-align: left;\">AdriDelgadoRuiz</td></tr></tbody></table></div>"
      ],
      "text/latex": [
       "\\begin{tabular}{r|cc}\n",
       "\t& text & \\\\\n",
       "\t\\hline\n",
       "\t& String & \\\\\n",
       "\t\\hline\n",
       "\t1 & RT @SanGonAzc: @RadioIndeMexico @FiscaliaNL @FGRMexico @lopezobrador\\_ @AldoFasciZ @RicardoMeb  se van a seguir haciendo tontos?? \\#debaniesc… & $\\dots$ \\\\\n",
       "\t2 & “El periodismo serio y responsable es una herramienta esencial para salvaguardar y fortalecer el sistema democrático en México y el mundo, y hoy se debe fortalecer esa profesión”, afirmó el periodista y escritor, Harris Whitbeck @harriswhitbeck\\textbackslash{}n\\#ElDedoEnLaLLaga \\#HeraldoRadio & $\\dots$ \\\\\n",
       "\t3 & \"...Sí esperamos que se aumente la tasa en 25 puntos base en las siguientes dos reuniones y continuar así durante el primer trimestre del 2022”: @raguilar\\_abe & $\\dots$ \\\\\n",
       "\\end{tabular}\n"
      ],
      "text/plain": [
       "\u001b[1m3×2 DataFrame\u001b[0m\n",
       "\u001b[1m Row \u001b[0m│\u001b[1m text                              \u001b[0m\u001b[1m labels          \u001b[0m\n",
       "     │\u001b[90m String                            \u001b[0m\u001b[90m String          \u001b[0m\n",
       "─────┼────────────────────────────────────────────────────\n",
       "   1 │ RT @SanGonAzc: @RadioIndeMexico …  AdriDelgadoRuiz\n",
       "   2 │ “El periodismo serio y responsab…  AdriDelgadoRuiz\n",
       "   3 │ \"...Sí esperamos que se aumente …  AdriDelgadoRuiz"
      ]
     },
     "execution_count": 6,
     "metadata": {},
     "output_type": "execute_result"
    }
   ],
   "source": [
    "display(@htl \"<h1>Cargando el corpus</h1>\")\n",
    "\n",
    "include(\"read_datasets.jl\")\n",
    "train, test = DataFrame.(read_news())\n",
    "first(train, 3)"
   ]
  },
  {
   "cell_type": "code",
   "execution_count": 7,
   "id": "323674d3-a20f-4c77-963c-66b9bc710162",
   "metadata": {
    "scrolled": true
   },
   "outputs": [
    {
     "data": {
      "text/plain": [
       "load_or_compute_embeddings (generic function with 1 method)"
      ]
     },
     "execution_count": 7,
     "metadata": {},
     "output_type": "execute_result"
    }
   ],
   "source": [
    "function load_or_compute_embeddings(langmodel, corpus, h5filename; normalize=false)\n",
    "    if !isfile(h5filename)\n",
    "        @time X = encode_corpus(langmodel, test.text)\n",
    "        jldsave(h5filename; emb=X)\n",
    "    else\n",
    "        X = jldopen(h5filename) do f\n",
    "            f[\"emb\"]\n",
    "        end\n",
    "    end\n",
    "\n",
    "    if normalize\n",
    "        for c in eachcol(X)\n",
    "            normalize!(c)\n",
    "        end\n",
    "    end\n",
    "\n",
    "    X\n",
    "end"
   ]
  },
  {
   "cell_type": "code",
   "execution_count": 8,
   "id": "a9ff6403-f5e7-470e-90e0-baa79eccb793",
   "metadata": {},
   "outputs": [
    {
     "data": {
      "text/plain": [
       "((384, 30244), (384, 3361))"
      ]
     },
     "execution_count": 8,
     "metadata": {},
     "output_type": "execute_result"
    }
   ],
   "source": [
    "trainfile = \"data/spanish-twitter-news-and-opinions-top25-68.train--sbert-multi-L12-v2.h5\"\n",
    "testfile = \"data/spanish-twitter-news-and-opinions-top25-68.test--sbert-multi-L12-v2.h5\"\n",
    "\n",
    "Xtrain = load_or_compute_embeddings(langmodel, train.text, trainfile)\n",
    "Xtest = load_or_compute_embeddings(langmodel, test.text, testfile)\n",
    "\n",
    "size(Xtrain), size(Xtest)"
   ]
  },
  {
   "cell_type": "code",
   "execution_count": null,
   "id": "662d8969-72d2-45dc-8a0b-71c658930405",
   "metadata": {},
   "outputs": [],
   "source": []
  },
  {
   "cell_type": "markdown",
   "id": "0bcb60ff-68c0-4c09-a8dd-70079ba59994",
   "metadata": {},
   "source": [
    "### Se crea el índice métrico"
   ]
  },
  {
   "cell_type": "code",
   "execution_count": 9,
   "id": "3d9108c0-02a7-4afe-bfa2-7b436f7bd0f0",
   "metadata": {},
   "outputs": [
    {
     "name": "stderr",
     "output_type": "stream",
     "text": [
      "append_items! sp=29555, ep=29811, n=29811, BeamSearch\n",
      "  bsize: Int32 26\n",
      "  Δ: Float32 1.0875f0\n",
      "  maxvisits: Int64 2620\n",
      ", 2024-01-10T13:20:37.024\n"
     ]
    },
    {
     "name": "stdout",
     "output_type": "stream",
     "text": [
      " 11.006896 seconds (5.13 M allocations: 380.170 MiB, 1.96% gc time, 42.53% compilation time: <1% of which was recompilation)\n"
     ]
    },
    {
     "data": {
      "text/plain": [
       "SearchGraph{NormalizedCosineDistance, MatrixDatabase{Matrix{Float32}}, SimilaritySearch.AdjacencyLists.AdjacencyList{UInt32}, BeamSearch}\n",
       "  dist: NormalizedCosineDistance NormalizedCosineDistance()\n",
       "  db: MatrixDatabase{Matrix{Float32}}\n",
       "  adj: SimilaritySearch.AdjacencyLists.AdjacencyList{UInt32}\n",
       "  hints: Array{Int32}((102,)) Int32[60, 194, 208, 223, 344, 365, 377, 454, 484, 497  …  2585, 2629, 2667, 2668, 2673, 2675, 2682, 2711, 2798, 2799]\n",
       "  search_algo: BeamSearch\n",
       "  len: Base.RefValue{Int64}\n"
      ]
     },
     "execution_count": 9,
     "metadata": {},
     "output_type": "execute_result"
    }
   ],
   "source": [
    "@time index = create_index(MatrixDatabase(Xtrain), 0.95)"
   ]
  },
  {
   "cell_type": "code",
   "execution_count": null,
   "id": "ee566880-6ad3-4026-b146-96b16be2c31a",
   "metadata": {},
   "outputs": [],
   "source": []
  },
  {
   "cell_type": "markdown",
   "id": "7e629f24-ecf3-4908-a100-b70559dca89a",
   "metadata": {},
   "source": [
    "### Búsqueda de todos los vecinos cercanos de test en train, observe la conveniencia del uso de un índice\n",
    "\n",
    "Entre más sean las consultas más se ve la bondad"
   ]
  },
  {
   "cell_type": "code",
   "execution_count": 10,
   "id": "dd59812a-2ad8-43ae-9de8-70a695db7c79",
   "metadata": {},
   "outputs": [
    {
     "name": "stdout",
     "output_type": "stream",
     "text": [
      "  0.385207 seconds (444.71 k allocations: 30.422 MiB, 89.78% compilation time)\n",
      "  0.758840 seconds (246.52 k allocations: 17.090 MiB, 4.68% gc time, 35.65% compilation time)\n",
      "macrorecall(Eknns, Iknns) = 0.8539404195180006\n"
     ]
    },
    {
     "data": {
      "text/plain": [
       "0.8539404195180006"
      ]
     },
     "execution_count": 10,
     "metadata": {},
     "output_type": "execute_result"
    }
   ],
   "source": [
    "let k = 32\n",
    "    @time Iknns, Idists = searchbatch(index, MatrixDatabase(Xtest), k)\n",
    "    exs = ExhaustiveSearch(; dist=distance(index), db=database(index))\n",
    "    @time Eknns, Edists = searchbatch(exs, MatrixDatabase(Xtest), k)\n",
    "    @show macrorecall(Eknns, Iknns)\n",
    "end"
   ]
  },
  {
   "cell_type": "markdown",
   "id": "51b68d72-5256-49ad-b22b-e896f58bc29f",
   "metadata": {},
   "source": [
    "### Búsqueda y presentación de los resultados"
   ]
  },
  {
   "cell_type": "code",
   "execution_count": 11,
   "id": "c40aa0b4-1f12-4ab9-8acf-5b341b847c1c",
   "metadata": {},
   "outputs": [],
   "source": [
    "#Eindex = ExhaustiveSearch(; dist=distance(index), db=database(index))\n",
    "E = (; langmodel, index, data=train); # para simplificar algunas funciones"
   ]
  },
  {
   "cell_type": "code",
   "execution_count": 12,
   "id": "e045135e-4189-47cc-9513-72a5000527f6",
   "metadata": {},
   "outputs": [
    {
     "data": {
      "text/plain": [
       "search_and_display (generic function with 1 method)"
      ]
     },
     "execution_count": 12,
     "metadata": {},
     "output_type": "execute_result"
    }
   ],
   "source": [
    "function search_and_display(E, qtext, k)\n",
    "    res = KnnResult(k)\n",
    "    q = encode_text(E.langmodel, qtext)\n",
    "\n",
    "    @time search(index, q, res)\n",
    "    \n",
    "    L = []\n",
    "    for (j, p) in enumerate(res)\n",
    "        id, d = p.id, p.weight\n",
    "        text, label = E.data.text[id], E.data.labels[id]\n",
    "        push!(L, @htl \"<tr><td>$j</td><td>$(id)</td><td>$(round(d, digits=3))</td> <td>$(label)</td><td> $(text)</td> </tr>\")\n",
    "    end\n",
    "\n",
    "    display(@htl \"\"\"<h2>resultados for \"$qtext\"</h2>\n",
    "    <table>\n",
    "    <th>  <td>id</td> <td>dist</td> <td>user</td> </td>message<td> </th>\n",
    "        $L\n",
    "    </table>\n",
    "    \"\"\")\n",
    "end\n"
   ]
  },
  {
   "cell_type": "code",
   "execution_count": 13,
   "id": "b1123924-05b2-4799-b2f7-18b3d2c46f4d",
   "metadata": {},
   "outputs": [
    {
     "data": {
      "text/html": [
       "<h1>Ejemplos de búsqueda</h1>"
      ],
      "text/plain": [
       "<h1>Ejemplos de búsqueda</h1>"
      ]
     },
     "metadata": {},
     "output_type": "display_data"
    },
    {
     "name": "stdout",
     "output_type": "stream",
     "text": [
      "  0.157288 seconds (99.95 k allocations: 6.366 MiB, 99.85% compilation time)\n"
     ]
    },
    {
     "data": {
      "text/html": [
       "<h2>resultados for \"busqueda de personas desaparecidas\"</h2>\n",
       "<table>\n",
       "<th>  <td>id</td> <td>dist</td> <td>user</td> </td>message<td> </th>\n",
       "    <tr><td>1</td><td>9927</td><td>0.284</td> <td>UniNoticias</td><td> 🎥 Esta familia pide ayuda para encontrar a una mujer de 60 años reportada como desaparecida.\n",
       "https://t.co/XkV0npQ9BS</td> </tr><tr><td>2</td><td>12201</td><td>0.3</td> <td>Milenio</td><td> ▶️ Continúa búsqueda de Debahni Escobar, joven de 18 años desaparecida desde el 8 de abril en Nuevo León\n",
       "\n",
       "En la búsqueda participaron cerca de 50 personas entre familiares, amigos, colectivos y sociedad civil\n",
       "\n",
       "📺 #Milenio19h con @pedrogamboamr https://t.co/vHAaTuznT6</td> </tr><tr><td>3</td><td>14255</td><td>0.327</td> <td>julioastillero</td><td> 🚢 #EnVivo en #AstilleroInforma \n",
       "\n",
       "El tema de desaparición forzada se ha convertido en un dolor para la sociedad. Todas las personas tienen el derecho a ser buscadas y encontradas. Es el momento de echar a andar esto a rango constitucional: @Omarel44\n",
       "https://t.co/qe3FatOwmv https://t.co/wuOVVFovff</td> </tr><tr><td>4</td><td>24109</td><td>0.343</td> <td>abc_es</td><td> Vidas sin rastro: la angustia de miles de búsquedas https://t.co/1YNePO0dTJ ✍ Un reportaje de Beatriz L. Echazarreta</td> </tr><tr><td>5</td><td>24560</td><td>0.355</td> <td>epigmenioibarra</td><td> RT @jenarovillamil: Ay, diputada @Mzavalagc, qué tal si revisamos las listas de desaparecidos en la lista del sexenio calderonista</td> </tr><tr><td>6</td><td>1281</td><td>0.373</td> <td>Milenio</td><td> ▶️ &quot;Las desapariciones no han frenado y nos habla de un problema presente y una deuda con las víctimas&quot;: Sofía de Robina, abogada del Área Internacional del Centro PRODH\n",
       "\n",
       "México llegó a las 100 mil personas desaparecidas\n",
       "\n",
       "📺 La entrevista con @elisaalanis #ElisaEnMILENIO https://t.co/3FRfarsXyh</td> </tr><tr><td>7</td><td>11112</td><td>0.376</td> <td>julioastillero</td><td> Desaparecida, en #Apodaca #NuevoLeón :</td> </tr>\n",
       "</table>\n"
      ],
      "text/plain": [
       "<h2>resultados for \"busqueda de personas desaparecidas\"</h2>\n",
       "<table>\n",
       "<th>  <td>id</td> <td>dist</td> <td>user</td> </td>message<td> </th>\n",
       "    <tr><td>1</td><td>9927</td><td>0.284</td> <td>UniNoticias</td><td> 🎥 Esta familia pide ayuda para encontrar a una mujer de 60 años reportada como desaparecida.\n",
       "https://t.co/XkV0npQ9BS</td> </tr><tr><td>2</td><td>12201</td><td>0.3</td> <td>Milenio</td><td> ▶️ Continúa búsqueda de Debahni Escobar, joven de 18 años desaparecida desde el 8 de abril en Nuevo León\n",
       "\n",
       "En la búsqueda participaron cerca de 50 personas entre familiares, amigos, colectivos y sociedad civil\n",
       "\n",
       "📺 #Milenio19h con @pedrogamboamr https://t.co/vHAaTuznT6</td> </tr><tr><td>3</td><td>14255</td><td>0.327</td> <td>julioastillero</td><td> 🚢 #EnVivo en #AstilleroInforma \n",
       "\n",
       "El tema de desaparición forzada se ha convertido en un dolor para la sociedad. Todas las personas tienen el derecho a ser buscadas y encontradas. Es el momento de echar a andar esto a rango constitucional: @Omarel44\n",
       "https://t.co/qe3FatOwmv https://t.co/wuOVVFovff</td> </tr><tr><td>4</td><td>24109</td><td>0.343</td> <td>abc_es</td><td> Vidas sin rastro: la angustia de miles de búsquedas https://t.co/1YNePO0dTJ ✍ Un reportaje de Beatriz L. Echazarreta</td> </tr><tr><td>5</td><td>24560</td><td>0.355</td> <td>epigmenioibarra</td><td> RT @jenarovillamil: Ay, diputada @Mzavalagc, qué tal si revisamos las listas de desaparecidos en la lista del sexenio calderonista</td> </tr><tr><td>6</td><td>1281</td><td>0.373</td> <td>Milenio</td><td> ▶️ &quot;Las desapariciones no han frenado y nos habla de un problema presente y una deuda con las víctimas&quot;: Sofía de Robina, abogada del Área Internacional del Centro PRODH\n",
       "\n",
       "México llegó a las 100 mil personas desaparecidas\n",
       "\n",
       "📺 La entrevista con @elisaalanis #ElisaEnMILENIO https://t.co/3FRfarsXyh</td> </tr><tr><td>7</td><td>11112</td><td>0.376</td> <td>julioastillero</td><td> Desaparecida, en #Apodaca #NuevoLeón :</td> </tr>\n",
       "</table>\n"
      ]
     },
     "metadata": {},
     "output_type": "display_data"
    },
    {
     "name": "stdout",
     "output_type": "stream",
     "text": [
      "  0.000111 seconds (5 allocations: 192 bytes)\n"
     ]
    },
    {
     "data": {
      "text/html": [
       "<h2>resultados for \"sobre el covid 19 y el coronavirus\"</h2>\n",
       "<table>\n",
       "<th>  <td>id</td> <td>dist</td> <td>user</td> </td>message<td> </th>\n",
       "    <tr><td>1</td><td>26658</td><td>0.211</td> <td>abc_es</td><td> Adiós a la mascarilla en exteriores: así quedan las restricciones por el coronavirus por comunidades https://t.co/w9sIL69Xxy</td> </tr><tr><td>2</td><td>21235</td><td>0.213</td> <td>abc_es</td><td> Qué es la variante Delta del coronavirus https://t.co/oTKQRropai</td> </tr><tr><td>3</td><td>29257</td><td>0.216</td> <td>CNNEE</td><td> Así es como surgen las variantes del nuevo coronavirus. https://t.co/qH1ggXs3KH</td> </tr><tr><td>4</td><td>20772</td><td>0.222</td> <td>abc_es</td><td> Así quedan las restricciones por el coronavirus por comunidades https://t.co/1AC0unePne</td> </tr><tr><td>5</td><td>17655</td><td>0.23</td> <td>RicardoAlemanMx</td><td> El subsecretario de Salud, López-Gatell, confirmó el primer caso de coronavirus covid-19 con ómicron en México\n",
       "https://t.co/iTaO3k7DfQ</td> </tr><tr><td>6</td><td>4076</td><td>0.233</td> <td>Radio_Formula</td><td> La altamente transmisible variante ómicron ha provocado un alza de casos de coronavirus en todo el mundo.\n",
       "\n",
       "https://t.co/N8LHD2DGFO</td> </tr><tr><td>7</td><td>8031</td><td>0.233</td> <td>PublimetroCol</td><td> Este viernes solo hay 20.221 casos activos de coronavirus en el país https://t.co/jBj5pD28Vn</td> </tr>\n",
       "</table>\n"
      ],
      "text/plain": [
       "<h2>resultados for \"sobre el covid 19 y el coronavirus\"</h2>\n",
       "<table>\n",
       "<th>  <td>id</td> <td>dist</td> <td>user</td> </td>message<td> </th>\n",
       "    <tr><td>1</td><td>26658</td><td>0.211</td> <td>abc_es</td><td> Adiós a la mascarilla en exteriores: así quedan las restricciones por el coronavirus por comunidades https://t.co/w9sIL69Xxy</td> </tr><tr><td>2</td><td>21235</td><td>0.213</td> <td>abc_es</td><td> Qué es la variante Delta del coronavirus https://t.co/oTKQRropai</td> </tr><tr><td>3</td><td>29257</td><td>0.216</td> <td>CNNEE</td><td> Así es como surgen las variantes del nuevo coronavirus. https://t.co/qH1ggXs3KH</td> </tr><tr><td>4</td><td>20772</td><td>0.222</td> <td>abc_es</td><td> Así quedan las restricciones por el coronavirus por comunidades https://t.co/1AC0unePne</td> </tr><tr><td>5</td><td>17655</td><td>0.23</td> <td>RicardoAlemanMx</td><td> El subsecretario de Salud, López-Gatell, confirmó el primer caso de coronavirus covid-19 con ómicron en México\n",
       "https://t.co/iTaO3k7DfQ</td> </tr><tr><td>6</td><td>4076</td><td>0.233</td> <td>Radio_Formula</td><td> La altamente transmisible variante ómicron ha provocado un alza de casos de coronavirus en todo el mundo.\n",
       "\n",
       "https://t.co/N8LHD2DGFO</td> </tr><tr><td>7</td><td>8031</td><td>0.233</td> <td>PublimetroCol</td><td> Este viernes solo hay 20.221 casos activos de coronavirus en el país https://t.co/jBj5pD28Vn</td> </tr>\n",
       "</table>\n"
      ]
     },
     "metadata": {},
     "output_type": "display_data"
    },
    {
     "name": "stdout",
     "output_type": "stream",
     "text": [
      "  0.000133 seconds (5 allocations: 192 bytes)\n"
     ]
    },
    {
     "data": {
      "text/html": [
       "<h2>resultados for \"arte y cine\"</h2>\n",
       "<table>\n",
       "<th>  <td>id</td> <td>dist</td> <td>user</td> </td>message<td> </th>\n",
       "    <tr><td>1</td><td>6010</td><td>0.366</td> <td>el_pais</td><td> RT @elpais_cultura: El cineasta estrena en Lisboa ‘Andy’, su primera obra de teatro, dedicada al visionario artista del ‘pop-art’ con el qu…</td> </tr><tr><td>2</td><td>2188</td><td>0.391</td> <td>el_pais</td><td> &quot;El desprecio contra la gente del cine es algo histórico, somos el oficio de &apos;los rojos&apos;. Es muy grave que desde instituciones que manejan presupuestos públicos pueda despreciarse un campo de expresión artística&quot;, lamenta Alberto San Juan https://t.co/pKVnkddEQj</td> </tr><tr><td>3</td><td>30110</td><td>0.415</td> <td>El_Universal_Mx</td><td> RT @Univ_Cultura: ¿Cómo es que terminaste teniendo “perrhijos” y “gathijos”? Esta exposición te lo explica a través de la historia del arte…</td> </tr><tr><td>4</td><td>21570</td><td>0.417</td> <td>PublimetroCol</td><td> Hablamos en exclusiva con dos de las mentes creativas detrás de esta película que promete enamorar a muchos al son de música, tradición, culturas y diversión. https://t.co/G0sT9XEYuK</td> </tr><tr><td>5</td><td>18242</td><td>0.418</td> <td>EFEnoticias</td><td> ENTREVISTA | Pedro Halffter: La convivencia con el arte debe ser en vivo, no en la pantalla. \n",
       "\n",
       "Por Sergio Jiménez Foronda\n",
       "\n",
       "https://t.co/8mZg1cEkhl https://t.co/aHH0z4Y612</td> </tr><tr><td>6</td><td>11035</td><td>0.419</td> <td>PublimetroMX</td><td> #Entrevista |  @tokischa_ :“El arte en general es libre para expresar lo que uno sienta y se imagine&quot;. \n",
       "\n",
       "https://t.co/MxwFvkmZQd</td> </tr><tr><td>7</td><td>1597</td><td>0.422</td> <td>teleSURtv</td><td> #ENVIDEO | El #ArteContemporáneo tiene diferentes representaciones, entre ellas el #LandArt\n",
       "\n",
       "Las piezas de arte de esta corriente se las realiza en el entorno natural \n",
       "\n",
       "Conoce más sobre esta puesta en escena en el siguiente vídeo https://t.co/alKzXTItPM</td> </tr>\n",
       "</table>\n"
      ],
      "text/plain": [
       "<h2>resultados for \"arte y cine\"</h2>\n",
       "<table>\n",
       "<th>  <td>id</td> <td>dist</td> <td>user</td> </td>message<td> </th>\n",
       "    <tr><td>1</td><td>6010</td><td>0.366</td> <td>el_pais</td><td> RT @elpais_cultura: El cineasta estrena en Lisboa ‘Andy’, su primera obra de teatro, dedicada al visionario artista del ‘pop-art’ con el qu…</td> </tr><tr><td>2</td><td>2188</td><td>0.391</td> <td>el_pais</td><td> &quot;El desprecio contra la gente del cine es algo histórico, somos el oficio de &apos;los rojos&apos;. Es muy grave que desde instituciones que manejan presupuestos públicos pueda despreciarse un campo de expresión artística&quot;, lamenta Alberto San Juan https://t.co/pKVnkddEQj</td> </tr><tr><td>3</td><td>30110</td><td>0.415</td> <td>El_Universal_Mx</td><td> RT @Univ_Cultura: ¿Cómo es que terminaste teniendo “perrhijos” y “gathijos”? Esta exposición te lo explica a través de la historia del arte…</td> </tr><tr><td>4</td><td>21570</td><td>0.417</td> <td>PublimetroCol</td><td> Hablamos en exclusiva con dos de las mentes creativas detrás de esta película que promete enamorar a muchos al son de música, tradición, culturas y diversión. https://t.co/G0sT9XEYuK</td> </tr><tr><td>5</td><td>18242</td><td>0.418</td> <td>EFEnoticias</td><td> ENTREVISTA | Pedro Halffter: La convivencia con el arte debe ser en vivo, no en la pantalla. \n",
       "\n",
       "Por Sergio Jiménez Foronda\n",
       "\n",
       "https://t.co/8mZg1cEkhl https://t.co/aHH0z4Y612</td> </tr><tr><td>6</td><td>11035</td><td>0.419</td> <td>PublimetroMX</td><td> #Entrevista |  @tokischa_ :“El arte en general es libre para expresar lo que uno sienta y se imagine&quot;. \n",
       "\n",
       "https://t.co/MxwFvkmZQd</td> </tr><tr><td>7</td><td>1597</td><td>0.422</td> <td>teleSURtv</td><td> #ENVIDEO | El #ArteContemporáneo tiene diferentes representaciones, entre ellas el #LandArt\n",
       "\n",
       "Las piezas de arte de esta corriente se las realiza en el entorno natural \n",
       "\n",
       "Conoce más sobre esta puesta en escena en el siguiente vídeo https://t.co/alKzXTItPM</td> </tr>\n",
       "</table>\n"
      ]
     },
     "metadata": {},
     "output_type": "display_data"
    },
    {
     "name": "stdout",
     "output_type": "stream",
     "text": [
      "  0.000124 seconds (5 allocations: 192 bytes)\n"
     ]
    },
    {
     "data": {
      "text/html": [
       "<h2>resultados for \"sobre el narcotráfico\"</h2>\n",
       "<table>\n",
       "<th>  <td>id</td> <td>dist</td> <td>user</td> </td>message<td> </th>\n",
       "    <tr><td>1</td><td>15440</td><td>0.289</td> <td>abc_es</td><td> Drogas https://t.co/WVZaCfEuUP ✍ &apos;Tveo&apos;, por @rosabelmonte</td> </tr><tr><td>2</td><td>26384</td><td>0.336</td> <td>PublimetroChile</td><td> Tras los buenos resultados del Estudio Nacional de Drogas en Población General, publicados el...👇\n",
       " https://t.co/I4HzdWR9Uj</td> </tr><tr><td>3</td><td>28700</td><td>0.337</td> <td>RicardoAlemanMx</td><td> RT @ContrapesoC: Este es el pacto del narco y Cuauhtémoc Blanco.\n",
       "¿Alguna duda del narcoestado?\n",
       "https://t.co/qDpAwTKcHP</td> </tr><tr><td>4</td><td>3930</td><td>0.339</td> <td>AristeguiOnline</td><td> La mayoría de los cárteles se ha centrado en el narcotráfico... hasta que en 2006 comenzaron a involucrarse en otras empresas criminales.\n",
       "https://t.co/LEj1AA0Dky</td> </tr><tr><td>5</td><td>22011</td><td>0.341</td> <td>AristeguiOnline</td><td> El comercio ilegal de drogas se digitaliza con la pandemia https://t.co/dzZtvcjBAA https://t.co/hrG2x5a5xs</td> </tr><tr><td>6</td><td>26428</td><td>0.344</td> <td>RicardoAlemanMx</td><td> RT @RicardoAlemanMx: “Daños colaterales”: Patricia Armendáriz sobre “pérdidas” por desabasto de medicamentos\n",
       "https://t.co/CyzKK301z3</td> </tr><tr><td>7</td><td>23204</td><td>0.347</td> <td>bbcmundo</td><td> &quot;Los recolectores de cocaína&quot; de Rotterdam: la vida en los sombras de los jóvenes que descargan la droga que viaja de América Latina a Europa https://t.co/1NJXa7kpgs</td> </tr>\n",
       "</table>\n"
      ],
      "text/plain": [
       "<h2>resultados for \"sobre el narcotráfico\"</h2>\n",
       "<table>\n",
       "<th>  <td>id</td> <td>dist</td> <td>user</td> </td>message<td> </th>\n",
       "    <tr><td>1</td><td>15440</td><td>0.289</td> <td>abc_es</td><td> Drogas https://t.co/WVZaCfEuUP ✍ &apos;Tveo&apos;, por @rosabelmonte</td> </tr><tr><td>2</td><td>26384</td><td>0.336</td> <td>PublimetroChile</td><td> Tras los buenos resultados del Estudio Nacional de Drogas en Población General, publicados el...👇\n",
       " https://t.co/I4HzdWR9Uj</td> </tr><tr><td>3</td><td>28700</td><td>0.337</td> <td>RicardoAlemanMx</td><td> RT @ContrapesoC: Este es el pacto del narco y Cuauhtémoc Blanco.\n",
       "¿Alguna duda del narcoestado?\n",
       "https://t.co/qDpAwTKcHP</td> </tr><tr><td>4</td><td>3930</td><td>0.339</td> <td>AristeguiOnline</td><td> La mayoría de los cárteles se ha centrado en el narcotráfico... hasta que en 2006 comenzaron a involucrarse en otras empresas criminales.\n",
       "https://t.co/LEj1AA0Dky</td> </tr><tr><td>5</td><td>22011</td><td>0.341</td> <td>AristeguiOnline</td><td> El comercio ilegal de drogas se digitaliza con la pandemia https://t.co/dzZtvcjBAA https://t.co/hrG2x5a5xs</td> </tr><tr><td>6</td><td>26428</td><td>0.344</td> <td>RicardoAlemanMx</td><td> RT @RicardoAlemanMx: “Daños colaterales”: Patricia Armendáriz sobre “pérdidas” por desabasto de medicamentos\n",
       "https://t.co/CyzKK301z3</td> </tr><tr><td>7</td><td>23204</td><td>0.347</td> <td>bbcmundo</td><td> &quot;Los recolectores de cocaína&quot; de Rotterdam: la vida en los sombras de los jóvenes que descargan la droga que viaja de América Latina a Europa https://t.co/1NJXa7kpgs</td> </tr>\n",
       "</table>\n"
      ]
     },
     "metadata": {},
     "output_type": "display_data"
    }
   ],
   "source": [
    "display(@htl \"<h1>Ejemplos de búsqueda</h1>\")\n",
    "#search_and_display(E, E.data.corpus[1], 7)\n",
    "search_and_display(E, \"busqueda de personas desaparecidas\", 7)\n",
    "search_and_display(E, \"sobre el covid 19 y el coronavirus\", 7)\n",
    "search_and_display(E, \"arte y cine\", 7)\n",
    "search_and_display(E, \"sobre el narcotráfico\", 7)"
   ]
  },
  {
   "cell_type": "code",
   "execution_count": 14,
   "id": "b4028733-5dd7-46e0-addb-5f7959766695",
   "metadata": {},
   "outputs": [
    {
     "data": {
      "text/html": [
       "<h1>Ejemplos de búsqueda (mensajes aleatorios sobre el train)</h1>"
      ],
      "text/plain": [
       "<h1>Ejemplos de búsqueda (mensajes aleatorios sobre el train)</h1>"
      ]
     },
     "metadata": {},
     "output_type": "display_data"
    },
    {
     "name": "stdout",
     "output_type": "stream",
     "text": [
      "  0.000141 seconds (5 allocations: 192 bytes)\n"
     ]
    },
    {
     "data": {
      "text/html": [
       "<h2>resultados for \"El secretario estadounidense de Seguridad Nacional, Alejandro Mayorkas, fue interpelado en el Senado acerca de los migrantes que cruzan la frontera ilegalmente y que tras una breve detención son dejados en libertad con cita para una audiencia. https://t.co/TfUAKRySHl\"</h2>\n",
       "<table>\n",
       "<th>  <td>id</td> <td>dist</td> <td>user</td> </td>message<td> </th>\n",
       "    <tr><td>1</td><td>24348</td><td>-0.0</td> <td>EFEnoticias</td><td> El secretario estadounidense de Seguridad Nacional, Alejandro Mayorkas, fue interpelado en el Senado acerca de los migrantes que cruzan la frontera ilegalmente y que tras una breve detención son dejados en libertad con cita para una audiencia. https://t.co/TfUAKRySHl</td> </tr><tr><td>2</td><td>28781</td><td>0.251</td> <td>UniNoticias</td><td> ➡️   El secretario de Seguridad Nacional, Alejandro Mayorkas, reconoce que el sistema migratorio está &quot;roto&quot;. \n",
       "\n",
       "➡️   El funcionario niega que se esté separando a niños de sus familias en la frontera como ocurrió durante el gobierno anterior.\n",
       "\n",
       "Informa @pablogatoDC https://t.co/rCDJa3mbyv</td> </tr><tr><td>3</td><td>5532</td><td>0.31</td> <td>UniNoticias</td><td> 🎥 ¿A quiénes beneficia este anuncio del gobierno? El abogado experto en inmigración, @HernandezGlobal, explica los detalles 👇.\n",
       "\n",
       "✅ Sigue esta y más noticias las 24 horas en @PrendeTV. https://t.co/FmJO38p2VC</td> </tr><tr><td>4</td><td>11157</td><td>0.323</td> <td>CNNEE</td><td> El secretario de Seguridad Nacional de EE.UU. advierte a migrantes de la peligrosidad de su viaje por la frontera tras el incidente que dejó 53 muertos\n",
       "\n",
       "https://t.co/DwqLnVtt3c</td> </tr><tr><td>5</td><td>8995</td><td>0.326</td> <td>UniNoticias</td><td> 🎥 El secretario de Seguridad Nacional, @AliMayorkas, visitó la frontera y pidió paciencia, indicando que ya hay un plan en ejecución para detener el flujo migratorio.\n",
       "\n",
       "Por: @cobostv. https://t.co/2nkeTJ5dgV</td> </tr><tr><td>6</td><td>507</td><td>0.339</td> <td>UniNoticias</td><td> “¿Puedo pedir la liberación de un familiar detenido en una cárcel de ICE?” Respondemos tus preguntas de inmigración.\n",
       "\n",
       "https://t.co/7QOouvsSm1</td> </tr><tr><td>7</td><td>10664</td><td>0.341</td> <td>AristeguiOnline</td><td> #AdelantoEditorial | &apos;Indocumentadas&apos;, un thriller sobre migración en la frontera México-EU \n",
       "👉https://t.co/IkokA1zQeH https://t.co/T132aHwUwl</td> </tr>\n",
       "</table>\n"
      ],
      "text/plain": [
       "<h2>resultados for \"El secretario estadounidense de Seguridad Nacional, Alejandro Mayorkas, fue interpelado en el Senado acerca de los migrantes que cruzan la frontera ilegalmente y que tras una breve detención son dejados en libertad con cita para una audiencia. https://t.co/TfUAKRySHl\"</h2>\n",
       "<table>\n",
       "<th>  <td>id</td> <td>dist</td> <td>user</td> </td>message<td> </th>\n",
       "    <tr><td>1</td><td>24348</td><td>-0.0</td> <td>EFEnoticias</td><td> El secretario estadounidense de Seguridad Nacional, Alejandro Mayorkas, fue interpelado en el Senado acerca de los migrantes que cruzan la frontera ilegalmente y que tras una breve detención son dejados en libertad con cita para una audiencia. https://t.co/TfUAKRySHl</td> </tr><tr><td>2</td><td>28781</td><td>0.251</td> <td>UniNoticias</td><td> ➡️   El secretario de Seguridad Nacional, Alejandro Mayorkas, reconoce que el sistema migratorio está &quot;roto&quot;. \n",
       "\n",
       "➡️   El funcionario niega que se esté separando a niños de sus familias en la frontera como ocurrió durante el gobierno anterior.\n",
       "\n",
       "Informa @pablogatoDC https://t.co/rCDJa3mbyv</td> </tr><tr><td>3</td><td>5532</td><td>0.31</td> <td>UniNoticias</td><td> 🎥 ¿A quiénes beneficia este anuncio del gobierno? El abogado experto en inmigración, @HernandezGlobal, explica los detalles 👇.\n",
       "\n",
       "✅ Sigue esta y más noticias las 24 horas en @PrendeTV. https://t.co/FmJO38p2VC</td> </tr><tr><td>4</td><td>11157</td><td>0.323</td> <td>CNNEE</td><td> El secretario de Seguridad Nacional de EE.UU. advierte a migrantes de la peligrosidad de su viaje por la frontera tras el incidente que dejó 53 muertos\n",
       "\n",
       "https://t.co/DwqLnVtt3c</td> </tr><tr><td>5</td><td>8995</td><td>0.326</td> <td>UniNoticias</td><td> 🎥 El secretario de Seguridad Nacional, @AliMayorkas, visitó la frontera y pidió paciencia, indicando que ya hay un plan en ejecución para detener el flujo migratorio.\n",
       "\n",
       "Por: @cobostv. https://t.co/2nkeTJ5dgV</td> </tr><tr><td>6</td><td>507</td><td>0.339</td> <td>UniNoticias</td><td> “¿Puedo pedir la liberación de un familiar detenido en una cárcel de ICE?” Respondemos tus preguntas de inmigración.\n",
       "\n",
       "https://t.co/7QOouvsSm1</td> </tr><tr><td>7</td><td>10664</td><td>0.341</td> <td>AristeguiOnline</td><td> #AdelantoEditorial | &apos;Indocumentadas&apos;, un thriller sobre migración en la frontera México-EU \n",
       "👉https://t.co/IkokA1zQeH https://t.co/T132aHwUwl</td> </tr>\n",
       "</table>\n"
      ]
     },
     "metadata": {},
     "output_type": "display_data"
    },
    {
     "name": "stdout",
     "output_type": "stream",
     "text": [
      "  0.000113 seconds (5 allocations: 192 bytes)\n"
     ]
    },
    {
     "data": {
      "text/html": [
       "<h2>resultados for \"RT @Magdale26991438: 💪\"</h2>\n",
       "<table>\n",
       "<th>  <td>id</td> <td>dist</td> <td>user</td> </td>message<td> </th>\n",
       "    <tr><td>1</td><td>23478</td><td>-0.0</td> <td>epigmenioibarra</td><td> RT @Magdale26991438: 💪</td> </tr><tr><td>2</td><td>17016</td><td>0.156</td> <td>epigmenioibarra</td><td> RT @alvaroa36301590: 🤢🤢🤢🤢🤢🤮🤮🤮🤮🤮🤮</td> </tr><tr><td>3</td><td>15381</td><td>0.202</td> <td>epigmenioibarra</td><td> RT @jesusca66564913: Va</td> </tr><tr><td>4</td><td>13279</td><td>0.205</td> <td>epigmenioibarra</td><td> RT @_Jaramilloed_: 👇🏼👇🏼👇🏼</td> </tr><tr><td>5</td><td>25026</td><td>0.21</td> <td>epigmenioibarra</td><td> RT @Alejand31822792: Que siga la 4T</td> </tr><tr><td>6</td><td>30048</td><td>0.213</td> <td>RicardoAlemanMx</td><td> RT @PabloHiriart: 👇</td> </tr><tr><td>7</td><td>2802</td><td>0.22</td> <td>epigmenioibarra</td><td> RT @ANGELICASALAZA7: #Presente 🙋✋ #PaseDeLista1al43x43</td> </tr>\n",
       "</table>\n"
      ],
      "text/plain": [
       "<h2>resultados for \"RT @Magdale26991438: 💪\"</h2>\n",
       "<table>\n",
       "<th>  <td>id</td> <td>dist</td> <td>user</td> </td>message<td> </th>\n",
       "    <tr><td>1</td><td>23478</td><td>-0.0</td> <td>epigmenioibarra</td><td> RT @Magdale26991438: 💪</td> </tr><tr><td>2</td><td>17016</td><td>0.156</td> <td>epigmenioibarra</td><td> RT @alvaroa36301590: 🤢🤢🤢🤢🤢🤮🤮🤮🤮🤮🤮</td> </tr><tr><td>3</td><td>15381</td><td>0.202</td> <td>epigmenioibarra</td><td> RT @jesusca66564913: Va</td> </tr><tr><td>4</td><td>13279</td><td>0.205</td> <td>epigmenioibarra</td><td> RT @_Jaramilloed_: 👇🏼👇🏼👇🏼</td> </tr><tr><td>5</td><td>25026</td><td>0.21</td> <td>epigmenioibarra</td><td> RT @Alejand31822792: Que siga la 4T</td> </tr><tr><td>6</td><td>30048</td><td>0.213</td> <td>RicardoAlemanMx</td><td> RT @PabloHiriart: 👇</td> </tr><tr><td>7</td><td>2802</td><td>0.22</td> <td>epigmenioibarra</td><td> RT @ANGELICASALAZA7: #Presente 🙋✋ #PaseDeLista1al43x43</td> </tr>\n",
       "</table>\n"
      ]
     },
     "metadata": {},
     "output_type": "display_data"
    },
    {
     "name": "stdout",
     "output_type": "stream",
     "text": [
      "  0.000165 seconds (5 allocations: 192 bytes)\n"
     ]
    },
    {
     "data": {
      "text/html": [
       "<h2>resultados for \"#Video📹 | AMLO exhibe foto de Calderón donde sale su actual jefe de asesores de su gobierno https://t.co/6dqcFepmgl https://t.co/yu3BMgQJ6Y\"</h2>\n",
       "<table>\n",
       "<th>  <td>id</td> <td>dist</td> <td>user</td> </td>message<td> </th>\n",
       "    <tr><td>1</td><td>28652</td><td>0.0</td> <td>RicardoAlemanMx</td><td> #Video📹 | AMLO exhibe foto de Calderón donde sale su actual jefe de asesores de su gobierno https://t.co/6dqcFepmgl https://t.co/yu3BMgQJ6Y</td> </tr><tr><td>2</td><td>6975</td><td>0.131</td> <td>El_Universal_Mx</td><td> #VIDEO 📹 Felipe Calderón responde a AMLO: &quot;El dinero se lo mandan a otro presidente&quot;  https://t.co/b5V2hpz6Y6</td> </tr><tr><td>3</td><td>18286</td><td>0.178</td> <td>RicardoAlemanMx</td><td> AMLO arremetió contra Calderón\n",
       "https://t.co/h6eMNroqT1</td> </tr><tr><td>4</td><td>29914</td><td>0.205</td> <td>SinEmbargoMX</td><td> Felipe Calderón se dice perseguido por el Gobierno de AMLO. Es autoritarismo, dice https://t.co/ur3Fcw0rsF https://t.co/AFolNxXhkh</td> </tr><tr><td>5</td><td>23024</td><td>0.212</td> <td>El_Universal_Mx</td><td> #LaMañaneraDeAMLO AMLO: Felipe Calderón vino vestido de militar a Michoacán a declarar la guerra, a pegarle un garrotazo a lo tonto al avispero, sin un plan https://t.co/SIgxpzHFm2</td> </tr><tr><td>6</td><td>434</td><td>0.248</td> <td>julioastillero</td><td> 🚢 #EnVivo en #AstilleroInforma \n",
       "\n",
       "El que calla otorga, entonces, todo lo que se ha publicado pasa a ser parte de una verdad mientras Felipe Calderón no de una explicación. Qué bueno que AMLO lo instó para que aclare su relación con García Luna: @RRavelo27\n",
       "https://t.co/KeZFk1RS8H https://t.co/eSt1gcKPVg</td> </tr><tr><td>7</td><td>26683</td><td>0.252</td> <td>El_Universal_Mx</td><td> Califican como &quot;mamarracho&quot; al expresidente Felipe Calderón tras unirse a los festejos del piloto Sergio &quot;Checo&quot; Pérez  https://t.co/6kNFlKuUOn</td> </tr>\n",
       "</table>\n"
      ],
      "text/plain": [
       "<h2>resultados for \"#Video📹 | AMLO exhibe foto de Calderón donde sale su actual jefe de asesores de su gobierno https://t.co/6dqcFepmgl https://t.co/yu3BMgQJ6Y\"</h2>\n",
       "<table>\n",
       "<th>  <td>id</td> <td>dist</td> <td>user</td> </td>message<td> </th>\n",
       "    <tr><td>1</td><td>28652</td><td>0.0</td> <td>RicardoAlemanMx</td><td> #Video📹 | AMLO exhibe foto de Calderón donde sale su actual jefe de asesores de su gobierno https://t.co/6dqcFepmgl https://t.co/yu3BMgQJ6Y</td> </tr><tr><td>2</td><td>6975</td><td>0.131</td> <td>El_Universal_Mx</td><td> #VIDEO 📹 Felipe Calderón responde a AMLO: &quot;El dinero se lo mandan a otro presidente&quot;  https://t.co/b5V2hpz6Y6</td> </tr><tr><td>3</td><td>18286</td><td>0.178</td> <td>RicardoAlemanMx</td><td> AMLO arremetió contra Calderón\n",
       "https://t.co/h6eMNroqT1</td> </tr><tr><td>4</td><td>29914</td><td>0.205</td> <td>SinEmbargoMX</td><td> Felipe Calderón se dice perseguido por el Gobierno de AMLO. Es autoritarismo, dice https://t.co/ur3Fcw0rsF https://t.co/AFolNxXhkh</td> </tr><tr><td>5</td><td>23024</td><td>0.212</td> <td>El_Universal_Mx</td><td> #LaMañaneraDeAMLO AMLO: Felipe Calderón vino vestido de militar a Michoacán a declarar la guerra, a pegarle un garrotazo a lo tonto al avispero, sin un plan https://t.co/SIgxpzHFm2</td> </tr><tr><td>6</td><td>434</td><td>0.248</td> <td>julioastillero</td><td> 🚢 #EnVivo en #AstilleroInforma \n",
       "\n",
       "El que calla otorga, entonces, todo lo que se ha publicado pasa a ser parte de una verdad mientras Felipe Calderón no de una explicación. Qué bueno que AMLO lo instó para que aclare su relación con García Luna: @RRavelo27\n",
       "https://t.co/KeZFk1RS8H https://t.co/eSt1gcKPVg</td> </tr><tr><td>7</td><td>26683</td><td>0.252</td> <td>El_Universal_Mx</td><td> Califican como &quot;mamarracho&quot; al expresidente Felipe Calderón tras unirse a los festejos del piloto Sergio &quot;Checo&quot; Pérez  https://t.co/6kNFlKuUOn</td> </tr>\n",
       "</table>\n"
      ]
     },
     "metadata": {},
     "output_type": "display_data"
    }
   ],
   "source": [
    "display(@htl \"<h1>Ejemplos de búsqueda (mensajes aleatorios sobre el train)</h1>\")\n",
    "\n",
    "for i in 1:3\n",
    "    for qid in rand(1:length(train.text))\n",
    "        search_and_display(E, train.text[qid], 7)\n",
    "    end\n",
    "end"
   ]
  },
  {
   "cell_type": "code",
   "execution_count": 15,
   "id": "472700d5-e919-47a3-a927-786e132dbc06",
   "metadata": {},
   "outputs": [
    {
     "data": {
      "text/html": [
       "<h1>Ejemplos de búsqueda (mensajes aleatorios sobre el test)</h1>"
      ],
      "text/plain": [
       "<h1>Ejemplos de búsqueda (mensajes aleatorios sobre el test)</h1>"
      ]
     },
     "metadata": {},
     "output_type": "display_data"
    },
    {
     "name": "stdout",
     "output_type": "stream",
     "text": [
      "  0.000151 seconds (5 allocations: 192 bytes)\n"
     ]
    },
    {
     "data": {
      "text/html": [
       "<h2>resultados for \"Ucrania ha destruido más de 1.000 tanques rusos, dice Zelensky\n",
       "\n",
       "https://t.co/HbomENGUU5\"</h2>\n",
       "<table>\n",
       "<th>  <td>id</td> <td>dist</td> <td>user</td> </td>message<td> </th>\n",
       "    <tr><td>1</td><td>28631</td><td>0.151</td> <td>CNNEE</td><td> El ejército ucraniano dice que un tanque ruso fue destruido en el oeste de Kyiv https://t.co/JzA6yKRenH</td> </tr><tr><td>2</td><td>4848</td><td>0.18</td> <td>TelemundoNews</td><td> Rusia asegura que destruyó con misiles de alta precisión las naves de una fábrica de tanques en la capital ucraniana.\n",
       "https://t.co/QDVOQvny5s</td> </tr><tr><td>3</td><td>18020</td><td>0.234</td> <td>EFEnoticias</td><td> #EFEURGENTE | Ucrania denuncia la entrada de columnas de tanques rusos en Lugansk. https://t.co/M5M08s5MIU</td> </tr><tr><td>4</td><td>6876</td><td>0.268</td> <td>LaRazon_mx</td><td> #Ucrania asegura haber matado a más de mil soldados rusos y capturado a 300 https://t.co/TeIadkwvnx https://t.co/9oMlPSFIDz</td> </tr><tr><td>5</td><td>16744</td><td>0.281</td> <td>abc_es</td><td> #LoMásLeído ¿Por qué Rusia ha comenzado a invadir Ucrania? https://t.co/XkZyotlVv3</td> </tr><tr><td>6</td><td>23397</td><td>0.282</td> <td>NTN24</td><td> Según Rusia, sus tropas destruyeron 44 “instalaciones militares” en Ucrania https://t.co/laZ9O024Qo</td> </tr><tr><td>7</td><td>1552</td><td>0.301</td> <td>NTN24</td><td> Volodymyr Zelensky, afirmó que &quot;alrededor de 1.300 militares&quot; ucranianos murieron desde el inicio de la invasión rusa https://t.co/LeQ9XYLbMB</td> </tr>\n",
       "</table>\n"
      ],
      "text/plain": [
       "<h2>resultados for \"Ucrania ha destruido más de 1.000 tanques rusos, dice Zelensky\n",
       "\n",
       "https://t.co/HbomENGUU5\"</h2>\n",
       "<table>\n",
       "<th>  <td>id</td> <td>dist</td> <td>user</td> </td>message<td> </th>\n",
       "    <tr><td>1</td><td>28631</td><td>0.151</td> <td>CNNEE</td><td> El ejército ucraniano dice que un tanque ruso fue destruido en el oeste de Kyiv https://t.co/JzA6yKRenH</td> </tr><tr><td>2</td><td>4848</td><td>0.18</td> <td>TelemundoNews</td><td> Rusia asegura que destruyó con misiles de alta precisión las naves de una fábrica de tanques en la capital ucraniana.\n",
       "https://t.co/QDVOQvny5s</td> </tr><tr><td>3</td><td>18020</td><td>0.234</td> <td>EFEnoticias</td><td> #EFEURGENTE | Ucrania denuncia la entrada de columnas de tanques rusos en Lugansk. https://t.co/M5M08s5MIU</td> </tr><tr><td>4</td><td>6876</td><td>0.268</td> <td>LaRazon_mx</td><td> #Ucrania asegura haber matado a más de mil soldados rusos y capturado a 300 https://t.co/TeIadkwvnx https://t.co/9oMlPSFIDz</td> </tr><tr><td>5</td><td>16744</td><td>0.281</td> <td>abc_es</td><td> #LoMásLeído ¿Por qué Rusia ha comenzado a invadir Ucrania? https://t.co/XkZyotlVv3</td> </tr><tr><td>6</td><td>23397</td><td>0.282</td> <td>NTN24</td><td> Según Rusia, sus tropas destruyeron 44 “instalaciones militares” en Ucrania https://t.co/laZ9O024Qo</td> </tr><tr><td>7</td><td>1552</td><td>0.301</td> <td>NTN24</td><td> Volodymyr Zelensky, afirmó que &quot;alrededor de 1.300 militares&quot; ucranianos murieron desde el inicio de la invasión rusa https://t.co/LeQ9XYLbMB</td> </tr>\n",
       "</table>\n"
      ]
     },
     "metadata": {},
     "output_type": "display_data"
    },
    {
     "name": "stdout",
     "output_type": "stream",
     "text": [
      "  0.000159 seconds (5 allocations: 192 bytes)\n"
     ]
    },
    {
     "data": {
      "text/html": [
       "<h2>resultados for \"Rogel Lázaro Aguilera-Mederos chocó el camión de carga de madera que conducía contra varios carros.\n",
       "\n",
       "https://t.co/KDyyRWmvYR\"</h2>\n",
       "<table>\n",
       "<th>  <td>id</td> <td>dist</td> <td>user</td> </td>message<td> </th>\n",
       "    <tr><td>1</td><td>16850</td><td>0.008</td> <td>bbcmundo</td><td> Rogel Lázaro Aguilera-Mederos chocó el camión de carga de madera que conducía contra varios carros.\n",
       "\n",
       "https://t.co/mgrBl7upI5</td> </tr><tr><td>2</td><td>11809</td><td>0.373</td> <td>PublimetroChile</td><td> El conductor que provocó el accidente manejó por 10km en contra del tránsito impactando con una camioneta un...👇\n",
       " https://t.co/721jjKQW7X</td> </tr><tr><td>3</td><td>28013</td><td>0.394</td> <td>RicardoAlemanMx</td><td> ¡Esto fue lo que le ocurrió al conductor! \n",
       "https://t.co/XaqEMx8kDC</td> </tr><tr><td>4</td><td>14710</td><td>0.414</td> <td>abc_es</td><td> Los carburantes hacen un roto en el bolsillo de los conductores en la Operación Salida de agosto https://t.co/r20ZofyMwn</td> </tr><tr><td>5</td><td>12150</td><td>0.417</td> <td>SinEmbargoMX</td><td> VIDEO FUERTE: Tanque aplasta totalmente un auto en Kiev; conductor sobrevive\n",
       "https://t.co/Wz3PpJXaDs https://t.co/UW32MQLhlo</td> </tr><tr><td>6</td><td>7223</td><td>0.423</td> <td>El_Universal_Mx</td><td> RT @elgmx: 🚨 Imágenes del accidente de este viernes, donde un tráiler sin frenos chocó contra un camión de pasajeros, lo que dejó cuatro pe…</td> </tr><tr><td>7</td><td>19057</td><td>0.426</td> <td>PublimetroChile</td><td> El conductor del vehículo, que iba bajo la influencia del alcohol, colisionó contra el muro de una vivienda👇\n",
       " https://t.co/5tiyIZsXIq</td> </tr>\n",
       "</table>\n"
      ],
      "text/plain": [
       "<h2>resultados for \"Rogel Lázaro Aguilera-Mederos chocó el camión de carga de madera que conducía contra varios carros.\n",
       "\n",
       "https://t.co/KDyyRWmvYR\"</h2>\n",
       "<table>\n",
       "<th>  <td>id</td> <td>dist</td> <td>user</td> </td>message<td> </th>\n",
       "    <tr><td>1</td><td>16850</td><td>0.008</td> <td>bbcmundo</td><td> Rogel Lázaro Aguilera-Mederos chocó el camión de carga de madera que conducía contra varios carros.\n",
       "\n",
       "https://t.co/mgrBl7upI5</td> </tr><tr><td>2</td><td>11809</td><td>0.373</td> <td>PublimetroChile</td><td> El conductor que provocó el accidente manejó por 10km en contra del tránsito impactando con una camioneta un...👇\n",
       " https://t.co/721jjKQW7X</td> </tr><tr><td>3</td><td>28013</td><td>0.394</td> <td>RicardoAlemanMx</td><td> ¡Esto fue lo que le ocurrió al conductor! \n",
       "https://t.co/XaqEMx8kDC</td> </tr><tr><td>4</td><td>14710</td><td>0.414</td> <td>abc_es</td><td> Los carburantes hacen un roto en el bolsillo de los conductores en la Operación Salida de agosto https://t.co/r20ZofyMwn</td> </tr><tr><td>5</td><td>12150</td><td>0.417</td> <td>SinEmbargoMX</td><td> VIDEO FUERTE: Tanque aplasta totalmente un auto en Kiev; conductor sobrevive\n",
       "https://t.co/Wz3PpJXaDs https://t.co/UW32MQLhlo</td> </tr><tr><td>6</td><td>7223</td><td>0.423</td> <td>El_Universal_Mx</td><td> RT @elgmx: 🚨 Imágenes del accidente de este viernes, donde un tráiler sin frenos chocó contra un camión de pasajeros, lo que dejó cuatro pe…</td> </tr><tr><td>7</td><td>19057</td><td>0.426</td> <td>PublimetroChile</td><td> El conductor del vehículo, que iba bajo la influencia del alcohol, colisionó contra el muro de una vivienda👇\n",
       " https://t.co/5tiyIZsXIq</td> </tr>\n",
       "</table>\n"
      ]
     },
     "metadata": {},
     "output_type": "display_data"
    },
    {
     "name": "stdout",
     "output_type": "stream",
     "text": [
      "  0.000152 seconds (5 allocations: 192 bytes)\n"
     ]
    },
    {
     "data": {
      "text/html": [
       "<h2>resultados for \"Mi abogada ya no quiere llevar mi caso tras recibir mi permiso de trabajo. ¿Esto me perjudica?\n",
       "\n",
       "La abogada @AlmaRosaNieto analiza el caso, plantea varios escenarios y da estas recomendaciones.\n",
       "\n",
       "https://t.co/t6ZtVyoMyh\"</h2>\n",
       "<table>\n",
       "<th>  <td>id</td> <td>dist</td> <td>user</td> </td>message<td> </th>\n",
       "    <tr><td>1</td><td>5630</td><td>0.382</td> <td>PublimetroChile</td><td> La abogada aseguró que aún “no hay medida suficiente” para revertir la situación.👇\n",
       "https://t.co/qXCLJ3tVMh</td> </tr><tr><td>2</td><td>9606</td><td>0.386</td> <td>azucenau</td><td> &quot;Lo que hay que determinar para mi cliente es simplemente justicia&quot;: Javier Schütte Ricaud, abogado de Ainara #AzucenaxFórmula</td> </tr><tr><td>3</td><td>28839</td><td>0.406</td> <td>Reforma</td><td> Juez dictó prisión preventiva oficiosa al empresario #BaltazarReséndez, lo que implica que permanecerá en Penal del Altiplano hasta que se defina su situación jurídica por el caso de .@fgcabezadevaca https://t.co/X2wewRzsId</td> </tr><tr><td>4</td><td>7741</td><td>0.416</td> <td>epigmenioibarra</td><td> RT @ChairoBatman: @Lubruixa @epigmenioibarra #PaseDeLista1al43 #PaseDeLista1al43x43  con \n",
       "@epigmenioibarra\n",
       " que haya justicia en el caso de…</td> </tr><tr><td>5</td><td>15258</td><td>0.422</td> <td>azucenau</td><td> &quot;Se seguirá exigiendo #JusticiaparaAinara&quot;: Javier Schütte Ricaud, abogado de Ainara #AzucenaxFórmula</td> </tr><tr><td>6</td><td>5324</td><td>0.443</td> <td>Reforma</td><td> #Entérate Una jueza federal admitió a trámite concurso mercantil de @ALTANMx, operadora de la #RedCompartida, luego de que la empresa presentó documentos que no había anexado en su demanda original https://t.co/crjSvSe93B</td> </tr><tr><td>7</td><td>27612</td><td>0.445</td> <td>AristeguiOnline</td><td> Mesa de Análisis: Se nos están cargando temas jurídicos de enorme importancia: Cossío | Video\n",
       "https://t.co/Mc68IG8iCc https://t.co/0G84TNVIBR</td> </tr>\n",
       "</table>\n"
      ],
      "text/plain": [
       "<h2>resultados for \"Mi abogada ya no quiere llevar mi caso tras recibir mi permiso de trabajo. ¿Esto me perjudica?\n",
       "\n",
       "La abogada @AlmaRosaNieto analiza el caso, plantea varios escenarios y da estas recomendaciones.\n",
       "\n",
       "https://t.co/t6ZtVyoMyh\"</h2>\n",
       "<table>\n",
       "<th>  <td>id</td> <td>dist</td> <td>user</td> </td>message<td> </th>\n",
       "    <tr><td>1</td><td>5630</td><td>0.382</td> <td>PublimetroChile</td><td> La abogada aseguró que aún “no hay medida suficiente” para revertir la situación.👇\n",
       "https://t.co/qXCLJ3tVMh</td> </tr><tr><td>2</td><td>9606</td><td>0.386</td> <td>azucenau</td><td> &quot;Lo que hay que determinar para mi cliente es simplemente justicia&quot;: Javier Schütte Ricaud, abogado de Ainara #AzucenaxFórmula</td> </tr><tr><td>3</td><td>28839</td><td>0.406</td> <td>Reforma</td><td> Juez dictó prisión preventiva oficiosa al empresario #BaltazarReséndez, lo que implica que permanecerá en Penal del Altiplano hasta que se defina su situación jurídica por el caso de .@fgcabezadevaca https://t.co/X2wewRzsId</td> </tr><tr><td>4</td><td>7741</td><td>0.416</td> <td>epigmenioibarra</td><td> RT @ChairoBatman: @Lubruixa @epigmenioibarra #PaseDeLista1al43 #PaseDeLista1al43x43  con \n",
       "@epigmenioibarra\n",
       " que haya justicia en el caso de…</td> </tr><tr><td>5</td><td>15258</td><td>0.422</td> <td>azucenau</td><td> &quot;Se seguirá exigiendo #JusticiaparaAinara&quot;: Javier Schütte Ricaud, abogado de Ainara #AzucenaxFórmula</td> </tr><tr><td>6</td><td>5324</td><td>0.443</td> <td>Reforma</td><td> #Entérate Una jueza federal admitió a trámite concurso mercantil de @ALTANMx, operadora de la #RedCompartida, luego de que la empresa presentó documentos que no había anexado en su demanda original https://t.co/crjSvSe93B</td> </tr><tr><td>7</td><td>27612</td><td>0.445</td> <td>AristeguiOnline</td><td> Mesa de Análisis: Se nos están cargando temas jurídicos de enorme importancia: Cossío | Video\n",
       "https://t.co/Mc68IG8iCc https://t.co/0G84TNVIBR</td> </tr>\n",
       "</table>\n"
      ]
     },
     "metadata": {},
     "output_type": "display_data"
    }
   ],
   "source": [
    "display(@htl \"<h1>Ejemplos de búsqueda (mensajes aleatorios sobre el test)</h1>\")\n",
    "\n",
    "for i in 1:3\n",
    "    for qid in rand(1:length(test.text))\n",
    "        search_and_display(E, test.text[qid], 7)\n",
    "    end\n",
    "end"
   ]
  },
  {
   "cell_type": "markdown",
   "id": "1e8f09a9-75aa-49c5-9e35-4c486defa289",
   "metadata": {},
   "source": [
    "# Actividades\n",
    "- Reproduzca el ejercicio de este notebook\n",
    "- ¿Qué piensa de las diferencias de tamaño entre los documentos y las consultas? esto como afecta a la representación semántica.\n",
    "- Implemente su búsqueda semántica. Si usa Julia considere `SimilaritySearch.jl` y si usa Python considere `faiss`.\n",
    "- Utilece un extracto de 30 mensajes del test y compare el SBERT (usado en este notebook) contra  el modelo BERT `https://huggingface.co/bert-base-multilingual-cased` y BETO `https://huggingface.co/dccuchile/bert-base-spanish-wwm-cased`; adicionalmente incluya a los modelos tradicionales basados en vocabularios e índices invertidos.\n",
    "- Reporte su notebook y anote sus soluciones a las preguntas planteadas. Reporte los resultados de sus implementaciones, compare contra las alternativas solicitadas. Discuta sus resultados. Finalice el reporte con reflexiones sobre el uso de nubes de puntos en lugar de bolsas de palabras tradicionales. Anoté sus conclusiones.\n",
    "\n",
    "# Bibliografía\n",
    "- [KSKW2015] Kusner, M., Sun, Y., Kolkin, N., & Weinberger, K. (2015, June). From word embeddings to document distances. In International conference on machine learning (pp. 957-966). PMLR.\n",
    "- [PW2009] Pele, O., & Werman, M. (2009, September). Fast and robust earth mover's distances. In 2009 IEEE 12th international conference on computer vision (pp. 460-467). IEEE.\n",
    "- [VSPU2017] Vaswani, A., Shazeer, N., Parmar, N., Uszkoreit, J., Jones, L., Gomez, A. N., ... & Polosukhin, I. (2017). Attention is all you need. Advances in neural information processing systems, 30.\n",
    "- [RG2020] Reimers, N., & Gurevych, I. (2020). Making monolingual sentence embeddings multilingual using knowledge distillation. arXiv preprint arXiv:2004.09813.\n",
    "- [CCFHKP2023] Cañete, J., Chaperon, G., Fuentes, R., Ho, J. H., Kang, H., & Pérez, J. (2023). Spanish pre-trained bert model and evaluation data. arXiv preprint arXiv:2308.02976.\n"
   ]
  }
 ],
 "metadata": {
  "kernelspec": {
   "display_name": "Julia 1.10.0",
   "language": "julia",
   "name": "julia-1.10"
  },
  "language_info": {
   "file_extension": ".jl",
   "mimetype": "application/julia",
   "name": "julia",
   "version": "1.10.0"
  }
 },
 "nbformat": 4,
 "nbformat_minor": 5
}
