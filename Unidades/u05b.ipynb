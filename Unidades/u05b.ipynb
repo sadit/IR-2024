{
 "cells": [
  {
   "cell_type": "markdown",
   "id": "9fc189d2-656e-41d4-be84-dcf6ccf9537b",
   "metadata": {},
   "source": [
    "# Búsqueda semántica\n",
    "Autor: Eric S. Tellez <eric.tellez@infotec.mx>\n",
    "\n",
    "\n",
    "# Language models\n",
    "En los word embeddings, cada palabra del vocabulario tiene asignado un vector denso de manera estática, fruto de su semántica basada en la hipótesis distribucional. Los modelos de lenguaje van más allá, intentando no solo tener en cuenta una palabra para el vector, si no que el vector mismo es dependiente del contexto, por lo cual puede desambiguar de manera natural palabras idénticas (homónimos) usando dicha información contextual. Adicionalmente, capturan información relevante de grandes corpus de texto, aportando muchas veces información de un mundo (i.e., si se entrenan usando la wikipedia, tendrán información relavante de multiples dominios).\n",
    "\n",
    "La punta de lanza de los modelos de lenguaje es el aprendizaje profundo, y más precisamente, con el uso de _transformers_. Uno de los modelos de lenguaje más utilizado es BERT [@VSPU2017]. La persona interesada más sobre ellos <https://huggingface.co/>. \n",
    "Cuando la información esta poco específicada, las palabras adecuadas podrían ser dificiles de tener o limitar. En estos casos, la representaciones semánticas que permiten buscar _lo que se desea_ por medio de conceptos nos acerca más a la posibilidad de obtener información útil.\n",
    "\n",
    "En lo que resta de este notebook se estarán viendo como usar los modelos, y más precisamente los embeddings para realizar tareas de recuperación de información.\n"
   ]
  },
  {
   "cell_type": "code",
   "execution_count": 1,
   "id": "cd04785e-aa4e-493c-9aa8-5c54c8e1f322",
   "metadata": {
    "scrolled": true
   },
   "outputs": [
    {
     "name": "stderr",
     "output_type": "stream",
     "text": [
      "\u001b[32m\u001b[1m  Activating\u001b[22m\u001b[39m project at `~/Cursos/IR-2024/Unidades`\n"
     ]
    }
   ],
   "source": [
    "using Pkg\n",
    "Pkg.activate(\".\")"
   ]
  },
  {
   "cell_type": "code",
   "execution_count": 2,
   "id": "288c31fb-aeea-4a88-a93d-e056d9eb6f0c",
   "metadata": {},
   "outputs": [],
   "source": [
    "using SimilaritySearch, LinearAlgebra, HypertextLiteral, CodecZlib, JSON, Random, StatsBase, DataFrames, JLD2\n",
    "using Downloads: download"
   ]
  },
  {
   "cell_type": "markdown",
   "id": "036da756-1718-4491-97df-8984ae93b7bb",
   "metadata": {},
   "source": [
    "# Using Transformers as encoders\n",
    "## Using SentenceBert"
   ]
  },
  {
   "cell_type": "code",
   "execution_count": 3,
   "id": "f9d611e9-a656-4023-a112-615b60f5e2a9",
   "metadata": {},
   "outputs": [
    {
     "data": {
      "text/plain": [
       "PyObject <module 'sbertencoder' from '/home/sadit/Cursos/IR-2024/Unidades/sbertencoder.py'>"
      ]
     },
     "execution_count": 3,
     "metadata": {},
     "output_type": "execute_result"
    }
   ],
   "source": [
    "using PyCall # note that I already installed sentence-tranformers package and configured PyCall\n",
    "pushfirst!(pyimport(\"sys\").\"path\", \"\") # this is necessary to load modules in the current path\n",
    "sbert = pyimport(\"sbertencoder\")"
   ]
  },
  {
   "cell_type": "code",
   "execution_count": 12,
   "id": "e4fcb23f-9564-4910-9a4f-1f5d4a582d5f",
   "metadata": {},
   "outputs": [
    {
     "data": {
      "text/plain": [
       "PyObject <sbertencoder.TextEncoder object at 0x7ff79b467150>"
      ]
     },
     "execution_count": 12,
     "metadata": {},
     "output_type": "execute_result"
    }
   ],
   "source": [
    "langmodel = sbert.TextEncoder()"
   ]
  },
  {
   "cell_type": "code",
   "execution_count": 30,
   "id": "af8bad4e-c31b-4506-8341-47c4130d664a",
   "metadata": {},
   "outputs": [
    {
     "data": {
      "text/plain": [
       "create_index (generic function with 1 method)"
      ]
     },
     "execution_count": 30,
     "metadata": {},
     "output_type": "execute_result"
    }
   ],
   "source": [
    "function encode_text(model, text::AbstractString; normalize=true)\n",
    "    e = model.encode(text)\n",
    "    normalize && normalize!(e)\n",
    "    e\n",
    "end\n",
    "\n",
    "function encode_corpus(model, corpus::AbstractVector; normalize=true)\n",
    "    n = length(corpus)\n",
    "    e = model.encode(corpus)\n",
    "    E = permutedims(e)\n",
    "    @assert size(E, 1) == 384 # only for sbert\n",
    "    if normalize\n",
    "        for c in eachcol(E)\n",
    "            normalize!(c)\n",
    "        end\n",
    "    end\n",
    "\n",
    "    E\n",
    "end\n",
    "\n",
    "function create_index(db, recall)\n",
    "    dist = NormalizedCosineDistance()\n",
    "    index = SearchGraph(; dist, db, verbose=false)\n",
    "    index!(index; callbacks=SearchGraphCallbacks(MinRecall(recall)))\n",
    "    optimize!(index, MinRecall(recall))\n",
    "    index\n",
    "end"
   ]
  },
  {
   "cell_type": "code",
   "execution_count": null,
   "id": "e93de48f-0b6e-420e-8e5c-aad63d5297f1",
   "metadata": {},
   "outputs": [],
   "source": []
  },
  {
   "cell_type": "code",
   "execution_count": 9,
   "id": "9d1dc14b-02cb-45ab-8466-5783251ef877",
   "metadata": {
    "scrolled": true
   },
   "outputs": [
    {
     "data": {
      "text/html": [
       "<h1>Cargando el corpus</h1>"
      ],
      "text/plain": [
       "<h1>Cargando el corpus</h1>"
      ]
     },
     "metadata": {},
     "output_type": "display_data"
    },
    {
     "data": {
      "text/html": [
       "<div><div style = \"float: left;\"><span>3×2 DataFrame</span></div><div style = \"clear: both;\"></div></div><div class = \"data-frame\" style = \"overflow-x: scroll;\"><table class = \"data-frame\" style = \"margin-bottom: 6px;\"><thead><tr class = \"header\"><th class = \"rowNumber\" style = \"font-weight: bold; text-align: right;\">Row</th><th style = \"text-align: left;\">text</th><th style = \"text-align: left;\">labels</th></tr><tr class = \"subheader headerLastRow\"><th class = \"rowNumber\" style = \"font-weight: bold; text-align: right;\"></th><th title = \"String\" style = \"text-align: left;\">String</th><th title = \"String\" style = \"text-align: left;\">String</th></tr></thead><tbody><tr><td class = \"rowNumber\" style = \"font-weight: bold; text-align: right;\">1</td><td style = \"text-align: left;\">RT @SanGonAzc: @RadioIndeMexico @FiscaliaNL @FGRMexico @lopezobrador_ @AldoFasciZ @RicardoMeb  se van a seguir haciendo tontos?? #debaniesc…</td><td style = \"text-align: left;\">AdriDelgadoRuiz</td></tr><tr><td class = \"rowNumber\" style = \"font-weight: bold; text-align: right;\">2</td><td style = \"text-align: left;\">“El periodismo serio y responsable es una herramienta esencial para salvaguardar y fortalecer el sistema democrático en México y el mundo, y hoy se debe fortalecer esa profesión”, afirmó el periodista y escritor, Harris Whitbeck @harriswhitbeck\\n#ElDedoEnLaLLaga #HeraldoRadio</td><td style = \"text-align: left;\">AdriDelgadoRuiz</td></tr><tr><td class = \"rowNumber\" style = \"font-weight: bold; text-align: right;\">3</td><td style = \"text-align: left;\">&quot;...Sí esperamos que se aumente la tasa en 25 puntos base en las siguientes dos reuniones y continuar así durante el primer trimestre del 2022”: @raguilar_abe</td><td style = \"text-align: left;\">AdriDelgadoRuiz</td></tr></tbody></table></div>"
      ],
      "text/latex": [
       "\\begin{tabular}{r|cc}\n",
       "\t& text & \\\\\n",
       "\t\\hline\n",
       "\t& String & \\\\\n",
       "\t\\hline\n",
       "\t1 & RT @SanGonAzc: @RadioIndeMexico @FiscaliaNL @FGRMexico @lopezobrador\\_ @AldoFasciZ @RicardoMeb  se van a seguir haciendo tontos?? \\#debaniesc… & $\\dots$ \\\\\n",
       "\t2 & “El periodismo serio y responsable es una herramienta esencial para salvaguardar y fortalecer el sistema democrático en México y el mundo, y hoy se debe fortalecer esa profesión”, afirmó el periodista y escritor, Harris Whitbeck @harriswhitbeck\\textbackslash{}n\\#ElDedoEnLaLLaga \\#HeraldoRadio & $\\dots$ \\\\\n",
       "\t3 & \"...Sí esperamos que se aumente la tasa en 25 puntos base en las siguientes dos reuniones y continuar así durante el primer trimestre del 2022”: @raguilar\\_abe & $\\dots$ \\\\\n",
       "\\end{tabular}\n"
      ],
      "text/plain": [
       "\u001b[1m3×2 DataFrame\u001b[0m\n",
       "\u001b[1m Row \u001b[0m│\u001b[1m text                              \u001b[0m\u001b[1m labels          \u001b[0m\n",
       "     │\u001b[90m String                            \u001b[0m\u001b[90m String          \u001b[0m\n",
       "─────┼────────────────────────────────────────────────────\n",
       "   1 │ RT @SanGonAzc: @RadioIndeMexico …  AdriDelgadoRuiz\n",
       "   2 │ “El periodismo serio y responsab…  AdriDelgadoRuiz\n",
       "   3 │ \"...Sí esperamos que se aumente …  AdriDelgadoRuiz"
      ]
     },
     "execution_count": 9,
     "metadata": {},
     "output_type": "execute_result"
    }
   ],
   "source": [
    "display(@htl \"<h1>Cargando el corpus</h1>\")\n",
    "\n",
    "include(\"read_datasets.jl\")\n",
    "train, test = DataFrame.(read_news())\n",
    "first(train, 3)"
   ]
  },
  {
   "cell_type": "code",
   "execution_count": 33,
   "id": "323674d3-a20f-4c77-963c-66b9bc710162",
   "metadata": {
    "scrolled": true
   },
   "outputs": [
    {
     "data": {
      "text/plain": [
       "load_or_compute_embeddings (generic function with 1 method)"
      ]
     },
     "execution_count": 33,
     "metadata": {},
     "output_type": "execute_result"
    }
   ],
   "source": [
    "function load_or_compute_embeddings(langmodel, corpus, h5filename; normalize=false)\n",
    "    if !isfile(h5filename)\n",
    "        @time X = encode_corpus(langmodel, test.text)\n",
    "        jldsave(h5filename; emb=X)\n",
    "    else\n",
    "        X = jldopen(h5filename) do f\n",
    "            f[\"emb\"]\n",
    "        end\n",
    "    end\n",
    "\n",
    "    if normalize\n",
    "        for c in eachcol(X)\n",
    "            normalize!(c)\n",
    "        end\n",
    "    end\n",
    "\n",
    "    X\n",
    "end"
   ]
  },
  {
   "cell_type": "code",
   "execution_count": 34,
   "id": "a9ff6403-f5e7-470e-90e0-baa79eccb793",
   "metadata": {},
   "outputs": [
    {
     "data": {
      "text/plain": [
       "((384, 30244), (384, 3361))"
      ]
     },
     "execution_count": 34,
     "metadata": {},
     "output_type": "execute_result"
    }
   ],
   "source": [
    "trainfile = \"data/spanish-twitter-news-and-opinions-top25-68.train--sbert-multi-L12-v2.h5\"\n",
    "testfile = \"data/spanish-twitter-news-and-opinions-top25-68.test--sbert-multi-L12-v2.h5\"\n",
    "\n",
    "Xtrain = load_or_compute_embeddings(langmodel, train.text, trainfile)\n",
    "Xtest = load_or_compute_embeddings(langmodel, test.text, testfile)\n",
    "\n",
    "size(Xtrain), size(Xtest)"
   ]
  },
  {
   "cell_type": "code",
   "execution_count": 32,
   "id": "662d8969-72d2-45dc-8a0b-71c658930405",
   "metadata": {},
   "outputs": [
    {
     "data": {
      "text/plain": [
       "Matrix{Float32}\u001b[90m (alias for \u001b[39m\u001b[90mArray{Float32, 2}\u001b[39m\u001b[90m)\u001b[39m"
      ]
     },
     "execution_count": 32,
     "metadata": {},
     "output_type": "execute_result"
    }
   ],
   "source": []
  },
  {
   "cell_type": "markdown",
   "id": "0bcb60ff-68c0-4c09-a8dd-70079ba59994",
   "metadata": {},
   "source": [
    "### Se crea el índice métrico"
   ]
  },
  {
   "cell_type": "code",
   "execution_count": 35,
   "id": "3d9108c0-02a7-4afe-bfa2-7b436f7bd0f0",
   "metadata": {},
   "outputs": [
    {
     "name": "stdout",
     "output_type": "stream",
     "text": [
      "  0.649584 seconds (602.12 k allocations: 55.760 MiB, 4.58% compilation time)\n"
     ]
    },
    {
     "data": {
      "text/plain": [
       "SearchGraph{NormalizedCosineDistance, MatrixDatabase{Matrix{Float32}}, SimilaritySearch.AdjacencyLists.AdjacencyList{UInt32}, BeamSearch}\n",
       "  dist: NormalizedCosineDistance NormalizedCosineDistance()\n",
       "  db: MatrixDatabase{Matrix{Float32}}\n",
       "  adj: SimilaritySearch.AdjacencyLists.AdjacencyList{UInt32}\n",
       "  hints: Array{Int32}((105,)) Int32[60, 165, 177, 178, 222, 386, 478, 537, 566, 567  …  2443, 2475, 2482, 2495, 2515, 2546, 2577, 2608, 2616, 2653]\n",
       "  search_algo: BeamSearch\n",
       "  len: Base.RefValue{Int64}\n",
       "  verbose: Bool false\n"
      ]
     },
     "execution_count": 35,
     "metadata": {},
     "output_type": "execute_result"
    }
   ],
   "source": [
    "@time index = create_index(MatrixDatabase(Xtrain), 0.95)"
   ]
  },
  {
   "cell_type": "code",
   "execution_count": null,
   "id": "ee566880-6ad3-4026-b146-96b16be2c31a",
   "metadata": {},
   "outputs": [],
   "source": []
  },
  {
   "cell_type": "markdown",
   "id": "7e629f24-ecf3-4908-a100-b70559dca89a",
   "metadata": {},
   "source": [
    "### Búsqueda de todos los vecinos cercanos de test en train, observe la conveniencia del uso de un índice\n",
    "\n",
    "Entre más sean las consultas más se ve la bondad"
   ]
  },
  {
   "cell_type": "code",
   "execution_count": 36,
   "id": "dd59812a-2ad8-43ae-9de8-70a695db7c79",
   "metadata": {},
   "outputs": [
    {
     "name": "stdout",
     "output_type": "stream",
     "text": [
      "  0.059625 seconds (6.78 k allocations: 1.195 MiB)\n",
      "  0.416515 seconds (133 allocations: 851.484 KiB)\n",
      "macrorecall(Eknns, Iknns) = 0.9418327878607557\n"
     ]
    },
    {
     "data": {
      "text/plain": [
       "0.9418327878607557"
      ]
     },
     "execution_count": 36,
     "metadata": {},
     "output_type": "execute_result"
    }
   ],
   "source": [
    "let k = 32\n",
    "    @time Iknns, Idists = searchbatch(index, MatrixDatabase(Xtest), k)\n",
    "    exs = ExhaustiveSearch(; dist=distance(index), db=database(index))\n",
    "    @time Eknns, Edists = searchbatch(exs, MatrixDatabase(Xtest), k)\n",
    "    @show macrorecall(Eknns, Iknns)\n",
    "end"
   ]
  },
  {
   "cell_type": "markdown",
   "id": "51b68d72-5256-49ad-b22b-e896f58bc29f",
   "metadata": {},
   "source": [
    "### Búsqueda y presentación de los resultados"
   ]
  },
  {
   "cell_type": "code",
   "execution_count": 37,
   "id": "c40aa0b4-1f12-4ab9-8acf-5b341b847c1c",
   "metadata": {},
   "outputs": [],
   "source": [
    "#Eindex = ExhaustiveSearch(; dist=distance(index), db=database(index))\n",
    "E = (; langmodel, index, data=train); # para simplificar algunas funciones"
   ]
  },
  {
   "cell_type": "code",
   "execution_count": 38,
   "id": "e045135e-4189-47cc-9513-72a5000527f6",
   "metadata": {},
   "outputs": [
    {
     "data": {
      "text/plain": [
       "search_and_display (generic function with 1 method)"
      ]
     },
     "execution_count": 38,
     "metadata": {},
     "output_type": "execute_result"
    }
   ],
   "source": [
    "function search_and_display(E, qtext, k)\n",
    "    res = KnnResult(k)\n",
    "    q = encode_text(E.langmodel, qtext)\n",
    "\n",
    "    @time search(index, q, res)\n",
    "    \n",
    "    L = []\n",
    "    for (j, p) in enumerate(res)\n",
    "        id, d = p.id, p.weight\n",
    "        text, label = E.data.text[id], E.data.labels[id]\n",
    "        push!(L, @htl \"<tr><td>$j</td><td>$(id)</td><td>$(round(d, digits=3))</td> <td>$(label)</td><td> $(text)</td> </tr>\")\n",
    "    end\n",
    "\n",
    "    display(@htl \"\"\"<h2>resultados for \"$qtext\"</h2>\n",
    "    <table>\n",
    "    <th>  <td>id</td> <td>dist</td> <td>user</td> </td>message<td> </th>\n",
    "        $L\n",
    "    </table>\n",
    "    \"\"\")\n",
    "end\n"
   ]
  },
  {
   "cell_type": "code",
   "execution_count": 47,
   "id": "b1123924-05b2-4799-b2f7-18b3d2c46f4d",
   "metadata": {},
   "outputs": [
    {
     "data": {
      "text/html": [
       "<h1>Ejemplos de búsqueda</h1>"
      ],
      "text/plain": [
       "<h1>Ejemplos de búsqueda</h1>"
      ]
     },
     "metadata": {},
     "output_type": "display_data"
    },
    {
     "name": "stdout",
     "output_type": "stream",
     "text": [
      "  0.000203 seconds (4 allocations: 96 bytes)\n"
     ]
    },
    {
     "data": {
      "text/html": [
       "<h2>resultados for \"busqueda de personas desaparecidas\"</h2>\n",
       "<table>\n",
       "<th>  <td>id</td> <td>dist</td> <td>user</td> </td>message<td> </th>\n",
       "    <tr><td>1</td><td>9927</td><td>0.284</td> <td>UniNoticias</td><td> 🎥 Esta familia pide ayuda para encontrar a una mujer de 60 años reportada como desaparecida.\n",
       "https://t.co/XkV0npQ9BS</td> </tr><tr><td>2</td><td>12201</td><td>0.3</td> <td>Milenio</td><td> ▶️ Continúa búsqueda de Debahni Escobar, joven de 18 años desaparecida desde el 8 de abril en Nuevo León\n",
       "\n",
       "En la búsqueda participaron cerca de 50 personas entre familiares, amigos, colectivos y sociedad civil\n",
       "\n",
       "📺 #Milenio19h con @pedrogamboamr https://t.co/vHAaTuznT6</td> </tr><tr><td>3</td><td>14255</td><td>0.327</td> <td>julioastillero</td><td> 🚢 #EnVivo en #AstilleroInforma \n",
       "\n",
       "El tema de desaparición forzada se ha convertido en un dolor para la sociedad. Todas las personas tienen el derecho a ser buscadas y encontradas. Es el momento de echar a andar esto a rango constitucional: @Omarel44\n",
       "https://t.co/qe3FatOwmv https://t.co/wuOVVFovff</td> </tr><tr><td>4</td><td>24109</td><td>0.343</td> <td>abc_es</td><td> Vidas sin rastro: la angustia de miles de búsquedas https://t.co/1YNePO0dTJ ✍ Un reportaje de Beatriz L. Echazarreta</td> </tr><tr><td>5</td><td>24560</td><td>0.355</td> <td>epigmenioibarra</td><td> RT @jenarovillamil: Ay, diputada @Mzavalagc, qué tal si revisamos las listas de desaparecidos en la lista del sexenio calderonista</td> </tr><tr><td>6</td><td>1281</td><td>0.373</td> <td>Milenio</td><td> ▶️ &quot;Las desapariciones no han frenado y nos habla de un problema presente y una deuda con las víctimas&quot;: Sofía de Robina, abogada del Área Internacional del Centro PRODH\n",
       "\n",
       "México llegó a las 100 mil personas desaparecidas\n",
       "\n",
       "📺 La entrevista con @elisaalanis #ElisaEnMILENIO https://t.co/3FRfarsXyh</td> </tr><tr><td>7</td><td>11112</td><td>0.376</td> <td>julioastillero</td><td> Desaparecida, en #Apodaca #NuevoLeón :</td> </tr>\n",
       "</table>\n"
      ],
      "text/plain": [
       "<h2>resultados for \"busqueda de personas desaparecidas\"</h2>\n",
       "<table>\n",
       "<th>  <td>id</td> <td>dist</td> <td>user</td> </td>message<td> </th>\n",
       "    <tr><td>1</td><td>9927</td><td>0.284</td> <td>UniNoticias</td><td> 🎥 Esta familia pide ayuda para encontrar a una mujer de 60 años reportada como desaparecida.\n",
       "https://t.co/XkV0npQ9BS</td> </tr><tr><td>2</td><td>12201</td><td>0.3</td> <td>Milenio</td><td> ▶️ Continúa búsqueda de Debahni Escobar, joven de 18 años desaparecida desde el 8 de abril en Nuevo León\n",
       "\n",
       "En la búsqueda participaron cerca de 50 personas entre familiares, amigos, colectivos y sociedad civil\n",
       "\n",
       "📺 #Milenio19h con @pedrogamboamr https://t.co/vHAaTuznT6</td> </tr><tr><td>3</td><td>14255</td><td>0.327</td> <td>julioastillero</td><td> 🚢 #EnVivo en #AstilleroInforma \n",
       "\n",
       "El tema de desaparición forzada se ha convertido en un dolor para la sociedad. Todas las personas tienen el derecho a ser buscadas y encontradas. Es el momento de echar a andar esto a rango constitucional: @Omarel44\n",
       "https://t.co/qe3FatOwmv https://t.co/wuOVVFovff</td> </tr><tr><td>4</td><td>24109</td><td>0.343</td> <td>abc_es</td><td> Vidas sin rastro: la angustia de miles de búsquedas https://t.co/1YNePO0dTJ ✍ Un reportaje de Beatriz L. Echazarreta</td> </tr><tr><td>5</td><td>24560</td><td>0.355</td> <td>epigmenioibarra</td><td> RT @jenarovillamil: Ay, diputada @Mzavalagc, qué tal si revisamos las listas de desaparecidos en la lista del sexenio calderonista</td> </tr><tr><td>6</td><td>1281</td><td>0.373</td> <td>Milenio</td><td> ▶️ &quot;Las desapariciones no han frenado y nos habla de un problema presente y una deuda con las víctimas&quot;: Sofía de Robina, abogada del Área Internacional del Centro PRODH\n",
       "\n",
       "México llegó a las 100 mil personas desaparecidas\n",
       "\n",
       "📺 La entrevista con @elisaalanis #ElisaEnMILENIO https://t.co/3FRfarsXyh</td> </tr><tr><td>7</td><td>11112</td><td>0.376</td> <td>julioastillero</td><td> Desaparecida, en #Apodaca #NuevoLeón :</td> </tr>\n",
       "</table>\n"
      ]
     },
     "metadata": {},
     "output_type": "display_data"
    },
    {
     "name": "stdout",
     "output_type": "stream",
     "text": [
      "  0.000144 seconds (4 allocations: 96 bytes)\n"
     ]
    },
    {
     "data": {
      "text/html": [
       "<h2>resultados for \"sobre el covid 19 y el coronavirus\"</h2>\n",
       "<table>\n",
       "<th>  <td>id</td> <td>dist</td> <td>user</td> </td>message<td> </th>\n",
       "    <tr><td>1</td><td>26658</td><td>0.211</td> <td>abc_es</td><td> Adiós a la mascarilla en exteriores: así quedan las restricciones por el coronavirus por comunidades https://t.co/w9sIL69Xxy</td> </tr><tr><td>2</td><td>21235</td><td>0.213</td> <td>abc_es</td><td> Qué es la variante Delta del coronavirus https://t.co/oTKQRropai</td> </tr><tr><td>3</td><td>29257</td><td>0.216</td> <td>CNNEE</td><td> Así es como surgen las variantes del nuevo coronavirus. https://t.co/qH1ggXs3KH</td> </tr><tr><td>4</td><td>20772</td><td>0.222</td> <td>abc_es</td><td> Así quedan las restricciones por el coronavirus por comunidades https://t.co/1AC0unePne</td> </tr><tr><td>5</td><td>17655</td><td>0.23</td> <td>RicardoAlemanMx</td><td> El subsecretario de Salud, López-Gatell, confirmó el primer caso de coronavirus covid-19 con ómicron en México\n",
       "https://t.co/iTaO3k7DfQ</td> </tr><tr><td>6</td><td>4076</td><td>0.233</td> <td>Radio_Formula</td><td> La altamente transmisible variante ómicron ha provocado un alza de casos de coronavirus en todo el mundo.\n",
       "\n",
       "https://t.co/N8LHD2DGFO</td> </tr><tr><td>7</td><td>8031</td><td>0.233</td> <td>PublimetroCol</td><td> Este viernes solo hay 20.221 casos activos de coronavirus en el país https://t.co/jBj5pD28Vn</td> </tr>\n",
       "</table>\n"
      ],
      "text/plain": [
       "<h2>resultados for \"sobre el covid 19 y el coronavirus\"</h2>\n",
       "<table>\n",
       "<th>  <td>id</td> <td>dist</td> <td>user</td> </td>message<td> </th>\n",
       "    <tr><td>1</td><td>26658</td><td>0.211</td> <td>abc_es</td><td> Adiós a la mascarilla en exteriores: así quedan las restricciones por el coronavirus por comunidades https://t.co/w9sIL69Xxy</td> </tr><tr><td>2</td><td>21235</td><td>0.213</td> <td>abc_es</td><td> Qué es la variante Delta del coronavirus https://t.co/oTKQRropai</td> </tr><tr><td>3</td><td>29257</td><td>0.216</td> <td>CNNEE</td><td> Así es como surgen las variantes del nuevo coronavirus. https://t.co/qH1ggXs3KH</td> </tr><tr><td>4</td><td>20772</td><td>0.222</td> <td>abc_es</td><td> Así quedan las restricciones por el coronavirus por comunidades https://t.co/1AC0unePne</td> </tr><tr><td>5</td><td>17655</td><td>0.23</td> <td>RicardoAlemanMx</td><td> El subsecretario de Salud, López-Gatell, confirmó el primer caso de coronavirus covid-19 con ómicron en México\n",
       "https://t.co/iTaO3k7DfQ</td> </tr><tr><td>6</td><td>4076</td><td>0.233</td> <td>Radio_Formula</td><td> La altamente transmisible variante ómicron ha provocado un alza de casos de coronavirus en todo el mundo.\n",
       "\n",
       "https://t.co/N8LHD2DGFO</td> </tr><tr><td>7</td><td>8031</td><td>0.233</td> <td>PublimetroCol</td><td> Este viernes solo hay 20.221 casos activos de coronavirus en el país https://t.co/jBj5pD28Vn</td> </tr>\n",
       "</table>\n"
      ]
     },
     "metadata": {},
     "output_type": "display_data"
    },
    {
     "name": "stdout",
     "output_type": "stream",
     "text": [
      "  0.000162 seconds (4 allocations: 96 bytes)\n"
     ]
    },
    {
     "data": {
      "text/html": [
       "<h2>resultados for \"arte y cine\"</h2>\n",
       "<table>\n",
       "<th>  <td>id</td> <td>dist</td> <td>user</td> </td>message<td> </th>\n",
       "    <tr><td>1</td><td>6010</td><td>0.366</td> <td>el_pais</td><td> RT @elpais_cultura: El cineasta estrena en Lisboa ‘Andy’, su primera obra de teatro, dedicada al visionario artista del ‘pop-art’ con el qu…</td> </tr><tr><td>2</td><td>2188</td><td>0.391</td> <td>el_pais</td><td> &quot;El desprecio contra la gente del cine es algo histórico, somos el oficio de &apos;los rojos&apos;. Es muy grave que desde instituciones que manejan presupuestos públicos pueda despreciarse un campo de expresión artística&quot;, lamenta Alberto San Juan https://t.co/pKVnkddEQj</td> </tr><tr><td>3</td><td>30110</td><td>0.415</td> <td>El_Universal_Mx</td><td> RT @Univ_Cultura: ¿Cómo es que terminaste teniendo “perrhijos” y “gathijos”? Esta exposición te lo explica a través de la historia del arte…</td> </tr><tr><td>4</td><td>21570</td><td>0.417</td> <td>PublimetroCol</td><td> Hablamos en exclusiva con dos de las mentes creativas detrás de esta película que promete enamorar a muchos al son de música, tradición, culturas y diversión. https://t.co/G0sT9XEYuK</td> </tr><tr><td>5</td><td>18242</td><td>0.418</td> <td>EFEnoticias</td><td> ENTREVISTA | Pedro Halffter: La convivencia con el arte debe ser en vivo, no en la pantalla. \n",
       "\n",
       "Por Sergio Jiménez Foronda\n",
       "\n",
       "https://t.co/8mZg1cEkhl https://t.co/aHH0z4Y612</td> </tr><tr><td>6</td><td>11035</td><td>0.419</td> <td>PublimetroMX</td><td> #Entrevista |  @tokischa_ :“El arte en general es libre para expresar lo que uno sienta y se imagine&quot;. \n",
       "\n",
       "https://t.co/MxwFvkmZQd</td> </tr><tr><td>7</td><td>1597</td><td>0.422</td> <td>teleSURtv</td><td> #ENVIDEO | El #ArteContemporáneo tiene diferentes representaciones, entre ellas el #LandArt\n",
       "\n",
       "Las piezas de arte de esta corriente se las realiza en el entorno natural \n",
       "\n",
       "Conoce más sobre esta puesta en escena en el siguiente vídeo https://t.co/alKzXTItPM</td> </tr>\n",
       "</table>\n"
      ],
      "text/plain": [
       "<h2>resultados for \"arte y cine\"</h2>\n",
       "<table>\n",
       "<th>  <td>id</td> <td>dist</td> <td>user</td> </td>message<td> </th>\n",
       "    <tr><td>1</td><td>6010</td><td>0.366</td> <td>el_pais</td><td> RT @elpais_cultura: El cineasta estrena en Lisboa ‘Andy’, su primera obra de teatro, dedicada al visionario artista del ‘pop-art’ con el qu…</td> </tr><tr><td>2</td><td>2188</td><td>0.391</td> <td>el_pais</td><td> &quot;El desprecio contra la gente del cine es algo histórico, somos el oficio de &apos;los rojos&apos;. Es muy grave que desde instituciones que manejan presupuestos públicos pueda despreciarse un campo de expresión artística&quot;, lamenta Alberto San Juan https://t.co/pKVnkddEQj</td> </tr><tr><td>3</td><td>30110</td><td>0.415</td> <td>El_Universal_Mx</td><td> RT @Univ_Cultura: ¿Cómo es que terminaste teniendo “perrhijos” y “gathijos”? Esta exposición te lo explica a través de la historia del arte…</td> </tr><tr><td>4</td><td>21570</td><td>0.417</td> <td>PublimetroCol</td><td> Hablamos en exclusiva con dos de las mentes creativas detrás de esta película que promete enamorar a muchos al son de música, tradición, culturas y diversión. https://t.co/G0sT9XEYuK</td> </tr><tr><td>5</td><td>18242</td><td>0.418</td> <td>EFEnoticias</td><td> ENTREVISTA | Pedro Halffter: La convivencia con el arte debe ser en vivo, no en la pantalla. \n",
       "\n",
       "Por Sergio Jiménez Foronda\n",
       "\n",
       "https://t.co/8mZg1cEkhl https://t.co/aHH0z4Y612</td> </tr><tr><td>6</td><td>11035</td><td>0.419</td> <td>PublimetroMX</td><td> #Entrevista |  @tokischa_ :“El arte en general es libre para expresar lo que uno sienta y se imagine&quot;. \n",
       "\n",
       "https://t.co/MxwFvkmZQd</td> </tr><tr><td>7</td><td>1597</td><td>0.422</td> <td>teleSURtv</td><td> #ENVIDEO | El #ArteContemporáneo tiene diferentes representaciones, entre ellas el #LandArt\n",
       "\n",
       "Las piezas de arte de esta corriente se las realiza en el entorno natural \n",
       "\n",
       "Conoce más sobre esta puesta en escena en el siguiente vídeo https://t.co/alKzXTItPM</td> </tr>\n",
       "</table>\n"
      ]
     },
     "metadata": {},
     "output_type": "display_data"
    },
    {
     "name": "stdout",
     "output_type": "stream",
     "text": [
      "  0.000195 seconds (4 allocations: 96 bytes)\n"
     ]
    },
    {
     "data": {
      "text/html": [
       "<h2>resultados for \"sobre el narcotráfico\"</h2>\n",
       "<table>\n",
       "<th>  <td>id</td> <td>dist</td> <td>user</td> </td>message<td> </th>\n",
       "    <tr><td>1</td><td>15440</td><td>0.289</td> <td>abc_es</td><td> Drogas https://t.co/WVZaCfEuUP ✍ &apos;Tveo&apos;, por @rosabelmonte</td> </tr><tr><td>2</td><td>26384</td><td>0.336</td> <td>PublimetroChile</td><td> Tras los buenos resultados del Estudio Nacional de Drogas en Población General, publicados el...👇\n",
       " https://t.co/I4HzdWR9Uj</td> </tr><tr><td>3</td><td>28700</td><td>0.337</td> <td>RicardoAlemanMx</td><td> RT @ContrapesoC: Este es el pacto del narco y Cuauhtémoc Blanco.\n",
       "¿Alguna duda del narcoestado?\n",
       "https://t.co/qDpAwTKcHP</td> </tr><tr><td>4</td><td>3930</td><td>0.339</td> <td>AristeguiOnline</td><td> La mayoría de los cárteles se ha centrado en el narcotráfico... hasta que en 2006 comenzaron a involucrarse en otras empresas criminales.\n",
       "https://t.co/LEj1AA0Dky</td> </tr><tr><td>5</td><td>22011</td><td>0.341</td> <td>AristeguiOnline</td><td> El comercio ilegal de drogas se digitaliza con la pandemia https://t.co/dzZtvcjBAA https://t.co/hrG2x5a5xs</td> </tr><tr><td>6</td><td>26428</td><td>0.344</td> <td>RicardoAlemanMx</td><td> RT @RicardoAlemanMx: “Daños colaterales”: Patricia Armendáriz sobre “pérdidas” por desabasto de medicamentos\n",
       "https://t.co/CyzKK301z3</td> </tr><tr><td>7</td><td>23204</td><td>0.347</td> <td>bbcmundo</td><td> &quot;Los recolectores de cocaína&quot; de Rotterdam: la vida en los sombras de los jóvenes que descargan la droga que viaja de América Latina a Europa https://t.co/1NJXa7kpgs</td> </tr>\n",
       "</table>\n"
      ],
      "text/plain": [
       "<h2>resultados for \"sobre el narcotráfico\"</h2>\n",
       "<table>\n",
       "<th>  <td>id</td> <td>dist</td> <td>user</td> </td>message<td> </th>\n",
       "    <tr><td>1</td><td>15440</td><td>0.289</td> <td>abc_es</td><td> Drogas https://t.co/WVZaCfEuUP ✍ &apos;Tveo&apos;, por @rosabelmonte</td> </tr><tr><td>2</td><td>26384</td><td>0.336</td> <td>PublimetroChile</td><td> Tras los buenos resultados del Estudio Nacional de Drogas en Población General, publicados el...👇\n",
       " https://t.co/I4HzdWR9Uj</td> </tr><tr><td>3</td><td>28700</td><td>0.337</td> <td>RicardoAlemanMx</td><td> RT @ContrapesoC: Este es el pacto del narco y Cuauhtémoc Blanco.\n",
       "¿Alguna duda del narcoestado?\n",
       "https://t.co/qDpAwTKcHP</td> </tr><tr><td>4</td><td>3930</td><td>0.339</td> <td>AristeguiOnline</td><td> La mayoría de los cárteles se ha centrado en el narcotráfico... hasta que en 2006 comenzaron a involucrarse en otras empresas criminales.\n",
       "https://t.co/LEj1AA0Dky</td> </tr><tr><td>5</td><td>22011</td><td>0.341</td> <td>AristeguiOnline</td><td> El comercio ilegal de drogas se digitaliza con la pandemia https://t.co/dzZtvcjBAA https://t.co/hrG2x5a5xs</td> </tr><tr><td>6</td><td>26428</td><td>0.344</td> <td>RicardoAlemanMx</td><td> RT @RicardoAlemanMx: “Daños colaterales”: Patricia Armendáriz sobre “pérdidas” por desabasto de medicamentos\n",
       "https://t.co/CyzKK301z3</td> </tr><tr><td>7</td><td>23204</td><td>0.347</td> <td>bbcmundo</td><td> &quot;Los recolectores de cocaína&quot; de Rotterdam: la vida en los sombras de los jóvenes que descargan la droga que viaja de América Latina a Europa https://t.co/1NJXa7kpgs</td> </tr>\n",
       "</table>\n"
      ]
     },
     "metadata": {},
     "output_type": "display_data"
    }
   ],
   "source": [
    "display(@htl \"<h1>Ejemplos de búsqueda</h1>\")\n",
    "#search_and_display(E, E.data.corpus[1], 7)\n",
    "search_and_display(E, \"busqueda de personas desaparecidas\", 7)\n",
    "search_and_display(E, \"sobre el covid 19 y el coronavirus\", 7)\n",
    "search_and_display(E, \"arte y cine\", 7)\n",
    "search_and_display(E, \"sobre el narcotráfico\", 7)"
   ]
  },
  {
   "cell_type": "code",
   "execution_count": 44,
   "id": "b4028733-5dd7-46e0-addb-5f7959766695",
   "metadata": {},
   "outputs": [
    {
     "data": {
      "text/html": [
       "<h1>Ejemplos de búsqueda (mensajes aleatorios sobre el train)</h1>"
      ],
      "text/plain": [
       "<h1>Ejemplos de búsqueda (mensajes aleatorios sobre el train)</h1>"
      ]
     },
     "metadata": {},
     "output_type": "display_data"
    },
    {
     "name": "stdout",
     "output_type": "stream",
     "text": [
      "  0.000295 seconds (4 allocations: 96 bytes)\n"
     ]
    },
    {
     "data": {
      "text/html": [
       "<h2>resultados for \"Yaneth Waldman respondió a los rumores sobre presunta cirugía del hijo de Carolina Cruz\n",
       "https://t.co/FqHEakqzvt\"</h2>\n",
       "<table>\n",
       "<th>  <td>id</td> <td>dist</td> <td>user</td> </td>message<td> </th>\n",
       "    <tr><td>1</td><td>10394</td><td>0.0</td> <td>PublimetroCol</td><td> Yaneth Waldman respondió a los rumores sobre presunta cirugía del hijo de Carolina Cruz\n",
       "https://t.co/FqHEakqzvt</td> </tr><tr><td>2</td><td>22264</td><td>0.474</td> <td>PublimetroCol</td><td> No ha podido recibir cirugía y alertaron a las autoridades https://t.co/8nDLnrDyeH</td> </tr><tr><td>3</td><td>12134</td><td>0.481</td> <td>PublimetroCol</td><td> Tras varios meses, Lina Tejeiro revela la nueva cirugía que se hizo en el busto https://t.co/1UlF17Y7by</td> </tr><tr><td>4</td><td>9967</td><td>0.522</td> <td>PublimetroChile</td><td> El hombre contó las diferentes cirugías que se realizó para parecerse al famoso cantante👇\n",
       "https://t.co/02C9f1j5xg</td> </tr><tr><td>5</td><td>9609</td><td>0.534</td> <td>UniNoticias</td><td> Caso Petito: autopsia de Brian Laundrie no deja resultados concluyentes y se harán más estudios, dice el abogado.\n",
       "\n",
       "https://t.co/sj3cmM1wgQ</td> </tr><tr><td>6</td><td>19661</td><td>0.539</td> <td>AristeguiOnline</td><td> Yahir sale con éxito de operación de tumor\n",
       "https://t.co/zfrGIG5nH3 https://t.co/cV26z3S3sG</td> </tr><tr><td>7</td><td>25293</td><td>0.542</td> <td>SinEmbargoMX</td><td> En el cuarto audio de la serie que la Gobernadora Layda Sansores ha difundido semanalmente en su programa, se escucha a Moreno Cárdenas dialogar en una consulta con un supuesto cosmetólogo o cirujano plástico, lo cual confirmó,su gusto por las frivolidades\n",
       "https://t.co/HXtY6Ffvfi https://t.co/TXdgZKcc3Y</td> </tr>\n",
       "</table>\n"
      ],
      "text/plain": [
       "<h2>resultados for \"Yaneth Waldman respondió a los rumores sobre presunta cirugía del hijo de Carolina Cruz\n",
       "https://t.co/FqHEakqzvt\"</h2>\n",
       "<table>\n",
       "<th>  <td>id</td> <td>dist</td> <td>user</td> </td>message<td> </th>\n",
       "    <tr><td>1</td><td>10394</td><td>0.0</td> <td>PublimetroCol</td><td> Yaneth Waldman respondió a los rumores sobre presunta cirugía del hijo de Carolina Cruz\n",
       "https://t.co/FqHEakqzvt</td> </tr><tr><td>2</td><td>22264</td><td>0.474</td> <td>PublimetroCol</td><td> No ha podido recibir cirugía y alertaron a las autoridades https://t.co/8nDLnrDyeH</td> </tr><tr><td>3</td><td>12134</td><td>0.481</td> <td>PublimetroCol</td><td> Tras varios meses, Lina Tejeiro revela la nueva cirugía que se hizo en el busto https://t.co/1UlF17Y7by</td> </tr><tr><td>4</td><td>9967</td><td>0.522</td> <td>PublimetroChile</td><td> El hombre contó las diferentes cirugías que se realizó para parecerse al famoso cantante👇\n",
       "https://t.co/02C9f1j5xg</td> </tr><tr><td>5</td><td>9609</td><td>0.534</td> <td>UniNoticias</td><td> Caso Petito: autopsia de Brian Laundrie no deja resultados concluyentes y se harán más estudios, dice el abogado.\n",
       "\n",
       "https://t.co/sj3cmM1wgQ</td> </tr><tr><td>6</td><td>19661</td><td>0.539</td> <td>AristeguiOnline</td><td> Yahir sale con éxito de operación de tumor\n",
       "https://t.co/zfrGIG5nH3 https://t.co/cV26z3S3sG</td> </tr><tr><td>7</td><td>25293</td><td>0.542</td> <td>SinEmbargoMX</td><td> En el cuarto audio de la serie que la Gobernadora Layda Sansores ha difundido semanalmente en su programa, se escucha a Moreno Cárdenas dialogar en una consulta con un supuesto cosmetólogo o cirujano plástico, lo cual confirmó,su gusto por las frivolidades\n",
       "https://t.co/HXtY6Ffvfi https://t.co/TXdgZKcc3Y</td> </tr>\n",
       "</table>\n"
      ]
     },
     "metadata": {},
     "output_type": "display_data"
    },
    {
     "name": "stdout",
     "output_type": "stream",
     "text": [
      "  0.000151 seconds (4 allocations: 96 bytes)\n"
     ]
    },
    {
     "data": {
      "text/html": [
       "<h2>resultados for \"RT @nonalorehedzg03: @Drago237 @epigmenioibarra @rcanudasg @lizmorag @tinabrito1 @CompaPancho_ @HekGlezB @do_irma @haurrubi @mdgre2002 @yim…\"</h2>\n",
       "<table>\n",
       "<th>  <td>id</td> <td>dist</td> <td>user</td> </td>message<td> </th>\n",
       "    <tr><td>1</td><td>27988</td><td>0.0</td> <td>epigmenioibarra</td><td> RT @nonalorehedzg03: @Drago237 @epigmenioibarra @rcanudasg @lizmorag @tinabrito1 @CompaPancho_ @HekGlezB @do_irma @haurrubi @mdgre2002 @yim…</td> </tr><tr><td>2</td><td>28352</td><td>0.0</td> <td>epigmenioibarra</td><td> RT @nonalorehedzg03: @Drago237 @epigmenioibarra @rcanudasg @lizmorag @tinabrito1 @CompaPancho_ @HekGlezB @do_irma @haurrubi @mdgre2002 @yim…</td> </tr><tr><td>3</td><td>20296</td><td>0.024</td> <td>epigmenioibarra</td><td> RT @LaraGue6: @Drago237 @epigmenioibarra @rcanudasg @lizmorag @tinabrito1 @CompaPancho_ @HekGlezB @do_irma @mdgre2002 @yimboroyimboro @more…</td> </tr><tr><td>4</td><td>9844</td><td>0.035</td> <td>epigmenioibarra</td><td> RT @nonalorehedzg03: @epigmenioibarra @rcanudasg @avril_prez @LalaL111444 @Lubruixa @luciataveras66 @lizmorag @mix_ivonne @edmeebmel1964 @m…</td> </tr><tr><td>5</td><td>61</td><td>0.055</td> <td>epigmenioibarra</td><td> RT @macamposr52: @epigmenioibarra @rcanudasg @avril_prez @nonalorehedzg03 @LalaL111444 @Lubruixa @luciataveras66 @lizmorag @mix_ivonne @edm…</td> </tr><tr><td>6</td><td>7420</td><td>0.058</td> <td>epigmenioibarra</td><td> RT @LupitaRivera453: @epigmenioibarra @rcanudasg @avril_prez @nonalorehedzg03 @Lubruixa @luciataveras66 @lizmorag @mix_ivonne @Angelyk4T @N…</td> </tr><tr><td>7</td><td>20803</td><td>0.058</td> <td>epigmenioibarra</td><td> RT @LupitaRivera453: @epigmenioibarra @rcanudasg @avril_prez @nonalorehedzg03 @Lubruixa @luciataveras66 @lizmorag @mix_ivonne @Angelyk4T @N…</td> </tr>\n",
       "</table>\n"
      ],
      "text/plain": [
       "<h2>resultados for \"RT @nonalorehedzg03: @Drago237 @epigmenioibarra @rcanudasg @lizmorag @tinabrito1 @CompaPancho_ @HekGlezB @do_irma @haurrubi @mdgre2002 @yim…\"</h2>\n",
       "<table>\n",
       "<th>  <td>id</td> <td>dist</td> <td>user</td> </td>message<td> </th>\n",
       "    <tr><td>1</td><td>27988</td><td>0.0</td> <td>epigmenioibarra</td><td> RT @nonalorehedzg03: @Drago237 @epigmenioibarra @rcanudasg @lizmorag @tinabrito1 @CompaPancho_ @HekGlezB @do_irma @haurrubi @mdgre2002 @yim…</td> </tr><tr><td>2</td><td>28352</td><td>0.0</td> <td>epigmenioibarra</td><td> RT @nonalorehedzg03: @Drago237 @epigmenioibarra @rcanudasg @lizmorag @tinabrito1 @CompaPancho_ @HekGlezB @do_irma @haurrubi @mdgre2002 @yim…</td> </tr><tr><td>3</td><td>20296</td><td>0.024</td> <td>epigmenioibarra</td><td> RT @LaraGue6: @Drago237 @epigmenioibarra @rcanudasg @lizmorag @tinabrito1 @CompaPancho_ @HekGlezB @do_irma @mdgre2002 @yimboroyimboro @more…</td> </tr><tr><td>4</td><td>9844</td><td>0.035</td> <td>epigmenioibarra</td><td> RT @nonalorehedzg03: @epigmenioibarra @rcanudasg @avril_prez @LalaL111444 @Lubruixa @luciataveras66 @lizmorag @mix_ivonne @edmeebmel1964 @m…</td> </tr><tr><td>5</td><td>61</td><td>0.055</td> <td>epigmenioibarra</td><td> RT @macamposr52: @epigmenioibarra @rcanudasg @avril_prez @nonalorehedzg03 @LalaL111444 @Lubruixa @luciataveras66 @lizmorag @mix_ivonne @edm…</td> </tr><tr><td>6</td><td>7420</td><td>0.058</td> <td>epigmenioibarra</td><td> RT @LupitaRivera453: @epigmenioibarra @rcanudasg @avril_prez @nonalorehedzg03 @Lubruixa @luciataveras66 @lizmorag @mix_ivonne @Angelyk4T @N…</td> </tr><tr><td>7</td><td>20803</td><td>0.058</td> <td>epigmenioibarra</td><td> RT @LupitaRivera453: @epigmenioibarra @rcanudasg @avril_prez @nonalorehedzg03 @Lubruixa @luciataveras66 @lizmorag @mix_ivonne @Angelyk4T @N…</td> </tr>\n",
       "</table>\n"
      ]
     },
     "metadata": {},
     "output_type": "display_data"
    },
    {
     "name": "stdout",
     "output_type": "stream",
     "text": [
      "  0.000311 seconds (4 allocations: 96 bytes)\n"
     ]
    },
    {
     "data": {
      "text/html": [
       "<h2>resultados for \"&quot;Se detuvieron a tres personas, armamento y vehículos&quot;: María Dolores del Río Sánchez, secretaria de seguridad pública de Sonora #AzucenaxFórmula\"</h2>\n",
       "<table>\n",
       "<th>  <td>id</td> <td>dist</td> <td>user</td> </td>message<td> </th>\n",
       "    <tr><td>1</td><td>14307</td><td>0.0</td> <td>azucenau</td><td> &quot;Se detuvieron a tres personas, armamento y vehículos&quot;: María Dolores del Río Sánchez, secretaria de seguridad pública de Sonora #AzucenaxFórmula</td> </tr><tr><td>2</td><td>26373</td><td>0.256</td> <td>azucenau</td><td> &quot;El tema de la seguridad y el cerco en la zona dependerá de la seguridad de Kamala Harris&quot;: secretario de Gobierno de la #CDMX, José Alfonso Suárez del Real y Aguilera en #AzucenaxFórmula</td> </tr><tr><td>3</td><td>17001</td><td>0.262</td> <td>azucenau</td><td> &quot;El día de hoy se localizó la credencial perteneciente a #DebanhiEscobar&quot;: Griselda Núñez, fiscal especializada en femincidios en #NuevoLeón #AzucenaxFórmula</td> </tr><tr><td>4</td><td>2742</td><td>0.28</td> <td>azucenau</td><td> &quot;La secretaría de la mujer está trabajando junto a nosotros, queremos agradecer a los medios a visibilizar casos como el de Irma Ríos&quot;: fiscal de #Oaxaca, Arturo Peimbert Calvo en #AzucenaxFórmula</td> </tr><tr><td>5</td><td>22053</td><td>0.28</td> <td>azucenau</td><td> &quot;Son tres fosas las que componen una sola cisterna... ella ingresó y permaneció sola en ese lugar&quot;: Luis Enrique Orozco, vicefiscal del MP de #NuevoLeón #DebanhiEscobar #AzucenaxFórmula</td> </tr><tr><td>6</td><td>532</td><td>0.298</td> <td>abc_es</td><td> 🔵 #DIRECTO Traspaso en el Gobierno: Iceta cede la cartera de Política Territorial a Isabel Rodríguez https://t.co/qy2qhpGckW https://t.co/f0XqTYFV8l</td> </tr><tr><td>7</td><td>12746</td><td>0.304</td> <td>AdriDelgadoRuiz</td><td> “Ella -#ViridianaMoreno - monta su moto y monta al presunto asesino atrás”\n",
       "\n",
       "Luz María Rivera @DiccionarioALaD , Directora y columnista de @ElMercurioVer\n",
       "#ElDedoEnLaLlaga \n",
       "#HeraldoRadio📻🎙\n",
       "@heraldodemexico 🗞📻📺📲 https://t.co/y2E6ei2UdJ</td> </tr>\n",
       "</table>\n"
      ],
      "text/plain": [
       "<h2>resultados for \"&quot;Se detuvieron a tres personas, armamento y vehículos&quot;: María Dolores del Río Sánchez, secretaria de seguridad pública de Sonora #AzucenaxFórmula\"</h2>\n",
       "<table>\n",
       "<th>  <td>id</td> <td>dist</td> <td>user</td> </td>message<td> </th>\n",
       "    <tr><td>1</td><td>14307</td><td>0.0</td> <td>azucenau</td><td> &quot;Se detuvieron a tres personas, armamento y vehículos&quot;: María Dolores del Río Sánchez, secretaria de seguridad pública de Sonora #AzucenaxFórmula</td> </tr><tr><td>2</td><td>26373</td><td>0.256</td> <td>azucenau</td><td> &quot;El tema de la seguridad y el cerco en la zona dependerá de la seguridad de Kamala Harris&quot;: secretario de Gobierno de la #CDMX, José Alfonso Suárez del Real y Aguilera en #AzucenaxFórmula</td> </tr><tr><td>3</td><td>17001</td><td>0.262</td> <td>azucenau</td><td> &quot;El día de hoy se localizó la credencial perteneciente a #DebanhiEscobar&quot;: Griselda Núñez, fiscal especializada en femincidios en #NuevoLeón #AzucenaxFórmula</td> </tr><tr><td>4</td><td>2742</td><td>0.28</td> <td>azucenau</td><td> &quot;La secretaría de la mujer está trabajando junto a nosotros, queremos agradecer a los medios a visibilizar casos como el de Irma Ríos&quot;: fiscal de #Oaxaca, Arturo Peimbert Calvo en #AzucenaxFórmula</td> </tr><tr><td>5</td><td>22053</td><td>0.28</td> <td>azucenau</td><td> &quot;Son tres fosas las que componen una sola cisterna... ella ingresó y permaneció sola en ese lugar&quot;: Luis Enrique Orozco, vicefiscal del MP de #NuevoLeón #DebanhiEscobar #AzucenaxFórmula</td> </tr><tr><td>6</td><td>532</td><td>0.298</td> <td>abc_es</td><td> 🔵 #DIRECTO Traspaso en el Gobierno: Iceta cede la cartera de Política Territorial a Isabel Rodríguez https://t.co/qy2qhpGckW https://t.co/f0XqTYFV8l</td> </tr><tr><td>7</td><td>12746</td><td>0.304</td> <td>AdriDelgadoRuiz</td><td> “Ella -#ViridianaMoreno - monta su moto y monta al presunto asesino atrás”\n",
       "\n",
       "Luz María Rivera @DiccionarioALaD , Directora y columnista de @ElMercurioVer\n",
       "#ElDedoEnLaLlaga \n",
       "#HeraldoRadio📻🎙\n",
       "@heraldodemexico 🗞📻📺📲 https://t.co/y2E6ei2UdJ</td> </tr>\n",
       "</table>\n"
      ]
     },
     "metadata": {},
     "output_type": "display_data"
    }
   ],
   "source": [
    "display(@htl \"<h1>Ejemplos de búsqueda (mensajes aleatorios sobre el train)</h1>\")\n",
    "\n",
    "for i in 1:3\n",
    "    for qid in rand(1:length(train.text))\n",
    "        search_and_display(E, train.text[qid], 7)\n",
    "    end\n",
    "end"
   ]
  },
  {
   "cell_type": "code",
   "execution_count": 45,
   "id": "472700d5-e919-47a3-a927-786e132dbc06",
   "metadata": {},
   "outputs": [
    {
     "data": {
      "text/html": [
       "<h1>Ejemplos de búsqueda (mensajes aleatorios sobre el test)</h1>"
      ],
      "text/plain": [
       "<h1>Ejemplos de búsqueda (mensajes aleatorios sobre el test)</h1>"
      ]
     },
     "metadata": {},
     "output_type": "display_data"
    },
    {
     "name": "stdout",
     "output_type": "stream",
     "text": [
      "  0.000163 seconds (4 allocations: 96 bytes)\n"
     ]
    },
    {
     "data": {
      "text/html": [
       "<h2>resultados for \"RT @ECharra: @RicardoAlemanMx @lopezobrador_ como sigues máster ?\"</h2>\n",
       "<table>\n",
       "<th>  <td>id</td> <td>dist</td> <td>user</td> </td>message<td> </th>\n",
       "    <tr><td>1</td><td>6728</td><td>0.164</td> <td>RicardoAlemanMx</td><td> RT @JuanCarM17: @Pedro_V_H @RicardoAlemanMx @LAURAZAPATAM @kioscomayor @Jorge_Meade @irmisssas @ManuelH33813048 @JaimedelaGarzaM @AdrianaDa…</td> </tr><tr><td>2</td><td>22788</td><td>0.165</td> <td>RicardoAlemanMx</td><td> RT @venturaugo: @RicardoAlemanMx @lopezobrador_ @RicardoAnayaC ¡totalmente de acuerdo!</td> </tr><tr><td>3</td><td>9170</td><td>0.166</td> <td>RicardoAlemanMx</td><td> RT @RocioGarciaA1: @RicardoAlemanMx @XochitlGalvez @Claudiashein De acuerdo ☝🏼</td> </tr><tr><td>4</td><td>5447</td><td>0.168</td> <td>RicardoAlemanMx</td><td> RT @Pedro_V_H: @lopezobrador_ @zoerobledo @RicardoAlemanMx @YoSoyAlexLopez @Manzanares_E @juarezvero @manuelhidalgoh @EDELMIRO_GOMEZ @Faby_…</td> </tr><tr><td>5</td><td>14708</td><td>0.169</td> <td>epigmenioibarra</td><td> RT @ElenaSanchez_70: #PaseDeLista con\n",
       " @epigmenioibarra\n",
       "@Drago237\n",
       "@alynmon\n",
       "@JoseL_Cortes\n",
       "@hekglez\n",
       "@hectorexafm\n",
       "@saltinmoryur\n",
       "@LaraGue6 \n",
       "@et…</td> </tr><tr><td>6</td><td>15149</td><td>0.169</td> <td>epigmenioibarra</td><td> RT @ElenaSanchez_70: #PaseDeLista con\n",
       " @epigmenioibarra\n",
       "@Drago237\n",
       "@alynmon\n",
       "@JoseL_Cortes\n",
       "@hekglez\n",
       "@hectorexafm\n",
       "@saltinmoryur\n",
       "@LaraGue6 \n",
       "@et…</td> </tr><tr><td>7</td><td>24735</td><td>0.169</td> <td>epigmenioibarra</td><td> RT @ElenaSanchez_70: #PaseDeLista con\n",
       " @epigmenioibarra\n",
       "@Drago237\n",
       "@alynmon\n",
       "@JoseL_Cortes\n",
       "@hekglez\n",
       "@hectorexafm\n",
       "@saltinmoryur\n",
       "@LaraGue6 \n",
       "@et…</td> </tr>\n",
       "</table>\n"
      ],
      "text/plain": [
       "<h2>resultados for \"RT @ECharra: @RicardoAlemanMx @lopezobrador_ como sigues máster ?\"</h2>\n",
       "<table>\n",
       "<th>  <td>id</td> <td>dist</td> <td>user</td> </td>message<td> </th>\n",
       "    <tr><td>1</td><td>6728</td><td>0.164</td> <td>RicardoAlemanMx</td><td> RT @JuanCarM17: @Pedro_V_H @RicardoAlemanMx @LAURAZAPATAM @kioscomayor @Jorge_Meade @irmisssas @ManuelH33813048 @JaimedelaGarzaM @AdrianaDa…</td> </tr><tr><td>2</td><td>22788</td><td>0.165</td> <td>RicardoAlemanMx</td><td> RT @venturaugo: @RicardoAlemanMx @lopezobrador_ @RicardoAnayaC ¡totalmente de acuerdo!</td> </tr><tr><td>3</td><td>9170</td><td>0.166</td> <td>RicardoAlemanMx</td><td> RT @RocioGarciaA1: @RicardoAlemanMx @XochitlGalvez @Claudiashein De acuerdo ☝🏼</td> </tr><tr><td>4</td><td>5447</td><td>0.168</td> <td>RicardoAlemanMx</td><td> RT @Pedro_V_H: @lopezobrador_ @zoerobledo @RicardoAlemanMx @YoSoyAlexLopez @Manzanares_E @juarezvero @manuelhidalgoh @EDELMIRO_GOMEZ @Faby_…</td> </tr><tr><td>5</td><td>14708</td><td>0.169</td> <td>epigmenioibarra</td><td> RT @ElenaSanchez_70: #PaseDeLista con\n",
       " @epigmenioibarra\n",
       "@Drago237\n",
       "@alynmon\n",
       "@JoseL_Cortes\n",
       "@hekglez\n",
       "@hectorexafm\n",
       "@saltinmoryur\n",
       "@LaraGue6 \n",
       "@et…</td> </tr><tr><td>6</td><td>15149</td><td>0.169</td> <td>epigmenioibarra</td><td> RT @ElenaSanchez_70: #PaseDeLista con\n",
       " @epigmenioibarra\n",
       "@Drago237\n",
       "@alynmon\n",
       "@JoseL_Cortes\n",
       "@hekglez\n",
       "@hectorexafm\n",
       "@saltinmoryur\n",
       "@LaraGue6 \n",
       "@et…</td> </tr><tr><td>7</td><td>24735</td><td>0.169</td> <td>epigmenioibarra</td><td> RT @ElenaSanchez_70: #PaseDeLista con\n",
       " @epigmenioibarra\n",
       "@Drago237\n",
       "@alynmon\n",
       "@JoseL_Cortes\n",
       "@hekglez\n",
       "@hectorexafm\n",
       "@saltinmoryur\n",
       "@LaraGue6 \n",
       "@et…</td> </tr>\n",
       "</table>\n"
      ]
     },
     "metadata": {},
     "output_type": "display_data"
    },
    {
     "name": "stdout",
     "output_type": "stream",
     "text": [
      "  0.000141 seconds (4 allocations: 96 bytes)\n"
     ]
    },
    {
     "data": {
      "text/html": [
       "<h2>resultados for \"🇻🇪  Oposición en Venezuela cambia de estrategia y reinicia diálogo con Maduro. \n",
       "\n",
       "https://t.co/tKS6VVHhTW\"</h2>\n",
       "<table>\n",
       "<th>  <td>id</td> <td>dist</td> <td>user</td> </td>message<td> </th>\n",
       "    <tr><td>1</td><td>7840</td><td>0.202</td> <td>NTN24</td><td> “Las regionales no tiene ninguna relación con sacar a Maduro del poder, es cambiar un gobernador por otro, pero eso no resuelve el problema de Venezuela”: @delsasolorzano sobre elecciones del 21 de noviembre https://t.co/H66sNEGxr1</td> </tr><tr><td>2</td><td>13690</td><td>0.206</td> <td>NTN24</td><td> RT @NTN24ve: #Atención Inicia jornada de diálogo en México, entre el régimen de Nicolás Maduro y la oposición venezolana. Según Jorge Rodrí…</td> </tr><tr><td>3</td><td>4541</td><td>0.225</td> <td>teleSURtv</td><td> #ENVIVO | El presidente de #Venezuela🇻🇪, @NicolasMaduro, brinda declaraciones en el marco del encuentro de activistas del Movimiento #SomosVenezuela\n",
       "\n",
       "👉https://t.co/tqMKHfl0b4 https://t.co/ticuwZ8B9p</td> </tr><tr><td>4</td><td>5691</td><td>0.228</td> <td>Radio_Formula</td><td> Los solicitantes ahora deberán juntar las firmas; Nicolás Maduro gobierna Venezuela desde el año 2013.\n",
       "\n",
       "https://t.co/NSUCdHzQ6s</td> </tr><tr><td>5</td><td>18668</td><td>0.229</td> <td>teleSURtv</td><td> #ENVIVO | El presidente de #Venezuela🇻🇪 @NicolasMaduro llama a los Gobernadores electos de la oposición a trabajar en conjunto \n",
       "\n",
       "Síguelo aquí➡️https://t.co/KoXryAkRTm https://t.co/ZQ4Q68R6Bu</td> </tr><tr><td>6</td><td>20567</td><td>0.233</td> <td>teleSURtv</td><td> #ENVIVO | El presidente de #Venezuela🇻🇪 @NicolasMaduro expresa la resistencia que tuvo que pasar el país frente a los golpes contra la institucionalidad, la voluntad nacional y la capacidad política\n",
       "\n",
       "Síguelo aquí📲https://t.co/P9NavZC8Ln https://t.co/QPmn2yb4Ak</td> </tr><tr><td>7</td><td>9142</td><td>0.234</td> <td>teleSURtv</td><td> #ENVIVO | El presidente de #Venezuela🇻🇪 @NicolasMaduro expresa la resistencia que tuvo que pasar el país frente a los golpes contra la institucionalidad, la voluntad nacional y la capacidad política\n",
       "\n",
       "Síguelo aquí📲https://t.co/P9NavZC8Ln https://t.co/7jOL9FUHYB</td> </tr>\n",
       "</table>\n"
      ],
      "text/plain": [
       "<h2>resultados for \"🇻🇪  Oposición en Venezuela cambia de estrategia y reinicia diálogo con Maduro. \n",
       "\n",
       "https://t.co/tKS6VVHhTW\"</h2>\n",
       "<table>\n",
       "<th>  <td>id</td> <td>dist</td> <td>user</td> </td>message<td> </th>\n",
       "    <tr><td>1</td><td>7840</td><td>0.202</td> <td>NTN24</td><td> “Las regionales no tiene ninguna relación con sacar a Maduro del poder, es cambiar un gobernador por otro, pero eso no resuelve el problema de Venezuela”: @delsasolorzano sobre elecciones del 21 de noviembre https://t.co/H66sNEGxr1</td> </tr><tr><td>2</td><td>13690</td><td>0.206</td> <td>NTN24</td><td> RT @NTN24ve: #Atención Inicia jornada de diálogo en México, entre el régimen de Nicolás Maduro y la oposición venezolana. Según Jorge Rodrí…</td> </tr><tr><td>3</td><td>4541</td><td>0.225</td> <td>teleSURtv</td><td> #ENVIVO | El presidente de #Venezuela🇻🇪, @NicolasMaduro, brinda declaraciones en el marco del encuentro de activistas del Movimiento #SomosVenezuela\n",
       "\n",
       "👉https://t.co/tqMKHfl0b4 https://t.co/ticuwZ8B9p</td> </tr><tr><td>4</td><td>5691</td><td>0.228</td> <td>Radio_Formula</td><td> Los solicitantes ahora deberán juntar las firmas; Nicolás Maduro gobierna Venezuela desde el año 2013.\n",
       "\n",
       "https://t.co/NSUCdHzQ6s</td> </tr><tr><td>5</td><td>18668</td><td>0.229</td> <td>teleSURtv</td><td> #ENVIVO | El presidente de #Venezuela🇻🇪 @NicolasMaduro llama a los Gobernadores electos de la oposición a trabajar en conjunto \n",
       "\n",
       "Síguelo aquí➡️https://t.co/KoXryAkRTm https://t.co/ZQ4Q68R6Bu</td> </tr><tr><td>6</td><td>20567</td><td>0.233</td> <td>teleSURtv</td><td> #ENVIVO | El presidente de #Venezuela🇻🇪 @NicolasMaduro expresa la resistencia que tuvo que pasar el país frente a los golpes contra la institucionalidad, la voluntad nacional y la capacidad política\n",
       "\n",
       "Síguelo aquí📲https://t.co/P9NavZC8Ln https://t.co/QPmn2yb4Ak</td> </tr><tr><td>7</td><td>9142</td><td>0.234</td> <td>teleSURtv</td><td> #ENVIVO | El presidente de #Venezuela🇻🇪 @NicolasMaduro expresa la resistencia que tuvo que pasar el país frente a los golpes contra la institucionalidad, la voluntad nacional y la capacidad política\n",
       "\n",
       "Síguelo aquí📲https://t.co/P9NavZC8Ln https://t.co/7jOL9FUHYB</td> </tr>\n",
       "</table>\n"
      ]
     },
     "metadata": {},
     "output_type": "display_data"
    },
    {
     "name": "stdout",
     "output_type": "stream",
     "text": [
      "  0.000236 seconds (4 allocations: 96 bytes)\n"
     ]
    },
    {
     "data": {
      "text/html": [
       "<h2>resultados for \"Hubo &apos;operación de Estado&apos; de Calderón para proteger a familia de Margarita Zavala en caso de guardería ABC: Zaldívar\n",
       "\n",
       "https://t.co/cuften3kiG\"</h2>\n",
       "<table>\n",
       "<th>  <td>id</td> <td>dist</td> <td>user</td> </td>message<td> </th>\n",
       "    <tr><td>1</td><td>12101</td><td>0.05</td> <td>abrahamendieta</td><td> RT @AristeguiOnline: Hubo &apos;operación de Estado&apos; de Calderón para proteger a familia de Margarita Zavala en caso de guardería ABC: Zaldívar…</td> </tr><tr><td>2</td><td>18588</td><td>0.156</td> <td>abrahamendieta</td><td> RT @AndreaChavezTre: Cuando se habló de cómo Felipe Calderón presionó a los ministros para proteger a la familia de Margarita Zavala, dueño…</td> </tr><tr><td>3</td><td>5877</td><td>0.18</td> <td>abrahamendieta</td><td> Se indigna Margarita Zavala cada vez en la Cámara de Diputados le recuerdan Guardería ABC. \n",
       "\n",
       "Hoy, Zaldivar cuenta como Calderón lo presionó con todo para intentar proteger a la familia Zavala.\n",
       "\n",
       "Prohibido olvidar.</td> </tr><tr><td>4</td><td>19425</td><td>0.206</td> <td>abrahamendieta</td><td> No solo se buscaba proteger a Margarita Zavala, también a la familia Gómez del Campo, que no se nos olvide.</td> </tr><tr><td>5</td><td>20337</td><td>0.241</td> <td>julioastillero</td><td> 🚢 Participación de @xime_garmendia en #AstilleroInforma \n",
       "\n",
       "👉🏼 En caso Mexicana de Aviación, Calderón benefició a su familia y Peña nadó de muertito: Garmendia\n",
       "\n",
       "📺 Ve la entrevista completa en https://t.co/xbbhC0oJKa o en https://t.co/recOGrkFeJ https://t.co/BLpZWV824c</td> </tr><tr><td>6</td><td>10287</td><td>0.28</td> <td>abrahamendieta</td><td> RT @catrina_nortena: #TRAIDORES_A_LA_PATRIA \n",
       "La sobrina plurinominal de la Peor Tragedia para México: Margarita Zavala y Felipe Calderón ht…</td> </tr><tr><td>7</td><td>19250</td><td>0.302</td> <td>abc_es</td><td> 🔴 #ÚLTIMAHORA Destapado el acuerdo secreto de Zapatero con el que Sánchez oculta sus manejos en el caso Gali https://t.co/tz6XP2lplq</td> </tr>\n",
       "</table>\n"
      ],
      "text/plain": [
       "<h2>resultados for \"Hubo &apos;operación de Estado&apos; de Calderón para proteger a familia de Margarita Zavala en caso de guardería ABC: Zaldívar\n",
       "\n",
       "https://t.co/cuften3kiG\"</h2>\n",
       "<table>\n",
       "<th>  <td>id</td> <td>dist</td> <td>user</td> </td>message<td> </th>\n",
       "    <tr><td>1</td><td>12101</td><td>0.05</td> <td>abrahamendieta</td><td> RT @AristeguiOnline: Hubo &apos;operación de Estado&apos; de Calderón para proteger a familia de Margarita Zavala en caso de guardería ABC: Zaldívar…</td> </tr><tr><td>2</td><td>18588</td><td>0.156</td> <td>abrahamendieta</td><td> RT @AndreaChavezTre: Cuando se habló de cómo Felipe Calderón presionó a los ministros para proteger a la familia de Margarita Zavala, dueño…</td> </tr><tr><td>3</td><td>5877</td><td>0.18</td> <td>abrahamendieta</td><td> Se indigna Margarita Zavala cada vez en la Cámara de Diputados le recuerdan Guardería ABC. \n",
       "\n",
       "Hoy, Zaldivar cuenta como Calderón lo presionó con todo para intentar proteger a la familia Zavala.\n",
       "\n",
       "Prohibido olvidar.</td> </tr><tr><td>4</td><td>19425</td><td>0.206</td> <td>abrahamendieta</td><td> No solo se buscaba proteger a Margarita Zavala, también a la familia Gómez del Campo, que no se nos olvide.</td> </tr><tr><td>5</td><td>20337</td><td>0.241</td> <td>julioastillero</td><td> 🚢 Participación de @xime_garmendia en #AstilleroInforma \n",
       "\n",
       "👉🏼 En caso Mexicana de Aviación, Calderón benefició a su familia y Peña nadó de muertito: Garmendia\n",
       "\n",
       "📺 Ve la entrevista completa en https://t.co/xbbhC0oJKa o en https://t.co/recOGrkFeJ https://t.co/BLpZWV824c</td> </tr><tr><td>6</td><td>10287</td><td>0.28</td> <td>abrahamendieta</td><td> RT @catrina_nortena: #TRAIDORES_A_LA_PATRIA \n",
       "La sobrina plurinominal de la Peor Tragedia para México: Margarita Zavala y Felipe Calderón ht…</td> </tr><tr><td>7</td><td>19250</td><td>0.302</td> <td>abc_es</td><td> 🔴 #ÚLTIMAHORA Destapado el acuerdo secreto de Zapatero con el que Sánchez oculta sus manejos en el caso Gali https://t.co/tz6XP2lplq</td> </tr>\n",
       "</table>\n"
      ]
     },
     "metadata": {},
     "output_type": "display_data"
    }
   ],
   "source": [
    "display(@htl \"<h1>Ejemplos de búsqueda (mensajes aleatorios sobre el test)</h1>\")\n",
    "\n",
    "for i in 1:3\n",
    "    for qid in rand(1:length(test.text))\n",
    "        search_and_display(E, test.text[qid], 7)\n",
    "    end\n",
    "end"
   ]
  },
  {
   "cell_type": "markdown",
   "id": "1e8f09a9-75aa-49c5-9e35-4c486defa289",
   "metadata": {},
   "source": [
    "# Actividades\n",
    "- Reproduzca el ejercicio de este notebook\n",
    "- ¿Qué piensa de las diferencias de tamaño entre los documentos y las consultas? esto como afecta a la representación semántica.\n",
    "- Implemente su búsqueda semántica. Si usa Julia considere `SimilaritySearch.jl` y si usa Python considere `faiss`.\n",
    "- Utilece un extracto de 30 mensajes del test y compare el SBERT (usado en este notebook) contra  el modelo BERT `https://huggingface.co/bert-base-multilingual-cased` y BETO `https://huggingface.co/dccuchile/bert-base-spanish-wwm-cased`; adicionalmente incluya a los modelos tradicionales basados en vocabularios e índices invertidos.\n",
    "- Reporte su notebook y anote sus soluciones a las preguntas planteadas. Reporte los resultados de sus implementaciones, compare contra las alternativas solicitadas. Discuta sus resultados. Finalice el reporte con reflexiones sobre el uso de nubes de puntos en lugar de bolsas de palabras tradicionales. Anoté sus conclusiones.\n",
    "\n",
    "# Bibliografía\n",
    "- [KSKW2015] Kusner, M., Sun, Y., Kolkin, N., & Weinberger, K. (2015, June). From word embeddings to document distances. In International conference on machine learning (pp. 957-966). PMLR.\n",
    "- [PW2009] Pele, O., & Werman, M. (2009, September). Fast and robust earth mover's distances. In 2009 IEEE 12th international conference on computer vision (pp. 460-467). IEEE.\n",
    "- [VSPU2017] Vaswani, A., Shazeer, N., Parmar, N., Uszkoreit, J., Jones, L., Gomez, A. N., ... & Polosukhin, I. (2017). Attention is all you need. Advances in neural information processing systems, 30.\n",
    "- [RG2020] Reimers, N., & Gurevych, I. (2020). Making monolingual sentence embeddings multilingual using knowledge distillation. arXiv preprint arXiv:2004.09813.\n",
    "- [CCFHKP2023] Cañete, J., Chaperon, G., Fuentes, R., Ho, J. H., Kang, H., & Pérez, J. (2023). Spanish pre-trained bert model and evaluation data. arXiv preprint arXiv:2308.02976.\n"
   ]
  }
 ],
 "metadata": {
  "kernelspec": {
   "display_name": "Julia 1.10.0-rc1",
   "language": "julia",
   "name": "julia-1.10"
  },
  "language_info": {
   "file_extension": ".jl",
   "mimetype": "application/julia",
   "name": "julia",
   "version": "1.10.0"
  }
 },
 "nbformat": 4,
 "nbformat_minor": 5
}
