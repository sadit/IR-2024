{
 "cells": [
  {
   "cell_type": "markdown",
   "id": "9fc189d2-656e-41d4-be84-dcf6ccf9537b",
   "metadata": {},
   "source": [
    "# Búsqueda semántica\n",
    "Autor: Eric S. Tellez <eric.tellez@infotec.mx>\n",
    "\n",
    "\n",
    "# Language models\n",
    "En los word embeddings, cada palabra del vocabulario tiene asignado un vector denso de manera estática, fruto de su semántica basada en la hipótesis distribucional. Los modelos de lenguaje van más allá, intentando no solo tener en cuenta una palabra para el vector, si no que el vector mismo es dependiente del contexto, por lo cual puede desambiguar de manera natural palabras idénticas (homónimos) usando dicha información contextual. Adicionalmente, capturan información relevante de grandes corpus de texto, aportando muchas veces información de un mundo (i.e., si se entrenan usando la wikipedia, tendrán información relavante de multiples dominios).\n",
    "\n",
    "La punta de lanza de los modelos de lenguaje es el aprendizaje profundo, y más precisamente, con el uso de _transformers_. Uno de los modelos de lenguaje más utilizado es BERT [@VSPU2017]. La persona interesada más sobre ellos <https://huggingface.co/>. \n",
    "Cuando la información esta poco específicada, las palabras adecuadas podrían ser dificiles de tener o limitar. En estos casos, la representaciones semánticas que permiten buscar _lo que se desea_ por medio de conceptos nos acerca más a la posibilidad de obtener información útil.\n",
    "\n",
    "En lo que resta de este notebook se estarán viendo como usar los modelos, y más precisamente los embeddings para realizar tareas de recuperación de información.\n"
   ]
  },
  {
   "cell_type": "code",
   "execution_count": 1,
   "id": "cd04785e-aa4e-493c-9aa8-5c54c8e1f322",
   "metadata": {},
   "outputs": [
    {
     "name": "stderr",
     "output_type": "stream",
     "text": [
      "\u001b[32m\u001b[1m  Activating\u001b[22m\u001b[39m project at `~/Cursos/IR-2024/Unidades`\n"
     ]
    }
   ],
   "source": [
    "using Pkg\n",
    "Pkg.activate(\".\")\n"
   ]
  },
  {
   "cell_type": "code",
   "execution_count": 2,
   "id": "288c31fb-aeea-4a88-a93d-e056d9eb6f0c",
   "metadata": {},
   "outputs": [],
   "source": [
    "using SimilaritySearch, LinearAlgebra, HypertextLiteral, CodecZlib, JSON, Random, StatsBase, DataFrames, JLD2\n",
    "using Downloads: download\n",
    "using Transformers\n",
    "using Transformers.TextEncoders\n",
    "using Transformers.HuggingFace"
   ]
  },
  {
   "cell_type": "code",
   "execution_count": 3,
   "id": "e4fcb23f-9564-4910-9a4f-1f5d4a582d5f",
   "metadata": {},
   "outputs": [
    {
     "data": {
      "text/plain": [
       "(BertTextEncoder(\n",
       "├─ TextTokenizer(MatchTokenization(WordPieceTokenization(bert_cased_tokenizer, WordPiece(vocab_size = 31002, unk = [UNK], max_char = 100)), 5 patterns)),\n",
       "├─ vocab = Vocab{String, SizedArray}(size = 31002, unk = [UNK], unki = 4),\n",
       "├─ startsym = [CLS],\n",
       "├─ endsym = [SEP],\n",
       "├─ padsym = [PAD],\n",
       "├─ trunc = 512,\n",
       "└─ process = Pipelines:\n",
       "  ╰─ target[token] := TextEncodeBase.nestedcall(string_getvalue, source)\n",
       "  ╰─ target[token] := Transformers.TextEncoders.grouping_sentence(target.token)\n",
       "  ╰─ target[(token, segment)] := SequenceTemplate{String}([CLS]:<type=1> Input[1]:<type=1> [SEP]:<type=1> (Input[2]:<type=2> [SEP]:<type=2>)...)(target.token)\n",
       "  ╰─ target[attention_mask] := (NeuralAttentionlib.LengthMask ∘ Transformers.TextEncoders.getlengths(512))(target.token)\n",
       "  ╰─ target[token] := TextEncodeBase.trunc_and_pad(512, [PAD], tail, tail)(target.token)\n",
       "  ╰─ target[token] := TextEncodeBase.nested2batch(target.token)\n",
       "  ╰─ target[segment] := TextEncodeBase.trunc_and_pad(512, 1, tail, tail)(target.segment)\n",
       "  ╰─ target[segment] := TextEncodeBase.nested2batch(target.segment)\n",
       "  ╰─ target := (target.token, target.segment, target.attention_mask)\n",
       "), HGFBertModel(Chain(CompositeEmbedding(token = Embed(768, 31002), position = ApplyEmbed(.+, FixedLenPositionEmbed(768, 512)), segment = ApplyEmbed(.+, Embed(768, 2), Transformers.HuggingFace.bert_ones_like)), DropoutLayer<nothing>(LayerNorm(768, ϵ = 1.0e-12))), Transformer<12>(PostNormTransformerBlock(DropoutLayer<nothing>(SelfAttention(MultiheadQKVAttenOp(head = 12, p = nothing), Fork<3>(Dense(W = (768, 768), b = true)), Dense(W = (768, 768), b = true))), LayerNorm(768, ϵ = 1.0e-12), DropoutLayer<nothing>(Chain(Dense(σ = NNlib.gelu, W = (768, 3072), b = true), Dense(W = (3072, 768), b = true))), LayerNorm(768, ϵ = 1.0e-12))), Branch{(:pooled,) = (:hidden_state,)}(BertPooler(Dense(σ = NNlib.tanh_fast, W = (768, 768), b = true)))))"
      ]
     },
     "execution_count": 3,
     "metadata": {},
     "output_type": "execute_result"
    }
   ],
   "source": [
    "textencoder, bertmodel = hgf\"dccuchile/bert-base-spanish-wwm-cased\""
   ]
  },
  {
   "cell_type": "code",
   "execution_count": null,
   "id": "a44b00d8-4532-4aa0-817b-916819045518",
   "metadata": {},
   "outputs": [],
   "source": []
  },
  {
   "cell_type": "code",
   "execution_count": null,
   "id": "60dc93e6-b4cf-46a4-8314-46b2cca0e768",
   "metadata": {},
   "outputs": [],
   "source": []
  },
  {
   "cell_type": "code",
   "execution_count": 4,
   "id": "af8bad4e-c31b-4506-8341-47c4130d664a",
   "metadata": {},
   "outputs": [
    {
     "data": {
      "text/plain": [
       "create_index (generic function with 1 method)"
      ]
     },
     "execution_count": 4,
     "metadata": {},
     "output_type": "execute_result"
    }
   ],
   "source": [
    "function encode_text_(bertmodel, e)\n",
    "    s = bertmodel(e)\n",
    "    p = vec(s.pooled)\n",
    "    normalize!(p)\n",
    "end\n",
    "\n",
    "function encode_text(textencoder, bertmodel, text::AbstractString)\n",
    "    e = encode(textencoder, text)\n",
    "    encode_text_(bertmodel, e)\n",
    "end\n",
    "\n",
    "function encode_text(textencoder, bertmodel, text::AbstractVector)\n",
    "    length(text) == 2 || throw(ArgumentError(\"the model supports a sentence and a pair of sentences\"))\n",
    "    e = encode(textencoder, [text])\n",
    "    encode_text_(bertmodel, e)\n",
    "end\n",
    "\n",
    "function encode_corpus(textencoder, bertmodel, corpus::AbstractVector)\n",
    "    # we avoid using the Bert / Beto API directly to reduce memory consumption\n",
    "    # nonetheless, it will make use of more dynamic allocations\n",
    "    n = length(corpus)\n",
    "    E = Matrix{Float32}(undef, 768, n)\n",
    "    for (i, text) in enumerate(corpus)\n",
    "        if rand() < 0.01\n",
    "            @info i, text\n",
    "        end\n",
    "        E[:, i] .= encode_text(textencoder, bertmodel, text)\n",
    "    end\n",
    "\n",
    "    E\n",
    "end\n",
    "\n",
    "function create_index(db, recall)\n",
    "    dist = NormalizedCosineDistance()\n",
    "    index = SearchGraph(; dist, db, verbose=false)\n",
    "    index!(index; callbacks=SearchGraphCallbacks(MinRecall(recall)))\n",
    "    optimize!(index, MinRecall(recall))\n",
    "    index\n",
    "end"
   ]
  },
  {
   "cell_type": "code",
   "execution_count": null,
   "id": "e93de48f-0b6e-420e-8e5c-aad63d5297f1",
   "metadata": {},
   "outputs": [],
   "source": []
  },
  {
   "cell_type": "code",
   "execution_count": 5,
   "id": "9d1dc14b-02cb-45ab-8466-5783251ef877",
   "metadata": {},
   "outputs": [
    {
     "data": {
      "text/html": [
       "<h1>Cargando el corpus</h1>"
      ],
      "text/plain": [
       "<h1>Cargando el corpus</h1>"
      ]
     },
     "metadata": {},
     "output_type": "display_data"
    },
    {
     "data": {
      "text/html": [
       "<div><div style = \"float: left;\"><span>10×2 DataFrame</span></div><div style = \"clear: both;\"></div></div><div class = \"data-frame\" style = \"overflow-x: scroll;\"><table class = \"data-frame\" style = \"margin-bottom: 6px;\"><thead><tr class = \"header\"><th class = \"rowNumber\" style = \"font-weight: bold; text-align: right;\">Row</th><th style = \"text-align: left;\">corpus</th><th style = \"text-align: left;\">labels</th></tr><tr class = \"subheader headerLastRow\"><th class = \"rowNumber\" style = \"font-weight: bold; text-align: right;\"></th><th title = \"String\" style = \"text-align: left;\">String</th><th title = \"String\" style = \"text-align: left;\">String</th></tr></thead><tbody><tr><td class = \"rowNumber\" style = \"font-weight: bold; text-align: right;\">1</td><td style = \"text-align: left;\">RT @SanGonAzc: @RadioIndeMexico @FiscaliaNL @FGRMexico @lopezobrador_ @AldoFasciZ @RicardoMeb  se van a seguir haciendo tontos?? #debaniesc…</td><td style = \"text-align: left;\">AdriDelgadoRuiz</td></tr><tr><td class = \"rowNumber\" style = \"font-weight: bold; text-align: right;\">2</td><td style = \"text-align: left;\">“El periodismo serio y responsable es una herramienta esencial para salvaguardar y fortalecer el sistema democrático en México y el mundo, y hoy se debe fortalecer esa profesión”, afirmó el periodista y escritor, Harris Whitbeck @harriswhitbeck\\n#ElDedoEnLaLLaga #HeraldoRadio</td><td style = \"text-align: left;\">AdriDelgadoRuiz</td></tr><tr><td class = \"rowNumber\" style = \"font-weight: bold; text-align: right;\">3</td><td style = \"text-align: left;\">&quot;...Sí esperamos que se aumente la tasa en 25 puntos base en las siguientes dos reuniones y continuar así durante el primer trimestre del 2022”: @raguilar_abe</td><td style = \"text-align: left;\">AdriDelgadoRuiz</td></tr><tr><td class = \"rowNumber\" style = \"font-weight: bold; text-align: right;\">4</td><td style = \"text-align: left;\">RT @Univ_Cultura: Encuentran sistema hidráulico de hace 400 años en catedral en Xochimilco https://t.co/ncdhF9Soqf https://t.co/XGOLMTPBfh</td><td style = \"text-align: left;\">El_Universal_Mx</td></tr><tr><td class = \"rowNumber\" style = \"font-weight: bold; text-align: right;\">5</td><td style = \"text-align: left;\">Los tacos son grandes embajadores de la comida mexicana en el mundo. Sin embargo, la reconocida chef Gabriela Cámara asegura que son solo «una parte ínfima» de la gastronomía de su país. https://t.co/i6xhA6PgXA</td><td style = \"text-align: left;\">CNNEE</td></tr><tr><td class = \"rowNumber\" style = \"font-weight: bold; text-align: right;\">6</td><td style = \"text-align: left;\">Esta es la lista de países a los que Estados Unidos donará vacunas anticovid https://t.co/hsB5vbWSOc</td><td style = \"text-align: left;\">NTN24</td></tr><tr><td class = \"rowNumber\" style = \"font-weight: bold; text-align: right;\">7</td><td style = \"text-align: left;\">Por desgracia, esta tendencia impactará en la elevada inflación y golpeará los presupuestos de las familias estadounidenses. ¿A qué se debe este aumento?\\nhttps://t.co/8OnSFQkmJ3</td><td style = \"text-align: left;\">UniNoticias</td></tr><tr><td class = \"rowNumber\" style = \"font-weight: bold; text-align: right;\">8</td><td style = \"text-align: left;\">La embajadora de Ucrania en Estados Unidos, Oksana Markarova, recibe aplausos de solidaridad durante el discurso del Estado de la Nación de Joe Biden. \\n\\nSigue lo más destacado de #SOTU22 \\n👉🏻https://t.co/6d1JMFcQPx\\n\\n#SOTU2022 https://t.co/2qSZHfdefh</td><td style = \"text-align: left;\">TelemundoNews</td></tr><tr><td class = \"rowNumber\" style = \"font-weight: bold; text-align: right;\">9</td><td style = \"text-align: left;\">Dos Bocas alista motores | La refinería &quot;Olmeca&quot; arranca pruebas en el cuarto aniversario del triunfo de AMLO https://t.co/HEXX2rBsnG https://t.co/qPrqUK77Ps</td><td style = \"text-align: left;\">SinEmbargoMX</td></tr><tr><td class = \"rowNumber\" style = \"font-weight: bold; text-align: right;\">10</td><td style = \"text-align: left;\">Analizamos el papel de las mujeres en la guerra y el impacto devastador que tiene esta en ellas, sus familias y comunidades.  https://t.co/gpmOLRpsRb</td><td style = \"text-align: left;\">Reforma</td></tr></tbody></table></div>"
      ],
      "text/latex": [
       "\\begin{tabular}{r|cc}\n",
       "\t& corpus & \\\\\n",
       "\t\\hline\n",
       "\t& String & \\\\\n",
       "\t\\hline\n",
       "\t1 & RT @SanGonAzc: @RadioIndeMexico @FiscaliaNL @FGRMexico @lopezobrador\\_ @AldoFasciZ @RicardoMeb  se van a seguir haciendo tontos?? \\#debaniesc… & $\\dots$ \\\\\n",
       "\t2 & “El periodismo serio y responsable es una herramienta esencial para salvaguardar y fortalecer el sistema democrático en México y el mundo, y hoy se debe fortalecer esa profesión”, afirmó el periodista y escritor, Harris Whitbeck @harriswhitbeck\\textbackslash{}n\\#ElDedoEnLaLLaga \\#HeraldoRadio & $\\dots$ \\\\\n",
       "\t3 & \"...Sí esperamos que se aumente la tasa en 25 puntos base en las siguientes dos reuniones y continuar así durante el primer trimestre del 2022”: @raguilar\\_abe & $\\dots$ \\\\\n",
       "\t4 & RT @Univ\\_Cultura: Encuentran sistema hidráulico de hace 400 años en catedral en Xochimilco https://t.co/ncdhF9Soqf https://t.co/XGOLMTPBfh & $\\dots$ \\\\\n",
       "\t5 & Los tacos son grandes embajadores de la comida mexicana en el mundo. Sin embargo, la reconocida chef Gabriela Cámara asegura que son solo «una parte ínfima» de la gastronomía de su país. https://t.co/i6xhA6PgXA & $\\dots$ \\\\\n",
       "\t6 & Esta es la lista de países a los que Estados Unidos donará vacunas anticovid https://t.co/hsB5vbWSOc & $\\dots$ \\\\\n",
       "\t7 & Por desgracia, esta tendencia impactará en la elevada inflación y golpeará los presupuestos de las familias estadounidenses. ¿A qué se debe este aumento?\\textbackslash{}nhttps://t.co/8OnSFQkmJ3 & $\\dots$ \\\\\n",
       "\t8 & La embajadora de Ucrania en Estados Unidos, Oksana Markarova, recibe aplausos de solidaridad durante el discurso del Estado de la Nación de Joe Biden. \\textbackslash{}n\\textbackslash{}nSigue lo más destacado de \\#SOTU22 \\textbackslash{}n👉🏻https://t.co/6d1JMFcQPx\\textbackslash{}n\\textbackslash{}n\\#SOTU2022 https://t.co/2qSZHfdefh & $\\dots$ \\\\\n",
       "\t9 & Dos Bocas alista motores | La refinería \"Olmeca\" arranca pruebas en el cuarto aniversario del triunfo de AMLO https://t.co/HEXX2rBsnG https://t.co/qPrqUK77Ps & $\\dots$ \\\\\n",
       "\t10 & Analizamos el papel de las mujeres en la guerra y el impacto devastador que tiene esta en ellas, sus familias y comunidades.  https://t.co/gpmOLRpsRb & $\\dots$ \\\\\n",
       "\\end{tabular}\n"
      ],
      "text/plain": [
       "\u001b[1m10×2 DataFrame\u001b[0m\n",
       "\u001b[1m Row \u001b[0m│\u001b[1m corpus                            \u001b[0m\u001b[1m labels          \u001b[0m\n",
       "     │\u001b[90m String                            \u001b[0m\u001b[90m String          \u001b[0m\n",
       "─────┼────────────────────────────────────────────────────\n",
       "   1 │ RT @SanGonAzc: @RadioIndeMexico …  AdriDelgadoRuiz\n",
       "   2 │ “El periodismo serio y responsab…  AdriDelgadoRuiz\n",
       "   3 │ \"...Sí esperamos que se aumente …  AdriDelgadoRuiz\n",
       "   4 │ RT @Univ_Cultura: Encuentran sis…  El_Universal_Mx\n",
       "   5 │ Los tacos son grandes embajadore…  CNNEE\n",
       "   6 │ Esta es la lista de países a los…  NTN24\n",
       "   7 │ Por desgracia, esta tendencia im…  UniNoticias\n",
       "   8 │ La embajadora de Ucrania en Esta…  TelemundoNews\n",
       "   9 │ Dos Bocas alista motores | La re…  SinEmbargoMX\n",
       "  10 │ Analizamos el papel de las mujer…  Reforma"
      ]
     },
     "execution_count": 5,
     "metadata": {},
     "output_type": "execute_result"
    }
   ],
   "source": [
    "display(@htl \"<h1>Cargando el corpus</h1>\")\n",
    "\n",
    "include(\"read_datasets.jl\")\n",
    "\n",
    "D, Q = DataFrame.(read_news())\n",
    "\n",
    "first(D, 10)"
   ]
  },
  {
   "cell_type": "code",
   "execution_count": null,
   "id": "323674d3-a20f-4c77-963c-66b9bc710162",
   "metadata": {},
   "outputs": [],
   "source": []
  },
  {
   "cell_type": "code",
   "execution_count": 6,
   "id": "a9ff6403-f5e7-470e-90e0-baa79eccb793",
   "metadata": {},
   "outputs": [
    {
     "data": {
      "text/plain": [
       "((768, 30244), (768, 3361))"
      ]
     },
     "execution_count": 6,
     "metadata": {},
     "output_type": "execute_result"
    }
   ],
   "source": [
    "trainfile = \"spanish-twitter-news-and-opinions-top25-68.train.h5\"\n",
    "testfile = \"spanish-twitter-news-and-opinions-top25-68.test.h5\"\n",
    "\n",
    "if !isfile(trainfile)\n",
    "    @time train = encode_corpus(textencoder, bertmodel, D.corpus)\n",
    "    jldsave(trainfile; train)\n",
    "else\n",
    "    train = jldopen(trainfile) do f\n",
    "        f[\"train\"]\n",
    "    end\n",
    "end\n",
    "\n",
    "if !isfile(testfile)\n",
    "    @time test = encode_corpus(textencoder, bertmodel, Q.corpus)\n",
    "    jldsave(testfile; test)\n",
    "else\n",
    "    test = jldopen(testfile) do f\n",
    "        f[\"test\"]\n",
    "    end\n",
    "end\n",
    "\n",
    "size(train), size(test)"
   ]
  },
  {
   "cell_type": "code",
   "execution_count": null,
   "id": "ee566880-6ad3-4026-b146-96b16be2c31a",
   "metadata": {},
   "outputs": [],
   "source": []
  },
  {
   "cell_type": "markdown",
   "id": "0bcb60ff-68c0-4c09-a8dd-70079ba59994",
   "metadata": {},
   "source": [
    "### Se crea el índice métrico"
   ]
  },
  {
   "cell_type": "code",
   "execution_count": 7,
   "id": "3d9108c0-02a7-4afe-bfa2-7b436f7bd0f0",
   "metadata": {},
   "outputs": [
    {
     "name": "stdout",
     "output_type": "stream",
     "text": [
      "  8.923241 seconds (4.75 M allocations: 328.891 MiB, 0.70% gc time, 48.71% compilation time)\n"
     ]
    },
    {
     "data": {
      "text/plain": [
       "SearchGraph{NormalizedCosineDistance, MatrixDatabase{Matrix{Float32}}, SimilaritySearch.AdjacencyLists.AdjacencyList{UInt32}, BeamSearch}\n",
       "  dist: NormalizedCosineDistance NormalizedCosineDistance()\n",
       "  db: MatrixDatabase{Matrix{Float32}}\n",
       "  adj: SimilaritySearch.AdjacencyLists.AdjacencyList{UInt32}\n",
       "  hints: Array{Int32}((94,)) Int32[40, 196, 292, 297, 300, 318, 392, 459, 495, 565  …  2985, 3003, 3005, 3014, 3054, 3057, 3059, 3102, 3104, 3131]\n",
       "  search_algo: BeamSearch\n",
       "  len: Base.RefValue{Int64}\n",
       "  verbose: Bool false\n"
      ]
     },
     "execution_count": 7,
     "metadata": {},
     "output_type": "execute_result"
    }
   ],
   "source": [
    "@time index = create_index(MatrixDatabase(train), 0.95)"
   ]
  },
  {
   "cell_type": "markdown",
   "id": "7e629f24-ecf3-4908-a100-b70559dca89a",
   "metadata": {},
   "source": [
    "### Búsqueda de todos los vecinos cercanos de test en train, observe la conveniencia del uso de un índice\n",
    "\n",
    "Entre más sean las consultas más se ve la bondad"
   ]
  },
  {
   "cell_type": "code",
   "execution_count": 13,
   "id": "dd59812a-2ad8-43ae-9de8-70a695db7c79",
   "metadata": {},
   "outputs": [
    {
     "name": "stdout",
     "output_type": "stream",
     "text": [
      "  0.127557 seconds (6.73 k allocations: 945.688 KiB)\n",
      "  0.880833 seconds (9 allocations: 840.531 KiB)\n",
      "macrorecall(Eknns, Iknns) = 0.9515118268372508\n"
     ]
    },
    {
     "data": {
      "text/plain": [
       "0.9515118268372508"
      ]
     },
     "execution_count": 13,
     "metadata": {},
     "output_type": "execute_result"
    }
   ],
   "source": [
    "let k = 32\n",
    "    @time Iknns, Idists = searchbatch(index, MatrixDatabase(test), k)\n",
    "    exs = ExhaustiveSearch(; dist=distance(index), db=database(index))\n",
    "    @time Eknns, Edists = searchbatch(exs, MatrixDatabase(test), k)\n",
    "    @show macrorecall(Eknns, Iknns)\n",
    "end"
   ]
  },
  {
   "cell_type": "markdown",
   "id": "51b68d72-5256-49ad-b22b-e896f58bc29f",
   "metadata": {},
   "source": [
    "### Búsqueda y presentación de los resultados"
   ]
  },
  {
   "cell_type": "code",
   "execution_count": 9,
   "id": "c40aa0b4-1f12-4ab9-8acf-5b341b847c1c",
   "metadata": {},
   "outputs": [],
   "source": [
    "E = (; textencoder, bertmodel, index, data=D); # para simplificar algunas funciones"
   ]
  },
  {
   "cell_type": "code",
   "execution_count": 10,
   "id": "e045135e-4189-47cc-9513-72a5000527f6",
   "metadata": {},
   "outputs": [
    {
     "data": {
      "text/plain": [
       "search_and_display (generic function with 1 method)"
      ]
     },
     "execution_count": 10,
     "metadata": {},
     "output_type": "execute_result"
    }
   ],
   "source": [
    "function search_and_display(E, qtext, k)\n",
    "    res = KnnResult(k)\n",
    "    q = encode_text(E.textencoder, E.bertmodel, qtext)\n",
    "    @time search(index, q, res)\n",
    "    \n",
    "    L = []\n",
    "    for (j, p) in enumerate(res)\n",
    "        id, d = p.id, p.weight\n",
    "        text, label = E.data.corpus[id], E.data.labels[id]\n",
    "        push!(L, @htl \"<tr><td>$j</td><td>$(id)</td><td>$(round(d, digits=3))</td> <td>$(label)</td><td> $(text)</td> </tr>\")\n",
    "    end\n",
    "\n",
    "    display(@htl \"\"\"<h2>resultados for \"$qtext\"</h2>\n",
    "    <table>\n",
    "    <th>  <td>id</td> <td>dist</td> <td>user</td> </td>message<td> </th>\n",
    "        $L\n",
    "    </table>\n",
    "    \"\"\")\n",
    "end\n"
   ]
  },
  {
   "cell_type": "code",
   "execution_count": 11,
   "id": "b1123924-05b2-4799-b2f7-18b3d2c46f4d",
   "metadata": {},
   "outputs": [
    {
     "data": {
      "text/html": [
       "<h1>Ejemplos de búsqueda</h1>"
      ],
      "text/plain": [
       "<h1>Ejemplos de búsqueda</h1>"
      ]
     },
     "metadata": {},
     "output_type": "display_data"
    },
    {
     "name": "stdout",
     "output_type": "stream",
     "text": [
      "  0.165262 seconds (99.59 k allocations: 6.359 MiB, 99.20% compilation time)\n"
     ]
    },
    {
     "data": {
      "text/html": [
       "<h2>resultados for \"evento astronomico\"</h2>\n",
       "<table>\n",
       "<th>  <td>id</td> <td>dist</td> <td>user</td> </td>message<td> </th>\n",
       "    <tr><td>1</td><td>9839</td><td>0.944</td> <td>PublimetroMX</td><td> Amber Heard declaró que Depp la agredió física y sexualmente en múltiples ocasiones, generalmente cuando supuestamente estaba borracho o drogado. https://t.co/B5JpHfI3o6</td> </tr><tr><td>2</td><td>18657</td><td>0.946</td> <td>epigmenioibarra</td><td> No se olvida\n",
       "1968-1971\n",
       "La demanda estudiantil de libertad y democracia fue reprimida violentamente por los gobiernos de Gustavo Díaz Ordaz y Luis Echeverría. Por años, cuerpos policiacos, militares y paramilitares realizaron persecuciones, desapariciones, tortura y asesinatos. https://t.co/3foPXB2UX2</td> </tr><tr><td>3</td><td>16060</td><td>0.947</td> <td>epigmenioibarra</td><td> AyotzinapaFueElEstado\n",
       "El ejército sí salió esa noche del cuartel d Iguala. Militares estuvieron en escena del crimen\n",
       "El ejército, único con capacidad operativa,fuerza y medios p operar desaparición masiva\n",
       "#NiPerdonNiOlvido https://t.co/CxRHFYPv4n</td> </tr><tr><td>4</td><td>21008</td><td>0.947</td> <td>epigmenioibarra</td><td> No se olvida\n",
       "1968-1971\n",
       "La demanda estudiantil de libertad y democracia fue reprimida violentamente por los gobiernos de Gustavo Díaz Ordaz y Luis Echeverría. Por años, cuerpos policiacos, militares y paramilitares realizaron persecuciones, desapariciones, tortura y asesinatos. https://t.co/p87Dd4qdY6</td> </tr><tr><td>5</td><td>12897</td><td>0.948</td> <td>CNNEE</td><td> ¿Deberían las personas usar mascarillas en la oficina o lugar de trabajo, incluso si no están obligados a hacerlo? https://t.co/ipPdBB2cS9</td> </tr><tr><td>6</td><td>14241</td><td>0.948</td> <td>UniNoticias</td><td> 🇷🇺   Donbas, el polvorín del este de Ucrania que puede servir de excusa para una invasión rusa. \n",
       "\n",
       "🇺🇦   En esa zona hay un enfrentamiento entre grupos separatistas prorrusos y fuerzas ucranianas.\n",
       "\n",
       "https://t.co/90nkyG70L9</td> </tr><tr><td>7</td><td>7150</td><td>0.949</td> <td>CNNEE</td><td> Una explosión de pirotecnia se registró en la zona de Tlalnepantla, en el estado mexicano de Morelos, según informó este miércoles el gobernador de la entidad, Cuauhtémoc Blanco. https://t.co/DrAHthAu7h</td> </tr>\n",
       "</table>\n"
      ],
      "text/plain": [
       "<h2>resultados for \"evento astronomico\"</h2>\n",
       "<table>\n",
       "<th>  <td>id</td> <td>dist</td> <td>user</td> </td>message<td> </th>\n",
       "    <tr><td>1</td><td>9839</td><td>0.944</td> <td>PublimetroMX</td><td> Amber Heard declaró que Depp la agredió física y sexualmente en múltiples ocasiones, generalmente cuando supuestamente estaba borracho o drogado. https://t.co/B5JpHfI3o6</td> </tr><tr><td>2</td><td>18657</td><td>0.946</td> <td>epigmenioibarra</td><td> No se olvida\n",
       "1968-1971\n",
       "La demanda estudiantil de libertad y democracia fue reprimida violentamente por los gobiernos de Gustavo Díaz Ordaz y Luis Echeverría. Por años, cuerpos policiacos, militares y paramilitares realizaron persecuciones, desapariciones, tortura y asesinatos. https://t.co/3foPXB2UX2</td> </tr><tr><td>3</td><td>16060</td><td>0.947</td> <td>epigmenioibarra</td><td> AyotzinapaFueElEstado\n",
       "El ejército sí salió esa noche del cuartel d Iguala. Militares estuvieron en escena del crimen\n",
       "El ejército, único con capacidad operativa,fuerza y medios p operar desaparición masiva\n",
       "#NiPerdonNiOlvido https://t.co/CxRHFYPv4n</td> </tr><tr><td>4</td><td>21008</td><td>0.947</td> <td>epigmenioibarra</td><td> No se olvida\n",
       "1968-1971\n",
       "La demanda estudiantil de libertad y democracia fue reprimida violentamente por los gobiernos de Gustavo Díaz Ordaz y Luis Echeverría. Por años, cuerpos policiacos, militares y paramilitares realizaron persecuciones, desapariciones, tortura y asesinatos. https://t.co/p87Dd4qdY6</td> </tr><tr><td>5</td><td>12897</td><td>0.948</td> <td>CNNEE</td><td> ¿Deberían las personas usar mascarillas en la oficina o lugar de trabajo, incluso si no están obligados a hacerlo? https://t.co/ipPdBB2cS9</td> </tr><tr><td>6</td><td>14241</td><td>0.948</td> <td>UniNoticias</td><td> 🇷🇺   Donbas, el polvorín del este de Ucrania que puede servir de excusa para una invasión rusa. \n",
       "\n",
       "🇺🇦   En esa zona hay un enfrentamiento entre grupos separatistas prorrusos y fuerzas ucranianas.\n",
       "\n",
       "https://t.co/90nkyG70L9</td> </tr><tr><td>7</td><td>7150</td><td>0.949</td> <td>CNNEE</td><td> Una explosión de pirotecnia se registró en la zona de Tlalnepantla, en el estado mexicano de Morelos, según informó este miércoles el gobernador de la entidad, Cuauhtémoc Blanco. https://t.co/DrAHthAu7h</td> </tr>\n",
       "</table>\n"
      ]
     },
     "metadata": {},
     "output_type": "display_data"
    },
    {
     "name": "stdout",
     "output_type": "stream",
     "text": [
      "  0.001361 seconds (4 allocations: 96 bytes)\n"
     ]
    },
    {
     "data": {
      "text/html": [
       "<h2>resultados for \"trafico de drogas\"</h2>\n",
       "<table>\n",
       "<th>  <td>id</td> <td>dist</td> <td>user</td> </td>message<td> </th>\n",
       "    <tr><td>1</td><td>14241</td><td>0.911</td> <td>UniNoticias</td><td> 🇷🇺   Donbas, el polvorín del este de Ucrania que puede servir de excusa para una invasión rusa. \n",
       "\n",
       "🇺🇦   En esa zona hay un enfrentamiento entre grupos separatistas prorrusos y fuerzas ucranianas.\n",
       "\n",
       "https://t.co/90nkyG70L9</td> </tr><tr><td>2</td><td>520</td><td>0.914</td> <td>bbcmundo</td><td> Las autoridades ucranianas han descubierto evidencias dejadas por las tropas rusas en Bucha, donde un campo de verano para niños terminó convertido en un centro de ejecución de civiles. https://t.co/cwJuqwOFLt</td> </tr><tr><td>3</td><td>16300</td><td>0.915</td> <td>CNNEE</td><td> El portavoz del Comando Central de las Fuerzas Armadas describió el ataque como una operación en la que se usó un sofisticado sistema de radar que puede detectar el blanco a gran distancia y las bombas fueron lanzadas desde una nave no tripulada  \n",
       "https://t.co/13PPwX4A5N</td> </tr><tr><td>4</td><td>17030</td><td>0.915</td> <td>epigmenioibarra</td><td> Ayotzinapa no fue un hecho aislado, fue parte de un patrón de corrupción y represión.\n",
       "La desaparición de los 43 normalistas en Iguala sintetizó la descomposición del régimen político mexicano.\n",
       "Somos memoria.\n",
       "¡Empezamos PaseDeLista1al43 ahora!\n",
       "#Ayotzinapa7años https://t.co/JypzRPiFue</td> </tr><tr><td>5</td><td>17065</td><td>0.915</td> <td>UniNoticias</td><td> El tiroteo ocurrió en una estación de autobuses cercana al Pentágono.  https://t.co/umnPboh655</td> </tr><tr><td>6</td><td>1971</td><td>0.916</td> <td>SinEmbargoMX</td><td> #FOTOS | En pleno cruce de las calles González y América, en la colonia Hidalgo de esa comuna fronteriza, se produjo el colapso del pavimento y todo el terreno, formando un cráter de 20 metros de diámetro y ocho de profundidad\n",
       " https://t.co/ISC8rvn2Sx https://t.co/jlJz7bnt3y</td> </tr><tr><td>7</td><td>6271</td><td>0.917</td> <td>epigmenioibarra</td><td> Ayotzinapa no fue un hecho aislado, fue parte de un patrón de corrupción y represión.\n",
       "La desaparición de los 43 normalistas en Iguala sintetizó la descomposición del régimen político mexicano.\n",
       "Somos memoria.\n",
       "¡Empezamos PaseDeLista1al43 ahora!\n",
       "#Ayotzinapa92Meses https://t.co/3R6iYQ7Km9</td> </tr>\n",
       "</table>\n"
      ],
      "text/plain": [
       "<h2>resultados for \"trafico de drogas\"</h2>\n",
       "<table>\n",
       "<th>  <td>id</td> <td>dist</td> <td>user</td> </td>message<td> </th>\n",
       "    <tr><td>1</td><td>14241</td><td>0.911</td> <td>UniNoticias</td><td> 🇷🇺   Donbas, el polvorín del este de Ucrania que puede servir de excusa para una invasión rusa. \n",
       "\n",
       "🇺🇦   En esa zona hay un enfrentamiento entre grupos separatistas prorrusos y fuerzas ucranianas.\n",
       "\n",
       "https://t.co/90nkyG70L9</td> </tr><tr><td>2</td><td>520</td><td>0.914</td> <td>bbcmundo</td><td> Las autoridades ucranianas han descubierto evidencias dejadas por las tropas rusas en Bucha, donde un campo de verano para niños terminó convertido en un centro de ejecución de civiles. https://t.co/cwJuqwOFLt</td> </tr><tr><td>3</td><td>16300</td><td>0.915</td> <td>CNNEE</td><td> El portavoz del Comando Central de las Fuerzas Armadas describió el ataque como una operación en la que se usó un sofisticado sistema de radar que puede detectar el blanco a gran distancia y las bombas fueron lanzadas desde una nave no tripulada  \n",
       "https://t.co/13PPwX4A5N</td> </tr><tr><td>4</td><td>17030</td><td>0.915</td> <td>epigmenioibarra</td><td> Ayotzinapa no fue un hecho aislado, fue parte de un patrón de corrupción y represión.\n",
       "La desaparición de los 43 normalistas en Iguala sintetizó la descomposición del régimen político mexicano.\n",
       "Somos memoria.\n",
       "¡Empezamos PaseDeLista1al43 ahora!\n",
       "#Ayotzinapa7años https://t.co/JypzRPiFue</td> </tr><tr><td>5</td><td>17065</td><td>0.915</td> <td>UniNoticias</td><td> El tiroteo ocurrió en una estación de autobuses cercana al Pentágono.  https://t.co/umnPboh655</td> </tr><tr><td>6</td><td>1971</td><td>0.916</td> <td>SinEmbargoMX</td><td> #FOTOS | En pleno cruce de las calles González y América, en la colonia Hidalgo de esa comuna fronteriza, se produjo el colapso del pavimento y todo el terreno, formando un cráter de 20 metros de diámetro y ocho de profundidad\n",
       " https://t.co/ISC8rvn2Sx https://t.co/jlJz7bnt3y</td> </tr><tr><td>7</td><td>6271</td><td>0.917</td> <td>epigmenioibarra</td><td> Ayotzinapa no fue un hecho aislado, fue parte de un patrón de corrupción y represión.\n",
       "La desaparición de los 43 normalistas en Iguala sintetizó la descomposición del régimen político mexicano.\n",
       "Somos memoria.\n",
       "¡Empezamos PaseDeLista1al43 ahora!\n",
       "#Ayotzinapa92Meses https://t.co/3R6iYQ7Km9</td> </tr>\n",
       "</table>\n"
      ]
     },
     "metadata": {},
     "output_type": "display_data"
    },
    {
     "name": "stdout",
     "output_type": "stream",
     "text": [
      "  0.001319 seconds (4 allocations: 96 bytes)\n"
     ]
    },
    {
     "data": {
      "text/html": [
       "<h2>resultados for \"covid corona virus\"</h2>\n",
       "<table>\n",
       "<th>  <td>id</td> <td>dist</td> <td>user</td> </td>message<td> </th>\n",
       "    <tr><td>1</td><td>21008</td><td>0.914</td> <td>epigmenioibarra</td><td> No se olvida\n",
       "1968-1971\n",
       "La demanda estudiantil de libertad y democracia fue reprimida violentamente por los gobiernos de Gustavo Díaz Ordaz y Luis Echeverría. Por años, cuerpos policiacos, militares y paramilitares realizaron persecuciones, desapariciones, tortura y asesinatos. https://t.co/p87Dd4qdY6</td> </tr><tr><td>2</td><td>18657</td><td>0.915</td> <td>epigmenioibarra</td><td> No se olvida\n",
       "1968-1971\n",
       "La demanda estudiantil de libertad y democracia fue reprimida violentamente por los gobiernos de Gustavo Díaz Ordaz y Luis Echeverría. Por años, cuerpos policiacos, militares y paramilitares realizaron persecuciones, desapariciones, tortura y asesinatos. https://t.co/3foPXB2UX2</td> </tr><tr><td>3</td><td>17229</td><td>0.917</td> <td>epigmenioibarra</td><td> No se olvida\n",
       "1968-1971\n",
       "La demanda estudiantil de libertad y democracia fue reprimida violentamente por los gobiernos de Gustavo Díaz Ordaz y Luis Echeverría. Por años, cuerpos policiacos, militares y paramilitares realizaron persecuciones, desapariciones, tortura y asesinatos. https://t.co/9cnGIlRU1d</td> </tr><tr><td>4</td><td>623</td><td>0.918</td> <td>epigmenioibarra</td><td> Guerra en México\n",
       "2007\n",
       "Tras cometer fraude electoral, Felipe Calderón simuló una &quot;guerra&quot; al narco y lanzó el ejército a las calles para &quot;exterminar al enemigo&quot;. Se multiplicaron la violencia y los asesinatos; se fortaleció el crimen organizado. Un baño de sangre cubrió al país. https://t.co/3Wf9CVa4rq</td> </tr><tr><td>5</td><td>10408</td><td>0.918</td> <td>Radio_Formula</td><td> Los legisladores coincidieron que esto contraviene a lo mencionado en la Constitución Mexicana en el principio de igualdad entre hombre y mujer.\n",
       "\n",
       "https://t.co/DgdZtThswD</td> </tr><tr><td>6</td><td>16554</td><td>0.918</td> <td>TelemundoNews</td><td> La policía detiene al sospechoso del tiroteo en un salón de belleza de Dallas. El FBI abre investigación por delito de odio.\n",
       "\n",
       "https://t.co/WEkzuEccLx</td> </tr><tr><td>7</td><td>30054</td><td>0.918</td> <td>Radio_Formula</td><td> El excandidato presidencial del PAN pudo haber sido profesor de la máxima casa de estudios.\n",
       "https://t.co/r0M3wsf0FF</td> </tr>\n",
       "</table>\n"
      ],
      "text/plain": [
       "<h2>resultados for \"covid corona virus\"</h2>\n",
       "<table>\n",
       "<th>  <td>id</td> <td>dist</td> <td>user</td> </td>message<td> </th>\n",
       "    <tr><td>1</td><td>21008</td><td>0.914</td> <td>epigmenioibarra</td><td> No se olvida\n",
       "1968-1971\n",
       "La demanda estudiantil de libertad y democracia fue reprimida violentamente por los gobiernos de Gustavo Díaz Ordaz y Luis Echeverría. Por años, cuerpos policiacos, militares y paramilitares realizaron persecuciones, desapariciones, tortura y asesinatos. https://t.co/p87Dd4qdY6</td> </tr><tr><td>2</td><td>18657</td><td>0.915</td> <td>epigmenioibarra</td><td> No se olvida\n",
       "1968-1971\n",
       "La demanda estudiantil de libertad y democracia fue reprimida violentamente por los gobiernos de Gustavo Díaz Ordaz y Luis Echeverría. Por años, cuerpos policiacos, militares y paramilitares realizaron persecuciones, desapariciones, tortura y asesinatos. https://t.co/3foPXB2UX2</td> </tr><tr><td>3</td><td>17229</td><td>0.917</td> <td>epigmenioibarra</td><td> No se olvida\n",
       "1968-1971\n",
       "La demanda estudiantil de libertad y democracia fue reprimida violentamente por los gobiernos de Gustavo Díaz Ordaz y Luis Echeverría. Por años, cuerpos policiacos, militares y paramilitares realizaron persecuciones, desapariciones, tortura y asesinatos. https://t.co/9cnGIlRU1d</td> </tr><tr><td>4</td><td>623</td><td>0.918</td> <td>epigmenioibarra</td><td> Guerra en México\n",
       "2007\n",
       "Tras cometer fraude electoral, Felipe Calderón simuló una &quot;guerra&quot; al narco y lanzó el ejército a las calles para &quot;exterminar al enemigo&quot;. Se multiplicaron la violencia y los asesinatos; se fortaleció el crimen organizado. Un baño de sangre cubrió al país. https://t.co/3Wf9CVa4rq</td> </tr><tr><td>5</td><td>10408</td><td>0.918</td> <td>Radio_Formula</td><td> Los legisladores coincidieron que esto contraviene a lo mencionado en la Constitución Mexicana en el principio de igualdad entre hombre y mujer.\n",
       "\n",
       "https://t.co/DgdZtThswD</td> </tr><tr><td>6</td><td>16554</td><td>0.918</td> <td>TelemundoNews</td><td> La policía detiene al sospechoso del tiroteo en un salón de belleza de Dallas. El FBI abre investigación por delito de odio.\n",
       "\n",
       "https://t.co/WEkzuEccLx</td> </tr><tr><td>7</td><td>30054</td><td>0.918</td> <td>Radio_Formula</td><td> El excandidato presidencial del PAN pudo haber sido profesor de la máxima casa de estudios.\n",
       "https://t.co/r0M3wsf0FF</td> </tr>\n",
       "</table>\n"
      ]
     },
     "metadata": {},
     "output_type": "display_data"
    }
   ],
   "source": [
    "\n",
    "display(@htl \"<h1>Ejemplos de búsqueda</h1>\")\n",
    "search_and_display(E, \"evento astronomico\", 7)\n",
    "search_and_display(E, \"trafico de drogas\", 7)\n",
    "search_and_display(E, \"covid corona virus\", 7)"
   ]
  },
  {
   "cell_type": "code",
   "execution_count": 12,
   "id": "b4028733-5dd7-46e0-addb-5f7959766695",
   "metadata": {},
   "outputs": [
    {
     "data": {
      "text/html": [
       "<h1>Ejemplos de búsqueda (mensajes aleatorios)</h1>"
      ],
      "text/plain": [
       "<h1>Ejemplos de búsqueda (mensajes aleatorios)</h1>"
      ]
     },
     "metadata": {},
     "output_type": "display_data"
    },
    {
     "name": "stdout",
     "output_type": "stream",
     "text": [
      "  0.001330 seconds (4 allocations: 96 bytes)\n"
     ]
    },
    {
     "data": {
      "text/html": [
       "<h2>resultados for \"RT @LoloViejo: Hay litigios que dan vueltas a un piano de cola. Batalla familiar por el control del Toni 2, templo de la noche madrileña: “…\"</h2>\n",
       "<table>\n",
       "<th>  <td>id</td> <td>dist</td> <td>user</td> </td>message<td> </th>\n",
       "    <tr><td>1</td><td>9839</td><td>0.934</td> <td>PublimetroMX</td><td> Amber Heard declaró que Depp la agredió física y sexualmente en múltiples ocasiones, generalmente cuando supuestamente estaba borracho o drogado. https://t.co/B5JpHfI3o6</td> </tr><tr><td>2</td><td>893</td><td>0.936</td> <td>AristeguiOnline</td><td> Gobernador de Texas prohíbe los mandatos federales de vacunación contra Covid-19; critica a Biden por &apos;bullying&apos;\n",
       "https://t.co/aHL0MRes75 https://t.co/60KjluhQzo</td> </tr><tr><td>3</td><td>16684</td><td>0.936</td> <td>PublimetroCol</td><td> Elden Ring presentará gameplay el día de mañana https://t.co/SeS9oHtyvK</td> </tr><tr><td>4</td><td>25599</td><td>0.937</td> <td>bbcmundo</td><td> Además, hay que aceptar un diagnóstico psiquiátrico de &quot;trastorno de identidad de género&quot;, entre otros requisitos. https://t.co/fZfpbam1JD</td> </tr><tr><td>5</td><td>12515</td><td>0.938</td> <td>el_pais</td><td> RT @elpais_america: Los estrenos de ‘The World to Come’ y ‘Ammonite’ insisten en el interés actual por las historias lésbicas ambientadas e…</td> </tr><tr><td>6</td><td>2306</td><td>0.939</td> <td>Reforma</td><td> @SCJN empezará a discutir mañana un proyecto que declara la validez del Acuerdo Presidencial de mayo de 2020 por el cual las FA seguirán realizando labores de seguridad pública por lo menos hasta marzo de 2024 https://t.co/zsRvc69QOJ</td> </tr><tr><td>7</td><td>7881</td><td>0.939</td> <td>el_pais</td><td> El festival de San Sebastián se defiende: &quot;No ha sido acusado o condenado por ninguna forma de agresión o violencia contra ninguna mujer&quot;. Pero un juez determinó que Johnny Depp agredió a su exesposa, Amber Heard, en 12 ocasiones de las 14 aludidas https://t.co/JirGrh899y</td> </tr>\n",
       "</table>\n"
      ],
      "text/plain": [
       "<h2>resultados for \"RT @LoloViejo: Hay litigios que dan vueltas a un piano de cola. Batalla familiar por el control del Toni 2, templo de la noche madrileña: “…\"</h2>\n",
       "<table>\n",
       "<th>  <td>id</td> <td>dist</td> <td>user</td> </td>message<td> </th>\n",
       "    <tr><td>1</td><td>9839</td><td>0.934</td> <td>PublimetroMX</td><td> Amber Heard declaró que Depp la agredió física y sexualmente en múltiples ocasiones, generalmente cuando supuestamente estaba borracho o drogado. https://t.co/B5JpHfI3o6</td> </tr><tr><td>2</td><td>893</td><td>0.936</td> <td>AristeguiOnline</td><td> Gobernador de Texas prohíbe los mandatos federales de vacunación contra Covid-19; critica a Biden por &apos;bullying&apos;\n",
       "https://t.co/aHL0MRes75 https://t.co/60KjluhQzo</td> </tr><tr><td>3</td><td>16684</td><td>0.936</td> <td>PublimetroCol</td><td> Elden Ring presentará gameplay el día de mañana https://t.co/SeS9oHtyvK</td> </tr><tr><td>4</td><td>25599</td><td>0.937</td> <td>bbcmundo</td><td> Además, hay que aceptar un diagnóstico psiquiátrico de &quot;trastorno de identidad de género&quot;, entre otros requisitos. https://t.co/fZfpbam1JD</td> </tr><tr><td>5</td><td>12515</td><td>0.938</td> <td>el_pais</td><td> RT @elpais_america: Los estrenos de ‘The World to Come’ y ‘Ammonite’ insisten en el interés actual por las historias lésbicas ambientadas e…</td> </tr><tr><td>6</td><td>2306</td><td>0.939</td> <td>Reforma</td><td> @SCJN empezará a discutir mañana un proyecto que declara la validez del Acuerdo Presidencial de mayo de 2020 por el cual las FA seguirán realizando labores de seguridad pública por lo menos hasta marzo de 2024 https://t.co/zsRvc69QOJ</td> </tr><tr><td>7</td><td>7881</td><td>0.939</td> <td>el_pais</td><td> El festival de San Sebastián se defiende: &quot;No ha sido acusado o condenado por ninguna forma de agresión o violencia contra ninguna mujer&quot;. Pero un juez determinó que Johnny Depp agredió a su exesposa, Amber Heard, en 12 ocasiones de las 14 aludidas https://t.co/JirGrh899y</td> </tr>\n",
       "</table>\n"
      ]
     },
     "metadata": {},
     "output_type": "display_data"
    },
    {
     "name": "stdout",
     "output_type": "stream",
     "text": [
      "  0.001365 seconds (4 allocations: 96 bytes)\n"
     ]
    },
    {
     "data": {
      "text/html": [
       "<h2>resultados for \"RT @f3d3x04: @RicardoAlemanMx @coronaoso @lopezobrador_ Estos son otros datos.\n",
       "Alguien está mal informando.\"</h2>\n",
       "<table>\n",
       "<th>  <td>id</td> <td>dist</td> <td>user</td> </td>message<td> </th>\n",
       "    <tr><td>1</td><td>13276</td><td>0.938</td> <td>bbcmundo</td><td> EE.UU. ha dejado atrás una fuerza afgana mucho menos dotada y capacitada para repeler el avance del Talibán  https://t.co/fEHroPHcm2</td> </tr><tr><td>2</td><td>9839</td><td>0.942</td> <td>PublimetroMX</td><td> Amber Heard declaró que Depp la agredió física y sexualmente en múltiples ocasiones, generalmente cuando supuestamente estaba borracho o drogado. https://t.co/B5JpHfI3o6</td> </tr><tr><td>3</td><td>5348</td><td>0.944</td> <td>CNNEE</td><td> &quot;I Am Legend&quot; es pura fantasía, aclaró Akiva Goldsman, quien coescribió el guión de la película de 2007. Esto después de que una fuente anónima le dijera a The New York Times que le temía a la vacuna contra el covid-19 debido a lo que pasó en la película. https://t.co/S23wIQUfhy</td> </tr><tr><td>4</td><td>10627</td><td>0.944</td> <td>CNNEE</td><td> El jefe de Inteligencia del Reino Unido afirma que los soldados rusos tienen la moral baja y se niegan a cumplir órdenes.\n",
       "https://t.co/73JQEPfTu2 https://t.co/TlbhZ3d8Pe</td> </tr><tr><td>5</td><td>25347</td><td>0.944</td> <td>el_pais</td><td> RT @elpais_valencia: Un concejal valenciano cuenta en un pleno que es homosexual: “No por ser de Vox tengo que ser heterosexual”\n",
       "https://t.…</td> </tr><tr><td>6</td><td>25599</td><td>0.946</td> <td>bbcmundo</td><td> Además, hay que aceptar un diagnóstico psiquiátrico de &quot;trastorno de identidad de género&quot;, entre otros requisitos. https://t.co/fZfpbam1JD</td> </tr><tr><td>7</td><td>15661</td><td>0.946</td> <td>Reforma</td><td> Los críticos de @laveoonolaveo  te hablan de la comedia &quot;Free Guy: Tomando el Control&quot;, protagonizada por Ryan Reynolds. https://t.co/i2CwQWPdfV https://t.co/i2ZAPOQjQa</td> </tr>\n",
       "</table>\n"
      ],
      "text/plain": [
       "<h2>resultados for \"RT @f3d3x04: @RicardoAlemanMx @coronaoso @lopezobrador_ Estos son otros datos.\n",
       "Alguien está mal informando.\"</h2>\n",
       "<table>\n",
       "<th>  <td>id</td> <td>dist</td> <td>user</td> </td>message<td> </th>\n",
       "    <tr><td>1</td><td>13276</td><td>0.938</td> <td>bbcmundo</td><td> EE.UU. ha dejado atrás una fuerza afgana mucho menos dotada y capacitada para repeler el avance del Talibán  https://t.co/fEHroPHcm2</td> </tr><tr><td>2</td><td>9839</td><td>0.942</td> <td>PublimetroMX</td><td> Amber Heard declaró que Depp la agredió física y sexualmente en múltiples ocasiones, generalmente cuando supuestamente estaba borracho o drogado. https://t.co/B5JpHfI3o6</td> </tr><tr><td>3</td><td>5348</td><td>0.944</td> <td>CNNEE</td><td> &quot;I Am Legend&quot; es pura fantasía, aclaró Akiva Goldsman, quien coescribió el guión de la película de 2007. Esto después de que una fuente anónima le dijera a The New York Times que le temía a la vacuna contra el covid-19 debido a lo que pasó en la película. https://t.co/S23wIQUfhy</td> </tr><tr><td>4</td><td>10627</td><td>0.944</td> <td>CNNEE</td><td> El jefe de Inteligencia del Reino Unido afirma que los soldados rusos tienen la moral baja y se niegan a cumplir órdenes.\n",
       "https://t.co/73JQEPfTu2 https://t.co/TlbhZ3d8Pe</td> </tr><tr><td>5</td><td>25347</td><td>0.944</td> <td>el_pais</td><td> RT @elpais_valencia: Un concejal valenciano cuenta en un pleno que es homosexual: “No por ser de Vox tengo que ser heterosexual”\n",
       "https://t.…</td> </tr><tr><td>6</td><td>25599</td><td>0.946</td> <td>bbcmundo</td><td> Además, hay que aceptar un diagnóstico psiquiátrico de &quot;trastorno de identidad de género&quot;, entre otros requisitos. https://t.co/fZfpbam1JD</td> </tr><tr><td>7</td><td>15661</td><td>0.946</td> <td>Reforma</td><td> Los críticos de @laveoonolaveo  te hablan de la comedia &quot;Free Guy: Tomando el Control&quot;, protagonizada por Ryan Reynolds. https://t.co/i2CwQWPdfV https://t.co/i2ZAPOQjQa</td> </tr>\n",
       "</table>\n"
      ]
     },
     "metadata": {},
     "output_type": "display_data"
    },
    {
     "name": "stdout",
     "output_type": "stream",
     "text": [
      "  0.001769 seconds (4 allocations: 96 bytes)\n"
     ]
    },
    {
     "data": {
      "text/html": [
       "<h2>resultados for \"Crean ilustración de feto negro para representar más diversidad de pacientes\n",
       "\n",
       "https://t.co/xiJd2iFayF\"</h2>\n",
       "<table>\n",
       "<th>  <td>id</td> <td>dist</td> <td>user</td> </td>message<td> </th>\n",
       "    <tr><td>1</td><td>9839</td><td>0.916</td> <td>PublimetroMX</td><td> Amber Heard declaró que Depp la agredió física y sexualmente en múltiples ocasiones, generalmente cuando supuestamente estaba borracho o drogado. https://t.co/B5JpHfI3o6</td> </tr><tr><td>2</td><td>14241</td><td>0.921</td> <td>UniNoticias</td><td> 🇷🇺   Donbas, el polvorín del este de Ucrania que puede servir de excusa para una invasión rusa. \n",
       "\n",
       "🇺🇦   En esa zona hay un enfrentamiento entre grupos separatistas prorrusos y fuerzas ucranianas.\n",
       "\n",
       "https://t.co/90nkyG70L9</td> </tr><tr><td>3</td><td>11594</td><td>0.922</td> <td>EFEnoticias</td><td> Un grupo de periodistas de investigación ucranianos asegura haber podido identificar a algunos de los presuntos autores de disparos contra civiles en la localidad de Bucha, como pertenecientes a una brigada naval del Ejército ruso del Pacífico.\n",
       "\n",
       "https://t.co/pKq8QVAnfp</td> </tr><tr><td>4</td><td>520</td><td>0.922</td> <td>bbcmundo</td><td> Las autoridades ucranianas han descubierto evidencias dejadas por las tropas rusas en Bucha, donde un campo de verano para niños terminó convertido en un centro de ejecución de civiles. https://t.co/cwJuqwOFLt</td> </tr><tr><td>5</td><td>19157</td><td>0.923</td> <td>TelemundoNews</td><td> El candidato trabaja como investigador privado y el día del incidente estaba cerca de una casa rentada por el actual alcalde de Miami, Francis Suarez. Cuando le preguntaron que hacía ahí, dijo que estaba con la oficina del Sheriff. https://t.co/01CxpZ1xvh</td> </tr><tr><td>6</td><td>19932</td><td>0.923</td> <td>abc_es</td><td> Una juez investiga por coacciones y estafa a una empresa que cobraba deudas de eléctricas https://t.co/oamchYZHSt</td> </tr><tr><td>7</td><td>4280</td><td>0.925</td> <td>PublimetroChile</td><td> El superintendente de Educación, indicó que la Ley de Aula Segura no se utilizó, ya que empleó el reglamento interno del Colegio Verbo Divino \n",
       "\n",
       "https://t.co/MjT4JRltz3</td> </tr>\n",
       "</table>\n"
      ],
      "text/plain": [
       "<h2>resultados for \"Crean ilustración de feto negro para representar más diversidad de pacientes\n",
       "\n",
       "https://t.co/xiJd2iFayF\"</h2>\n",
       "<table>\n",
       "<th>  <td>id</td> <td>dist</td> <td>user</td> </td>message<td> </th>\n",
       "    <tr><td>1</td><td>9839</td><td>0.916</td> <td>PublimetroMX</td><td> Amber Heard declaró que Depp la agredió física y sexualmente en múltiples ocasiones, generalmente cuando supuestamente estaba borracho o drogado. https://t.co/B5JpHfI3o6</td> </tr><tr><td>2</td><td>14241</td><td>0.921</td> <td>UniNoticias</td><td> 🇷🇺   Donbas, el polvorín del este de Ucrania que puede servir de excusa para una invasión rusa. \n",
       "\n",
       "🇺🇦   En esa zona hay un enfrentamiento entre grupos separatistas prorrusos y fuerzas ucranianas.\n",
       "\n",
       "https://t.co/90nkyG70L9</td> </tr><tr><td>3</td><td>11594</td><td>0.922</td> <td>EFEnoticias</td><td> Un grupo de periodistas de investigación ucranianos asegura haber podido identificar a algunos de los presuntos autores de disparos contra civiles en la localidad de Bucha, como pertenecientes a una brigada naval del Ejército ruso del Pacífico.\n",
       "\n",
       "https://t.co/pKq8QVAnfp</td> </tr><tr><td>4</td><td>520</td><td>0.922</td> <td>bbcmundo</td><td> Las autoridades ucranianas han descubierto evidencias dejadas por las tropas rusas en Bucha, donde un campo de verano para niños terminó convertido en un centro de ejecución de civiles. https://t.co/cwJuqwOFLt</td> </tr><tr><td>5</td><td>19157</td><td>0.923</td> <td>TelemundoNews</td><td> El candidato trabaja como investigador privado y el día del incidente estaba cerca de una casa rentada por el actual alcalde de Miami, Francis Suarez. Cuando le preguntaron que hacía ahí, dijo que estaba con la oficina del Sheriff. https://t.co/01CxpZ1xvh</td> </tr><tr><td>6</td><td>19932</td><td>0.923</td> <td>abc_es</td><td> Una juez investiga por coacciones y estafa a una empresa que cobraba deudas de eléctricas https://t.co/oamchYZHSt</td> </tr><tr><td>7</td><td>4280</td><td>0.925</td> <td>PublimetroChile</td><td> El superintendente de Educación, indicó que la Ley de Aula Segura no se utilizó, ya que empleó el reglamento interno del Colegio Verbo Divino \n",
       "\n",
       "https://t.co/MjT4JRltz3</td> </tr>\n",
       "</table>\n"
      ]
     },
     "metadata": {},
     "output_type": "display_data"
    }
   ],
   "source": [
    "display(@htl \"<h1>Ejemplos de búsqueda (mensajes aleatorios sobre el train)</h1>\")\n",
    "\n",
    "for i in 1:3\n",
    "    for qid in rand(1:length(E.data.corpus))\n",
    "        search_and_display(E, E.data.corpus[qid], 7)\n",
    "    end\n",
    "end"
   ]
  },
  {
   "cell_type": "code",
   "execution_count": 15,
   "id": "472700d5-e919-47a3-a927-786e132dbc06",
   "metadata": {},
   "outputs": [
    {
     "data": {
      "text/html": [
       "<h1>Ejemplos de búsqueda (mensajes aleatorios sobre el test)</h1>"
      ],
      "text/plain": [
       "<h1>Ejemplos de búsqueda (mensajes aleatorios sobre el test)</h1>"
      ]
     },
     "metadata": {},
     "output_type": "display_data"
    },
    {
     "name": "stdout",
     "output_type": "stream",
     "text": [
      "  0.001407 seconds (4 allocations: 96 bytes)\n"
     ]
    },
    {
     "data": {
      "text/html": [
       "<h2>resultados for \"RT @PaolaPteleSUR: No te lo pierdas . Esta noche por @teleSURtv #ClaudeJoseph en entrevista exclusiva ! #MagnicidioHaiti https://t.co/2SDJn…\"</h2>\n",
       "<table>\n",
       "<th>  <td>id</td> <td>dist</td> <td>user</td> </td>message<td> </th>\n",
       "    <tr><td>1</td><td>6320</td><td>0.915</td> <td>CNNEE</td><td> Durante media década, la franquicia de terror &quot;Viernes 13&quot; ha estado atrapada en una disputa de derechos de autor sobre quién es el propietario del guion original. ¿Te gustan estas películas?\n",
       "https://t.co/noTzrPtjni</td> </tr><tr><td>2</td><td>12515</td><td>0.918</td> <td>el_pais</td><td> RT @elpais_america: Los estrenos de ‘The World to Come’ y ‘Ammonite’ insisten en el interés actual por las historias lésbicas ambientadas e…</td> </tr><tr><td>3</td><td>16684</td><td>0.92</td> <td>PublimetroCol</td><td> Elden Ring presentará gameplay el día de mañana https://t.co/SeS9oHtyvK</td> </tr><tr><td>4</td><td>2537</td><td>0.923</td> <td>Radio_Formula</td><td> ¿Te gustaría verla de nuevo en un melodrama?\n",
       "\n",
       "https://t.co/C2OwQY6Qie</td> </tr><tr><td>5</td><td>26628</td><td>0.924</td> <td>bbcmundo</td><td> Aunque los rusos se han enfrentado a una fuerte resistencia de las fuerzas ucranianas, tienen ventajas cruciales en el campo de batalla. https://t.co/WRoUwlUvp2</td> </tr><tr><td>6</td><td>17799</td><td>0.924</td> <td>EFEnoticias</td><td> En España se realizan anualmente cerca de 100.000 abortos voluntarios y el Ministerio de Igualdad sitúa entre sus prioridades reformar la ley que los ampara.\n",
       "\n",
       "https://t.co/WdNMqI2kyD</td> </tr><tr><td>7</td><td>9163</td><td>0.924</td> <td>UniNoticias</td><td> El gobernador de Texas confirma que ese estado construirá su propio muro en la frontera con México. https://t.co/l3FuUc4USO</td> </tr>\n",
       "</table>\n"
      ],
      "text/plain": [
       "<h2>resultados for \"RT @PaolaPteleSUR: No te lo pierdas . Esta noche por @teleSURtv #ClaudeJoseph en entrevista exclusiva ! #MagnicidioHaiti https://t.co/2SDJn…\"</h2>\n",
       "<table>\n",
       "<th>  <td>id</td> <td>dist</td> <td>user</td> </td>message<td> </th>\n",
       "    <tr><td>1</td><td>6320</td><td>0.915</td> <td>CNNEE</td><td> Durante media década, la franquicia de terror &quot;Viernes 13&quot; ha estado atrapada en una disputa de derechos de autor sobre quién es el propietario del guion original. ¿Te gustan estas películas?\n",
       "https://t.co/noTzrPtjni</td> </tr><tr><td>2</td><td>12515</td><td>0.918</td> <td>el_pais</td><td> RT @elpais_america: Los estrenos de ‘The World to Come’ y ‘Ammonite’ insisten en el interés actual por las historias lésbicas ambientadas e…</td> </tr><tr><td>3</td><td>16684</td><td>0.92</td> <td>PublimetroCol</td><td> Elden Ring presentará gameplay el día de mañana https://t.co/SeS9oHtyvK</td> </tr><tr><td>4</td><td>2537</td><td>0.923</td> <td>Radio_Formula</td><td> ¿Te gustaría verla de nuevo en un melodrama?\n",
       "\n",
       "https://t.co/C2OwQY6Qie</td> </tr><tr><td>5</td><td>26628</td><td>0.924</td> <td>bbcmundo</td><td> Aunque los rusos se han enfrentado a una fuerte resistencia de las fuerzas ucranianas, tienen ventajas cruciales en el campo de batalla. https://t.co/WRoUwlUvp2</td> </tr><tr><td>6</td><td>17799</td><td>0.924</td> <td>EFEnoticias</td><td> En España se realizan anualmente cerca de 100.000 abortos voluntarios y el Ministerio de Igualdad sitúa entre sus prioridades reformar la ley que los ampara.\n",
       "\n",
       "https://t.co/WdNMqI2kyD</td> </tr><tr><td>7</td><td>9163</td><td>0.924</td> <td>UniNoticias</td><td> El gobernador de Texas confirma que ese estado construirá su propio muro en la frontera con México. https://t.co/l3FuUc4USO</td> </tr>\n",
       "</table>\n"
      ]
     },
     "metadata": {},
     "output_type": "display_data"
    },
    {
     "name": "stdout",
     "output_type": "stream",
     "text": [
      "  0.001614 seconds (4 allocations: 96 bytes)\n"
     ]
    },
    {
     "data": {
      "text/html": [
       "<h2>resultados for \"Síntomas de la variante Ómicron, ¿cómo detectarlos a tiempo según los expertos? https://t.co/vYNUJQW7U4 https://t.co/GonaYOuM6g\"</h2>\n",
       "<table>\n",
       "<th>  <td>id</td> <td>dist</td> <td>user</td> </td>message<td> </th>\n",
       "    <tr><td>1</td><td>14241</td><td>0.907</td> <td>UniNoticias</td><td> 🇷🇺   Donbas, el polvorín del este de Ucrania que puede servir de excusa para una invasión rusa. \n",
       "\n",
       "🇺🇦   En esa zona hay un enfrentamiento entre grupos separatistas prorrusos y fuerzas ucranianas.\n",
       "\n",
       "https://t.co/90nkyG70L9</td> </tr><tr><td>2</td><td>9163</td><td>0.91</td> <td>UniNoticias</td><td> El gobernador de Texas confirma que ese estado construirá su propio muro en la frontera con México. https://t.co/l3FuUc4USO</td> </tr><tr><td>3</td><td>520</td><td>0.911</td> <td>bbcmundo</td><td> Las autoridades ucranianas han descubierto evidencias dejadas por las tropas rusas en Bucha, donde un campo de verano para niños terminó convertido en un centro de ejecución de civiles. https://t.co/cwJuqwOFLt</td> </tr><tr><td>4</td><td>7077</td><td>0.912</td> <td>bbcmundo</td><td> El reconocimiento de las &quot;repúblicas independientes&quot; de Donetsk y Luhansk por parte de Rusia ha llevado al conflicto entre Ucrania 🇺🇦 y Rusia 🇷🇺 al siguiente nivel.\n",
       "Pero, ¿por qué Rusia reconoce la independencia de estos territorios?\n",
       "https://t.co/OrxXx89EVm</td> </tr><tr><td>5</td><td>9839</td><td>0.914</td> <td>PublimetroMX</td><td> Amber Heard declaró que Depp la agredió física y sexualmente en múltiples ocasiones, generalmente cuando supuestamente estaba borracho o drogado. https://t.co/B5JpHfI3o6</td> </tr><tr><td>6</td><td>16554</td><td>0.917</td> <td>TelemundoNews</td><td> La policía detiene al sospechoso del tiroteo en un salón de belleza de Dallas. El FBI abre investigación por delito de odio.\n",
       "\n",
       "https://t.co/WEkzuEccLx</td> </tr><tr><td>7</td><td>25809</td><td>0.918</td> <td>CNNEE</td><td> En la capital de Ucrania suenan las sirenas de ataques aéreos y se levantan barreras antitanques\n",
       "https://t.co/8VIQ0GtR4z</td> </tr>\n",
       "</table>\n"
      ],
      "text/plain": [
       "<h2>resultados for \"Síntomas de la variante Ómicron, ¿cómo detectarlos a tiempo según los expertos? https://t.co/vYNUJQW7U4 https://t.co/GonaYOuM6g\"</h2>\n",
       "<table>\n",
       "<th>  <td>id</td> <td>dist</td> <td>user</td> </td>message<td> </th>\n",
       "    <tr><td>1</td><td>14241</td><td>0.907</td> <td>UniNoticias</td><td> 🇷🇺   Donbas, el polvorín del este de Ucrania que puede servir de excusa para una invasión rusa. \n",
       "\n",
       "🇺🇦   En esa zona hay un enfrentamiento entre grupos separatistas prorrusos y fuerzas ucranianas.\n",
       "\n",
       "https://t.co/90nkyG70L9</td> </tr><tr><td>2</td><td>9163</td><td>0.91</td> <td>UniNoticias</td><td> El gobernador de Texas confirma que ese estado construirá su propio muro en la frontera con México. https://t.co/l3FuUc4USO</td> </tr><tr><td>3</td><td>520</td><td>0.911</td> <td>bbcmundo</td><td> Las autoridades ucranianas han descubierto evidencias dejadas por las tropas rusas en Bucha, donde un campo de verano para niños terminó convertido en un centro de ejecución de civiles. https://t.co/cwJuqwOFLt</td> </tr><tr><td>4</td><td>7077</td><td>0.912</td> <td>bbcmundo</td><td> El reconocimiento de las &quot;repúblicas independientes&quot; de Donetsk y Luhansk por parte de Rusia ha llevado al conflicto entre Ucrania 🇺🇦 y Rusia 🇷🇺 al siguiente nivel.\n",
       "Pero, ¿por qué Rusia reconoce la independencia de estos territorios?\n",
       "https://t.co/OrxXx89EVm</td> </tr><tr><td>5</td><td>9839</td><td>0.914</td> <td>PublimetroMX</td><td> Amber Heard declaró que Depp la agredió física y sexualmente en múltiples ocasiones, generalmente cuando supuestamente estaba borracho o drogado. https://t.co/B5JpHfI3o6</td> </tr><tr><td>6</td><td>16554</td><td>0.917</td> <td>TelemundoNews</td><td> La policía detiene al sospechoso del tiroteo en un salón de belleza de Dallas. El FBI abre investigación por delito de odio.\n",
       "\n",
       "https://t.co/WEkzuEccLx</td> </tr><tr><td>7</td><td>25809</td><td>0.918</td> <td>CNNEE</td><td> En la capital de Ucrania suenan las sirenas de ataques aéreos y se levantan barreras antitanques\n",
       "https://t.co/8VIQ0GtR4z</td> </tr>\n",
       "</table>\n"
      ]
     },
     "metadata": {},
     "output_type": "display_data"
    },
    {
     "name": "stdout",
     "output_type": "stream",
     "text": [
      "  0.001783 seconds (4 allocations: 96 bytes)\n"
     ]
    },
    {
     "data": {
      "text/html": [
       "<h2>resultados for \"La luna llena, Mercurio en elongación y la lluvia de estrellas marcarán los eventos astronómicos de este mes. ¿Cuándo hay que mirar el cielo?\n",
       "\n",
       "https://t.co/Kc2YjqaDnt\"</h2>\n",
       "<table>\n",
       "<th>  <td>id</td> <td>dist</td> <td>user</td> </td>message<td> </th>\n",
       "    <tr><td>1</td><td>14241</td><td>0.905</td> <td>UniNoticias</td><td> 🇷🇺   Donbas, el polvorín del este de Ucrania que puede servir de excusa para una invasión rusa. \n",
       "\n",
       "🇺🇦   En esa zona hay un enfrentamiento entre grupos separatistas prorrusos y fuerzas ucranianas.\n",
       "\n",
       "https://t.co/90nkyG70L9</td> </tr><tr><td>2</td><td>14074</td><td>0.906</td> <td>PublimetroChile</td><td> Al menos 14 estados brasileños declararon estado de emergencia👇\n",
       "https://t.co/ZnEQleVzTB</td> </tr><tr><td>3</td><td>11771</td><td>0.906</td> <td>el_pais</td><td> Sí, todo el mundo sabe utilizar Google. Pero, ¿sabemos realmente sacar todo el potencial de este buscador? https://t.co/mNDFaiMwQD</td> </tr><tr><td>4</td><td>8083</td><td>0.907</td> <td>CNNEE</td><td> ¿Eres de teflón o de velcro frente al estrés? La respuesta es importante. La psiquiatra Samantha Boardman nos explica por qué. https://t.co/vgNKhh4DCz</td> </tr><tr><td>5</td><td>8059</td><td>0.908</td> <td>TelemundoNews</td><td> La FDA investiga por qué tardaron en inspeccionar la posible contaminación en una planta de fórmula para bebés.\n",
       "\n",
       "https://t.co/wHpjN0oQv5</td> </tr><tr><td>6</td><td>2537</td><td>0.909</td> <td>Radio_Formula</td><td> ¿Te gustaría verla de nuevo en un melodrama?\n",
       "\n",
       "https://t.co/C2OwQY6Qie</td> </tr><tr><td>7</td><td>24624</td><td>0.909</td> <td>UniNoticias</td><td> 🇷🇺 🇺🇦 Rusia dice que su ejército bloquea dos ciudades costeras y una base aérea en el sur de Ucrania. \n",
       "\n",
       "https://t.co/7tPKpChniu</td> </tr>\n",
       "</table>\n"
      ],
      "text/plain": [
       "<h2>resultados for \"La luna llena, Mercurio en elongación y la lluvia de estrellas marcarán los eventos astronómicos de este mes. ¿Cuándo hay que mirar el cielo?\n",
       "\n",
       "https://t.co/Kc2YjqaDnt\"</h2>\n",
       "<table>\n",
       "<th>  <td>id</td> <td>dist</td> <td>user</td> </td>message<td> </th>\n",
       "    <tr><td>1</td><td>14241</td><td>0.905</td> <td>UniNoticias</td><td> 🇷🇺   Donbas, el polvorín del este de Ucrania que puede servir de excusa para una invasión rusa. \n",
       "\n",
       "🇺🇦   En esa zona hay un enfrentamiento entre grupos separatistas prorrusos y fuerzas ucranianas.\n",
       "\n",
       "https://t.co/90nkyG70L9</td> </tr><tr><td>2</td><td>14074</td><td>0.906</td> <td>PublimetroChile</td><td> Al menos 14 estados brasileños declararon estado de emergencia👇\n",
       "https://t.co/ZnEQleVzTB</td> </tr><tr><td>3</td><td>11771</td><td>0.906</td> <td>el_pais</td><td> Sí, todo el mundo sabe utilizar Google. Pero, ¿sabemos realmente sacar todo el potencial de este buscador? https://t.co/mNDFaiMwQD</td> </tr><tr><td>4</td><td>8083</td><td>0.907</td> <td>CNNEE</td><td> ¿Eres de teflón o de velcro frente al estrés? La respuesta es importante. La psiquiatra Samantha Boardman nos explica por qué. https://t.co/vgNKhh4DCz</td> </tr><tr><td>5</td><td>8059</td><td>0.908</td> <td>TelemundoNews</td><td> La FDA investiga por qué tardaron en inspeccionar la posible contaminación en una planta de fórmula para bebés.\n",
       "\n",
       "https://t.co/wHpjN0oQv5</td> </tr><tr><td>6</td><td>2537</td><td>0.909</td> <td>Radio_Formula</td><td> ¿Te gustaría verla de nuevo en un melodrama?\n",
       "\n",
       "https://t.co/C2OwQY6Qie</td> </tr><tr><td>7</td><td>24624</td><td>0.909</td> <td>UniNoticias</td><td> 🇷🇺 🇺🇦 Rusia dice que su ejército bloquea dos ciudades costeras y una base aérea en el sur de Ucrania. \n",
       "\n",
       "https://t.co/7tPKpChniu</td> </tr>\n",
       "</table>\n"
      ]
     },
     "metadata": {},
     "output_type": "display_data"
    }
   ],
   "source": [
    "display(@htl \"<h1>Ejemplos de búsqueda (mensajes aleatorios sobre el test)</h1>\")\n",
    "\n",
    "for i in 1:3\n",
    "    for qid in rand(1:length(Q.corpus))\n",
    "        search_and_display(E, Q.corpus[qid], 7)\n",
    "    end\n",
    "end"
   ]
  },
  {
   "cell_type": "markdown",
   "id": "1e8f09a9-75aa-49c5-9e35-4c486defa289",
   "metadata": {},
   "source": [
    "# Actividades\n",
    "- Reproduzca el ejercicio de este notebook, use embeddings para español, cambié los ejemplos. Se sugiere el uso de <https://ingeotec.github.io/regional-spanish-models/> donde encontrará modelos fastText regionalizados del español, pero puede usar otros embeddings.\n",
    "- ¿Qué piensa de las diferencias de tamaño entre los documentos y las consultas? esto como afecta a la representación semántica.\n",
    "- ¿Cuál sería el símil de bigramas y trigramas para este esquema de representación semántica? Implementelo.\n",
    "- Implemente su búsqueda semántica. Si usa Julia considere `SimilaritySearch.jl` y si usa Python considere `faiss`.\n",
    "- Reporte su notebook y anote sus soluciones a las preguntas planteadas. Reporte los resultados de sus implementaciones, compare contra las alternativas presentadas en este reporte. Discuta sus resultados. Finalice el reporte  con reflexiones sobre el uso de nubes de puntos en lugar de bolsas de palabras tradicionales. Anoté sus conclusiones.\n",
    "\n",
    "# Bibliografía\n",
    "- [KSKW2015] Kusner, M., Sun, Y., Kolkin, N., & Weinberger, K. (2015, June). From word embeddings to document distances. In International conference on machine learning (pp. 957-966). PMLR.\n",
    "- [PW2009] Pele, O., & Werman, M. (2009, September). Fast and robust earth mover's distances. In 2009 IEEE 12th international conference on computer vision (pp. 460-467). IEEE.\n",
    "- [VSPU2017] Vaswani, A., Shazeer, N., Parmar, N., Uszkoreit, J., Jones, L., Gomez, A. N., ... & Polosukhin, I. (2017). Attention is all you need. Advances in neural information processing systems, 30.\n"
   ]
  }
 ],
 "metadata": {
  "kernelspec": {
   "display_name": "Julia 1.10.0-rc1",
   "language": "julia",
   "name": "julia-1.10"
  },
  "language_info": {
   "file_extension": ".jl",
   "mimetype": "application/julia",
   "name": "julia",
   "version": "1.10.0"
  }
 },
 "nbformat": 4,
 "nbformat_minor": 5
}
