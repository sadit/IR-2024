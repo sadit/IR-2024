{
 "cells": [
  {
   "cell_type": "markdown",
   "id": "a2775c98-916a-442c-9b82-ceef4915b859",
   "metadata": {
    "tags": []
   },
   "source": [
    "# Proyecto integrador\n",
    "Autor: Eric S. Tellez <eric.tellez@infotec.mx> <br/>\n",
    "\n",
    "A lo largo del curso de Recuperación de Información se vieron diferentes maneras de modelar texto, tomando encuenta su vocabulario o su semántica. En particular, se manipulo de diferentes formas el vocabulario para resaltar o disminuir efectos que impactarán en la calidad de respuesta o la velocidad de los resultados. Se utilizó el índice invertido para representaciones dispersas y búsqueda métrica con vectores densos, dando diferentes posibilidades para cumplir con los diferentes requerimientos de los sistemas de información.\n",
    "\n",
    "Adicional a la búsqueda, también se reviso la parte de organización por grupos, _clustering_, y visualización utilizando técnicas de reducción de dimensión no-lineal. \n",
    "\n",
    "Se espera que todos estos temas sean de utilidad en las actividades de un científico de datos, tanto en la etapa de análisis exploratorio de los datos como en la construcción de sistemas inteligentes.\n",
    "\n",
    "# Actividades\n",
    "\n",
    "- Construcción de un mini-sistema de información que solucione un problema que usted conozca\n",
    "- Recolección de documentos\n",
    "- Modelado de los documentos\n",
    "- Indexamiento, búsqueda y presentación de documentos\n",
    "- Análisis y visualización de datos\n",
    "- Reporte\n",
    "\n",
    "\n",
    "# Ejemplo: Paquetes en el registro principal del lenguaje Julia."
   ]
  },
  {
   "cell_type": "code",
   "execution_count": 1,
   "id": "e6b2537f-f24a-4db4-bce5-3ae8a216867d",
   "metadata": {},
   "outputs": [
    {
     "name": "stderr",
     "output_type": "stream",
     "text": [
      "\u001b[32m\u001b[1m  Activating\u001b[22m\u001b[39m project at `~/IR-2022/Unidades`\n"
     ]
    }
   ],
   "source": [
    "using Pkg\n",
    "Pkg.activate(\".\")"
   ]
  },
  {
   "cell_type": "code",
   "execution_count": 2,
   "id": "ca99a417-7c9a-434b-a6ad-7720cbf5d7ec",
   "metadata": {},
   "outputs": [
    {
     "data": {
      "application/vnd.webio.node+json": {
       "children": [],
       "instanceArgs": {
        "namespace": "html",
        "tag": "div"
       },
       "nodeType": "DOM",
       "props": {},
       "type": "node"
      },
      "text/html": [
       "<div style=\"padding: 1em; background-color: #f8d6da; border: 1px solid #f5c6cb; font-weight: bold;\">\n",
       "<p>The WebIO Jupyter extension was not detected. See the\n",
       "<a href=\"https://juliagizmos.github.io/WebIO.jl/latest/providers/ijulia/\" target=\"_blank\">\n",
       "    WebIO Jupyter integration documentation\n",
       "</a>\n",
       "for more information.\n",
       "</div>\n"
      ],
      "text/plain": [
       "WebIO._IJuliaInit()"
      ]
     },
     "metadata": {
      "@webio": {
       "kernelId": "9afc6a52-8bb3-42ac-b616-1f13eb439e43"
      }
     },
     "output_type": "display_data"
    },
    {
     "data": {
      "text/plain": [
       "get_julia_packages (generic function with 1 method)"
      ]
     },
     "execution_count": 2,
     "metadata": {},
     "output_type": "execute_result"
    }
   ],
   "source": [
    "using SimilaritySearch, Interact, SimSearchManifoldLearning, TextSearch, StatsBase, Clustering, ZipFile, CommonMark, JSON, Base64, Plots, LinearAlgebra, HypertextLiteral\n",
    "include(\"read_datasets.jl\")"
   ]
  },
  {
   "cell_type": "code",
   "execution_count": 3,
   "id": "7723480a-738b-4717-9060-b57999581ed0",
   "metadata": {},
   "outputs": [
    {
     "data": {
      "text/plain": [
       "package (generic function with 1 method)"
      ]
     },
     "execution_count": 3,
     "metadata": {},
     "output_type": "execute_result"
    }
   ],
   "source": [
    "function sections(readmetext, maxsections=1)\n",
    "    S = []\n",
    "    for p in eachmatch(r\"#(.+?)\\n([^#]+)\"ims, readmetext)\n",
    "        if length(p.captures) == 2\n",
    "            head, text = p.captures\n",
    "            head = strip(replace(head, \"#\" => \"\"))\n",
    "            push!(S, (; head, text))\n",
    "            length(S) == maxsections && break\n",
    "        end\n",
    "    end\n",
    "    \n",
    "    if 0 == length(S)\n",
    "        push!(S, (head=\"\", text=readmetext))\n",
    "    end\n",
    "    S\n",
    "end\n",
    "\n",
    "function packages_metadata()\n",
    "    packages = ZipFile.Reader(get_julia_packages())\n",
    "    readme = Dict{String, Int}()\n",
    "    metadata = Dict{String, Int}()\n",
    "    \n",
    "    for (i, file) in enumerate(packages.files)\n",
    "        arr = splitpath(file.name)\n",
    "        name, kind = arr[end-1], arr[end]\n",
    "        if kind == \"Metadata.json\"\n",
    "            metadata[name] = i\n",
    "        else\n",
    "            readme[name] = i\n",
    "        end\n",
    "    end\n",
    "\n",
    "    packages, readme, metadata\n",
    "end\n",
    "\n",
    "function read_zipped(z)\n",
    "    seekstart(z)\n",
    "    JSON.parse(read(z, String))\n",
    "end\n",
    "\n",
    "#metadata(name::String) = read_zipped(name, D.metadata)\n",
    "\n",
    "function readme(z)\n",
    "    r = read_zipped(z)\n",
    "    String(base64decode(r[\"content\"]))\n",
    "end\n",
    "\n",
    "# readme(name::String) = readme(D.readme[name])\n",
    "\n",
    "function create_dataset()\n",
    "    packages, readme_, metadata_ = packages_metadata()\n",
    "    \n",
    "    names = String[]\n",
    "    urls = String[]\n",
    "    descriptions = String[]\n",
    "    stars = Int[]\n",
    "    corpus = String[]\n",
    "    zipid = typeof((; readme=1, metadata=1))[]\n",
    "    name2id = Dict{String,Int}()\n",
    "    \n",
    "    for (k, i) in readme_\n",
    "        s = only(sections(readme(packages.files[i]), 1))\n",
    "        j = metadata_[k]\n",
    "        m = read_zipped(packages.files[j])\n",
    "        push!(names, k)\n",
    "        push!(urls, m[\"html_url\"])\n",
    "        d = m[\"description\"]\n",
    "        push!(descriptions, d === nothing ? \"_no description_\" : d)\n",
    "        push!(stars, m[\"watchers_count\"])\n",
    "        push!(corpus, s.text)\n",
    "        push!(zipid, (readme=i, metadata=j))\n",
    "        name2id[k] = length(names)\n",
    "    end    \n",
    "    \n",
    "    (; names, urls, descriptions, stars, zipid, name2id, corpus, packages)\n",
    "end\n",
    "\n",
    "function readme_and_metadata(name::String, D::NamedTuple)\n",
    "    f = D.zipid[D.name2id[\"SimilaritySearch\"]]\n",
    "    readme(D.packages.files[f.readme]), read_zipped(D.packages.files[f.metadata])\n",
    "end\n",
    "\n",
    "function package(name::String, D::NamedTuple)\n",
    "    id = D.name2id[name]\n",
    "    (; id, name, zipid=D.zipid[id], text=D.corpus[id])\n",
    "end"
   ]
  },
  {
   "cell_type": "code",
   "execution_count": 4,
   "id": "b47a51bf-dcae-4295-b11f-6a667a4bb66f",
   "metadata": {},
   "outputs": [],
   "source": [
    "D = create_dataset();"
   ]
  },
  {
   "cell_type": "code",
   "execution_count": 5,
   "id": "1897f432-4a95-4a09-ba33-e40b8c537af7",
   "metadata": {},
   "outputs": [
    {
     "data": {
      "text/plain": [
       "myvectorize_corpus (generic function with 1 method)"
      ]
     },
     "execution_count": 5,
     "metadata": {},
     "output_type": "execute_result"
    }
   ],
   "source": [
    "function create_index(vectors)\n",
    "    dist = NormalizedCosineDistance()\n",
    "    db = VectorDatabase(vectors)\n",
    "    index = SearchGraph(; dist, db, verbose=false)\n",
    "    index!(index)\n",
    "    optimize!(index, MinRecall(0.9))\n",
    "    index\n",
    "end\n",
    "\n",
    "function text_model_and_vectors(corpus;\n",
    "        textconfig=TextConfig(group_usr=false, group_url=true, del_diac=true, del_punc=true, lc=true, group_num=true, nlist=[], qlist=[4]),\n",
    "        model=VectorModel(IdfWeighting(), TfWeighting(), textconfig, corpus)\n",
    "    )\n",
    "    model = filter_tokens(model) do t\n",
    "        5 ≤ t.ndocs ≤ 1000\n",
    "    end\n",
    "    vectors = vectorize_corpus(model, textconfig, corpus)\n",
    "    (; textconfig, model, vectors)\n",
    "end\n",
    "\n",
    "myvectorize(text::String, T::NamedTuple) = vectorize(T.model, T.textconfig, text)\n",
    "myvectorize_corpus(corpus, T::NamedTuple) = vectorize_corpus(T.model, T.textconfig, corpus)"
   ]
  },
  {
   "cell_type": "code",
   "execution_count": 6,
   "id": "605ccc08-b788-46e0-856c-18570d5282e4",
   "metadata": {},
   "outputs": [
    {
     "name": "stdout",
     "output_type": "stream",
     "text": [
      "T.model = {VectorModel global_weighting=IdfWeighting(), local_weighting=TfWeighting(), train-voc=26234, train-n=6686, maxoccs=1000}\n",
      " 21.792111 seconds (12.09 M allocations: 1.523 GiB, 4.46% gc time, 30.78% compilation time)\n"
     ]
    }
   ],
   "source": [
    "T = text_model_and_vectors(D.corpus)\n",
    "@show T.model\n",
    "@time index = create_index(T.vectors);"
   ]
  },
  {
   "cell_type": "code",
   "execution_count": null,
   "id": "ecb917e8-5d60-494a-b2b4-848dd0f4f1dd",
   "metadata": {},
   "outputs": [],
   "source": []
  },
  {
   "cell_type": "code",
   "execution_count": 7,
   "id": "1af16cba-20d9-4baf-8730-3f06f10a521d",
   "metadata": {},
   "outputs": [
    {
     "data": {
      "text/plain": [
       "search_and_display (generic function with 1 method)"
      ]
     },
     "execution_count": 7,
     "metadata": {},
     "output_type": "execute_result"
    }
   ],
   "source": [
    "function search_and_display(text, k, D, T)\n",
    "    res = KnnResult(k)\n",
    "    search(index, myvectorize(text, T), res)\n",
    "    display(\"text/markdown\", \"# Results for `$text`\")\n",
    "    \n",
    "    for (i, (id_, dist_)) in enumerate(res)\n",
    "        display(@htl \"\"\"\n",
    "            <hr />\n",
    "            <div style=\"padding: 0.5em; border-style: solid; border-color: #557799;\">\n",
    "            <div><a href=\"$(D.urls[id_])\">$(D.names[id_])</a> &nbsp;&nbsp; ⭐ $(D.stars[id_]) </div>\n",
    "            <div> $(D.descriptions[id_])</div>\n",
    "            <span style=\"color: #aaaa30;\">debug:: i: $i, id: $id_, dist=$dist_</span>\n",
    "            </div>\n",
    "        \"\"\")\n",
    "        display(\"text/markdown\", D.corpus[id_])\n",
    "    end\n",
    "end\n",
    "\n",
    "#search_and_display(\"similarity search nearest neighbor\", 10, D, T)\n"
   ]
  },
  {
   "cell_type": "code",
   "execution_count": 8,
   "id": "05c37f2a-d934-42f8-809e-7994b3704dfc",
   "metadata": {
    "tags": []
   },
   "outputs": [
    {
     "data": {
      "text/markdown": [
       "# Results for `markdown parser`"
      ]
     },
     "metadata": {},
     "output_type": "display_data"
    },
    {
     "data": {
      "text/html": [
       "    <hr />\n",
       "    <div style=\"padding: 0.5em; border-style: solid; border-color: #557799;\">\n",
       "    <div><a href=\"https://github.com/JuliaPluto/MarkdownLiteral.jl\">MarkdownLiteral</a> &nbsp;&nbsp; ⭐ 19 </div>\n",
       "    <div> A Markdown macro that won&apos;t let you down.</div>\n",
       "    <span style=\"color: #aaaa30;\">debug:: i: 1, id: 137, dist=0.50167435</span>\n",
       "    </div>\n"
      ],
      "text/plain": [
       "    <hr />\n",
       "    <div style=\"padding: 0.5em; border-style: solid; border-color: #557799;\">\n",
       "    <div><a href=\"https://github.com/JuliaPluto/MarkdownLiteral.jl\">MarkdownLiteral</a> &nbsp;&nbsp; ⭐ 19 </div>\n",
       "    <div> A Markdown macro that won&apos;t let you down.</div>\n",
       "    <span style=\"color: #aaaa30;\">debug:: i: 1, id: 137, dist=0.50167435</span>\n",
       "    </div>\n"
      ]
     },
     "metadata": {},
     "output_type": "display_data"
    },
    {
     "data": {
      "text/markdown": [
       "\n",
       "The macro `@markdown` lets you write [Markdown](https://www.markdownguide.org/getting-started/) inside Pluto notebooks. *Here is an example:*\n",
       "\n",
       "```julia\n",
       "@markdown(\"\"\"\n"
      ]
     },
     "metadata": {},
     "output_type": "display_data"
    },
    {
     "data": {
      "text/html": [
       "    <hr />\n",
       "    <div style=\"padding: 0.5em; border-style: solid; border-color: #557799;\">\n",
       "    <div><a href=\"https://github.com/GenieFramework/SwaggerMarkdown.jl\">SwaggerMarkdown</a> &nbsp;&nbsp; ⭐ 3 </div>\n",
       "    <div> _no description_</div>\n",
       "    <span style=\"color: #aaaa30;\">debug:: i: 2, id: 49, dist=0.6315447</span>\n",
       "    </div>\n"
      ],
      "text/plain": [
       "    <hr />\n",
       "    <div style=\"padding: 0.5em; border-style: solid; border-color: #557799;\">\n",
       "    <div><a href=\"https://github.com/GenieFramework/SwaggerMarkdown.jl\">SwaggerMarkdown</a> &nbsp;&nbsp; ⭐ 3 </div>\n",
       "    <div> _no description_</div>\n",
       "    <span style=\"color: #aaaa30;\">debug:: i: 2, id: 49, dist=0.6315447</span>\n",
       "    </div>\n"
      ]
     },
     "metadata": {},
     "output_type": "display_data"
    },
    {
     "data": {
      "text/markdown": [
       "[![codecov](https://codecov.io/gh/jiachengzhang1/SwaggerMarkdown/branch/master/graph/badge.svg?token=GF65PUANJ2)](https://codecov.io/gh/jiachengzhang1/SwaggerMarkdown)\n",
       "\n",
       "Swagger Markdown allows you to generate `swagger.json` for API documentation from the julia source code. The package uses marco to process the markdown that contains an API endpoint's documentation. The markdowon needs to follow the `paths` described by the OpenAPI Specification ([v3](https://swagger.io/specification/"
      ]
     },
     "metadata": {},
     "output_type": "display_data"
    },
    {
     "data": {
      "text/html": [
       "    <hr />\n",
       "    <div style=\"padding: 0.5em; border-style: solid; border-color: #557799;\">\n",
       "    <div><a href=\"https://github.com/JuliaGtk/GtkMarkdownTextView.jl\">GtkMarkdownTextView</a> &nbsp;&nbsp; ⭐ 4 </div>\n",
       "    <div> A simple GtkTextView to display markdown text</div>\n",
       "    <span style=\"color: #aaaa30;\">debug:: i: 3, id: 5934, dist=0.67215526</span>\n",
       "    </div>\n"
      ],
      "text/plain": [
       "    <hr />\n",
       "    <div style=\"padding: 0.5em; border-style: solid; border-color: #557799;\">\n",
       "    <div><a href=\"https://github.com/JuliaGtk/GtkMarkdownTextView.jl\">GtkMarkdownTextView</a> &nbsp;&nbsp; ⭐ 4 </div>\n",
       "    <div> A simple GtkTextView to display markdown text</div>\n",
       "    <span style=\"color: #aaaa30;\">debug:: i: 3, id: 5934, dist=0.67215526</span>\n",
       "    </div>\n"
      ]
     },
     "metadata": {},
     "output_type": "display_data"
    },
    {
     "data": {
      "text/markdown": [
       "\n",
       "[![Build Status](https://travis-ci.org/jonathanBieler/GtkMarkdownTextView.jl.svg?branch=master)](https://travis-ci.org/jonathanBieler/GtkMarkdownTextView.jl)\n",
       "\n",
       "[![Coverage Status](https://coveralls.io/repos/jonathanBieler/GtkMarkdownTextView.jl/badge.svg?branch=master&service=github)](https://coveralls.io/github/jonathanBieler/GtkMarkdownTextView.jl?branch=master)\n",
       "\n",
       "A widget to display simple markdown formatted text:\n",
       "\n",
       "![screenshot](assets/GtkMarkdownTextView.png)\n",
       "\n",
       "```julia\n",
       "w = GtkWindow(\"\")\n",
       "\n",
       "md = \"\"\"\n"
      ]
     },
     "metadata": {},
     "output_type": "display_data"
    },
    {
     "data": {
      "text/html": [
       "    <hr />\n",
       "    <div style=\"padding: 0.5em; border-style: solid; border-color: #557799;\">\n",
       "    <div><a href=\"https://github.com/JunoLab/Weave.jl\">Weave</a> &nbsp;&nbsp; ⭐ 707 </div>\n",
       "    <div> Scientific reports/literate programming for Julia</div>\n",
       "    <span style=\"color: #aaaa30;\">debug:: i: 4, id: 147, dist=0.68708843</span>\n",
       "    </div>\n"
      ],
      "text/plain": [
       "    <hr />\n",
       "    <div style=\"padding: 0.5em; border-style: solid; border-color: #557799;\">\n",
       "    <div><a href=\"https://github.com/JunoLab/Weave.jl\">Weave</a> &nbsp;&nbsp; ⭐ 707 </div>\n",
       "    <div> Scientific reports/literate programming for Julia</div>\n",
       "    <span style=\"color: #aaaa30;\">debug:: i: 4, id: 147, dist=0.68708843</span>\n",
       "    </div>\n"
      ]
     },
     "metadata": {},
     "output_type": "display_data"
    },
    {
     "data": {
      "text/markdown": [
       "\n",
       "![CI](https://github.com/JunoLab/Weave.jl/workflows/CI/badge.svg)\n",
       "[![codecov](https://codecov.io/gh/JunoLab/Weave.jl/branch/master/graph/badge.svg)](https://codecov.io/gh/JunoLab/Weave.jl)\n",
       "[![](https://img.shields.io/badge/docs-stable-blue.svg)](http://weavejl.mpastell.com/stable/)\n",
       "[![](https://img.shields.io/badge/docs-dev-blue.svg)](http://weavejl.mpastell.com/dev/)\n",
       "[![](http://joss.theoj.org/papers/10.21105/joss.00204/status.svg)](http://dx.doi.org/10.21105/joss.00204)\n",
       "\n",
       "Weave is a scientific report generator/literate programming tool for the [Julia programming language](https://julialang.org/).\n",
       "It resembles\n",
       "[Pweave](http://mpastell.com/pweave),\n",
       "[knitr](https://yihui.org/knitr/),\n",
       "[R Markdown](https://rmarkdown.rstudio.com/),\n",
       "and [Sweave](https://stat.ethz.ch/R-manual/R-patched/library/utils/doc/Sweave.pdf).\n",
       "\n",
       "You can write your documentation and code in input document using Markdown, Noweb or ordinal Julia script syntax,\n",
       "and then use `weave` function to execute code and generate an output document while capturing results and figures.\n",
       "\n",
       "**Current features**\n",
       "\n",
       "- Publish markdown directly to HTML and PDF using Julia or [Pandoc](https://pandoc.org/MANUAL.html)\n",
       "- Execute code as in terminal or in a unit of code chunk\n",
       "- Capture [Plots.jl](https://github.com/JuliaPlots/Plots.jl) or [Gadfly.jl](https://github.com/GiovineItalia/Gadfly.jl) figures\n",
       "- Supports various input format: Markdown, [Noweb](https://www.cs.tufts.edu/~nr/noweb/), [Jupyter Notebook](https://jupyter.org/), and ordinal Julia script\n",
       "- Conversions between those input formats\n",
       "- Supports various output document formats: HTML, PDF, GitHub markdown, Jupyter Notebook, MultiMarkdown, Asciidoc and reStructuredText\n",
       "- Simple caching of results\n",
       "\n",
       "**Citing Weave:** *Pastell, Matti. 2017. Weave.jl: Scientific Reports Using Julia. The Journal of Open Source Software. http://dx.doi.org/10.21105/joss.00204*\n",
       "\n",
       "![Weave in Juno demo](https://user-images.githubusercontent.com/40514306/76081328-32f41900-5fec-11ea-958a-375f77f642a2.png)\n",
       "\n",
       "\n"
      ]
     },
     "metadata": {},
     "output_type": "display_data"
    },
    {
     "data": {
      "text/html": [
       "    <hr />\n",
       "    <div style=\"padding: 0.5em; border-style: solid; border-color: #557799;\">\n",
       "    <div><a href=\"https://github.com/ChifiSource/ToolipsMarkdown.jl\">ToolipsMarkdown</a> &nbsp;&nbsp; ⭐ 2 </div>\n",
       "    <div> Markdown to toolips component parsing.</div>\n",
       "    <span style=\"color: #aaaa30;\">debug:: i: 5, id: 2586, dist=0.7063104</span>\n",
       "    </div>\n"
      ],
      "text/plain": [
       "    <hr />\n",
       "    <div style=\"padding: 0.5em; border-style: solid; border-color: #557799;\">\n",
       "    <div><a href=\"https://github.com/ChifiSource/ToolipsMarkdown.jl\">ToolipsMarkdown</a> &nbsp;&nbsp; ⭐ 2 </div>\n",
       "    <div> Markdown to toolips component parsing.</div>\n",
       "    <span style=\"color: #aaaa30;\">debug:: i: 5, id: 2586, dist=0.7063104</span>\n",
       "    </div>\n"
      ]
     },
     "metadata": {},
     "output_type": "display_data"
    },
    {
     "data": {
      "text/markdown": [
       "This extension, **[toolips markdown](http://github.com/ChifiSource/ToolipsMarkdown.jl)** allows the conversion of regular markdown into Toolips components.\n",
       "\"\"\"\n",
       "heading1s = Style(\"h1\", color = \"pink\")\n",
       "heading1s:\"hover\":[\"color\" => \"lightblue\"]\n",
       "\n",
       "myroute = route(\"/\") do c::Connection\n",
       "    write!(c, heading1s)\n",
       "    mdexample2 = tmd(\"mymarkdown\", \""
      ]
     },
     "metadata": {},
     "output_type": "display_data"
    },
    {
     "data": {
      "text/html": [
       "    <hr />\n",
       "    <div style=\"padding: 0.5em; border-style: solid; border-color: #557799;\">\n",
       "    <div><a href=\"https://github.com/JuliaDocs/DocumenterMarkdown.jl\">DocumenterMarkdown</a> &nbsp;&nbsp; ⭐ 7 </div>\n",
       "    <div> Documenter&apos;s Markdown / MkDocs backend</div>\n",
       "    <span style=\"color: #aaaa30;\">debug:: i: 6, id: 6052, dist=0.73124504</span>\n",
       "    </div>\n"
      ],
      "text/plain": [
       "    <hr />\n",
       "    <div style=\"padding: 0.5em; border-style: solid; border-color: #557799;\">\n",
       "    <div><a href=\"https://github.com/JuliaDocs/DocumenterMarkdown.jl\">DocumenterMarkdown</a> &nbsp;&nbsp; ⭐ 7 </div>\n",
       "    <div> Documenter&apos;s Markdown / MkDocs backend</div>\n",
       "    <span style=\"color: #aaaa30;\">debug:: i: 6, id: 6052, dist=0.73124504</span>\n",
       "    </div>\n"
      ]
     },
     "metadata": {},
     "output_type": "display_data"
    },
    {
     "data": {
      "text/markdown": [
       "\n",
       "| **Build Status**                                        |\n",
       "|:-------------------------------------------------------:|\n",
       "| [![][gha-img]][gha-url] [![][codecov-img]][codecov-url] |\n",
       "\n",
       "This package provides a Markdown / MkDocs backend to [`Documenter.jl`][documenter].\n",
       "\n",
       "**Package status:** Currently, the package does not work with the 0.28 branch of Documenter, and\n",
       "therefore the latest versions of Documenter do not have a Markdown backend available.\n",
       "Older, released versions of this package can still be used together with older versions of Documenter (0.27\n",
       "and earlier) to enable the Markdown backend built in to those versions of Documenter.\n",
       "\n",
       "Right now, this package is not actively maintained. However, contributions are welcome by anyone\n",
       "who might be interested in using and developing this backend.\n",
       "\n"
      ]
     },
     "metadata": {},
     "output_type": "display_data"
    },
    {
     "data": {
      "text/html": [
       "    <hr />\n",
       "    <div style=\"padding: 0.5em; border-style: solid; border-color: #557799;\">\n",
       "    <div><a href=\"https://github.com/JuliaData/Parsers.jl\">Parsers</a> &nbsp;&nbsp; ⭐ 84 </div>\n",
       "    <div> fast parsing machinery for basic types in Julia</div>\n",
       "    <span style=\"color: #aaaa30;\">debug:: i: 7, id: 1282, dist=0.7353423</span>\n",
       "    </div>\n"
      ],
      "text/plain": [
       "    <hr />\n",
       "    <div style=\"padding: 0.5em; border-style: solid; border-color: #557799;\">\n",
       "    <div><a href=\"https://github.com/JuliaData/Parsers.jl\">Parsers</a> &nbsp;&nbsp; ⭐ 84 </div>\n",
       "    <div> fast parsing machinery for basic types in Julia</div>\n",
       "    <span style=\"color: #aaaa30;\">debug:: i: 7, id: 1282, dist=0.7353423</span>\n",
       "    </div>\n"
      ]
     },
     "metadata": {},
     "output_type": "display_data"
    },
    {
     "data": {
      "text/markdown": [
       "```julia\n",
       "using Parsers\n",
       "\n"
      ]
     },
     "metadata": {},
     "output_type": "display_data"
    },
    {
     "data": {
      "text/html": [
       "    <hr />\n",
       "    <div style=\"padding: 0.5em; border-style: solid; border-color: #557799;\">\n",
       "    <div><a href=\"https://github.com/tkf/DisplayAs.jl\">DisplayAs</a> &nbsp;&nbsp; ⭐ 17 </div>\n",
       "    <div> _no description_</div>\n",
       "    <span style=\"color: #aaaa30;\">debug:: i: 8, id: 2293, dist=0.7426475</span>\n",
       "    </div>\n"
      ],
      "text/plain": [
       "    <hr />\n",
       "    <div style=\"padding: 0.5em; border-style: solid; border-color: #557799;\">\n",
       "    <div><a href=\"https://github.com/tkf/DisplayAs.jl\">DisplayAs</a> &nbsp;&nbsp; ⭐ 17 </div>\n",
       "    <div> _no description_</div>\n",
       "    <span style=\"color: #aaaa30;\">debug:: i: 8, id: 2293, dist=0.7426475</span>\n",
       "    </div>\n"
      ]
     },
     "metadata": {},
     "output_type": "display_data"
    },
    {
     "data": {
      "text/markdown": [
       "\n",
       "[![Stable](https://img.shields.io/badge/docs-stable-blue.svg)](https://tkf.github.io/DisplayAs.jl/stable)\n",
       "[![Dev](https://img.shields.io/badge/docs-dev-blue.svg)](https://tkf.github.io/DisplayAs.jl/dev)\n",
       "[![Run tests](https://github.com/tkf/DisplayAs.jl/actions/workflows/test.yml/badge.svg)](https://github.com/tkf/DisplayAs.jl/actions/workflows/test.yml)\n",
       "[![Codecov](https://codecov.io/gh/tkf/DisplayAs.jl/branch/master/graph/badge.svg)](https://codecov.io/gh/tkf/DisplayAs.jl)\n",
       "[![Aqua QA](https://raw.githubusercontent.com/JuliaTesting/Aqua.jl/master/badge.svg)](https://github.com/JuliaTesting/Aqua.jl)\n",
       "[![GitHub last commit](https://img.shields.io/github/last-commit/tkf/DisplayAs.jl.svg?style=social&logo=github)](https://github.com/tkf/DisplayAs.jl)\n",
       "\n",
       "DisplayAs.jl provides functions to show objects in a chosen MIME type.\n",
       "\n",
       "```julia\n",
       "julia> using DisplayAs\n",
       "       using Markdown\n",
       "\n",
       "julia> md_as_html = Markdown.parse(\"hello\") |> DisplayAs.HTML;\n",
       "\n",
       "julia> showable(\"text/html\", md_as_html)\n",
       "true\n",
       "\n",
       "julia> showable(\"text/markdown\", md_as_html)\n",
       "false\n",
       "\n",
       "julia> md_as_md = Markdown.parse(\"hello\") |> DisplayAs.MD;\n",
       "\n",
       "julia> showable(\"text/html\", md_as_md)\n",
       "false\n",
       "\n",
       "julia> showable(\"text/markdown\", md_as_md)\n",
       "true\n",
       "```\n",
       "\n",
       "It is also possible to use nesting in order to allow the object to be displayed\n",
       "as multiple MIME types:\n",
       "\n",
       "```julia\n",
       "julia> md_as_html_or_text = Markdown.parse(\"hello\") |> DisplayAs.HTML |> DisplayAs.Text;\n",
       "\n",
       "julia> showable(\"text/html\", md_as_html_or_text)\n",
       "true\n",
       "\n",
       "julia> showable(\"text/plain\", md_as_html_or_text)\n",
       "true\n",
       "\n",
       "julia> showable(\"text/markdown\", md_as_html_or_text)\n",
       "false\n",
       "```\n"
      ]
     },
     "metadata": {},
     "output_type": "display_data"
    },
    {
     "data": {
      "text/html": [
       "    <hr />\n",
       "    <div style=\"padding: 0.5em; border-style: solid; border-color: #557799;\">\n",
       "    <div><a href=\"https://github.com/tkf/ExternalDocstrings.jl\">ExternalDocstrings</a> &nbsp;&nbsp; ⭐ 2 </div>\n",
       "    <div> _no description_</div>\n",
       "    <span style=\"color: #aaaa30;\">debug:: i: 9, id: 5818, dist=0.76033187</span>\n",
       "    </div>\n"
      ],
      "text/plain": [
       "    <hr />\n",
       "    <div style=\"padding: 0.5em; border-style: solid; border-color: #557799;\">\n",
       "    <div><a href=\"https://github.com/tkf/ExternalDocstrings.jl\">ExternalDocstrings</a> &nbsp;&nbsp; ⭐ 2 </div>\n",
       "    <div> _no description_</div>\n",
       "    <span style=\"color: #aaaa30;\">debug:: i: 9, id: 5818, dist=0.76033187</span>\n",
       "    </div>\n"
      ]
     },
     "metadata": {},
     "output_type": "display_data"
    },
    {
     "data": {
      "text/markdown": [
       "\n",
       "[![Dev](https://img.shields.io/badge/docs-dev-blue.svg)](https://tkf.github.io/ExternalDocstrings.jl/dev)\n",
       "[![CI](https://github.com/tkf/ExternalDocstrings.jl/actions/workflows/test.yml/badge.svg)](https://github.com/tkf/ExternalDocstrings.jl/actions/workflows/test.yml)\n",
       "\n",
       "ExternalDocstrings.jl is a helper for writing docstrings in markdown files.\n",
       "\n",
       "See the [documentation](https://tkf.github.io/ExternalDocstrings.jl/dev) for more information.\n",
       "\n"
      ]
     },
     "metadata": {},
     "output_type": "display_data"
    },
    {
     "data": {
      "text/html": [
       "    <hr />\n",
       "    <div style=\"padding: 0.5em; border-style: solid; border-color: #557799;\">\n",
       "    <div><a href=\"https://github.com/JuliaWeb/UAParser.jl\">UAParser</a> &nbsp;&nbsp; ⭐ 7 </div>\n",
       "    <div> Parse user-agent strings into components</div>\n",
       "    <span style=\"color: #aaaa30;\">debug:: i: 10, id: 922, dist=0.7849526</span>\n",
       "    </div>\n"
      ],
      "text/plain": [
       "    <hr />\n",
       "    <div style=\"padding: 0.5em; border-style: solid; border-color: #557799;\">\n",
       "    <div><a href=\"https://github.com/JuliaWeb/UAParser.jl\">UAParser</a> &nbsp;&nbsp; ⭐ 7 </div>\n",
       "    <div> Parse user-agent strings into components</div>\n",
       "    <span style=\"color: #aaaa30;\">debug:: i: 10, id: 922, dist=0.7849526</span>\n",
       "    </div>\n"
      ]
     },
     "metadata": {},
     "output_type": "display_data"
    },
    {
     "data": {
      "text/markdown": [
       "\n",
       "[![Build Status](https://travis-ci.org/JuliaWeb/UAParser.jl.svg?branch=master)](https://travis-ci.org/JuliaWeb/UAParser.jl) </br>\n",
       "[![Coverage Status](https://coveralls.io/repos/JuliaWeb/UAParser.jl/badge.svg)](https://coveralls.io/r/JuliaWeb/UAParser.jl)\n",
       "\n",
       "\n",
       "UAParser is a Julia port of [ua-parser](https://github.com/ua-parser/uap-python), which itself is a multi-language port of [BrowserScope's](http://www.browserscope.org) [user agent string parser](http://code.google.com/p/ua-parser/). Per the [README file](https://github.com/ua-parser/uap-core/blob/master/README.md) of the main project:\n",
       "\n",
       "> \"The crux of the original parser--the data collected by [Steve Souders](http://stevesouders.com/) over the years--has been extracted into a separate [YAML file](https://github.com/tobie/ua-parser/blob/master/regexes.yaml) so as to be reusable _as is_ by implementations in other programming languages.\"\n",
       "\n",
       "UAParser is a limited Julia implementation heavily influenced by the [Python code](https://github.com/ua-parser/uap-python) from the ua-parser library.\n",
       "\n",
       "New regexes have were retrieved from [here](https://github.com/ua-parser/uap-core/blob/master/regexes.yaml) on 2018-12-19.\n",
       "\n"
      ]
     },
     "metadata": {},
     "output_type": "display_data"
    }
   ],
   "source": [
    "search_and_display(\"markdown parser\", 10, D, T)"
   ]
  }
 ],
 "metadata": {
  "@webio": {
   "lastCommId": "94084a69-61cc-4f39-92dc-5a6a54d7410a",
   "lastKernelId": "9afc6a52-8bb3-42ac-b616-1f13eb439e43"
  },
  "kernelspec": {
   "display_name": "Julia 1.7.2",
   "language": "julia",
   "name": "julia-1.7.2"
  },
  "language_info": {
   "file_extension": ".jl",
   "mimetype": "application/julia",
   "name": "julia",
   "version": "1.7.2"
  }
 },
 "nbformat": 4,
 "nbformat_minor": 5
}
