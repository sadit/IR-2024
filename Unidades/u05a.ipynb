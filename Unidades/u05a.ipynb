{
 "cells": [
  {
   "cell_type": "markdown",
   "id": "9fc189d2-656e-41d4-be84-dcf6ccf9537b",
   "metadata": {},
   "source": [
    "# Modelado semántico\n",
    "Autor: Eric S. Tellez <eric.tellez@infotec.mx>\n",
    "\n",
    "El modelado léxico tiene importantes usos en la recuperación de información; los sistemas pueden ser altamente escalables si hay una implementación adecuada en índice invertido. Sin embargo, sufren de diversos problemas debido a su naturaleza:\n",
    "\n",
    "- Las consultas deben ser expresadas con los mismos términos que los documentos.\n",
    "- Los términos con múltiples significados pueden introducir falsos positivos en los resultados.\n",
    "- En general se tienen problemas con la sinónimia, la homonimia, y la hiponimia, así como las variaciones léxicas resultantes de errores ortográficos, ya sean intencionados o involuntarios.\n",
    "\n",
    "Aunque existen soluciones dos grandes vertientes de modelado semántico:\n",
    "- Modelado del vocabulario: Intententa asignar cada palabra del vocabulario a un _concepto_ o significado _semántico_, que esta representado por un vector de alta dimensión (embedding).\n",
    "- Modelado del lenguaje: Intenta modelar el lenguaje, normalmente aprendiendo que palabras pueden seguir a un contexto dado. La diferencia principal al modelado de vocabulario es que cuando se modela el lenguaje se tiene un modelo sensible al contexto, y por lo tanto, para una misma palabra, el contexto completo derminará su vector _embedding_. \n",
    "\n",
    "Aunque existen diversos intentos de modelado semántico en la literatura clásica, hasta tiempos recientes es cuando ha tomado gran interés debido a los impresionantes avances en redes neuronales profundas que han permitido aprender estos modelos de enormes colecciones, capturando una semántica profunda. Los grandes modelos de lenguaje han abierto nuevas posibilidades sobre las aplicaciones posibles en recuperación de información.\n",
    "\n",
    "## Sobre las representaciones de documentos\n",
    "Los modelos semánticos de palabras, anteriormente discutidos, son insuficientes para la representación de documentos; para conseguir representaciones de documentos hay diferentes estrategias. Por ejemplo, es posible generar combinaciones lineales de los embeddings individuales para generar vector embedding de documento. Algunos modelos basados en redes neuronales, generan embeddings de documento por diseño.\n",
    "\n",
    "\n",
    "## Organización del resto de la unidad\n",
    "Esta únidad esta dividida en dos notebooks. El primero (este documento) está dedicado al modelado semántico de vocabularios, mientras que el segundo se enfoca a modelos de lenguaje que trabajen sobre documentos. \n",
    "\n",
    "# Modelado semántico de vocabularios\n",
    "El modelado basado en vocabularios o léxico tiene una gran cantidad de aplicaciones, las cuales son suelen explotar la gran cantidad de grados de libertad en el preprocesamiento, toquenizado y pesado, para ajustar a las tareas deseadas. Sin embargo, dicho modelado tiene problemas basados en la semántica:\n",
    "\n",
    "- si las consultas tienen palabras no conocidas (fuera de vocabulario), no es posible ligar a palabras similares por semántica \n",
    "- las palabras similares en el vocabulario pero no iguales, no puede relacionarse para reducir un vocabulario, o para cualquier otro efecto\n",
    "- las palabras que se escriben igual pero que tienen significado idéntico serán puestas en la misma bolsa\n",
    "\n",
    "De manera más detallada, se tendrán problemas al manejar sinónimos, hipónimos, antónimos, etc. Adicionalmente, los errores serán tratados como palabras diferentes y no ajustados al mejor calce conocido (a menos que exista un corrector ortográfico entre el preprocesamiento).\n",
    "\n",
    "Estos problemas se buscan reducir con representaciones semánticas de los vocabularios y de los textos, esto sería equivalente. El intento sería buscar por conceptos más que por palabras que lo describan.\n",
    "En este punto aparecen los modelos semánticos, los cuales suelen ser representaciones vectoriales densas _embeddings_, de alta dimensión pero mucho menor que las representaciones léxicas (i.e., pasarían a unos pocos cientos en lugar de varias decenas de miles o cientos de miles de coordinadas).\n",
    "\n",
    "# Word embeddings\n",
    "Las representaciones de vectores densos de las palabras se suelen construir utilizando la [_hipótesis distribucional_](https://aclweb.org/aclwiki/Distributional_Hypothesis), que se puede resumir que las palabras con contextos similares (palabras que la rodean) tienen un significado similar. Entonces, para obtener la semántica, es necesario comparar contextos; lo anterior se puede llevar a cabo de diferentes maneras.\n",
    "\n",
    "- Latent semantic analysis (LSA): La matriz $W_{m,n}^*$  con pesos basados en frecuencias es usada para reducir el numero de filas (palabras) mediante _Singular Value Decomposition_ (SVD). La similitud adecuada entre vectores en el espacio de dimensión reducida es el coseno. Ver [@Dumais2004] para más información.\n",
    "- Latent semantic indexing (LSI): Similar a LSA pero usando esquemas de pesado diferentes, adicionalmente se usa Trucated SVD (TSVD) en lugar de SVD ya que puede seleccionar componentes más importantes. Para más detalles ver [@Hofman1999].\n",
    "- Word2Vec. Se construye una red neuronal con una matriz de pesos del tamaño del vocabulario por una dimensión seleccionada, a partir de los contextos. Revisa los textos de entrenamiento mediante una ventana móvil. De manera especial, se tiene que el centro de la ventana es la palabra objetivo y el contexto esta a su alrededor. Se intenta predecir mediante el contexto la palabra central, y se ajusta mediante propagación hacia atrás. La función de perdida suele ser [softmax](https://en.wikipedia.org/wiki/Softmax_function) o hierachical softmax. Los embeddings no son la capa de salida sino una capa atrás. Para más detalles ver [@MCCD2013].\n",
    "- Glove. Se utiliza una matriz de coocurrencia de términos dentro de una ventana deslizante que analiza una colección de textos. La matriz es altamente dispersa y de alta dimensión. Plantea un problema de optimización lineal para capturar la información más útil y bajar su dimensión. Los detalles se pueden consultar en [@PSM2014]. \n",
    "- FastText. Muy similar a Word2Vec pero añade manejo de palabras fuera de diccionario mediante subwords (similar a q-gramas de carácteres por cada palabra). Ver [@BGJM2017] para mayores detalles.\n",
    "\n",
    "## Nota\n",
    "Este notebook esta basado en <https://github.com/sadit/SimilaritySearchDemos/blob/main/Glove/Glove.ipynb>. En el notebook original se muestran visualizaciones basadas en todos los vecinos cercanos (se verán más adelante en el curso).\n",
    "\n",
    "# Ejemplo\n",
    "\n",
    "El resto del documento muestra como usar word embeddings Glove para precalculados, para resolver tareas de vecinos cercanos y resolución de analogías."
   ]
  },
  {
   "cell_type": "code",
   "execution_count": 2,
   "id": "cd04785e-aa4e-493c-9aa8-5c54c8e1f322",
   "metadata": {},
   "outputs": [
    {
     "name": "stderr",
     "output_type": "stream",
     "text": [
      "\u001b[32m\u001b[1m  Activating\u001b[22m\u001b[39m project at `~/Cursos/IR-2024/Unidades`\n"
     ]
    }
   ],
   "source": [
    "using Pkg\n",
    "Pkg.activate(\".\")\n",
    "using SimilaritySearch, Plots, LinearAlgebra, Embeddings, HypertextLiteral"
   ]
  },
  {
   "cell_type": "code",
   "execution_count": null,
   "id": "53e406b8-ab57-4157-8c79-cc2d51b30910",
   "metadata": {},
   "outputs": [],
   "source": []
  },
  {
   "cell_type": "code",
   "execution_count": 3,
   "id": "af8bad4e-c31b-4506-8341-47c4130d664a",
   "metadata": {},
   "outputs": [
    {
     "data": {
      "text/plain": [
       "create_index (generic function with 1 method)"
      ]
     },
     "execution_count": 3,
     "metadata": {},
     "output_type": "execute_result"
    }
   ],
   "source": [
    "function load_dataset()\n",
    "    emb = load_embeddings(GloVe, 2)  # you can change with any of the available embeddings in `Embeddings`\n",
    "    for c in eachcol(emb.embeddings)\n",
    "        normalize!(c)\n",
    "    end\n",
    "\n",
    "    db = MatrixDatabase(emb.embeddings)\n",
    "    db, emb.vocab\n",
    "end\n",
    "\n",
    "function create_index()\n",
    "    db, vocab = load_dataset()\n",
    "    dist = NormalizedCosineDistance()\n",
    "    index = SearchGraph(; dist, db)\n",
    "    index!(index)\n",
    "    optimize_index!(index, MinRecall(0.9))\n",
    "    index, vocab\n",
    "end\n"
   ]
  },
  {
   "cell_type": "markdown",
   "id": "0bcb60ff-68c0-4c09-a8dd-70079ba59994",
   "metadata": {},
   "source": [
    "### El índice métrico se crea, además se toma el vocabulario"
   ]
  },
  {
   "cell_type": "code",
   "execution_count": 4,
   "id": "3d9108c0-02a7-4afe-bfa2-7b436f7bd0f0",
   "metadata": {},
   "outputs": [
    {
     "name": "stderr",
     "output_type": "stream",
     "text": [
      "append_items! sp=3084, ep=3340, n=3340, BeamSearch\n",
      "  bsize: Int32 5\n",
      "  Δ: Float32 1.0640187f0\n",
      "  maxvisits: Int64 520\n",
      ", 2024-01-10T13:21:36\n",
      "append_items! sp=21331, ep=21587, n=21587, BeamSearch\n",
      "  bsize: Int32 10\n",
      "  Δ: Float32 1.073014f0\n",
      "  maxvisits: Int64 860\n",
      ", 2024-01-10T13:21:38.296\n",
      "append_items! sp=74530, ep=74786, n=74786, BeamSearch\n",
      "  bsize: Int32 15\n",
      "  Δ: Float32 1.1f0\n",
      "  maxvisits: Int64 1186\n",
      ", 2024-01-10T13:21:43.982\n",
      "append_items! sp=88408, ep=88664, n=88664, BeamSearch\n",
      "  bsize: Int32 52\n",
      "  Δ: Float32 1.25939f0\n",
      "  maxvisits: Int64 4692\n",
      ", 2024-01-10T13:21:45.615\n",
      "append_items! sp=94833, ep=95089, n=95089, BeamSearch\n",
      "  bsize: Int32 52\n",
      "  Δ: Float32 1.25939f0\n",
      "  maxvisits: Int64 4692\n",
      ", 2024-01-10T13:21:46.421\n",
      "append_items! sp=118734, ep=118990, n=118990, BeamSearch\n",
      "  bsize: Int32 52\n",
      "  Δ: Float32 1.25939f0\n",
      "  maxvisits: Int64 4692\n",
      ", 2024-01-10T13:21:49.611\n",
      "append_items! sp=181699, ep=181955, n=181955, BeamSearch\n",
      "  bsize: Int32 38\n",
      "  Δ: Float32 1.1235001f0\n",
      "  maxvisits: Int64 3310\n",
      ", 2024-01-10T13:21:56.904\n",
      "append_items! sp=187096, ep=187352, n=187352, BeamSearch\n",
      "  bsize: Int32 38\n",
      "  Δ: Float32 1.1235001f0\n",
      "  maxvisits: Int64 3310\n",
      ", 2024-01-10T13:21:57.543\n",
      "append_items! sp=204058, ep=204314, n=204314, BeamSearch\n",
      "  bsize: Int32 16\n",
      "  Δ: Float32 1.0280374f0\n",
      "  maxvisits: Int64 2134\n",
      ", 2024-01-10T13:21:59.416\n",
      "append_items! sp=206114, ep=206370, n=206370, BeamSearch\n",
      "  bsize: Int32 16\n",
      "  Δ: Float32 1.0280374f0\n",
      "  maxvisits: Int64 2134\n",
      ", 2024-01-10T13:21:59.624\n",
      "append_items! sp=233099, ep=233355, n=233355, BeamSearch\n",
      "  bsize: Int32 16\n",
      "  Δ: Float32 1.0280374f0\n",
      "  maxvisits: Int64 2134\n",
      ", 2024-01-10T13:22:02.634\n",
      "append_items! sp=261883, ep=262139, n=262139, BeamSearch\n",
      "  bsize: Int32 16\n",
      "  Δ: Float32 1.0280374f0\n",
      "  maxvisits: Int64 2134\n",
      ", 2024-01-10T13:22:05.748\n",
      "append_items! sp=338469, ep=338725, n=338725, BeamSearch\n",
      "  bsize: Int32 12\n",
      "  Δ: Float32 1.177f0\n",
      "  maxvisits: Int64 6420\n",
      ", 2024-01-10T13:22:14.015\n",
      "append_items! sp=362113, ep=362369, n=362369, BeamSearch\n",
      "  bsize: Int32 12\n",
      "  Δ: Float32 1.177f0\n",
      "  maxvisits: Int64 6420\n",
      ", 2024-01-10T13:22:16.548\n",
      "append_items! sp=370851, ep=371107, n=371107, BeamSearch\n",
      "  bsize: Int32 12\n",
      "  Δ: Float32 1.177f0\n",
      "  maxvisits: Int64 6420\n",
      ", 2024-01-10T13:22:17.433\n",
      "append_items! sp=385243, ep=385499, n=385499, BeamSearch\n",
      "  bsize: Int32 12\n",
      "  Δ: Float32 1.177f0\n",
      "  maxvisits: Int64 6420\n",
      ", 2024-01-10T13:22:18.911\n",
      "append_items! sp=392953, ep=393209, n=393209, BeamSearch\n",
      "  bsize: Int32 12\n",
      "  Δ: Float32 1.177f0\n",
      "  maxvisits: Int64 6420\n",
      ", 2024-01-10T13:22:19.739\n"
     ]
    },
    {
     "name": "stdout",
     "output_type": "stream",
     "text": [
      " 58.894566 seconds (8.52 M allocations: 3.536 GiB, 1.38% gc time, 4.80% compilation time: 1% of which was recompilation)\n"
     ]
    }
   ],
   "source": [
    "@time index, vocab = create_index()\n",
    "vocab2id = Dict(w => i for (i, w) in enumerate(vocab));"
   ]
  },
  {
   "cell_type": "markdown",
   "id": "7e629f24-ecf3-4908-a100-b70559dca89a",
   "metadata": {},
   "source": [
    "### Búsqueda de todos los vecinos cercanos en el vocabulario, observe la conveniencia del uso de un índice"
   ]
  },
  {
   "cell_type": "code",
   "execution_count": 5,
   "id": "f43463a8-0c73-4903-a78c-6b2405ddf812",
   "metadata": {},
   "outputs": [
    {
     "name": "stdout",
     "output_type": "stream",
     "text": [
      "  7.832779 seconds (1.52 M allocations: 178.705 MiB, 3.69% gc time, 10.29% compilation time)\n",
      "271.558314 seconds (323.74 k allocations: 117.807 MiB, 0.12% compilation time)\n"
     ]
    },
    {
     "data": {
      "text/plain": [
       "0.9079178125"
      ]
     },
     "execution_count": 5,
     "metadata": {},
     "output_type": "execute_result"
    }
   ],
   "source": [
    "let k = 32\n",
    "    @time iI, _ = allknn(index, k)\n",
    "    # WARNING: Don't run the following line, it takes too much time\n",
    "    @time gI, _ = allknn(ExhaustiveSearch(; db=index.db, dist=index.dist), k)\n",
    "    macrorecall(gI, iI)\n",
    "end"
   ]
  },
  {
   "cell_type": "markdown",
   "id": "51b68d72-5256-49ad-b22b-e896f58bc29f",
   "metadata": {},
   "source": [
    "### Búsqueda y presentación de los resultados"
   ]
  },
  {
   "cell_type": "code",
   "execution_count": 9,
   "id": "e045135e-4189-47cc-9513-72a5000527f6",
   "metadata": {},
   "outputs": [
    {
     "data": {
      "text/html": [
       "<h1>Ejemplos de búsqueda (aleatorios)</h1>"
      ],
      "text/plain": [
       "<h1>Ejemplos de búsqueda (aleatorios)</h1>"
      ]
     },
     "metadata": {},
     "output_type": "display_data"
    },
    {
     "name": "stdout",
     "output_type": "stream",
     "text": [
      "  0.000597 seconds (3 allocations: 128 bytes)\n"
     ]
    },
    {
     "data": {
      "text/html": [
       "<h2>resultados for \"trackman\"</h2>\n",
       "<table>\n",
       "<th>  <td>word</td> <td>id</td> <td>dist</td> </th>\n",
       "    <tr><td>1</td><td>trackman</td><td>358840</td><td>0.0</td></tr><tr><td>2</td><td>k-factor</td><td>354521</td><td>0.273</td></tr><tr><td>3</td><td>calyptra</td><td>342308</td><td>0.284</td></tr><tr><td>4</td><td>triquetra</td><td>360038</td><td>0.296</td></tr><tr><td>5</td><td>two-layer</td><td>367979</td><td>0.302</td></tr><tr><td>6</td><td>soteria</td><td>334357</td><td>0.306</td></tr><tr><td>7</td><td>wubi</td><td>329119</td><td>0.307</td></tr>\n",
       "</table>\n"
      ],
      "text/plain": [
       "<h2>resultados for \"trackman\"</h2>\n",
       "<table>\n",
       "<th>  <td>word</td> <td>id</td> <td>dist</td> </th>\n",
       "    <tr><td>1</td><td>trackman</td><td>358840</td><td>0.0</td></tr><tr><td>2</td><td>k-factor</td><td>354521</td><td>0.273</td></tr><tr><td>3</td><td>calyptra</td><td>342308</td><td>0.284</td></tr><tr><td>4</td><td>triquetra</td><td>360038</td><td>0.296</td></tr><tr><td>5</td><td>two-layer</td><td>367979</td><td>0.302</td></tr><tr><td>6</td><td>soteria</td><td>334357</td><td>0.306</td></tr><tr><td>7</td><td>wubi</td><td>329119</td><td>0.307</td></tr>\n",
       "</table>\n"
      ]
     },
     "metadata": {},
     "output_type": "display_data"
    },
    {
     "name": "stdout",
     "output_type": "stream",
     "text": [
      "  0.000276 seconds (3 allocations: 128 bytes)\n"
     ]
    },
    {
     "data": {
      "text/html": [
       "<h2>resultados for \"10-step\"</h2>\n",
       "<table>\n",
       "<th>  <td>word</td> <td>id</td> <td>dist</td> </th>\n",
       "    <tr><td>1</td><td>10-step</td><td>331786</td><td>0.0</td></tr><tr><td>2</td><td>counter-proposal</td><td>374976</td><td>0.268</td></tr><tr><td>3</td><td>u.s.-orchestrated</td><td>345590</td><td>0.271</td></tr><tr><td>4</td><td>u.s.-inspired</td><td>231938</td><td>0.271</td></tr><tr><td>5</td><td>photo-shoot</td><td>336587</td><td>0.275</td></tr><tr><td>6</td><td>lightscribe</td><td>379165</td><td>0.285</td></tr><tr><td>7</td><td>governmentwide</td><td>261898</td><td>0.29</td></tr>\n",
       "</table>\n"
      ],
      "text/plain": [
       "<h2>resultados for \"10-step\"</h2>\n",
       "<table>\n",
       "<th>  <td>word</td> <td>id</td> <td>dist</td> </th>\n",
       "    <tr><td>1</td><td>10-step</td><td>331786</td><td>0.0</td></tr><tr><td>2</td><td>counter-proposal</td><td>374976</td><td>0.268</td></tr><tr><td>3</td><td>u.s.-orchestrated</td><td>345590</td><td>0.271</td></tr><tr><td>4</td><td>u.s.-inspired</td><td>231938</td><td>0.271</td></tr><tr><td>5</td><td>photo-shoot</td><td>336587</td><td>0.275</td></tr><tr><td>6</td><td>lightscribe</td><td>379165</td><td>0.285</td></tr><tr><td>7</td><td>governmentwide</td><td>261898</td><td>0.29</td></tr>\n",
       "</table>\n"
      ]
     },
     "metadata": {},
     "output_type": "display_data"
    },
    {
     "name": "stdout",
     "output_type": "stream",
     "text": [
      "  0.000586 seconds (3 allocations: 128 bytes)\n"
     ]
    },
    {
     "data": {
      "text/html": [
       "<h2>resultados for \"phillinganes\"</h2>\n",
       "<table>\n",
       "<th>  <td>word</td> <td>id</td> <td>dist</td> </th>\n",
       "    <tr><td>1</td><td>phillinganes</td><td>387519</td><td>0.0</td></tr><tr><td>2</td><td>proops</td><td>238001</td><td>0.257</td></tr><tr><td>3</td><td>luzinski</td><td>237569</td><td>0.276</td></tr><tr><td>4</td><td>kurstin</td><td>172215</td><td>0.279</td></tr><tr><td>5</td><td>leisz</td><td>283755</td><td>0.28</td></tr><tr><td>6</td><td>keagle</td><td>292174</td><td>0.289</td></tr><tr><td>7</td><td>cadaret</td><td>275195</td><td>0.316</td></tr>\n",
       "</table>\n"
      ],
      "text/plain": [
       "<h2>resultados for \"phillinganes\"</h2>\n",
       "<table>\n",
       "<th>  <td>word</td> <td>id</td> <td>dist</td> </th>\n",
       "    <tr><td>1</td><td>phillinganes</td><td>387519</td><td>0.0</td></tr><tr><td>2</td><td>proops</td><td>238001</td><td>0.257</td></tr><tr><td>3</td><td>luzinski</td><td>237569</td><td>0.276</td></tr><tr><td>4</td><td>kurstin</td><td>172215</td><td>0.279</td></tr><tr><td>5</td><td>leisz</td><td>283755</td><td>0.28</td></tr><tr><td>6</td><td>keagle</td><td>292174</td><td>0.289</td></tr><tr><td>7</td><td>cadaret</td><td>275195</td><td>0.316</td></tr>\n",
       "</table>\n"
      ]
     },
     "metadata": {},
     "output_type": "display_data"
    }
   ],
   "source": [
    "function search_and_display(index, vocab, q, res, k, qword)\n",
    "    res = reuse!(res, k)\n",
    "    @time search(index, q, res)\n",
    "\n",
    "    L = []\n",
    "    for (j, p) in enumerate(res)\n",
    "        push!(L, @htl \"<tr><td>$j</td><td>$(vocab[p.id])</td><td>$(p.id)</td><td>$(round(p.weight, digits=3))</td></tr>\")\n",
    "    end\n",
    "\n",
    "    display(@htl \"\"\"<h2>resultados for \"$qword\"</h2>\n",
    "    <table>\n",
    "    <th>  <td>word</td> <td>id</td> <td>dist</td> </th>\n",
    "        $L\n",
    "    </table>\n",
    "    \"\"\")\n",
    "end\n",
    "\n",
    "function search_and_display(index, vocab, qid::Integer, res, k=maxlength(res))\n",
    "    search_and_display(index, vocab, index[qid], res, k, vocab[qid])\n",
    "end\n",
    "\n",
    "display(@htl \"<h1>Ejemplos de búsqueda (aleatorios)</h1>\")\n",
    "res = KnnResult(7)\n",
    "for i in 1:3\n",
    "    for qid in rand(1:length(vocab))\n",
    "        search_and_display(index, vocab, qid, res)\n",
    "    end\n",
    "end"
   ]
  },
  {
   "cell_type": "code",
   "execution_count": 10,
   "id": "b320eacd-d47e-4dbe-a7e9-a240c4535b2d",
   "metadata": {},
   "outputs": [
    {
     "name": "stdout",
     "output_type": "stream",
     "text": [
      "  0.000193 seconds (3 allocations: 128 bytes)\n"
     ]
    },
    {
     "data": {
      "text/html": [
       "<h2>resultados for \"glove\"</h2>\n",
       "<table>\n",
       "<th>  <td>word</td> <td>id</td> <td>dist</td> </th>\n",
       "    <tr><td>1</td><td>glove</td><td>10923</td><td>0.0</td></tr><tr><td>2</td><td>ball</td><td>1084</td><td>0.369</td></tr><tr><td>3</td><td>gloves</td><td>10808</td><td>0.369</td></tr><tr><td>4</td><td>plate</td><td>4365</td><td>0.379</td></tr><tr><td>5</td><td>pads</td><td>15978</td><td>0.418</td></tr><tr><td>6</td><td>infield</td><td>16731</td><td>0.435</td></tr><tr><td>7</td><td>bounced</td><td>9154</td><td>0.435</td></tr><tr><td>8</td><td>hat</td><td>5626</td><td>0.438</td></tr><tr><td>9</td><td>bat</td><td>4926</td><td>0.439</td></tr><tr><td>10</td><td>fielder</td><td>10241</td><td>0.447</td></tr><tr><td>11</td><td>pitch</td><td>3099</td><td>0.45</td></tr><tr><td>12</td><td>helmet</td><td>11027</td><td>0.464</td></tr><tr><td>13</td><td>catcher</td><td>9065</td><td>0.465</td></tr><tr><td>14</td><td>throw</td><td>3376</td><td>0.466</td></tr><tr><td>15</td><td>nose</td><td>5943</td><td>0.468</td></tr>\n",
       "</table>\n"
      ],
      "text/plain": [
       "<h2>resultados for \"glove\"</h2>\n",
       "<table>\n",
       "<th>  <td>word</td> <td>id</td> <td>dist</td> </th>\n",
       "    <tr><td>1</td><td>glove</td><td>10923</td><td>0.0</td></tr><tr><td>2</td><td>ball</td><td>1084</td><td>0.369</td></tr><tr><td>3</td><td>gloves</td><td>10808</td><td>0.369</td></tr><tr><td>4</td><td>plate</td><td>4365</td><td>0.379</td></tr><tr><td>5</td><td>pads</td><td>15978</td><td>0.418</td></tr><tr><td>6</td><td>infield</td><td>16731</td><td>0.435</td></tr><tr><td>7</td><td>bounced</td><td>9154</td><td>0.435</td></tr><tr><td>8</td><td>hat</td><td>5626</td><td>0.438</td></tr><tr><td>9</td><td>bat</td><td>4926</td><td>0.439</td></tr><tr><td>10</td><td>fielder</td><td>10241</td><td>0.447</td></tr><tr><td>11</td><td>pitch</td><td>3099</td><td>0.45</td></tr><tr><td>12</td><td>helmet</td><td>11027</td><td>0.464</td></tr><tr><td>13</td><td>catcher</td><td>9065</td><td>0.465</td></tr><tr><td>14</td><td>throw</td><td>3376</td><td>0.466</td></tr><tr><td>15</td><td>nose</td><td>5943</td><td>0.468</td></tr>\n",
       "</table>\n"
      ]
     },
     "metadata": {},
     "output_type": "display_data"
    }
   ],
   "source": [
    "search_and_display(index, vocab, vocab2id[\"glove\"], res, 15)"
   ]
  },
  {
   "cell_type": "markdown",
   "id": "cbc91c9f-e3cb-418c-88d5-4a56670af1b9",
   "metadata": {},
   "source": [
    "# Analogias"
   ]
  },
  {
   "cell_type": "code",
   "execution_count": 11,
   "id": "63a0d1ea-bdf8-468a-a20d-1bdf0c7a6503",
   "metadata": {},
   "outputs": [
    {
     "name": "stdout",
     "output_type": "stream",
     "text": [
      "  0.000061 seconds (3 allocations: 128 bytes)\n"
     ]
    },
    {
     "data": {
      "text/html": [
       "<h2>resultados for \"&lt;father> - &lt;man> + &lt;woman>\"</h2>\n",
       "<table>\n",
       "<th>  <td>word</td> <td>id</td> <td>dist</td> </th>\n",
       "    <tr><td>1</td><td>mother</td><td>809</td><td>0.098</td></tr><tr><td>2</td><td>daughter</td><td>1132</td><td>0.132</td></tr><tr><td>3</td><td>wife</td><td>703</td><td>0.147</td></tr><tr><td>4</td><td>father</td><td>630</td><td>0.148</td></tr><tr><td>5</td><td>husband</td><td>1328</td><td>0.172</td></tr>\n",
       "</table>\n"
      ],
      "text/plain": [
       "<h2>resultados for \"&lt;father> - &lt;man> + &lt;woman>\"</h2>\n",
       "<table>\n",
       "<th>  <td>word</td> <td>id</td> <td>dist</td> </th>\n",
       "    <tr><td>1</td><td>mother</td><td>809</td><td>0.098</td></tr><tr><td>2</td><td>daughter</td><td>1132</td><td>0.132</td></tr><tr><td>3</td><td>wife</td><td>703</td><td>0.147</td></tr><tr><td>4</td><td>father</td><td>630</td><td>0.148</td></tr><tr><td>5</td><td>husband</td><td>1328</td><td>0.172</td></tr>\n",
       "</table>\n"
      ]
     },
     "metadata": {},
     "output_type": "display_data"
    },
    {
     "name": "stdout",
     "output_type": "stream",
     "text": [
      "  0.000096 seconds (3 allocations: 128 bytes)\n"
     ]
    },
    {
     "data": {
      "text/html": [
       "<h2>resultados for \"&lt;fireman> - &lt;man> + &lt;woman>\"</h2>\n",
       "<table>\n",
       "<th>  <td>word</td> <td>id</td> <td>dist</td> </th>\n",
       "    <tr><td>1</td><td>fireman</td><td>27345</td><td>0.156</td></tr><tr><td>2</td><td>firefighter</td><td>15812</td><td>0.303</td></tr><tr><td>3</td><td>paramedic</td><td>33841</td><td>0.393</td></tr><tr><td>4</td><td>rescuer</td><td>44915</td><td>0.439</td></tr><tr><td>5</td><td>passerby</td><td>53776</td><td>0.459</td></tr>\n",
       "</table>\n"
      ],
      "text/plain": [
       "<h2>resultados for \"&lt;fireman> - &lt;man> + &lt;woman>\"</h2>\n",
       "<table>\n",
       "<th>  <td>word</td> <td>id</td> <td>dist</td> </th>\n",
       "    <tr><td>1</td><td>fireman</td><td>27345</td><td>0.156</td></tr><tr><td>2</td><td>firefighter</td><td>15812</td><td>0.303</td></tr><tr><td>3</td><td>paramedic</td><td>33841</td><td>0.393</td></tr><tr><td>4</td><td>rescuer</td><td>44915</td><td>0.439</td></tr><tr><td>5</td><td>passerby</td><td>53776</td><td>0.459</td></tr>\n",
       "</table>\n"
      ]
     },
     "metadata": {},
     "output_type": "display_data"
    },
    {
     "name": "stdout",
     "output_type": "stream",
     "text": [
      "  0.000116 seconds (3 allocations: 128 bytes)\n"
     ]
    },
    {
     "data": {
      "text/html": [
       "<h2>resultados for \"&lt;mississippi> - &lt;usa> + &lt;france>\"</h2>\n",
       "<table>\n",
       "<th>  <td>word</td> <td>id</td> <td>dist</td> </th>\n",
       "    <tr><td>1</td><td>rhine</td><td>13957</td><td>0.488</td></tr><tr><td>2</td><td>coast</td><td>955</td><td>0.506</td></tr><tr><td>3</td><td>brittany</td><td>15877</td><td>0.506</td></tr><tr><td>4</td><td>southern</td><td>483</td><td>0.506</td></tr><tr><td>5</td><td>northern</td><td>530</td><td>0.513</td></tr>\n",
       "</table>\n"
      ],
      "text/plain": [
       "<h2>resultados for \"&lt;mississippi> - &lt;usa> + &lt;france>\"</h2>\n",
       "<table>\n",
       "<th>  <td>word</td> <td>id</td> <td>dist</td> </th>\n",
       "    <tr><td>1</td><td>rhine</td><td>13957</td><td>0.488</td></tr><tr><td>2</td><td>coast</td><td>955</td><td>0.506</td></tr><tr><td>3</td><td>brittany</td><td>15877</td><td>0.506</td></tr><tr><td>4</td><td>southern</td><td>483</td><td>0.506</td></tr><tr><td>5</td><td>northern</td><td>530</td><td>0.513</td></tr>\n",
       "</table>\n"
      ]
     },
     "metadata": {},
     "output_type": "display_data"
    }
   ],
   "source": [
    "function analogy(a, b, c, k)\n",
    "\tv = index[vocab2id[a]] - index[vocab2id[b]] + index[vocab2id[c]]\n",
    "\tnormalize!(v)\n",
    "\tsearch_and_display(index, vocab, v, res, k, \"<$a> - <$b> + <$c>\")\n",
    "end\n",
    "\n",
    "analogy(\"father\", \"man\", \"woman\", 5)\n",
    "analogy(\"fireman\", \"man\", \"woman\", 5)\n",
    "analogy(\"mississippi\", \"usa\", \"france\", 5)"
   ]
  },
  {
   "cell_type": "markdown",
   "id": "1e8f09a9-75aa-49c5-9e35-4c486defa289",
   "metadata": {},
   "source": [
    "# Actividades \n",
    "- Como se menciono, el uso de redes neuronales se vuelve muy popular para aprender la semántica desde el texto. Comente las razones justificando sus comentarios en términos de aprendizaje y requerimientos computacionales.\n",
    "- Discuta que tipo de métrica se usa y porque.\n",
    "- ¿Cómo se podrían usar los word-embeddings para búsqueda de documentos completos?\n",
    "- Como ajustaría la métrica.\n",
    "- Si usa Julia, revisé el paquete `Embeddings.jl`, `Word2Vec.jl`.\n",
    "- Si usa Python, revisé los paquetes `fastText` y `word2vec`.\n",
    "- Glove <https://nlp.stanford.edu/projects/glove/>\n",
    "- Reproduzca el ejercicio de este notebook (no reproduzca la búsqueda exhaustiva, ya que le tomará muchísimo tiempo), use embeddings para español, cambié los ejemplos. Se sugiere el uso de <https://ingeotec.github.io/regional-spanish-models/> donde encontrará modelos fastText regionalizados del español, pero puede usar otros embeddings.\n",
    "- Reporte su notebook y anote sus soluciones a las preguntas planteadas. Anote sus reflexiones.\n",
    "\n",
    "# Bibliografía\n",
    "- [Dumais2004] Dumais, S. T. (2004). Latent semantic analysis. Annu. Rev. Inf. Sci. Technol., 38(1), 188-230.\n",
    "- [Hofmann1999] Hofmann, T. (1999, August). Probabilistic latent semantic indexing. In Proceedings of the 22nd annual international ACM SIGIR conference on Research and development in information retrieval (pp. 50-57).\n",
    "- [MCCD2013]: Mikolov, T., Chen, K., Corrado, G., & Dean, J. (2013). Efficient estimation of word representations in vector space. arXiv preprint arXiv:1301.3781.\n",
    "- [PSM2014] Pennington, J., Socher, R., & Manning, C. D. (2014, October). Glove: Global vectors for word representation. In Proceedings of the 2014 conference on empirical methods in natural language processing (EMNLP) (pp. 1532-1543).\n",
    "- [BGJM2017]: Bojanowski, P., Grave, E., Joulin, A., & Mikolov, T. (2017). Enriching word vectors with subword information. Transactions of the association for computational linguistics, 5, 135-146.\n",
    "- [VSPU2017] Vaswani, A., Shazeer, N., Parmar, N., Uszkoreit, J., Jones, L., Gomez, A. N., ... & Polosukhin, I. (2017). Attention is all you need. Advances in neural information processing systems, 30."
   ]
  }
 ],
 "metadata": {
  "kernelspec": {
   "display_name": "Julia 1.10.0",
   "language": "julia",
   "name": "julia-1.10"
  },
  "language_info": {
   "file_extension": ".jl",
   "mimetype": "application/julia",
   "name": "julia",
   "version": "1.10.0"
  }
 },
 "nbformat": 4,
 "nbformat_minor": 5
}
